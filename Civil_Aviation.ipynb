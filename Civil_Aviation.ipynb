{
 "cells": [
  {
   "cell_type": "markdown",
   "metadata": {},
   "source": [
    "# Imports"
   ]
  },
  {
   "cell_type": "code",
   "execution_count": 1,
   "metadata": {
    "ExecuteTime": {
     "end_time": "2020-05-01T05:26:53.513772Z",
     "start_time": "2020-05-01T05:26:53.125331Z"
    }
   },
   "outputs": [
    {
     "ename": "ModuleNotFoundError",
     "evalue": "No module named 'matplotlib'",
     "output_type": "error",
     "traceback": [
      "\u001b[0;31m---------------------------------------------------------------------------\u001b[0m",
      "\u001b[0;31mModuleNotFoundError\u001b[0m                       Traceback (most recent call last)",
      "\u001b[0;32m<ipython-input-1-e53d95cb426b>\u001b[0m in \u001b[0;36m<module>\u001b[0;34m\u001b[0m\n\u001b[1;32m      1\u001b[0m \u001b[0;32mimport\u001b[0m \u001b[0mpandas\u001b[0m \u001b[0;32mas\u001b[0m \u001b[0mpd\u001b[0m\u001b[0;34m\u001b[0m\u001b[0;34m\u001b[0m\u001b[0m\n\u001b[1;32m      2\u001b[0m \u001b[0;32mimport\u001b[0m \u001b[0mglob\u001b[0m\u001b[0;34m\u001b[0m\u001b[0;34m\u001b[0m\u001b[0m\n\u001b[0;32m----> 3\u001b[0;31m \u001b[0;32mimport\u001b[0m \u001b[0mmatplotlib\u001b[0m\u001b[0;34m.\u001b[0m\u001b[0mpyplot\u001b[0m \u001b[0;32mas\u001b[0m \u001b[0mplt\u001b[0m\u001b[0;34m\u001b[0m\u001b[0;34m\u001b[0m\u001b[0m\n\u001b[0m\u001b[1;32m      4\u001b[0m \u001b[0;34m\u001b[0m\u001b[0m\n\u001b[1;32m      5\u001b[0m \u001b[0;34m\u001b[0m\u001b[0m\n",
      "\u001b[0;31mModuleNotFoundError\u001b[0m: No module named 'matplotlib'"
     ]
    }
   ],
   "source": [
    "import pandas as pd\n",
    "import glob\n",
    "import matplotlib.pyplot as plt\n",
    "\n",
    "\n",
    "pd.options.display.max_columns = None"
   ]
  },
  {
   "cell_type": "code",
   "execution_count": 4,
   "metadata": {
    "ExecuteTime": {
     "end_time": "2020-05-01T05:23:12.908528Z",
     "start_time": "2020-05-01T05:23:06.022655Z"
    }
   },
   "outputs": [
    {
     "name": "stdout",
     "output_type": "stream",
     "text": [
      "Defaulting to user installation because normal site-packages is not writeable\n",
      "Requirement already satisfied: matplotlib in /home/welberth/.local/lib/python3.6/site-packages (3.1.0)\n",
      "Requirement already satisfied: cycler>=0.10 in /home/welberth/.local/lib/python3.6/site-packages (from matplotlib) (0.10.0)\n",
      "Requirement already satisfied: python-dateutil>=2.1 in /home/welberth/.local/lib/python3.6/site-packages (from matplotlib) (2.8.1)\n",
      "Requirement already satisfied: pyparsing!=2.0.4,!=2.1.2,!=2.1.6,>=2.0.1 in /home/welberth/.local/lib/python3.6/site-packages (from matplotlib) (2.4.0)\n",
      "Requirement already satisfied: numpy>=1.11 in /home/welberth/.local/lib/python3.6/site-packages (from matplotlib) (1.18.1)\n",
      "Requirement already satisfied: kiwisolver>=1.0.1 in /home/welberth/.local/lib/python3.6/site-packages (from matplotlib) (1.1.0)\n",
      "Requirement already satisfied: six in /home/welberth/.local/lib/python3.6/site-packages (from cycler>=0.10->matplotlib) (1.14.0)\n",
      "Requirement already satisfied: setuptools in /home/welberth/.local/lib/python3.6/site-packages (from kiwisolver>=1.0.1->matplotlib) (41.0.1)\n"
     ]
    }
   ],
   "source": []
  },
  {
   "cell_type": "markdown",
   "metadata": {},
   "source": [
    "# Loading Data"
   ]
  },
  {
   "cell_type": "code",
   "execution_count": null,
   "metadata": {
    "ExecuteTime": {
     "end_time": "2020-04-07T02:55:17.263144Z",
     "start_time": "2020-04-07T02:55:16.801Z"
    }
   },
   "outputs": [],
   "source": [
    "files = glob.glob(\"ANAC_DATA/*.txt\")\n",
    "\n",
    "keep_list = ['id_basica',\n",
    "             'sg_empresa_icao',\n",
    "             'nm_empresa',\n",
    "             'nm_pais',\n",
    "             'ds_tipo_empresa',\n",
    "             'ds_di',\n",
    "             'ds_grupo_di',\n",
    "             'ds_tipo_linha',\n",
    "             'ds_servico_tipo_linha',\n",
    "             \n",
    "             'nr_etapa',\n",
    "             'nr_ano_partida_real',\n",
    "             'nm_semestre_partida_real',\n",
    "             'nm_trimestre_partida_real',\n",
    "             \n",
    "             'hr_partida_real',\n",
    "             'dt_partida_real',\n",
    "             'nm_mes_partida_real',\n",
    "             'nm_dia_semana_partida_real',\n",
    "             'nr_dia_partida_real',\n",
    "             'sg_iata_origem',\n",
    "             'nm_pais_origem',\n",
    "             'nm_regiao_origem',\n",
    "             'sg_uf_origem',\n",
    "             'nm_municipio_origem',\n",
    "            \n",
    "             'hr_chegada_real',\n",
    "             'dt_chegada_real',\n",
    "             'nm_mes_chegada_real',\n",
    "             'nm_dia_semana_chegada_real',\n",
    "             'nr_dia_chegada_real',\n",
    "             'sg_iata_destino',\n",
    "             'nm_pais_destino',\n",
    "             'nm_regiao_destino',\n",
    "             'sg_uf_destino',\n",
    "             'nm_municipio_destino',\n",
    "            \n",
    "             'nr_assentos_ofertados',\n",
    "             'nr_passag_pagos',\n",
    "             'nr_passag_gratis',\n",
    "             \n",
    "             'sg_equipamento_icao',\n",
    "             'lt_combustivel',\n",
    "             'km_distancia',\n",
    "             'nr_horas_voadas',\n",
    "             'kg_payload',\n",
    "             'kg_bagagem_livre',\n",
    "             'kg_bagagem_excesso',\n",
    "             'kg_carga_paga',\n",
    "             'kg_peso',\n",
    "             'nr_velocidade_media',\n",
    "             \n",
    "             'nr_carga_paga_km',\n",
    "             'nr_ask',\n",
    "             'nr_rpk']\n"
   ]
  },
  {
   "cell_type": "code",
   "execution_count": null,
   "metadata": {
    "ExecuteTime": {
     "end_time": "2020-04-07T02:55:17.264144Z",
     "start_time": "2020-04-07T02:55:16.804Z"
    },
    "scrolled": true
   },
   "outputs": [],
   "source": [
    "df_list = [pd.read_csv(i, sep=\";\","
   ]
  },
  {
   "cell_type": "code",
   "execution_count": null,
   "metadata": {
    "ExecuteTime": {
     "end_time": "2020-04-07T02:55:17.265120Z",
     "start_time": "2020-04-07T02:55:16.808Z"
    }
   },
   "outputs": [],
   "source": [
    "data.shape"
   ]
  },
  {
   "cell_type": "code",
   "execution_count": null,
   "metadata": {
    "ExecuteTime": {
     "end_time": "2020-04-07T02:55:17.266124Z",
     "start_time": "2020-04-07T02:55:16.811Z"
    }
   },
   "outputs": [],
   "source": [
    "files"
   ]
  },
  {
   "cell_type": "code",
   "execution_count": null,
   "metadata": {
    "ExecuteTime": {
     "end_time": "2020-04-07T02:55:17.267051Z",
     "start_time": "2020-04-07T02:55:16.814Z"
    }
   },
   "outputs": [],
   "source": [
    "data.dt_partida_real.value_counts().shape"
   ]
  },
  {
   "cell_type": "code",
   "execution_count": null,
   "metadata": {
    "ExecuteTime": {
     "end_time": "2020-04-07T02:55:17.268044Z",
     "start_time": "2020-04-07T02:55:16.818Z"
    }
   },
   "outputs": [],
   "source": [
    "ds_tipo_empresa == 'TRANSPORTE AÉREO REGULAR'  (keeping just data about regular flights)\n",
    "\n",
    "ds_servico_tipo_linha == 'PASSAGEIRO'\n",
    "\n",
    "ds_grupo_di == 'IMPRODUTIVO'     (removing data of nom productive flights ie without passengers)"
   ]
  },
  {
   "cell_type": "code",
   "execution_count": null,
   "metadata": {
    "ExecuteTime": {
     "end_time": "2020-04-07T02:55:17.268963Z",
     "start_time": "2020-04-07T02:55:16.841Z"
    }
   },
   "outputs": [],
   "source": [
    "data.query('nr_decolagem == 0')"
   ]
  },
  {
   "cell_type": "code",
   "execution_count": null,
   "metadata": {
    "ExecuteTime": {
     "end_time": "2020-04-07T02:55:17.269905Z",
     "start_time": "2020-04-07T02:55:16.851Z"
    }
   },
   "outputs": [],
   "source": [
    "data.head()"
   ]
  },
  {
   "cell_type": "code",
   "execution_count": null,
   "metadata": {
    "ExecuteTime": {
     "end_time": "2020-04-07T02:55:17.270821Z",
     "start_time": "2020-04-07T02:55:16.867Z"
    }
   },
   "outputs": [],
   "source": [
    "data2.head(20)"
   ]
  },
  {
   "cell_type": "code",
   "execution_count": null,
   "metadata": {
    "ExecuteTime": {
     "end_time": "2020-04-07T02:55:17.271786Z",
     "start_time": "2020-04-07T02:55:16.870Z"
    }
   },
   "outputs": [],
   "source": [
    "data3 = data[(data.ds_servico_tipo_linha == 'PASSAGEIRO') & (data.ds_grupo_di != 'IMPRODUTIVO') & (data.ds_tipo_empresa =='TRANSPORTE AÉREO REGULAR')]"
   ]
  },
  {
   "cell_type": "code",
   "execution_count": null,
   "metadata": {
    "ExecuteTime": {
     "end_time": "2020-04-07T02:55:17.272813Z",
     "start_time": "2020-04-07T02:55:16.873Z"
    }
   },
   "outputs": [],
   "source": [
    "data3.dt_partida_real.value_counts()"
   ]
  },
  {
   "cell_type": "code",
   "execution_count": null,
   "metadata": {
    "ExecuteTime": {
     "end_time": "2020-04-07T02:55:17.274116Z",
     "start_time": "2020-04-07T02:55:16.876Z"
    }
   },
   "outputs": [],
   "source": [
    "data3.shape"
   ]
  },
  {
   "cell_type": "code",
   "execution_count": null,
   "metadata": {
    "ExecuteTime": {
     "end_time": "2020-04-07T02:55:17.275179Z",
     "start_time": "2020-04-07T02:55:16.880Z"
    }
   },
   "outputs": [],
   "source": [
    "data = pd.read_csv(\"data.csv\",encoding = \"ISO-8859-1\")"
   ]
  },
  {
   "cell_type": "code",
   "execution_count": null,
   "metadata": {
    "ExecuteTime": {
     "end_time": "2020-04-07T02:55:17.276260Z",
     "start_time": "2020-04-07T02:55:16.887Z"
    }
   },
   "outputs": [],
   "source": [
    "data.head()"
   ]
  },
  {
   "cell_type": "code",
   "execution_count": null,
   "metadata": {
    "ExecuteTime": {
     "end_time": "2020-04-07T02:55:17.278061Z",
     "start_time": "2020-04-07T02:55:16.890Z"
    }
   },
   "outputs": [],
   "source": [
    "data.hr_partida_real.plot()"
   ]
  }
 ],
 "metadata": {
  "kernelspec": {
   "display_name": "venv-civil-av",
   "language": "python",
   "name": "venv-civil-av"
  },
  "language_info": {
   "codemirror_mode": {
    "name": "ipython",
    "version": 3
   },
   "file_extension": ".py",
   "mimetype": "text/x-python",
   "name": "python",
   "nbconvert_exporter": "python",
   "pygments_lexer": "ipython3",
   "version": "3.6.9"
  },
  "toc": {
   "base_numbering": 1,
   "nav_menu": {},
   "number_sections": true,
   "sideBar": true,
   "skip_h1_title": false,
   "title_cell": "Table of Contents",
   "title_sidebar": "Contents",
   "toc_cell": false,
   "toc_position": {},
   "toc_section_display": true,
   "toc_window_display": false
  },
  "varInspector": {
   "cols": {
    "lenName": 16,
    "lenType": 16,
    "lenVar": 40
   },
   "kernels_config": {
    "python": {
     "delete_cmd_postfix": "",
     "delete_cmd_prefix": "del ",
     "library": "var_list.py",
     "varRefreshCmd": "print(var_dic_list())"
    },
    "r": {
     "delete_cmd_postfix": ") ",
     "delete_cmd_prefix": "rm(",
     "library": "var_list.r",
     "varRefreshCmd": "cat(var_dic_list()) "
    }
   },
   "types_to_exclude": [
    "module",
    "function",
    "builtin_function_or_method",
    "instance",
    "_Feature"
   ],
   "window_display": false
  }
 },
 "nbformat": 4,
 "nbformat_minor": 2
}
