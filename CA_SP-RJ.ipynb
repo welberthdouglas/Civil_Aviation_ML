{
 "cells": [
  {
   "cell_type": "markdown",
   "metadata": {},
   "source": [
    "# Imports"
   ]
  },
  {
   "cell_type": "code",
   "execution_count": 1,
   "metadata": {
    "ExecuteTime": {
     "end_time": "2020-04-21T03:15:12.431586Z",
     "start_time": "2020-04-21T03:15:11.203884Z"
    }
   },
   "outputs": [],
   "source": [
    "import pandas as pd\n",
    "import numpy as np\n",
    "import seaborn as sns\n",
    "import xgboost as xgb\n",
    "import lightgbm as lgb\n",
    "import shap\n",
    "\n",
    "from datetime import datetime, timedelta\n",
    "from sklearn.model_selection import train_test_split,RandomizedSearchCV,GridSearchCV\n",
    "from sklearn.ensemble import RandomForestRegressor,GradientBoostingRegressor\n",
    "from sklearn.metrics import mean_absolute_error,mean_squared_error\n",
    "from sklearn import preprocessing\n",
    "\n",
    "\n",
    "pd.options.display.max_columns = None\n",
    "pd.set_option('display.max_rows', 500)\n",
    "\n",
    "training = True\n",
    "seed=42"
   ]
  },
  {
   "cell_type": "markdown",
   "metadata": {},
   "source": [
    "# Functions\n"
   ]
  },
  {
   "cell_type": "code",
   "execution_count": 2,
   "metadata": {
    "ExecuteTime": {
     "end_time": "2020-04-21T03:15:12.441839Z",
     "start_time": "2020-04-21T03:15:12.433782Z"
    }
   },
   "outputs": [],
   "source": [
    "def MAPE(y_true, y_pred): \n",
    "    \"\"\"Calculates the MAPE (mean absolute percentual error)\"\"\"\n",
    "    \n",
    "    y_true, y_pred = np.array(y_true), np.array(y_pred)\n",
    "    \n",
    "    if any(y_true == 0):\n",
    "        output = mean_absolute_error(y_true, y_pred)/ y_true.mean()\n",
    "    else:\n",
    "        output = np.mean(np.abs((y_true - y_pred) / y_true))       \n",
    "    return output*100\n",
    "\n",
    "\n",
    "\n",
    "def cat_encoding(df, cat_vars:str, encoding:str = 'label'):\n",
    "    \"\"\"Encodes cathegorical variables of a dataframe\n",
    "    \n",
    "    inputs\n",
    "    df - dataframe that have variables to encode\n",
    "    cat_vars - list of variables to encode\n",
    "    encoding - encoding method (possible values are 'label' or 'one_hot')\n",
    "    \n",
    "    output\n",
    "    df_out - outputs the modified dataframe (with the original columns replaced by the respective\n",
    "            encoded ones)\"\"\"\n",
    "    \n",
    "    if encoding == 'label':\n",
    "        df_cat = pd.DataFrame({col: df[col].astype('category').cat.codes for col in df[cat_vars]}, index=df.index)\n",
    "        df_out = df.drop(cat_vars, axis=1).merge(df_cat,left_index = True,right_index=True)\n",
    "    if encoding == 'one_hot':\n",
    "        df_out = pd.get_dummies(df,columns = cat_vars)\n",
    "        \n",
    "    return df_out"
   ]
  },
  {
   "cell_type": "markdown",
   "metadata": {},
   "source": [
    "# Loading Data"
   ]
  },
  {
   "cell_type": "code",
   "execution_count": 3,
   "metadata": {
    "ExecuteTime": {
     "end_time": "2020-04-21T03:15:48.029465Z",
     "start_time": "2020-04-21T03:15:12.444625Z"
    }
   },
   "outputs": [],
   "source": [
    "anac_df = pd.read_csv(\"data.csv\", low_memory=False)\n",
    "feriados = pd.read_csv(\"feriados.csv\")"
   ]
  },
  {
   "cell_type": "code",
   "execution_count": 4,
   "metadata": {
    "ExecuteTime": {
     "end_time": "2020-04-21T03:15:48.044139Z",
     "start_time": "2020-04-21T03:15:48.031637Z"
    }
   },
   "outputs": [
    {
     "data": {
      "text/plain": [
       "(3549883, 52)"
      ]
     },
     "execution_count": 4,
     "metadata": {},
     "output_type": "execute_result"
    }
   ],
   "source": [
    "anac_df.shape"
   ]
  },
  {
   "cell_type": "code",
   "execution_count": 5,
   "metadata": {
    "ExecuteTime": {
     "end_time": "2020-04-21T03:15:48.134879Z",
     "start_time": "2020-04-21T03:15:48.046499Z"
    }
   },
   "outputs": [
    {
     "data": {
      "text/html": [
       "<div>\n",
       "<style scoped>\n",
       "    .dataframe tbody tr th:only-of-type {\n",
       "        vertical-align: middle;\n",
       "    }\n",
       "\n",
       "    .dataframe tbody tr th {\n",
       "        vertical-align: top;\n",
       "    }\n",
       "\n",
       "    .dataframe thead th {\n",
       "        text-align: right;\n",
       "    }\n",
       "</style>\n",
       "<table border=\"1\" class=\"dataframe\">\n",
       "  <thead>\n",
       "    <tr style=\"text-align: right;\">\n",
       "      <th></th>\n",
       "      <th>id_basica</th>\n",
       "      <th>sg_empresa_icao</th>\n",
       "      <th>nm_empresa</th>\n",
       "      <th>nm_pais</th>\n",
       "      <th>ds_tipo_empresa</th>\n",
       "      <th>ds_di</th>\n",
       "      <th>ds_grupo_di</th>\n",
       "      <th>ds_tipo_linha</th>\n",
       "      <th>ds_servico_tipo_linha</th>\n",
       "      <th>nr_etapa</th>\n",
       "      <th>nr_ano_partida_real</th>\n",
       "      <th>nm_semestre_partida_real</th>\n",
       "      <th>nm_trimestre_partida_real</th>\n",
       "      <th>hr_partida_real</th>\n",
       "      <th>dt_partida_real</th>\n",
       "      <th>nm_mes_partida_real</th>\n",
       "      <th>nr_mes_partida_real</th>\n",
       "      <th>nm_dia_semana_partida_real</th>\n",
       "      <th>nr_dia_partida_real</th>\n",
       "      <th>sg_iata_origem</th>\n",
       "      <th>nm_pais_origem</th>\n",
       "      <th>nm_regiao_origem</th>\n",
       "      <th>sg_uf_origem</th>\n",
       "      <th>nm_municipio_origem</th>\n",
       "      <th>nr_escala_destino</th>\n",
       "      <th>hr_chegada_real</th>\n",
       "      <th>dt_chegada_real</th>\n",
       "      <th>nm_mes_chegada_real</th>\n",
       "      <th>nr_mes_chegada_real</th>\n",
       "      <th>nm_dia_semana_chegada_real</th>\n",
       "      <th>nr_dia_chegada_real</th>\n",
       "      <th>sg_iata_destino</th>\n",
       "      <th>nm_pais_destino</th>\n",
       "      <th>nm_regiao_destino</th>\n",
       "      <th>sg_uf_destino</th>\n",
       "      <th>nm_municipio_destino</th>\n",
       "      <th>nr_assentos_ofertados</th>\n",
       "      <th>nr_passag_pagos</th>\n",
       "      <th>nr_passag_gratis</th>\n",
       "      <th>sg_equipamento_icao</th>\n",
       "      <th>lt_combustivel</th>\n",
       "      <th>km_distancia</th>\n",
       "      <th>nr_horas_voadas</th>\n",
       "      <th>kg_payload</th>\n",
       "      <th>kg_bagagem_livre</th>\n",
       "      <th>kg_bagagem_excesso</th>\n",
       "      <th>kg_carga_paga</th>\n",
       "      <th>kg_peso</th>\n",
       "      <th>nr_velocidade_media</th>\n",
       "      <th>nr_carga_paga_km</th>\n",
       "      <th>nr_ask</th>\n",
       "      <th>nr_rpk</th>\n",
       "    </tr>\n",
       "  </thead>\n",
       "  <tbody>\n",
       "    <tr>\n",
       "      <th>0</th>\n",
       "      <td>12017235</td>\n",
       "      <td>AZU</td>\n",
       "      <td>AZUL LINHAS AÉREAS BRASILEIRAS S.A.</td>\n",
       "      <td>BRASIL</td>\n",
       "      <td>TRANSPORTE AÉREO REGULAR</td>\n",
       "      <td>REGULAR PREVISTO EM HOTRAN</td>\n",
       "      <td>REGULAR</td>\n",
       "      <td>DOMÉSTICA MISTA</td>\n",
       "      <td>PASSAGEIRO</td>\n",
       "      <td>2</td>\n",
       "      <td>2016.0</td>\n",
       "      <td>1º SEMESTRE</td>\n",
       "      <td>1º TRIMESTRE</td>\n",
       "      <td>06:52:00</td>\n",
       "      <td>2016-01-01</td>\n",
       "      <td>JANEIRO</td>\n",
       "      <td>1.0</td>\n",
       "      <td>SEXTA-FEIRA</td>\n",
       "      <td>1.0</td>\n",
       "      <td>THE</td>\n",
       "      <td>BRASIL</td>\n",
       "      <td>NORDESTE</td>\n",
       "      <td>PI</td>\n",
       "      <td>TERESINA</td>\n",
       "      <td>NaN</td>\n",
       "      <td>08:23:00</td>\n",
       "      <td>2016-01-01</td>\n",
       "      <td>JANEIRO</td>\n",
       "      <td>1.0</td>\n",
       "      <td>SEXTA-FEIRA</td>\n",
       "      <td>1.0</td>\n",
       "      <td>REC</td>\n",
       "      <td>BRASIL</td>\n",
       "      <td>NORDESTE</td>\n",
       "      <td>PE</td>\n",
       "      <td>RECIFE</td>\n",
       "      <td>118</td>\n",
       "      <td>83</td>\n",
       "      <td>0</td>\n",
       "      <td>E195</td>\n",
       "      <td>3442</td>\n",
       "      <td>937.0</td>\n",
       "      <td>1,52</td>\n",
       "      <td>16842</td>\n",
       "      <td>1100</td>\n",
       "      <td>6</td>\n",
       "      <td>77</td>\n",
       "      <td>7408</td>\n",
       "      <td>616,393</td>\n",
       "      <td>72149</td>\n",
       "      <td>110566.0</td>\n",
       "      <td>77771.0</td>\n",
       "    </tr>\n",
       "    <tr>\n",
       "      <th>1</th>\n",
       "      <td>12017070</td>\n",
       "      <td>AZU</td>\n",
       "      <td>AZUL LINHAS AÉREAS BRASILEIRAS S.A.</td>\n",
       "      <td>BRASIL</td>\n",
       "      <td>TRANSPORTE AÉREO REGULAR</td>\n",
       "      <td>FRETAMENTO</td>\n",
       "      <td>NÃO REGULAR</td>\n",
       "      <td>DOMÉSTICA MISTA</td>\n",
       "      <td>PASSAGEIRO</td>\n",
       "      <td>1</td>\n",
       "      <td>2016.0</td>\n",
       "      <td>1º SEMESTRE</td>\n",
       "      <td>1º TRIMESTRE</td>\n",
       "      <td>01:43:00</td>\n",
       "      <td>2016-01-01</td>\n",
       "      <td>JANEIRO</td>\n",
       "      <td>1.0</td>\n",
       "      <td>SEXTA-FEIRA</td>\n",
       "      <td>1.0</td>\n",
       "      <td>SSA</td>\n",
       "      <td>BRASIL</td>\n",
       "      <td>NORDESTE</td>\n",
       "      <td>BA</td>\n",
       "      <td>SALVADOR</td>\n",
       "      <td>NaN</td>\n",
       "      <td>02:37:00</td>\n",
       "      <td>2016-01-01</td>\n",
       "      <td>JANEIRO</td>\n",
       "      <td>1.0</td>\n",
       "      <td>SEXTA-FEIRA</td>\n",
       "      <td>1.0</td>\n",
       "      <td>IOS</td>\n",
       "      <td>BRASIL</td>\n",
       "      <td>NORDESTE</td>\n",
       "      <td>BA</td>\n",
       "      <td>ILHÉUS</td>\n",
       "      <td>70</td>\n",
       "      <td>0</td>\n",
       "      <td>0</td>\n",
       "      <td>AT72</td>\n",
       "      <td>684</td>\n",
       "      <td>225.0</td>\n",
       "      <td>0,9</td>\n",
       "      <td>7435</td>\n",
       "      <td>0</td>\n",
       "      <td>0</td>\n",
       "      <td>0</td>\n",
       "      <td>0</td>\n",
       "      <td>250,491</td>\n",
       "      <td>0</td>\n",
       "      <td>15750.0</td>\n",
       "      <td>0.0</td>\n",
       "    </tr>\n",
       "    <tr>\n",
       "      <th>2</th>\n",
       "      <td>12017071</td>\n",
       "      <td>AZU</td>\n",
       "      <td>AZUL LINHAS AÉREAS BRASILEIRAS S.A.</td>\n",
       "      <td>BRASIL</td>\n",
       "      <td>TRANSPORTE AÉREO REGULAR</td>\n",
       "      <td>FRETAMENTO</td>\n",
       "      <td>NÃO REGULAR</td>\n",
       "      <td>DOMÉSTICA MISTA</td>\n",
       "      <td>PASSAGEIRO</td>\n",
       "      <td>1</td>\n",
       "      <td>2016.0</td>\n",
       "      <td>1º SEMESTRE</td>\n",
       "      <td>1º TRIMESTRE</td>\n",
       "      <td>02:58:00</td>\n",
       "      <td>2016-01-01</td>\n",
       "      <td>JANEIRO</td>\n",
       "      <td>1.0</td>\n",
       "      <td>SEXTA-FEIRA</td>\n",
       "      <td>1.0</td>\n",
       "      <td>IOS</td>\n",
       "      <td>BRASIL</td>\n",
       "      <td>NORDESTE</td>\n",
       "      <td>BA</td>\n",
       "      <td>ILHÉUS</td>\n",
       "      <td>NaN</td>\n",
       "      <td>04:51:00</td>\n",
       "      <td>2016-01-01</td>\n",
       "      <td>JANEIRO</td>\n",
       "      <td>1.0</td>\n",
       "      <td>SEXTA-FEIRA</td>\n",
       "      <td>1.0</td>\n",
       "      <td>MCZ</td>\n",
       "      <td>BRASIL</td>\n",
       "      <td>NORDESTE</td>\n",
       "      <td>AL</td>\n",
       "      <td>RIO LARGO</td>\n",
       "      <td>70</td>\n",
       "      <td>33</td>\n",
       "      <td>0</td>\n",
       "      <td>AT72</td>\n",
       "      <td>1392</td>\n",
       "      <td>687.0</td>\n",
       "      <td>1,88</td>\n",
       "      <td>7390</td>\n",
       "      <td>592</td>\n",
       "      <td>0</td>\n",
       "      <td>0</td>\n",
       "      <td>3067</td>\n",
       "      <td>365,32</td>\n",
       "      <td>0</td>\n",
       "      <td>48090.0</td>\n",
       "      <td>22671.0</td>\n",
       "    </tr>\n",
       "    <tr>\n",
       "      <th>3</th>\n",
       "      <td>12017072</td>\n",
       "      <td>AZU</td>\n",
       "      <td>AZUL LINHAS AÉREAS BRASILEIRAS S.A.</td>\n",
       "      <td>BRASIL</td>\n",
       "      <td>TRANSPORTE AÉREO REGULAR</td>\n",
       "      <td>FRETAMENTO</td>\n",
       "      <td>NÃO REGULAR</td>\n",
       "      <td>DOMÉSTICA MISTA</td>\n",
       "      <td>PASSAGEIRO</td>\n",
       "      <td>1</td>\n",
       "      <td>2016.0</td>\n",
       "      <td>1º SEMESTRE</td>\n",
       "      <td>1º TRIMESTRE</td>\n",
       "      <td>05:15:00</td>\n",
       "      <td>2016-01-01</td>\n",
       "      <td>JANEIRO</td>\n",
       "      <td>1.0</td>\n",
       "      <td>SEXTA-FEIRA</td>\n",
       "      <td>1.0</td>\n",
       "      <td>MCZ</td>\n",
       "      <td>BRASIL</td>\n",
       "      <td>NORDESTE</td>\n",
       "      <td>AL</td>\n",
       "      <td>RIO LARGO</td>\n",
       "      <td>NaN</td>\n",
       "      <td>06:32:00</td>\n",
       "      <td>2016-01-01</td>\n",
       "      <td>JANEIRO</td>\n",
       "      <td>1.0</td>\n",
       "      <td>SEXTA-FEIRA</td>\n",
       "      <td>1.0</td>\n",
       "      <td>SSA</td>\n",
       "      <td>BRASIL</td>\n",
       "      <td>NORDESTE</td>\n",
       "      <td>BA</td>\n",
       "      <td>SALVADOR</td>\n",
       "      <td>70</td>\n",
       "      <td>0</td>\n",
       "      <td>0</td>\n",
       "      <td>AT72</td>\n",
       "      <td>911</td>\n",
       "      <td>468.0</td>\n",
       "      <td>1,28</td>\n",
       "      <td>7535</td>\n",
       "      <td>0</td>\n",
       "      <td>0</td>\n",
       "      <td>0</td>\n",
       "      <td>150</td>\n",
       "      <td>365,496</td>\n",
       "      <td>0</td>\n",
       "      <td>32760.0</td>\n",
       "      <td>0.0</td>\n",
       "    </tr>\n",
       "    <tr>\n",
       "      <th>4</th>\n",
       "      <td>12017082</td>\n",
       "      <td>AZU</td>\n",
       "      <td>AZUL LINHAS AÉREAS BRASILEIRAS S.A.</td>\n",
       "      <td>BRASIL</td>\n",
       "      <td>TRANSPORTE AÉREO REGULAR</td>\n",
       "      <td>EXTRA SEM HOTRAN</td>\n",
       "      <td>NÃO REGULAR</td>\n",
       "      <td>INTERNACIONAL MISTA</td>\n",
       "      <td>PASSAGEIRO</td>\n",
       "      <td>1</td>\n",
       "      <td>2016.0</td>\n",
       "      <td>1º SEMESTRE</td>\n",
       "      <td>1º TRIMESTRE</td>\n",
       "      <td>13:25:00</td>\n",
       "      <td>2016-01-01</td>\n",
       "      <td>JANEIRO</td>\n",
       "      <td>1.0</td>\n",
       "      <td>SEXTA-FEIRA</td>\n",
       "      <td>1.0</td>\n",
       "      <td>VCP</td>\n",
       "      <td>BRASIL</td>\n",
       "      <td>SUDESTE</td>\n",
       "      <td>SP</td>\n",
       "      <td>CAMPINAS</td>\n",
       "      <td>NaN</td>\n",
       "      <td>22:24:00</td>\n",
       "      <td>2016-01-01</td>\n",
       "      <td>JANEIRO</td>\n",
       "      <td>1.0</td>\n",
       "      <td>SEXTA-FEIRA</td>\n",
       "      <td>1.0</td>\n",
       "      <td>MCO</td>\n",
       "      <td>ESTADOS UNIDOS DA AMÉRICA</td>\n",
       "      <td>NaN</td>\n",
       "      <td>NaN</td>\n",
       "      <td>ORLANDO, FLORIDA</td>\n",
       "      <td>266</td>\n",
       "      <td>260</td>\n",
       "      <td>6</td>\n",
       "      <td>A332</td>\n",
       "      <td>59747</td>\n",
       "      <td>6792.0</td>\n",
       "      <td>8,98</td>\n",
       "      <td>49489</td>\n",
       "      <td>4665</td>\n",
       "      <td>0</td>\n",
       "      <td>619</td>\n",
       "      <td>25234</td>\n",
       "      <td>756,301</td>\n",
       "      <td>4204250</td>\n",
       "      <td>1806670.0</td>\n",
       "      <td>1765920.0</td>\n",
       "    </tr>\n",
       "  </tbody>\n",
       "</table>\n",
       "</div>"
      ],
      "text/plain": [
       "  id_basica sg_empresa_icao                           nm_empresa nm_pais  \\\n",
       "0  12017235             AZU  AZUL LINHAS AÉREAS BRASILEIRAS S.A.  BRASIL   \n",
       "1  12017070             AZU  AZUL LINHAS AÉREAS BRASILEIRAS S.A.  BRASIL   \n",
       "2  12017071             AZU  AZUL LINHAS AÉREAS BRASILEIRAS S.A.  BRASIL   \n",
       "3  12017072             AZU  AZUL LINHAS AÉREAS BRASILEIRAS S.A.  BRASIL   \n",
       "4  12017082             AZU  AZUL LINHAS AÉREAS BRASILEIRAS S.A.  BRASIL   \n",
       "\n",
       "            ds_tipo_empresa                       ds_di  ds_grupo_di  \\\n",
       "0  TRANSPORTE AÉREO REGULAR  REGULAR PREVISTO EM HOTRAN      REGULAR   \n",
       "1  TRANSPORTE AÉREO REGULAR                  FRETAMENTO  NÃO REGULAR   \n",
       "2  TRANSPORTE AÉREO REGULAR                  FRETAMENTO  NÃO REGULAR   \n",
       "3  TRANSPORTE AÉREO REGULAR                  FRETAMENTO  NÃO REGULAR   \n",
       "4  TRANSPORTE AÉREO REGULAR            EXTRA SEM HOTRAN  NÃO REGULAR   \n",
       "\n",
       "         ds_tipo_linha ds_servico_tipo_linha  nr_etapa  nr_ano_partida_real  \\\n",
       "0      DOMÉSTICA MISTA            PASSAGEIRO         2               2016.0   \n",
       "1      DOMÉSTICA MISTA            PASSAGEIRO         1               2016.0   \n",
       "2      DOMÉSTICA MISTA            PASSAGEIRO         1               2016.0   \n",
       "3      DOMÉSTICA MISTA            PASSAGEIRO         1               2016.0   \n",
       "4  INTERNACIONAL MISTA            PASSAGEIRO         1               2016.0   \n",
       "\n",
       "  nm_semestre_partida_real nm_trimestre_partida_real hr_partida_real  \\\n",
       "0              1º SEMESTRE              1º TRIMESTRE        06:52:00   \n",
       "1              1º SEMESTRE              1º TRIMESTRE        01:43:00   \n",
       "2              1º SEMESTRE              1º TRIMESTRE        02:58:00   \n",
       "3              1º SEMESTRE              1º TRIMESTRE        05:15:00   \n",
       "4              1º SEMESTRE              1º TRIMESTRE        13:25:00   \n",
       "\n",
       "  dt_partida_real nm_mes_partida_real  nr_mes_partida_real  \\\n",
       "0      2016-01-01             JANEIRO                  1.0   \n",
       "1      2016-01-01             JANEIRO                  1.0   \n",
       "2      2016-01-01             JANEIRO                  1.0   \n",
       "3      2016-01-01             JANEIRO                  1.0   \n",
       "4      2016-01-01             JANEIRO                  1.0   \n",
       "\n",
       "  nm_dia_semana_partida_real  nr_dia_partida_real sg_iata_origem  \\\n",
       "0                SEXTA-FEIRA                  1.0            THE   \n",
       "1                SEXTA-FEIRA                  1.0            SSA   \n",
       "2                SEXTA-FEIRA                  1.0            IOS   \n",
       "3                SEXTA-FEIRA                  1.0            MCZ   \n",
       "4                SEXTA-FEIRA                  1.0            VCP   \n",
       "\n",
       "  nm_pais_origem nm_regiao_origem sg_uf_origem nm_municipio_origem  \\\n",
       "0         BRASIL         NORDESTE           PI            TERESINA   \n",
       "1         BRASIL         NORDESTE           BA            SALVADOR   \n",
       "2         BRASIL         NORDESTE           BA              ILHÉUS   \n",
       "3         BRASIL         NORDESTE           AL           RIO LARGO   \n",
       "4         BRASIL          SUDESTE           SP            CAMPINAS   \n",
       "\n",
       "   nr_escala_destino hr_chegada_real dt_chegada_real nm_mes_chegada_real  \\\n",
       "0                NaN        08:23:00      2016-01-01             JANEIRO   \n",
       "1                NaN        02:37:00      2016-01-01             JANEIRO   \n",
       "2                NaN        04:51:00      2016-01-01             JANEIRO   \n",
       "3                NaN        06:32:00      2016-01-01             JANEIRO   \n",
       "4                NaN        22:24:00      2016-01-01             JANEIRO   \n",
       "\n",
       "   nr_mes_chegada_real nm_dia_semana_chegada_real  nr_dia_chegada_real  \\\n",
       "0                  1.0                SEXTA-FEIRA                  1.0   \n",
       "1                  1.0                SEXTA-FEIRA                  1.0   \n",
       "2                  1.0                SEXTA-FEIRA                  1.0   \n",
       "3                  1.0                SEXTA-FEIRA                  1.0   \n",
       "4                  1.0                SEXTA-FEIRA                  1.0   \n",
       "\n",
       "  sg_iata_destino            nm_pais_destino nm_regiao_destino sg_uf_destino  \\\n",
       "0             REC                     BRASIL          NORDESTE            PE   \n",
       "1             IOS                     BRASIL          NORDESTE            BA   \n",
       "2             MCZ                     BRASIL          NORDESTE            AL   \n",
       "3             SSA                     BRASIL          NORDESTE            BA   \n",
       "4             MCO  ESTADOS UNIDOS DA AMÉRICA               NaN           NaN   \n",
       "\n",
       "  nm_municipio_destino  nr_assentos_ofertados  nr_passag_pagos  \\\n",
       "0               RECIFE                    118               83   \n",
       "1               ILHÉUS                     70                0   \n",
       "2            RIO LARGO                     70               33   \n",
       "3             SALVADOR                     70                0   \n",
       "4     ORLANDO, FLORIDA                    266              260   \n",
       "\n",
       "   nr_passag_gratis sg_equipamento_icao  lt_combustivel  km_distancia  \\\n",
       "0                 0                E195            3442         937.0   \n",
       "1                 0                AT72             684         225.0   \n",
       "2                 0                AT72            1392         687.0   \n",
       "3                 0                AT72             911         468.0   \n",
       "4                 6                A332           59747        6792.0   \n",
       "\n",
       "  nr_horas_voadas  kg_payload  kg_bagagem_livre  kg_bagagem_excesso  \\\n",
       "0            1,52       16842              1100                   6   \n",
       "1             0,9        7435                 0                   0   \n",
       "2            1,88        7390               592                   0   \n",
       "3            1,28        7535                 0                   0   \n",
       "4            8,98       49489              4665                   0   \n",
       "\n",
       "   kg_carga_paga  kg_peso nr_velocidade_media nr_carga_paga_km     nr_ask  \\\n",
       "0             77     7408             616,393            72149   110566.0   \n",
       "1              0        0             250,491                0    15750.0   \n",
       "2              0     3067              365,32                0    48090.0   \n",
       "3              0      150             365,496                0    32760.0   \n",
       "4            619    25234             756,301          4204250  1806670.0   \n",
       "\n",
       "      nr_rpk  \n",
       "0    77771.0  \n",
       "1        0.0  \n",
       "2    22671.0  \n",
       "3        0.0  \n",
       "4  1765920.0  "
      ]
     },
     "execution_count": 5,
     "metadata": {},
     "output_type": "execute_result"
    }
   ],
   "source": [
    "anac_df.head()"
   ]
  },
  {
   "cell_type": "code",
   "execution_count": 6,
   "metadata": {
    "ExecuteTime": {
     "end_time": "2020-04-21T03:15:48.140589Z",
     "start_time": "2020-04-21T03:15:48.136746Z"
    }
   },
   "outputs": [
    {
     "data": {
      "text/plain": [
       "(57, 3)"
      ]
     },
     "execution_count": 6,
     "metadata": {},
     "output_type": "execute_result"
    }
   ],
   "source": [
    "feriados.shape"
   ]
  },
  {
   "cell_type": "code",
   "execution_count": 7,
   "metadata": {
    "ExecuteTime": {
     "end_time": "2020-04-21T03:15:48.156868Z",
     "start_time": "2020-04-21T03:15:48.142460Z"
    }
   },
   "outputs": [
    {
     "data": {
      "text/html": [
       "<div>\n",
       "<style scoped>\n",
       "    .dataframe tbody tr th:only-of-type {\n",
       "        vertical-align: middle;\n",
       "    }\n",
       "\n",
       "    .dataframe tbody tr th {\n",
       "        vertical-align: top;\n",
       "    }\n",
       "\n",
       "    .dataframe thead th {\n",
       "        text-align: right;\n",
       "    }\n",
       "</style>\n",
       "<table border=\"1\" class=\"dataframe\">\n",
       "  <thead>\n",
       "    <tr style=\"text-align: right;\">\n",
       "      <th></th>\n",
       "      <th>data</th>\n",
       "      <th>fl_feriado</th>\n",
       "      <th>desc_feriado</th>\n",
       "    </tr>\n",
       "  </thead>\n",
       "  <tbody>\n",
       "    <tr>\n",
       "      <th>0</th>\n",
       "      <td>2016-01-01</td>\n",
       "      <td>1</td>\n",
       "      <td>confraternização universal (feriado nacional)</td>\n",
       "    </tr>\n",
       "    <tr>\n",
       "      <th>1</th>\n",
       "      <td>2016-02-09</td>\n",
       "      <td>1</td>\n",
       "      <td>(terça-feira ) – Carnaval (ponto facultativo)</td>\n",
       "    </tr>\n",
       "    <tr>\n",
       "      <th>2</th>\n",
       "      <td>2016-02-10</td>\n",
       "      <td>1</td>\n",
       "      <td>(quarta-feira ) – Quarta-feira  Cinzas (ponto...</td>\n",
       "    </tr>\n",
       "    <tr>\n",
       "      <th>3</th>\n",
       "      <td>2016-03-25</td>\n",
       "      <td>1</td>\n",
       "      <td>(sexta-feira ) – Paixão  Cristo (feriado naci...</td>\n",
       "    </tr>\n",
       "    <tr>\n",
       "      <th>4</th>\n",
       "      <td>2016-04-21</td>\n",
       "      <td>1</td>\n",
       "      <td>(quinta-feira) – Tirantes (feriado nacional)</td>\n",
       "    </tr>\n",
       "  </tbody>\n",
       "</table>\n",
       "</div>"
      ],
      "text/plain": [
       "         data  fl_feriado                                       desc_feriado\n",
       "0  2016-01-01           1      confraternização universal (feriado nacional)\n",
       "1  2016-02-09           1      (terça-feira ) – Carnaval (ponto facultativo)\n",
       "2  2016-02-10           1   (quarta-feira ) – Quarta-feira  Cinzas (ponto...\n",
       "3  2016-03-25           1   (sexta-feira ) – Paixão  Cristo (feriado naci...\n",
       "4  2016-04-21           1       (quinta-feira) – Tirantes (feriado nacional)"
      ]
     },
     "execution_count": 7,
     "metadata": {},
     "output_type": "execute_result"
    }
   ],
   "source": [
    "feriados.head()"
   ]
  },
  {
   "cell_type": "markdown",
   "metadata": {},
   "source": [
    "# Filter Route CGH - SDU"
   ]
  },
  {
   "cell_type": "code",
   "execution_count": 8,
   "metadata": {
    "ExecuteTime": {
     "end_time": "2020-04-21T03:15:48.434342Z",
     "start_time": "2020-04-21T03:15:48.158381Z"
    }
   },
   "outputs": [],
   "source": [
    "df_sp = anac_df.query(\"sg_iata_origem == 'CGH' & sg_iata_destino == 'SDU' & nr_passag_pagos != 0\")"
   ]
  },
  {
   "cell_type": "code",
   "execution_count": 9,
   "metadata": {
    "ExecuteTime": {
     "end_time": "2020-04-21T03:15:48.440654Z",
     "start_time": "2020-04-21T03:15:48.436892Z"
    }
   },
   "outputs": [
    {
     "data": {
      "text/plain": [
       "(79191, 52)"
      ]
     },
     "execution_count": 9,
     "metadata": {},
     "output_type": "execute_result"
    }
   ],
   "source": [
    "df_sp.shape"
   ]
  },
  {
   "cell_type": "markdown",
   "metadata": {},
   "source": [
    "# Feature Engineering"
   ]
  },
  {
   "cell_type": "markdown",
   "metadata": {},
   "source": [
    "## Holyday Variables"
   ]
  },
  {
   "cell_type": "code",
   "execution_count": 10,
   "metadata": {
    "ExecuteTime": {
     "end_time": "2020-04-21T03:15:48.471799Z",
     "start_time": "2020-04-21T03:15:48.442772Z"
    }
   },
   "outputs": [],
   "source": [
    "# creating variables for 1 and 2 days before a holiday\n",
    "\n",
    "feriados['data_d1'] = feriados.data.apply(lambda x: str((datetime.strptime(x, '%Y-%m-%d')- timedelta(days=1)).date()))\n",
    "feriados['data_d2'] = feriados.data.apply(lambda x: str((datetime.strptime(x, '%Y-%m-%d')- timedelta(days=2)).date()))\n",
    "feriados['data_d3'] = feriados.data.apply(lambda x: str((datetime.strptime(x, '%Y-%m-%d')- timedelta(days=3)).date()))\n",
    "\n",
    "feriados['fl_feriado_d1'] = feriados.fl_feriado\n",
    "feriados['fl_feriado_d2'] = feriados.fl_feriado\n",
    "feriados['fl_feriado_d3'] = feriados.fl_feriado"
   ]
  },
  {
   "cell_type": "code",
   "execution_count": 11,
   "metadata": {
    "ExecuteTime": {
     "end_time": "2020-04-21T03:15:48.490973Z",
     "start_time": "2020-04-21T03:15:48.473517Z"
    }
   },
   "outputs": [
    {
     "data": {
      "text/html": [
       "<div>\n",
       "<style scoped>\n",
       "    .dataframe tbody tr th:only-of-type {\n",
       "        vertical-align: middle;\n",
       "    }\n",
       "\n",
       "    .dataframe tbody tr th {\n",
       "        vertical-align: top;\n",
       "    }\n",
       "\n",
       "    .dataframe thead th {\n",
       "        text-align: right;\n",
       "    }\n",
       "</style>\n",
       "<table border=\"1\" class=\"dataframe\">\n",
       "  <thead>\n",
       "    <tr style=\"text-align: right;\">\n",
       "      <th></th>\n",
       "      <th>data</th>\n",
       "      <th>fl_feriado</th>\n",
       "      <th>desc_feriado</th>\n",
       "      <th>data_d1</th>\n",
       "      <th>data_d2</th>\n",
       "      <th>data_d3</th>\n",
       "      <th>fl_feriado_d1</th>\n",
       "      <th>fl_feriado_d2</th>\n",
       "      <th>fl_feriado_d3</th>\n",
       "    </tr>\n",
       "  </thead>\n",
       "  <tbody>\n",
       "    <tr>\n",
       "      <th>0</th>\n",
       "      <td>2016-01-01</td>\n",
       "      <td>1</td>\n",
       "      <td>confraternização universal (feriado nacional)</td>\n",
       "      <td>2015-12-31</td>\n",
       "      <td>2015-12-30</td>\n",
       "      <td>2015-12-29</td>\n",
       "      <td>1</td>\n",
       "      <td>1</td>\n",
       "      <td>1</td>\n",
       "    </tr>\n",
       "    <tr>\n",
       "      <th>1</th>\n",
       "      <td>2016-02-09</td>\n",
       "      <td>1</td>\n",
       "      <td>(terça-feira ) – Carnaval (ponto facultativo)</td>\n",
       "      <td>2016-02-08</td>\n",
       "      <td>2016-02-07</td>\n",
       "      <td>2016-02-06</td>\n",
       "      <td>1</td>\n",
       "      <td>1</td>\n",
       "      <td>1</td>\n",
       "    </tr>\n",
       "    <tr>\n",
       "      <th>2</th>\n",
       "      <td>2016-02-10</td>\n",
       "      <td>1</td>\n",
       "      <td>(quarta-feira ) – Quarta-feira  Cinzas (ponto...</td>\n",
       "      <td>2016-02-09</td>\n",
       "      <td>2016-02-08</td>\n",
       "      <td>2016-02-07</td>\n",
       "      <td>1</td>\n",
       "      <td>1</td>\n",
       "      <td>1</td>\n",
       "    </tr>\n",
       "    <tr>\n",
       "      <th>3</th>\n",
       "      <td>2016-03-25</td>\n",
       "      <td>1</td>\n",
       "      <td>(sexta-feira ) – Paixão  Cristo (feriado naci...</td>\n",
       "      <td>2016-03-24</td>\n",
       "      <td>2016-03-23</td>\n",
       "      <td>2016-03-22</td>\n",
       "      <td>1</td>\n",
       "      <td>1</td>\n",
       "      <td>1</td>\n",
       "    </tr>\n",
       "    <tr>\n",
       "      <th>4</th>\n",
       "      <td>2016-04-21</td>\n",
       "      <td>1</td>\n",
       "      <td>(quinta-feira) – Tirantes (feriado nacional)</td>\n",
       "      <td>2016-04-20</td>\n",
       "      <td>2016-04-19</td>\n",
       "      <td>2016-04-18</td>\n",
       "      <td>1</td>\n",
       "      <td>1</td>\n",
       "      <td>1</td>\n",
       "    </tr>\n",
       "  </tbody>\n",
       "</table>\n",
       "</div>"
      ],
      "text/plain": [
       "         data  fl_feriado                                       desc_feriado  \\\n",
       "0  2016-01-01           1      confraternização universal (feriado nacional)   \n",
       "1  2016-02-09           1      (terça-feira ) – Carnaval (ponto facultativo)   \n",
       "2  2016-02-10           1   (quarta-feira ) – Quarta-feira  Cinzas (ponto...   \n",
       "3  2016-03-25           1   (sexta-feira ) – Paixão  Cristo (feriado naci...   \n",
       "4  2016-04-21           1       (quinta-feira) – Tirantes (feriado nacional)   \n",
       "\n",
       "      data_d1     data_d2     data_d3  fl_feriado_d1  fl_feriado_d2  \\\n",
       "0  2015-12-31  2015-12-30  2015-12-29              1              1   \n",
       "1  2016-02-08  2016-02-07  2016-02-06              1              1   \n",
       "2  2016-02-09  2016-02-08  2016-02-07              1              1   \n",
       "3  2016-03-24  2016-03-23  2016-03-22              1              1   \n",
       "4  2016-04-20  2016-04-19  2016-04-18              1              1   \n",
       "\n",
       "   fl_feriado_d3  \n",
       "0              1  \n",
       "1              1  \n",
       "2              1  \n",
       "3              1  \n",
       "4              1  "
      ]
     },
     "execution_count": 11,
     "metadata": {},
     "output_type": "execute_result"
    }
   ],
   "source": [
    "feriados.head()"
   ]
  },
  {
   "cell_type": "code",
   "execution_count": 12,
   "metadata": {
    "ExecuteTime": {
     "end_time": "2020-04-21T03:15:49.059615Z",
     "start_time": "2020-04-21T03:15:48.492955Z"
    }
   },
   "outputs": [],
   "source": [
    "# joins with df_sp\n",
    "df_sp = df_sp.merge(feriados[['data','fl_feriado']], left_on='dt_partida_real', right_on='data', how = 'left')\n",
    "df_sp = df_sp.merge(feriados[['data_d1','fl_feriado_d1']], left_on='dt_partida_real', right_on='data_d1', how = 'left')\n",
    "df_sp = df_sp.merge(feriados[['data_d2','fl_feriado_d2']], left_on='dt_partida_real', right_on='data_d2', how = 'left')\n",
    "df_sp = df_sp.merge(feriados[['data_d3','fl_feriado_d3']], left_on='dt_partida_real', right_on='data_d3', how = 'left')"
   ]
  },
  {
   "cell_type": "code",
   "execution_count": 13,
   "metadata": {
    "ExecuteTime": {
     "end_time": "2020-04-21T03:15:49.257508Z",
     "start_time": "2020-04-21T03:15:49.061277Z"
    }
   },
   "outputs": [],
   "source": [
    "# filling nulls\n",
    "df_sp.fillna(0,inplace=True)"
   ]
  },
  {
   "cell_type": "code",
   "execution_count": 14,
   "metadata": {
    "ExecuteTime": {
     "end_time": "2020-04-21T03:15:49.315310Z",
     "start_time": "2020-04-21T03:15:49.258926Z"
    }
   },
   "outputs": [],
   "source": [
    "# droping variables\n",
    "\n",
    "keep_list = [\"dt_partida_real\",\n",
    "             \"id_basica\",\n",
    "             \"hr_partida_real\",\n",
    "             \"nr_dia_partida_real\",\n",
    "             \"nm_dia_semana_partida_real\",\n",
    "             \"nm_mes_partida_real\",\n",
    "             \"nr_mes_partida_real\",\n",
    "             \"fl_feriado\",\n",
    "             \"fl_feriado_d1\",\n",
    "             \"fl_feriado_d2\",\n",
    "             \"fl_feriado_d3\",\n",
    "             \"hr_chegada_real\",\n",
    "             \"nr_dia_chegada_real\",\n",
    "             \"nm_dia_semana_chegada_real\",\n",
    "             \"nr_ano_partida_real\",\n",
    "             \"nr_assentos_ofertados\",\n",
    "             \"nr_passag_pagos\"]\n",
    "\n",
    "df_sp = df_sp[keep_list]"
   ]
  },
  {
   "cell_type": "code",
   "execution_count": 15,
   "metadata": {
    "ExecuteTime": {
     "end_time": "2020-04-21T03:15:49.988223Z",
     "start_time": "2020-04-21T03:15:49.317017Z"
    }
   },
   "outputs": [],
   "source": [
    "# Changing names\n",
    "\n",
    "df_sp.columns = [\"departure_date\",\n",
    "             \"id\",\n",
    "             \"hr_departure\",\n",
    "             \"departure_day_of_month\",\n",
    "             \"departure_day_of_week\",\n",
    "             \"departure_month\",\n",
    "             \"departure_month_encoded\",\n",
    "             \"fl_holiday\",\n",
    "             \"fl_holiday_d1\",\n",
    "             \"fl_holiday_d2\",\n",
    "             \"fl_holiday_d3\",\n",
    "             \"hr_arrival\",\n",
    "             \"arrival_day_of_month\",\n",
    "             \"arrival_day_of_week\",\n",
    "             \"year\",\n",
    "             \"n_seats_offered\",\n",
    "             \"n_seats_paid\"]\n",
    "\n",
    "pt_eng = {'SEGUNDA-FEIRA': 'mon',\n",
    "                 'TERÇA-FEIRA': 'tue',\n",
    "                 'QUARTA-FEIRA': 'wed',\n",
    "                 'QUINTA-FEIRA': 'thu',\n",
    "                 'SEXTA-FEIRA': 'fri',\n",
    "                 'SÁBADO': 'sat',\n",
    "                 'DOMINGO': 'sun',\n",
    "                 'JANEIRO' : 'jan',\n",
    "                 'FEVEREIRO': 'feb',\n",
    "                 'MARÇO': 'mar',\n",
    "                 'ABRIL': 'apr',\n",
    "                 'MAIO': 'may',\n",
    "                 'JUNHO': 'jun',\n",
    "                 'JULHO': 'jul',\n",
    "                 'AGOSTO': 'aug',\n",
    "                 'SETEMBRO': 'sep',\n",
    "                 'OUTUBRO': 'oct',\n",
    "                 'NOVEMBRO': 'nov',\n",
    "                 'DEZEMBRO': 'dec'}\n",
    "\n",
    "df_sp.replace(pt_eng, inplace = True)"
   ]
  },
  {
   "cell_type": "code",
   "execution_count": 16,
   "metadata": {
    "ExecuteTime": {
     "end_time": "2020-04-21T03:15:49.999714Z",
     "start_time": "2020-04-21T03:15:49.989642Z"
    }
   },
   "outputs": [],
   "source": [
    "df_sp.set_index(\"id\",inplace = True)"
   ]
  },
  {
   "cell_type": "code",
   "execution_count": 17,
   "metadata": {
    "ExecuteTime": {
     "end_time": "2020-04-21T03:15:50.030047Z",
     "start_time": "2020-04-21T03:15:50.001762Z"
    }
   },
   "outputs": [
    {
     "data": {
      "text/html": [
       "<div>\n",
       "<style scoped>\n",
       "    .dataframe tbody tr th:only-of-type {\n",
       "        vertical-align: middle;\n",
       "    }\n",
       "\n",
       "    .dataframe tbody tr th {\n",
       "        vertical-align: top;\n",
       "    }\n",
       "\n",
       "    .dataframe thead th {\n",
       "        text-align: right;\n",
       "    }\n",
       "</style>\n",
       "<table border=\"1\" class=\"dataframe\">\n",
       "  <thead>\n",
       "    <tr style=\"text-align: right;\">\n",
       "      <th></th>\n",
       "      <th>departure_date</th>\n",
       "      <th>hr_departure</th>\n",
       "      <th>departure_day_of_month</th>\n",
       "      <th>departure_day_of_week</th>\n",
       "      <th>departure_month</th>\n",
       "      <th>departure_month_encoded</th>\n",
       "      <th>fl_holiday</th>\n",
       "      <th>fl_holiday_d1</th>\n",
       "      <th>fl_holiday_d2</th>\n",
       "      <th>fl_holiday_d3</th>\n",
       "      <th>hr_arrival</th>\n",
       "      <th>arrival_day_of_month</th>\n",
       "      <th>arrival_day_of_week</th>\n",
       "      <th>year</th>\n",
       "      <th>n_seats_offered</th>\n",
       "      <th>n_seats_paid</th>\n",
       "    </tr>\n",
       "    <tr>\n",
       "      <th>id</th>\n",
       "      <th></th>\n",
       "      <th></th>\n",
       "      <th></th>\n",
       "      <th></th>\n",
       "      <th></th>\n",
       "      <th></th>\n",
       "      <th></th>\n",
       "      <th></th>\n",
       "      <th></th>\n",
       "      <th></th>\n",
       "      <th></th>\n",
       "      <th></th>\n",
       "      <th></th>\n",
       "      <th></th>\n",
       "      <th></th>\n",
       "      <th></th>\n",
       "    </tr>\n",
       "  </thead>\n",
       "  <tbody>\n",
       "    <tr>\n",
       "      <th>12018065</th>\n",
       "      <td>2016-01-02</td>\n",
       "      <td>14:40:00</td>\n",
       "      <td>2.0</td>\n",
       "      <td>sat</td>\n",
       "      <td>jan</td>\n",
       "      <td>1.0</td>\n",
       "      <td>0.0</td>\n",
       "      <td>0.0</td>\n",
       "      <td>0.0</td>\n",
       "      <td>0.0</td>\n",
       "      <td>15:58:00</td>\n",
       "      <td>2.0</td>\n",
       "      <td>sat</td>\n",
       "      <td>2016.0</td>\n",
       "      <td>118</td>\n",
       "      <td>64</td>\n",
       "    </tr>\n",
       "    <tr>\n",
       "      <th>12021813</th>\n",
       "      <td>2016-01-07</td>\n",
       "      <td>16:55:00</td>\n",
       "      <td>7.0</td>\n",
       "      <td>thu</td>\n",
       "      <td>jan</td>\n",
       "      <td>1.0</td>\n",
       "      <td>0.0</td>\n",
       "      <td>0.0</td>\n",
       "      <td>0.0</td>\n",
       "      <td>0.0</td>\n",
       "      <td>17:52:00</td>\n",
       "      <td>7.0</td>\n",
       "      <td>thu</td>\n",
       "      <td>2016.0</td>\n",
       "      <td>106</td>\n",
       "      <td>81</td>\n",
       "    </tr>\n",
       "    <tr>\n",
       "      <th>12023749</th>\n",
       "      <td>2016-01-09</td>\n",
       "      <td>14:40:00</td>\n",
       "      <td>9.0</td>\n",
       "      <td>sat</td>\n",
       "      <td>jan</td>\n",
       "      <td>1.0</td>\n",
       "      <td>0.0</td>\n",
       "      <td>0.0</td>\n",
       "      <td>0.0</td>\n",
       "      <td>0.0</td>\n",
       "      <td>16:13:00</td>\n",
       "      <td>9.0</td>\n",
       "      <td>sat</td>\n",
       "      <td>2016.0</td>\n",
       "      <td>118</td>\n",
       "      <td>78</td>\n",
       "    </tr>\n",
       "    <tr>\n",
       "      <th>12029256</th>\n",
       "      <td>2016-01-16</td>\n",
       "      <td>14:50:00</td>\n",
       "      <td>16.0</td>\n",
       "      <td>sat</td>\n",
       "      <td>jan</td>\n",
       "      <td>1.0</td>\n",
       "      <td>0.0</td>\n",
       "      <td>0.0</td>\n",
       "      <td>0.0</td>\n",
       "      <td>0.0</td>\n",
       "      <td>15:41:00</td>\n",
       "      <td>16.0</td>\n",
       "      <td>sat</td>\n",
       "      <td>2016.0</td>\n",
       "      <td>118</td>\n",
       "      <td>99</td>\n",
       "    </tr>\n",
       "    <tr>\n",
       "      <th>12034688</th>\n",
       "      <td>2016-01-23</td>\n",
       "      <td>14:47:00</td>\n",
       "      <td>23.0</td>\n",
       "      <td>sat</td>\n",
       "      <td>jan</td>\n",
       "      <td>1.0</td>\n",
       "      <td>0.0</td>\n",
       "      <td>0.0</td>\n",
       "      <td>0.0</td>\n",
       "      <td>0.0</td>\n",
       "      <td>15:41:00</td>\n",
       "      <td>23.0</td>\n",
       "      <td>sat</td>\n",
       "      <td>2016.0</td>\n",
       "      <td>118</td>\n",
       "      <td>104</td>\n",
       "    </tr>\n",
       "  </tbody>\n",
       "</table>\n",
       "</div>"
      ],
      "text/plain": [
       "         departure_date hr_departure  departure_day_of_month  \\\n",
       "id                                                             \n",
       "12018065     2016-01-02     14:40:00                     2.0   \n",
       "12021813     2016-01-07     16:55:00                     7.0   \n",
       "12023749     2016-01-09     14:40:00                     9.0   \n",
       "12029256     2016-01-16     14:50:00                    16.0   \n",
       "12034688     2016-01-23     14:47:00                    23.0   \n",
       "\n",
       "         departure_day_of_week departure_month  departure_month_encoded  \\\n",
       "id                                                                        \n",
       "12018065                   sat             jan                      1.0   \n",
       "12021813                   thu             jan                      1.0   \n",
       "12023749                   sat             jan                      1.0   \n",
       "12029256                   sat             jan                      1.0   \n",
       "12034688                   sat             jan                      1.0   \n",
       "\n",
       "          fl_holiday  fl_holiday_d1  fl_holiday_d2  fl_holiday_d3 hr_arrival  \\\n",
       "id                                                                             \n",
       "12018065         0.0            0.0            0.0            0.0   15:58:00   \n",
       "12021813         0.0            0.0            0.0            0.0   17:52:00   \n",
       "12023749         0.0            0.0            0.0            0.0   16:13:00   \n",
       "12029256         0.0            0.0            0.0            0.0   15:41:00   \n",
       "12034688         0.0            0.0            0.0            0.0   15:41:00   \n",
       "\n",
       "          arrival_day_of_month arrival_day_of_week    year  n_seats_offered  \\\n",
       "id                                                                            \n",
       "12018065                   2.0                 sat  2016.0              118   \n",
       "12021813                   7.0                 thu  2016.0              106   \n",
       "12023749                   9.0                 sat  2016.0              118   \n",
       "12029256                  16.0                 sat  2016.0              118   \n",
       "12034688                  23.0                 sat  2016.0              118   \n",
       "\n",
       "          n_seats_paid  \n",
       "id                      \n",
       "12018065            64  \n",
       "12021813            81  \n",
       "12023749            78  \n",
       "12029256            99  \n",
       "12034688           104  "
      ]
     },
     "execution_count": 17,
     "metadata": {},
     "output_type": "execute_result"
    }
   ],
   "source": [
    "df_sp.head()"
   ]
  },
  {
   "cell_type": "markdown",
   "metadata": {},
   "source": [
    "## Hours "
   ]
  },
  {
   "cell_type": "code",
   "execution_count": 18,
   "metadata": {
    "ExecuteTime": {
     "end_time": "2020-04-21T03:15:50.134329Z",
     "start_time": "2020-04-21T03:15:50.032118Z"
    }
   },
   "outputs": [],
   "source": [
    "# tranforming hours variables into bins of one hour interval\n",
    "df_sp['hr_departure'] = df_sp.hr_departure.apply( lambda x : int(x[:2]))\n",
    "df_sp['hr_arrival'] = df_sp.hr_arrival.apply( lambda x : int(x[:2]))"
   ]
  },
  {
   "cell_type": "markdown",
   "metadata": {},
   "source": [
    "## Grouping Data into hourly bins"
   ]
  },
  {
   "cell_type": "code",
   "execution_count": 19,
   "metadata": {
    "ExecuteTime": {
     "end_time": "2020-04-21T03:15:50.251032Z",
     "start_time": "2020-04-21T03:15:50.136251Z"
    }
   },
   "outputs": [],
   "source": [
    "df_sp_grouped = df_sp.groupby([\"departure_date\",\n",
    "                               \"hr_departure\",\n",
    "                               \"departure_day_of_month\",\n",
    "                               \"departure_day_of_week\",\n",
    "                               \"departure_month\",\n",
    "                               \"fl_holiday\",\n",
    "                               \"fl_holiday_d1\",\n",
    "                               \"fl_holiday_d2\",\n",
    "                               \"fl_holiday_d3\",\n",
    "                               \"hr_arrival\",\n",
    "                               \"arrival_day_of_month\",\n",
    "                               \"arrival_day_of_week\"]\n",
    ").agg(n_seats_paid=('n_seats_paid', np.sum),\n",
    "      n_seats_offered=('n_seats_offered', np.sum),\n",
    "      frequency = ('hr_departure', 'count')).reset_index()\n"
   ]
  },
  {
   "cell_type": "code",
   "execution_count": 20,
   "metadata": {
    "ExecuteTime": {
     "end_time": "2020-04-21T03:15:50.260296Z",
     "start_time": "2020-04-21T03:15:50.253151Z"
    }
   },
   "outputs": [
    {
     "data": {
      "text/plain": [
       "(31511, 15)"
      ]
     },
     "execution_count": 20,
     "metadata": {},
     "output_type": "execute_result"
    }
   ],
   "source": [
    "df_sp_grouped.shape"
   ]
  },
  {
   "cell_type": "code",
   "execution_count": 21,
   "metadata": {
    "ExecuteTime": {
     "end_time": "2020-04-21T03:15:50.293360Z",
     "start_time": "2020-04-21T03:15:50.263039Z"
    }
   },
   "outputs": [
    {
     "data": {
      "text/html": [
       "<div>\n",
       "<style scoped>\n",
       "    .dataframe tbody tr th:only-of-type {\n",
       "        vertical-align: middle;\n",
       "    }\n",
       "\n",
       "    .dataframe tbody tr th {\n",
       "        vertical-align: top;\n",
       "    }\n",
       "\n",
       "    .dataframe thead th {\n",
       "        text-align: right;\n",
       "    }\n",
       "</style>\n",
       "<table border=\"1\" class=\"dataframe\">\n",
       "  <thead>\n",
       "    <tr style=\"text-align: right;\">\n",
       "      <th></th>\n",
       "      <th>departure_date</th>\n",
       "      <th>hr_departure</th>\n",
       "      <th>departure_day_of_month</th>\n",
       "      <th>departure_day_of_week</th>\n",
       "      <th>departure_month</th>\n",
       "      <th>fl_holiday</th>\n",
       "      <th>fl_holiday_d1</th>\n",
       "      <th>fl_holiday_d2</th>\n",
       "      <th>fl_holiday_d3</th>\n",
       "      <th>hr_arrival</th>\n",
       "      <th>arrival_day_of_month</th>\n",
       "      <th>arrival_day_of_week</th>\n",
       "      <th>n_seats_paid</th>\n",
       "      <th>n_seats_offered</th>\n",
       "      <th>frequency</th>\n",
       "    </tr>\n",
       "  </thead>\n",
       "  <tbody>\n",
       "    <tr>\n",
       "      <th>0</th>\n",
       "      <td>2016-01-01</td>\n",
       "      <td>8</td>\n",
       "      <td>1.0</td>\n",
       "      <td>fri</td>\n",
       "      <td>jan</td>\n",
       "      <td>1.0</td>\n",
       "      <td>0.0</td>\n",
       "      <td>0.0</td>\n",
       "      <td>0.0</td>\n",
       "      <td>8</td>\n",
       "      <td>1.0</td>\n",
       "      <td>fri</td>\n",
       "      <td>69</td>\n",
       "      <td>138</td>\n",
       "      <td>1</td>\n",
       "    </tr>\n",
       "    <tr>\n",
       "      <th>1</th>\n",
       "      <td>2016-01-01</td>\n",
       "      <td>8</td>\n",
       "      <td>1.0</td>\n",
       "      <td>fri</td>\n",
       "      <td>jan</td>\n",
       "      <td>1.0</td>\n",
       "      <td>0.0</td>\n",
       "      <td>0.0</td>\n",
       "      <td>0.0</td>\n",
       "      <td>9</td>\n",
       "      <td>1.0</td>\n",
       "      <td>fri</td>\n",
       "      <td>131</td>\n",
       "      <td>288</td>\n",
       "      <td>2</td>\n",
       "    </tr>\n",
       "    <tr>\n",
       "      <th>2</th>\n",
       "      <td>2016-01-01</td>\n",
       "      <td>9</td>\n",
       "      <td>1.0</td>\n",
       "      <td>fri</td>\n",
       "      <td>jan</td>\n",
       "      <td>1.0</td>\n",
       "      <td>0.0</td>\n",
       "      <td>0.0</td>\n",
       "      <td>0.0</td>\n",
       "      <td>10</td>\n",
       "      <td>1.0</td>\n",
       "      <td>fri</td>\n",
       "      <td>111</td>\n",
       "      <td>426</td>\n",
       "      <td>3</td>\n",
       "    </tr>\n",
       "    <tr>\n",
       "      <th>3</th>\n",
       "      <td>2016-01-01</td>\n",
       "      <td>10</td>\n",
       "      <td>1.0</td>\n",
       "      <td>fri</td>\n",
       "      <td>jan</td>\n",
       "      <td>1.0</td>\n",
       "      <td>0.0</td>\n",
       "      <td>0.0</td>\n",
       "      <td>0.0</td>\n",
       "      <td>11</td>\n",
       "      <td>1.0</td>\n",
       "      <td>fri</td>\n",
       "      <td>102</td>\n",
       "      <td>603</td>\n",
       "      <td>4</td>\n",
       "    </tr>\n",
       "    <tr>\n",
       "      <th>4</th>\n",
       "      <td>2016-01-01</td>\n",
       "      <td>11</td>\n",
       "      <td>1.0</td>\n",
       "      <td>fri</td>\n",
       "      <td>jan</td>\n",
       "      <td>1.0</td>\n",
       "      <td>0.0</td>\n",
       "      <td>0.0</td>\n",
       "      <td>0.0</td>\n",
       "      <td>12</td>\n",
       "      <td>1.0</td>\n",
       "      <td>fri</td>\n",
       "      <td>184</td>\n",
       "      <td>453</td>\n",
       "      <td>3</td>\n",
       "    </tr>\n",
       "  </tbody>\n",
       "</table>\n",
       "</div>"
      ],
      "text/plain": [
       "  departure_date  hr_departure  departure_day_of_month departure_day_of_week  \\\n",
       "0     2016-01-01             8                     1.0                   fri   \n",
       "1     2016-01-01             8                     1.0                   fri   \n",
       "2     2016-01-01             9                     1.0                   fri   \n",
       "3     2016-01-01            10                     1.0                   fri   \n",
       "4     2016-01-01            11                     1.0                   fri   \n",
       "\n",
       "  departure_month  fl_holiday  fl_holiday_d1  fl_holiday_d2  fl_holiday_d3  \\\n",
       "0             jan         1.0            0.0            0.0            0.0   \n",
       "1             jan         1.0            0.0            0.0            0.0   \n",
       "2             jan         1.0            0.0            0.0            0.0   \n",
       "3             jan         1.0            0.0            0.0            0.0   \n",
       "4             jan         1.0            0.0            0.0            0.0   \n",
       "\n",
       "   hr_arrival  arrival_day_of_month arrival_day_of_week  n_seats_paid  \\\n",
       "0           8                   1.0                 fri            69   \n",
       "1           9                   1.0                 fri           131   \n",
       "2          10                   1.0                 fri           111   \n",
       "3          11                   1.0                 fri           102   \n",
       "4          12                   1.0                 fri           184   \n",
       "\n",
       "   n_seats_offered  frequency  \n",
       "0              138          1  \n",
       "1              288          2  \n",
       "2              426          3  \n",
       "3              603          4  \n",
       "4              453          3  "
      ]
     },
     "execution_count": 21,
     "metadata": {},
     "output_type": "execute_result"
    }
   ],
   "source": [
    "df_sp_grouped.head()"
   ]
  },
  {
   "cell_type": "markdown",
   "metadata": {},
   "source": [
    "# EDA"
   ]
  },
  {
   "cell_type": "code",
   "execution_count": 22,
   "metadata": {
    "ExecuteTime": {
     "end_time": "2020-04-21T03:15:51.952793Z",
     "start_time": "2020-04-21T03:15:50.295063Z"
    }
   },
   "outputs": [
    {
     "data": {
      "image/png": "[encoded data removed]",
      "text/plain": [
       "<Figure size 432x288 with 12 Axes>"
      ]
     },
     "metadata": {
      "needs_background": "light"
     },
     "output_type": "display_data"
    }
   ],
   "source": [
    "df_sp_grouped.hist();"
   ]
  },
  {
   "cell_type": "markdown",
   "metadata": {},
   "source": [
    "## Moving Average"
   ]
  },
  {
   "cell_type": "code",
   "execution_count": 23,
   "metadata": {
    "ExecuteTime": {
     "end_time": "2020-04-21T03:15:52.232539Z",
     "start_time": "2020-04-21T03:15:51.954463Z"
    }
   },
   "outputs": [
    {
     "data": {
      "text/plain": [
       "<matplotlib.axes._subplots.AxesSubplot at 0x7fb9aabb7128>"
      ]
     },
     "execution_count": 23,
     "metadata": {},
     "output_type": "execute_result"
    },
    {
     "data": {
      "image/png": "[encoded data removed]",
      "text/plain": [
       "<Figure size 432x288 with 1 Axes>"
      ]
     },
     "metadata": {
      "needs_background": "light"
     },
     "output_type": "display_data"
    }
   ],
   "source": [
    "df_sp_grouped.query(\"'2019-10-09' <= departure_date <= '2019-10-11' \").reset_index()[['departure_day_of_month','n_seats_paid']].plot()"
   ]
  },
  {
   "cell_type": "markdown",
   "metadata": {},
   "source": [
    "# Modeling One Hot Encoding"
   ]
  },
  {
   "cell_type": "code",
   "execution_count": 24,
   "metadata": {
    "ExecuteTime": {
     "end_time": "2020-04-21T03:15:52.264792Z",
     "start_time": "2020-04-21T03:15:52.234059Z"
    }
   },
   "outputs": [],
   "source": [
    "# Encoding days of the week and month variables\n",
    "df_sp_grouped.drop(['departure_date'],axis=1,inplace = True)\n",
    "\n",
    "cat_vars = df_sp_grouped.select_dtypes(include='object').columns.values.tolist()\n",
    "df_sp_grouped = cat_encoding(df_sp_grouped,cat_vars, encoding = 'one_hot')"
   ]
  },
  {
   "cell_type": "code",
   "execution_count": 25,
   "metadata": {
    "ExecuteTime": {
     "end_time": "2020-04-21T03:15:52.295408Z",
     "start_time": "2020-04-21T03:15:52.266452Z"
    }
   },
   "outputs": [
    {
     "data": {
      "text/html": [
       "<div>\n",
       "<style scoped>\n",
       "    .dataframe tbody tr th:only-of-type {\n",
       "        vertical-align: middle;\n",
       "    }\n",
       "\n",
       "    .dataframe tbody tr th {\n",
       "        vertical-align: top;\n",
       "    }\n",
       "\n",
       "    .dataframe thead th {\n",
       "        text-align: right;\n",
       "    }\n",
       "</style>\n",
       "<table border=\"1\" class=\"dataframe\">\n",
       "  <thead>\n",
       "    <tr style=\"text-align: right;\">\n",
       "      <th></th>\n",
       "      <th>hr_departure</th>\n",
       "      <th>departure_day_of_month</th>\n",
       "      <th>fl_holiday</th>\n",
       "      <th>fl_holiday_d1</th>\n",
       "      <th>fl_holiday_d2</th>\n",
       "      <th>fl_holiday_d3</th>\n",
       "      <th>hr_arrival</th>\n",
       "      <th>arrival_day_of_month</th>\n",
       "      <th>n_seats_paid</th>\n",
       "      <th>n_seats_offered</th>\n",
       "      <th>frequency</th>\n",
       "      <th>departure_day_of_week_fri</th>\n",
       "      <th>departure_day_of_week_mon</th>\n",
       "      <th>departure_day_of_week_sat</th>\n",
       "      <th>departure_day_of_week_sun</th>\n",
       "      <th>departure_day_of_week_thu</th>\n",
       "      <th>departure_day_of_week_tue</th>\n",
       "      <th>departure_day_of_week_wed</th>\n",
       "      <th>departure_month_apr</th>\n",
       "      <th>departure_month_aug</th>\n",
       "      <th>departure_month_dec</th>\n",
       "      <th>departure_month_feb</th>\n",
       "      <th>departure_month_jan</th>\n",
       "      <th>departure_month_jul</th>\n",
       "      <th>departure_month_jun</th>\n",
       "      <th>departure_month_mar</th>\n",
       "      <th>departure_month_may</th>\n",
       "      <th>departure_month_nov</th>\n",
       "      <th>departure_month_oct</th>\n",
       "      <th>departure_month_sep</th>\n",
       "      <th>arrival_day_of_week_fri</th>\n",
       "      <th>arrival_day_of_week_mon</th>\n",
       "      <th>arrival_day_of_week_sat</th>\n",
       "      <th>arrival_day_of_week_sun</th>\n",
       "      <th>arrival_day_of_week_thu</th>\n",
       "      <th>arrival_day_of_week_tue</th>\n",
       "      <th>arrival_day_of_week_wed</th>\n",
       "    </tr>\n",
       "  </thead>\n",
       "  <tbody>\n",
       "    <tr>\n",
       "      <th>0</th>\n",
       "      <td>8</td>\n",
       "      <td>1.0</td>\n",
       "      <td>1.0</td>\n",
       "      <td>0.0</td>\n",
       "      <td>0.0</td>\n",
       "      <td>0.0</td>\n",
       "      <td>8</td>\n",
       "      <td>1.0</td>\n",
       "      <td>69</td>\n",
       "      <td>138</td>\n",
       "      <td>1</td>\n",
       "      <td>1</td>\n",
       "      <td>0</td>\n",
       "      <td>0</td>\n",
       "      <td>0</td>\n",
       "      <td>0</td>\n",
       "      <td>0</td>\n",
       "      <td>0</td>\n",
       "      <td>0</td>\n",
       "      <td>0</td>\n",
       "      <td>0</td>\n",
       "      <td>0</td>\n",
       "      <td>1</td>\n",
       "      <td>0</td>\n",
       "      <td>0</td>\n",
       "      <td>0</td>\n",
       "      <td>0</td>\n",
       "      <td>0</td>\n",
       "      <td>0</td>\n",
       "      <td>0</td>\n",
       "      <td>1</td>\n",
       "      <td>0</td>\n",
       "      <td>0</td>\n",
       "      <td>0</td>\n",
       "      <td>0</td>\n",
       "      <td>0</td>\n",
       "      <td>0</td>\n",
       "    </tr>\n",
       "    <tr>\n",
       "      <th>1</th>\n",
       "      <td>8</td>\n",
       "      <td>1.0</td>\n",
       "      <td>1.0</td>\n",
       "      <td>0.0</td>\n",
       "      <td>0.0</td>\n",
       "      <td>0.0</td>\n",
       "      <td>9</td>\n",
       "      <td>1.0</td>\n",
       "      <td>131</td>\n",
       "      <td>288</td>\n",
       "      <td>2</td>\n",
       "      <td>1</td>\n",
       "      <td>0</td>\n",
       "      <td>0</td>\n",
       "      <td>0</td>\n",
       "      <td>0</td>\n",
       "      <td>0</td>\n",
       "      <td>0</td>\n",
       "      <td>0</td>\n",
       "      <td>0</td>\n",
       "      <td>0</td>\n",
       "      <td>0</td>\n",
       "      <td>1</td>\n",
       "      <td>0</td>\n",
       "      <td>0</td>\n",
       "      <td>0</td>\n",
       "      <td>0</td>\n",
       "      <td>0</td>\n",
       "      <td>0</td>\n",
       "      <td>0</td>\n",
       "      <td>1</td>\n",
       "      <td>0</td>\n",
       "      <td>0</td>\n",
       "      <td>0</td>\n",
       "      <td>0</td>\n",
       "      <td>0</td>\n",
       "      <td>0</td>\n",
       "    </tr>\n",
       "    <tr>\n",
       "      <th>2</th>\n",
       "      <td>9</td>\n",
       "      <td>1.0</td>\n",
       "      <td>1.0</td>\n",
       "      <td>0.0</td>\n",
       "      <td>0.0</td>\n",
       "      <td>0.0</td>\n",
       "      <td>10</td>\n",
       "      <td>1.0</td>\n",
       "      <td>111</td>\n",
       "      <td>426</td>\n",
       "      <td>3</td>\n",
       "      <td>1</td>\n",
       "      <td>0</td>\n",
       "      <td>0</td>\n",
       "      <td>0</td>\n",
       "      <td>0</td>\n",
       "      <td>0</td>\n",
       "      <td>0</td>\n",
       "      <td>0</td>\n",
       "      <td>0</td>\n",
       "      <td>0</td>\n",
       "      <td>0</td>\n",
       "      <td>1</td>\n",
       "      <td>0</td>\n",
       "      <td>0</td>\n",
       "      <td>0</td>\n",
       "      <td>0</td>\n",
       "      <td>0</td>\n",
       "      <td>0</td>\n",
       "      <td>0</td>\n",
       "      <td>1</td>\n",
       "      <td>0</td>\n",
       "      <td>0</td>\n",
       "      <td>0</td>\n",
       "      <td>0</td>\n",
       "      <td>0</td>\n",
       "      <td>0</td>\n",
       "    </tr>\n",
       "    <tr>\n",
       "      <th>3</th>\n",
       "      <td>10</td>\n",
       "      <td>1.0</td>\n",
       "      <td>1.0</td>\n",
       "      <td>0.0</td>\n",
       "      <td>0.0</td>\n",
       "      <td>0.0</td>\n",
       "      <td>11</td>\n",
       "      <td>1.0</td>\n",
       "      <td>102</td>\n",
       "      <td>603</td>\n",
       "      <td>4</td>\n",
       "      <td>1</td>\n",
       "      <td>0</td>\n",
       "      <td>0</td>\n",
       "      <td>0</td>\n",
       "      <td>0</td>\n",
       "      <td>0</td>\n",
       "      <td>0</td>\n",
       "      <td>0</td>\n",
       "      <td>0</td>\n",
       "      <td>0</td>\n",
       "      <td>0</td>\n",
       "      <td>1</td>\n",
       "      <td>0</td>\n",
       "      <td>0</td>\n",
       "      <td>0</td>\n",
       "      <td>0</td>\n",
       "      <td>0</td>\n",
       "      <td>0</td>\n",
       "      <td>0</td>\n",
       "      <td>1</td>\n",
       "      <td>0</td>\n",
       "      <td>0</td>\n",
       "      <td>0</td>\n",
       "      <td>0</td>\n",
       "      <td>0</td>\n",
       "      <td>0</td>\n",
       "    </tr>\n",
       "    <tr>\n",
       "      <th>4</th>\n",
       "      <td>11</td>\n",
       "      <td>1.0</td>\n",
       "      <td>1.0</td>\n",
       "      <td>0.0</td>\n",
       "      <td>0.0</td>\n",
       "      <td>0.0</td>\n",
       "      <td>12</td>\n",
       "      <td>1.0</td>\n",
       "      <td>184</td>\n",
       "      <td>453</td>\n",
       "      <td>3</td>\n",
       "      <td>1</td>\n",
       "      <td>0</td>\n",
       "      <td>0</td>\n",
       "      <td>0</td>\n",
       "      <td>0</td>\n",
       "      <td>0</td>\n",
       "      <td>0</td>\n",
       "      <td>0</td>\n",
       "      <td>0</td>\n",
       "      <td>0</td>\n",
       "      <td>0</td>\n",
       "      <td>1</td>\n",
       "      <td>0</td>\n",
       "      <td>0</td>\n",
       "      <td>0</td>\n",
       "      <td>0</td>\n",
       "      <td>0</td>\n",
       "      <td>0</td>\n",
       "      <td>0</td>\n",
       "      <td>1</td>\n",
       "      <td>0</td>\n",
       "      <td>0</td>\n",
       "      <td>0</td>\n",
       "      <td>0</td>\n",
       "      <td>0</td>\n",
       "      <td>0</td>\n",
       "    </tr>\n",
       "  </tbody>\n",
       "</table>\n",
       "</div>"
      ],
      "text/plain": [
       "   hr_departure  departure_day_of_month  fl_holiday  fl_holiday_d1  \\\n",
       "0             8                     1.0         1.0            0.0   \n",
       "1             8                     1.0         1.0            0.0   \n",
       "2             9                     1.0         1.0            0.0   \n",
       "3            10                     1.0         1.0            0.0   \n",
       "4            11                     1.0         1.0            0.0   \n",
       "\n",
       "   fl_holiday_d2  fl_holiday_d3  hr_arrival  arrival_day_of_month  \\\n",
       "0            0.0            0.0           8                   1.0   \n",
       "1            0.0            0.0           9                   1.0   \n",
       "2            0.0            0.0          10                   1.0   \n",
       "3            0.0            0.0          11                   1.0   \n",
       "4            0.0            0.0          12                   1.0   \n",
       "\n",
       "   n_seats_paid  n_seats_offered  frequency  departure_day_of_week_fri  \\\n",
       "0            69              138          1                          1   \n",
       "1           131              288          2                          1   \n",
       "2           111              426          3                          1   \n",
       "3           102              603          4                          1   \n",
       "4           184              453          3                          1   \n",
       "\n",
       "   departure_day_of_week_mon  departure_day_of_week_sat  \\\n",
       "0                          0                          0   \n",
       "1                          0                          0   \n",
       "2                          0                          0   \n",
       "3                          0                          0   \n",
       "4                          0                          0   \n",
       "\n",
       "   departure_day_of_week_sun  departure_day_of_week_thu  \\\n",
       "0                          0                          0   \n",
       "1                          0                          0   \n",
       "2                          0                          0   \n",
       "3                          0                          0   \n",
       "4                          0                          0   \n",
       "\n",
       "   departure_day_of_week_tue  departure_day_of_week_wed  departure_month_apr  \\\n",
       "0                          0                          0                    0   \n",
       "1                          0                          0                    0   \n",
       "2                          0                          0                    0   \n",
       "3                          0                          0                    0   \n",
       "4                          0                          0                    0   \n",
       "\n",
       "   departure_month_aug  departure_month_dec  departure_month_feb  \\\n",
       "0                    0                    0                    0   \n",
       "1                    0                    0                    0   \n",
       "2                    0                    0                    0   \n",
       "3                    0                    0                    0   \n",
       "4                    0                    0                    0   \n",
       "\n",
       "   departure_month_jan  departure_month_jul  departure_month_jun  \\\n",
       "0                    1                    0                    0   \n",
       "1                    1                    0                    0   \n",
       "2                    1                    0                    0   \n",
       "3                    1                    0                    0   \n",
       "4                    1                    0                    0   \n",
       "\n",
       "   departure_month_mar  departure_month_may  departure_month_nov  \\\n",
       "0                    0                    0                    0   \n",
       "1                    0                    0                    0   \n",
       "2                    0                    0                    0   \n",
       "3                    0                    0                    0   \n",
       "4                    0                    0                    0   \n",
       "\n",
       "   departure_month_oct  departure_month_sep  arrival_day_of_week_fri  \\\n",
       "0                    0                    0                        1   \n",
       "1                    0                    0                        1   \n",
       "2                    0                    0                        1   \n",
       "3                    0                    0                        1   \n",
       "4                    0                    0                        1   \n",
       "\n",
       "   arrival_day_of_week_mon  arrival_day_of_week_sat  arrival_day_of_week_sun  \\\n",
       "0                        0                        0                        0   \n",
       "1                        0                        0                        0   \n",
       "2                        0                        0                        0   \n",
       "3                        0                        0                        0   \n",
       "4                        0                        0                        0   \n",
       "\n",
       "   arrival_day_of_week_thu  arrival_day_of_week_tue  arrival_day_of_week_wed  \n",
       "0                        0                        0                        0  \n",
       "1                        0                        0                        0  \n",
       "2                        0                        0                        0  \n",
       "3                        0                        0                        0  \n",
       "4                        0                        0                        0  "
      ]
     },
     "execution_count": 25,
     "metadata": {},
     "output_type": "execute_result"
    }
   ],
   "source": [
    "df_sp_grouped.head()"
   ]
  },
  {
   "cell_type": "code",
   "execution_count": 26,
   "metadata": {
    "ExecuteTime": {
     "end_time": "2020-04-21T03:15:52.316216Z",
     "start_time": "2020-04-21T03:15:52.297561Z"
    }
   },
   "outputs": [],
   "source": [
    "X = df_sp_grouped.drop(['n_seats_paid'],axis=1)\n",
    "y = df_sp_grouped.n_seats_paid\n",
    "\n",
    "X_train, X_test, y_train, y_test = train_test_split(X, y, test_size=0.33, random_state=seed)"
   ]
  },
  {
   "cell_type": "code",
   "execution_count": 27,
   "metadata": {
    "ExecuteTime": {
     "end_time": "2020-04-21T03:15:52.348354Z",
     "start_time": "2020-04-21T03:15:52.321252Z"
    }
   },
   "outputs": [
    {
     "data": {
      "text/html": [
       "<div>\n",
       "<style scoped>\n",
       "    .dataframe tbody tr th:only-of-type {\n",
       "        vertical-align: middle;\n",
       "    }\n",
       "\n",
       "    .dataframe tbody tr th {\n",
       "        vertical-align: top;\n",
       "    }\n",
       "\n",
       "    .dataframe thead th {\n",
       "        text-align: right;\n",
       "    }\n",
       "</style>\n",
       "<table border=\"1\" class=\"dataframe\">\n",
       "  <thead>\n",
       "    <tr style=\"text-align: right;\">\n",
       "      <th></th>\n",
       "      <th>hr_departure</th>\n",
       "      <th>departure_day_of_month</th>\n",
       "      <th>fl_holiday</th>\n",
       "      <th>fl_holiday_d1</th>\n",
       "      <th>fl_holiday_d2</th>\n",
       "      <th>fl_holiday_d3</th>\n",
       "      <th>hr_arrival</th>\n",
       "      <th>arrival_day_of_month</th>\n",
       "      <th>n_seats_offered</th>\n",
       "      <th>frequency</th>\n",
       "      <th>departure_day_of_week_fri</th>\n",
       "      <th>departure_day_of_week_mon</th>\n",
       "      <th>departure_day_of_week_sat</th>\n",
       "      <th>departure_day_of_week_sun</th>\n",
       "      <th>departure_day_of_week_thu</th>\n",
       "      <th>departure_day_of_week_tue</th>\n",
       "      <th>departure_day_of_week_wed</th>\n",
       "      <th>departure_month_apr</th>\n",
       "      <th>departure_month_aug</th>\n",
       "      <th>departure_month_dec</th>\n",
       "      <th>departure_month_feb</th>\n",
       "      <th>departure_month_jan</th>\n",
       "      <th>departure_month_jul</th>\n",
       "      <th>departure_month_jun</th>\n",
       "      <th>departure_month_mar</th>\n",
       "      <th>departure_month_may</th>\n",
       "      <th>departure_month_nov</th>\n",
       "      <th>departure_month_oct</th>\n",
       "      <th>departure_month_sep</th>\n",
       "      <th>arrival_day_of_week_fri</th>\n",
       "      <th>arrival_day_of_week_mon</th>\n",
       "      <th>arrival_day_of_week_sat</th>\n",
       "      <th>arrival_day_of_week_sun</th>\n",
       "      <th>arrival_day_of_week_thu</th>\n",
       "      <th>arrival_day_of_week_tue</th>\n",
       "      <th>arrival_day_of_week_wed</th>\n",
       "    </tr>\n",
       "  </thead>\n",
       "  <tbody>\n",
       "    <tr>\n",
       "      <th>0</th>\n",
       "      <td>8</td>\n",
       "      <td>1.0</td>\n",
       "      <td>1.0</td>\n",
       "      <td>0.0</td>\n",
       "      <td>0.0</td>\n",
       "      <td>0.0</td>\n",
       "      <td>8</td>\n",
       "      <td>1.0</td>\n",
       "      <td>138</td>\n",
       "      <td>1</td>\n",
       "      <td>1</td>\n",
       "      <td>0</td>\n",
       "      <td>0</td>\n",
       "      <td>0</td>\n",
       "      <td>0</td>\n",
       "      <td>0</td>\n",
       "      <td>0</td>\n",
       "      <td>0</td>\n",
       "      <td>0</td>\n",
       "      <td>0</td>\n",
       "      <td>0</td>\n",
       "      <td>1</td>\n",
       "      <td>0</td>\n",
       "      <td>0</td>\n",
       "      <td>0</td>\n",
       "      <td>0</td>\n",
       "      <td>0</td>\n",
       "      <td>0</td>\n",
       "      <td>0</td>\n",
       "      <td>1</td>\n",
       "      <td>0</td>\n",
       "      <td>0</td>\n",
       "      <td>0</td>\n",
       "      <td>0</td>\n",
       "      <td>0</td>\n",
       "      <td>0</td>\n",
       "    </tr>\n",
       "    <tr>\n",
       "      <th>1</th>\n",
       "      <td>8</td>\n",
       "      <td>1.0</td>\n",
       "      <td>1.0</td>\n",
       "      <td>0.0</td>\n",
       "      <td>0.0</td>\n",
       "      <td>0.0</td>\n",
       "      <td>9</td>\n",
       "      <td>1.0</td>\n",
       "      <td>288</td>\n",
       "      <td>2</td>\n",
       "      <td>1</td>\n",
       "      <td>0</td>\n",
       "      <td>0</td>\n",
       "      <td>0</td>\n",
       "      <td>0</td>\n",
       "      <td>0</td>\n",
       "      <td>0</td>\n",
       "      <td>0</td>\n",
       "      <td>0</td>\n",
       "      <td>0</td>\n",
       "      <td>0</td>\n",
       "      <td>1</td>\n",
       "      <td>0</td>\n",
       "      <td>0</td>\n",
       "      <td>0</td>\n",
       "      <td>0</td>\n",
       "      <td>0</td>\n",
       "      <td>0</td>\n",
       "      <td>0</td>\n",
       "      <td>1</td>\n",
       "      <td>0</td>\n",
       "      <td>0</td>\n",
       "      <td>0</td>\n",
       "      <td>0</td>\n",
       "      <td>0</td>\n",
       "      <td>0</td>\n",
       "    </tr>\n",
       "    <tr>\n",
       "      <th>2</th>\n",
       "      <td>9</td>\n",
       "      <td>1.0</td>\n",
       "      <td>1.0</td>\n",
       "      <td>0.0</td>\n",
       "      <td>0.0</td>\n",
       "      <td>0.0</td>\n",
       "      <td>10</td>\n",
       "      <td>1.0</td>\n",
       "      <td>426</td>\n",
       "      <td>3</td>\n",
       "      <td>1</td>\n",
       "      <td>0</td>\n",
       "      <td>0</td>\n",
       "      <td>0</td>\n",
       "      <td>0</td>\n",
       "      <td>0</td>\n",
       "      <td>0</td>\n",
       "      <td>0</td>\n",
       "      <td>0</td>\n",
       "      <td>0</td>\n",
       "      <td>0</td>\n",
       "      <td>1</td>\n",
       "      <td>0</td>\n",
       "      <td>0</td>\n",
       "      <td>0</td>\n",
       "      <td>0</td>\n",
       "      <td>0</td>\n",
       "      <td>0</td>\n",
       "      <td>0</td>\n",
       "      <td>1</td>\n",
       "      <td>0</td>\n",
       "      <td>0</td>\n",
       "      <td>0</td>\n",
       "      <td>0</td>\n",
       "      <td>0</td>\n",
       "      <td>0</td>\n",
       "    </tr>\n",
       "    <tr>\n",
       "      <th>3</th>\n",
       "      <td>10</td>\n",
       "      <td>1.0</td>\n",
       "      <td>1.0</td>\n",
       "      <td>0.0</td>\n",
       "      <td>0.0</td>\n",
       "      <td>0.0</td>\n",
       "      <td>11</td>\n",
       "      <td>1.0</td>\n",
       "      <td>603</td>\n",
       "      <td>4</td>\n",
       "      <td>1</td>\n",
       "      <td>0</td>\n",
       "      <td>0</td>\n",
       "      <td>0</td>\n",
       "      <td>0</td>\n",
       "      <td>0</td>\n",
       "      <td>0</td>\n",
       "      <td>0</td>\n",
       "      <td>0</td>\n",
       "      <td>0</td>\n",
       "      <td>0</td>\n",
       "      <td>1</td>\n",
       "      <td>0</td>\n",
       "      <td>0</td>\n",
       "      <td>0</td>\n",
       "      <td>0</td>\n",
       "      <td>0</td>\n",
       "      <td>0</td>\n",
       "      <td>0</td>\n",
       "      <td>1</td>\n",
       "      <td>0</td>\n",
       "      <td>0</td>\n",
       "      <td>0</td>\n",
       "      <td>0</td>\n",
       "      <td>0</td>\n",
       "      <td>0</td>\n",
       "    </tr>\n",
       "    <tr>\n",
       "      <th>4</th>\n",
       "      <td>11</td>\n",
       "      <td>1.0</td>\n",
       "      <td>1.0</td>\n",
       "      <td>0.0</td>\n",
       "      <td>0.0</td>\n",
       "      <td>0.0</td>\n",
       "      <td>12</td>\n",
       "      <td>1.0</td>\n",
       "      <td>453</td>\n",
       "      <td>3</td>\n",
       "      <td>1</td>\n",
       "      <td>0</td>\n",
       "      <td>0</td>\n",
       "      <td>0</td>\n",
       "      <td>0</td>\n",
       "      <td>0</td>\n",
       "      <td>0</td>\n",
       "      <td>0</td>\n",
       "      <td>0</td>\n",
       "      <td>0</td>\n",
       "      <td>0</td>\n",
       "      <td>1</td>\n",
       "      <td>0</td>\n",
       "      <td>0</td>\n",
       "      <td>0</td>\n",
       "      <td>0</td>\n",
       "      <td>0</td>\n",
       "      <td>0</td>\n",
       "      <td>0</td>\n",
       "      <td>1</td>\n",
       "      <td>0</td>\n",
       "      <td>0</td>\n",
       "      <td>0</td>\n",
       "      <td>0</td>\n",
       "      <td>0</td>\n",
       "      <td>0</td>\n",
       "    </tr>\n",
       "  </tbody>\n",
       "</table>\n",
       "</div>"
      ],
      "text/plain": [
       "   hr_departure  departure_day_of_month  fl_holiday  fl_holiday_d1  \\\n",
       "0             8                     1.0         1.0            0.0   \n",
       "1             8                     1.0         1.0            0.0   \n",
       "2             9                     1.0         1.0            0.0   \n",
       "3            10                     1.0         1.0            0.0   \n",
       "4            11                     1.0         1.0            0.0   \n",
       "\n",
       "   fl_holiday_d2  fl_holiday_d3  hr_arrival  arrival_day_of_month  \\\n",
       "0            0.0            0.0           8                   1.0   \n",
       "1            0.0            0.0           9                   1.0   \n",
       "2            0.0            0.0          10                   1.0   \n",
       "3            0.0            0.0          11                   1.0   \n",
       "4            0.0            0.0          12                   1.0   \n",
       "\n",
       "   n_seats_offered  frequency  departure_day_of_week_fri  \\\n",
       "0              138          1                          1   \n",
       "1              288          2                          1   \n",
       "2              426          3                          1   \n",
       "3              603          4                          1   \n",
       "4              453          3                          1   \n",
       "\n",
       "   departure_day_of_week_mon  departure_day_of_week_sat  \\\n",
       "0                          0                          0   \n",
       "1                          0                          0   \n",
       "2                          0                          0   \n",
       "3                          0                          0   \n",
       "4                          0                          0   \n",
       "\n",
       "   departure_day_of_week_sun  departure_day_of_week_thu  \\\n",
       "0                          0                          0   \n",
       "1                          0                          0   \n",
       "2                          0                          0   \n",
       "3                          0                          0   \n",
       "4                          0                          0   \n",
       "\n",
       "   departure_day_of_week_tue  departure_day_of_week_wed  departure_month_apr  \\\n",
       "0                          0                          0                    0   \n",
       "1                          0                          0                    0   \n",
       "2                          0                          0                    0   \n",
       "3                          0                          0                    0   \n",
       "4                          0                          0                    0   \n",
       "\n",
       "   departure_month_aug  departure_month_dec  departure_month_feb  \\\n",
       "0                    0                    0                    0   \n",
       "1                    0                    0                    0   \n",
       "2                    0                    0                    0   \n",
       "3                    0                    0                    0   \n",
       "4                    0                    0                    0   \n",
       "\n",
       "   departure_month_jan  departure_month_jul  departure_month_jun  \\\n",
       "0                    1                    0                    0   \n",
       "1                    1                    0                    0   \n",
       "2                    1                    0                    0   \n",
       "3                    1                    0                    0   \n",
       "4                    1                    0                    0   \n",
       "\n",
       "   departure_month_mar  departure_month_may  departure_month_nov  \\\n",
       "0                    0                    0                    0   \n",
       "1                    0                    0                    0   \n",
       "2                    0                    0                    0   \n",
       "3                    0                    0                    0   \n",
       "4                    0                    0                    0   \n",
       "\n",
       "   departure_month_oct  departure_month_sep  arrival_day_of_week_fri  \\\n",
       "0                    0                    0                        1   \n",
       "1                    0                    0                        1   \n",
       "2                    0                    0                        1   \n",
       "3                    0                    0                        1   \n",
       "4                    0                    0                        1   \n",
       "\n",
       "   arrival_day_of_week_mon  arrival_day_of_week_sat  arrival_day_of_week_sun  \\\n",
       "0                        0                        0                        0   \n",
       "1                        0                        0                        0   \n",
       "2                        0                        0                        0   \n",
       "3                        0                        0                        0   \n",
       "4                        0                        0                        0   \n",
       "\n",
       "   arrival_day_of_week_thu  arrival_day_of_week_tue  arrival_day_of_week_wed  \n",
       "0                        0                        0                        0  \n",
       "1                        0                        0                        0  \n",
       "2                        0                        0                        0  \n",
       "3                        0                        0                        0  \n",
       "4                        0                        0                        0  "
      ]
     },
     "execution_count": 27,
     "metadata": {},
     "output_type": "execute_result"
    }
   ],
   "source": [
    "X.head()"
   ]
  },
  {
   "cell_type": "markdown",
   "metadata": {},
   "source": [
    "## Random Forests"
   ]
  },
  {
   "cell_type": "markdown",
   "metadata": {},
   "source": [
    "### Random Search"
   ]
  },
  {
   "cell_type": "code",
   "execution_count": 28,
   "metadata": {
    "ExecuteTime": {
     "end_time": "2020-04-21T05:09:50.848390Z",
     "start_time": "2020-04-21T03:15:52.352021Z"
    }
   },
   "outputs": [
    {
     "name": "stdout",
     "output_type": "stream",
     "text": [
      "Fitting 3 folds for each of 100 candidates, totalling 300 fits\n"
     ]
    },
    {
     "name": "stderr",
     "output_type": "stream",
     "text": [
      "[Parallel(n_jobs=-1)]: Using backend LokyBackend with 4 concurrent workers.\n",
      "A worker stopped while some jobs were given to the executor. This can be caused by a too short worker timeout or by a memory leak.\n",
      "[Parallel(n_jobs=-1)]: Done  33 tasks      | elapsed: 12.0min\n",
      "[Parallel(n_jobs=-1)]: Done 154 tasks      | elapsed: 53.1min\n",
      "[Parallel(n_jobs=-1)]: Done 300 out of 300 | elapsed: 113.1min finished\n"
     ]
    },
    {
     "name": "stdout",
     "output_type": "stream",
     "text": [
      "{'n_estimators': 2000, 'min_samples_split': 2, 'min_samples_leaf': 1, 'max_features': 'sqrt', 'max_depth': 60, 'bootstrap': True}\n"
     ]
    }
   ],
   "source": [
    "if training:\n",
    "\n",
    "    rf = RandomForestRegressor(random_state=seed, n_jobs=-1)\n",
    "    random_grid = {'bootstrap': [True, False],\n",
    "                   'max_depth': [10, 20, 30, 40, 50, 60, 70, 80, 90, 100, None],\n",
    "                   'max_features': ['auto', 'sqrt'],\n",
    "                   'min_samples_leaf': [1, 2, 4],\n",
    "                   'min_samples_split': [2, 5, 10],\n",
    "                   'n_estimators': [200, 400, 600, 800, 1000, 1200, 1400, 1600, 1800, 2000]}\n",
    "    \n",
    "    \n",
    "    random_grid = RandomizedSearchCV(estimator = rf, param_distributions = random_grid, n_iter = 100, cv = 3, verbose=2, random_state=seed, n_jobs = -1)\n",
    "    \n",
    "    # Fit the random search model\n",
    "    random_grid.fit(X_train, y_train)\n",
    "    \n",
    "    print(random_grid.best_params_)\n",
    "    \n",
    "    rand_reg = random_grid.best_estimator_.fit(X_train, y_train)"
   ]
  },
  {
   "cell_type": "code",
   "execution_count": 29,
   "metadata": {
    "ExecuteTime": {
     "end_time": "2020-04-21T05:10:12.816728Z",
     "start_time": "2020-04-21T05:09:50.850667Z"
    }
   },
   "outputs": [
    {
     "name": "stdout",
     "output_type": "stream",
     "text": [
      "train MAE: 13.62\n",
      "test MAE: 37.69\n",
      "train MAPE: 7.24%\n",
      "test MAPE: 20.34%\n",
      "train RMSE: 19.37\n",
      "test RMSE: 53.41\n"
     ]
    }
   ],
   "source": [
    "print(\"train MAE: {:.2f}\".format(mean_absolute_error(y_train,rand_reg.predict(X_train))))\n",
    "print(\"test MAE: {:.2f}\".format(mean_absolute_error(y_test,rand_reg.predict(X_test))))\n",
    "print(\"train MAPE: {:.2f}%\".format(MAPE(y_train, rand_reg.predict(X_train))))\n",
    "print(\"test MAPE: {:.2f}%\".format(MAPE(y_test, rand_reg.predict(X_test))))\n",
    "print(\"train RMSE: {:.2f}\".format(mean_squared_error(y_train, rand_reg.predict(X_train))**0.5))\n",
    "print(\"test RMSE: {:.2f}\".format(mean_squared_error(y_test, rand_reg.predict(X_test))**0.5))"
   ]
  },
  {
   "cell_type": "markdown",
   "metadata": {},
   "source": [
    "### Grid Search"
   ]
  },
  {
   "cell_type": "code",
   "execution_count": 30,
   "metadata": {
    "ExecuteTime": {
     "end_time": "2020-04-21T05:10:39.526871Z",
     "start_time": "2020-04-21T05:10:12.823058Z"
    }
   },
   "outputs": [
    {
     "ename": "KeyboardInterrupt",
     "evalue": "",
     "output_type": "error",
     "traceback": [
      "\u001b[0;31m---------------------------------------------------------------------------\u001b[0m",
      "\u001b[0;31mKeyboardInterrupt\u001b[0m                         Traceback (most recent call last)",
      "\u001b[0;32m<ipython-input-30-c6120cf234ff>\u001b[0m in \u001b[0;36m<module>\u001b[0;34m\u001b[0m\n\u001b[1;32m     10\u001b[0m                   'bootstrap': [True]}\n\u001b[1;32m     11\u001b[0m \u001b[0;34m\u001b[0m\u001b[0m\n\u001b[0;32m---> 12\u001b[0;31m     \u001b[0mgrid\u001b[0m \u001b[0;34m=\u001b[0m \u001b[0mGridSearchCV\u001b[0m\u001b[0;34m(\u001b[0m\u001b[0mrf\u001b[0m\u001b[0;34m,\u001b[0m \u001b[0mparam_grid\u001b[0m\u001b[0;34m=\u001b[0m\u001b[0mparam_grid\u001b[0m\u001b[0;34m,\u001b[0m \u001b[0mcv\u001b[0m\u001b[0;34m=\u001b[0m\u001b[0;36m5\u001b[0m\u001b[0;34m,\u001b[0m\u001b[0mreturn_train_score\u001b[0m \u001b[0;34m=\u001b[0m \u001b[0;32mTrue\u001b[0m\u001b[0;34m,\u001b[0m\u001b[0mscoring\u001b[0m \u001b[0;34m=\u001b[0m \u001b[0;34m'neg_mean_absolute_error'\u001b[0m\u001b[0;34m)\u001b[0m\u001b[0;34m.\u001b[0m\u001b[0mfit\u001b[0m\u001b[0;34m(\u001b[0m\u001b[0mX_train\u001b[0m\u001b[0;34m,\u001b[0m \u001b[0my_train\u001b[0m\u001b[0;34m)\u001b[0m\u001b[0;34m\u001b[0m\u001b[0;34m\u001b[0m\u001b[0m\n\u001b[0m\u001b[1;32m     13\u001b[0m \u001b[0;34m\u001b[0m\u001b[0m\n\u001b[1;32m     14\u001b[0m     \u001b[0;31m#neg_root_mean_squared_error\u001b[0m\u001b[0;34m\u001b[0m\u001b[0;34m\u001b[0m\u001b[0;34m\u001b[0m\u001b[0m\n",
      "\u001b[0;32m~/.local/lib/python3.6/site-packages/sklearn/model_selection/_search.py\u001b[0m in \u001b[0;36mfit\u001b[0;34m(self, X, y, groups, **fit_params)\u001b[0m\n\u001b[1;32m    685\u001b[0m                 \u001b[0;32mreturn\u001b[0m \u001b[0mresults\u001b[0m\u001b[0;34m\u001b[0m\u001b[0;34m\u001b[0m\u001b[0m\n\u001b[1;32m    686\u001b[0m \u001b[0;34m\u001b[0m\u001b[0m\n\u001b[0;32m--> 687\u001b[0;31m             \u001b[0mself\u001b[0m\u001b[0;34m.\u001b[0m\u001b[0m_run_search\u001b[0m\u001b[0;34m(\u001b[0m\u001b[0mevaluate_candidates\u001b[0m\u001b[0;34m)\u001b[0m\u001b[0;34m\u001b[0m\u001b[0;34m\u001b[0m\u001b[0m\n\u001b[0m\u001b[1;32m    688\u001b[0m \u001b[0;34m\u001b[0m\u001b[0m\n\u001b[1;32m    689\u001b[0m         \u001b[0;31m# For multi-metric evaluation, store the best_index_, best_params_ and\u001b[0m\u001b[0;34m\u001b[0m\u001b[0;34m\u001b[0m\u001b[0;34m\u001b[0m\u001b[0m\n",
      "\u001b[0;32m~/.local/lib/python3.6/site-packages/sklearn/model_selection/_search.py\u001b[0m in \u001b[0;36m_run_search\u001b[0;34m(self, evaluate_candidates)\u001b[0m\n\u001b[1;32m   1146\u001b[0m     \u001b[0;32mdef\u001b[0m \u001b[0m_run_search\u001b[0m\u001b[0;34m(\u001b[0m\u001b[0mself\u001b[0m\u001b[0;34m,\u001b[0m \u001b[0mevaluate_candidates\u001b[0m\u001b[0;34m)\u001b[0m\u001b[0;34m:\u001b[0m\u001b[0;34m\u001b[0m\u001b[0;34m\u001b[0m\u001b[0m\n\u001b[1;32m   1147\u001b[0m         \u001b[0;34m\"\"\"Search all candidates in param_grid\"\"\"\u001b[0m\u001b[0;34m\u001b[0m\u001b[0;34m\u001b[0m\u001b[0m\n\u001b[0;32m-> 1148\u001b[0;31m         \u001b[0mevaluate_candidates\u001b[0m\u001b[0;34m(\u001b[0m\u001b[0mParameterGrid\u001b[0m\u001b[0;34m(\u001b[0m\u001b[0mself\u001b[0m\u001b[0;34m.\u001b[0m\u001b[0mparam_grid\u001b[0m\u001b[0;34m)\u001b[0m\u001b[0;34m)\u001b[0m\u001b[0;34m\u001b[0m\u001b[0;34m\u001b[0m\u001b[0m\n\u001b[0m\u001b[1;32m   1149\u001b[0m \u001b[0;34m\u001b[0m\u001b[0m\n\u001b[1;32m   1150\u001b[0m \u001b[0;34m\u001b[0m\u001b[0m\n",
      "\u001b[0;32m~/.local/lib/python3.6/site-packages/sklearn/model_selection/_search.py\u001b[0m in \u001b[0;36mevaluate_candidates\u001b[0;34m(candidate_params)\u001b[0m\n\u001b[1;32m    664\u001b[0m                                \u001b[0;32mfor\u001b[0m \u001b[0mparameters\u001b[0m\u001b[0;34m,\u001b[0m \u001b[0;34m(\u001b[0m\u001b[0mtrain\u001b[0m\u001b[0;34m,\u001b[0m \u001b[0mtest\u001b[0m\u001b[0;34m)\u001b[0m\u001b[0;34m\u001b[0m\u001b[0;34m\u001b[0m\u001b[0m\n\u001b[1;32m    665\u001b[0m                                in product(candidate_params,\n\u001b[0;32m--> 666\u001b[0;31m                                           cv.split(X, y, groups)))\n\u001b[0m\u001b[1;32m    667\u001b[0m \u001b[0;34m\u001b[0m\u001b[0m\n\u001b[1;32m    668\u001b[0m                 \u001b[0;32mif\u001b[0m \u001b[0mlen\u001b[0m\u001b[0;34m(\u001b[0m\u001b[0mout\u001b[0m\u001b[0;34m)\u001b[0m \u001b[0;34m<\u001b[0m \u001b[0;36m1\u001b[0m\u001b[0;34m:\u001b[0m\u001b[0;34m\u001b[0m\u001b[0;34m\u001b[0m\u001b[0m\n",
      "\u001b[0;32m~/.local/lib/python3.6/site-packages/joblib/parallel.py\u001b[0m in \u001b[0;36m__call__\u001b[0;34m(self, iterable)\u001b[0m\n\u001b[1;32m    919\u001b[0m             \u001b[0;31m# remaining jobs.\u001b[0m\u001b[0;34m\u001b[0m\u001b[0;34m\u001b[0m\u001b[0;34m\u001b[0m\u001b[0m\n\u001b[1;32m    920\u001b[0m             \u001b[0mself\u001b[0m\u001b[0;34m.\u001b[0m\u001b[0m_iterating\u001b[0m \u001b[0;34m=\u001b[0m \u001b[0;32mFalse\u001b[0m\u001b[0;34m\u001b[0m\u001b[0;34m\u001b[0m\u001b[0m\n\u001b[0;32m--> 921\u001b[0;31m             \u001b[0;32mif\u001b[0m \u001b[0mself\u001b[0m\u001b[0;34m.\u001b[0m\u001b[0mdispatch_one_batch\u001b[0m\u001b[0;34m(\u001b[0m\u001b[0miterator\u001b[0m\u001b[0;34m)\u001b[0m\u001b[0;34m:\u001b[0m\u001b[0;34m\u001b[0m\u001b[0;34m\u001b[0m\u001b[0m\n\u001b[0m\u001b[1;32m    922\u001b[0m                 \u001b[0mself\u001b[0m\u001b[0;34m.\u001b[0m\u001b[0m_iterating\u001b[0m \u001b[0;34m=\u001b[0m \u001b[0mself\u001b[0m\u001b[0;34m.\u001b[0m\u001b[0m_original_iterator\u001b[0m \u001b[0;32mis\u001b[0m \u001b[0;32mnot\u001b[0m \u001b[0;32mNone\u001b[0m\u001b[0;34m\u001b[0m\u001b[0;34m\u001b[0m\u001b[0m\n\u001b[1;32m    923\u001b[0m \u001b[0;34m\u001b[0m\u001b[0m\n",
      "\u001b[0;32m~/.local/lib/python3.6/site-packages/joblib/parallel.py\u001b[0m in \u001b[0;36mdispatch_one_batch\u001b[0;34m(self, iterator)\u001b[0m\n\u001b[1;32m    757\u001b[0m                 \u001b[0;32mreturn\u001b[0m \u001b[0;32mFalse\u001b[0m\u001b[0;34m\u001b[0m\u001b[0;34m\u001b[0m\u001b[0m\n\u001b[1;32m    758\u001b[0m             \u001b[0;32melse\u001b[0m\u001b[0;34m:\u001b[0m\u001b[0;34m\u001b[0m\u001b[0;34m\u001b[0m\u001b[0m\n\u001b[0;32m--> 759\u001b[0;31m                 \u001b[0mself\u001b[0m\u001b[0;34m.\u001b[0m\u001b[0m_dispatch\u001b[0m\u001b[0;34m(\u001b[0m\u001b[0mtasks\u001b[0m\u001b[0;34m)\u001b[0m\u001b[0;34m\u001b[0m\u001b[0;34m\u001b[0m\u001b[0m\n\u001b[0m\u001b[1;32m    760\u001b[0m                 \u001b[0;32mreturn\u001b[0m \u001b[0;32mTrue\u001b[0m\u001b[0;34m\u001b[0m\u001b[0;34m\u001b[0m\u001b[0m\n\u001b[1;32m    761\u001b[0m \u001b[0;34m\u001b[0m\u001b[0m\n",
      "\u001b[0;32m~/.local/lib/python3.6/site-packages/joblib/parallel.py\u001b[0m in \u001b[0;36m_dispatch\u001b[0;34m(self, batch)\u001b[0m\n\u001b[1;32m    714\u001b[0m         \u001b[0;32mwith\u001b[0m \u001b[0mself\u001b[0m\u001b[0;34m.\u001b[0m\u001b[0m_lock\u001b[0m\u001b[0;34m:\u001b[0m\u001b[0;34m\u001b[0m\u001b[0;34m\u001b[0m\u001b[0m\n\u001b[1;32m    715\u001b[0m             \u001b[0mjob_idx\u001b[0m \u001b[0;34m=\u001b[0m \u001b[0mlen\u001b[0m\u001b[0;34m(\u001b[0m\u001b[0mself\u001b[0m\u001b[0;34m.\u001b[0m\u001b[0m_jobs\u001b[0m\u001b[0;34m)\u001b[0m\u001b[0;34m\u001b[0m\u001b[0;34m\u001b[0m\u001b[0m\n\u001b[0;32m--> 716\u001b[0;31m             \u001b[0mjob\u001b[0m \u001b[0;34m=\u001b[0m \u001b[0mself\u001b[0m\u001b[0;34m.\u001b[0m\u001b[0m_backend\u001b[0m\u001b[0;34m.\u001b[0m\u001b[0mapply_async\u001b[0m\u001b[0;34m(\u001b[0m\u001b[0mbatch\u001b[0m\u001b[0;34m,\u001b[0m \u001b[0mcallback\u001b[0m\u001b[0;34m=\u001b[0m\u001b[0mcb\u001b[0m\u001b[0;34m)\u001b[0m\u001b[0;34m\u001b[0m\u001b[0;34m\u001b[0m\u001b[0m\n\u001b[0m\u001b[1;32m    717\u001b[0m             \u001b[0;31m# A job can complete so quickly than its callback is\u001b[0m\u001b[0;34m\u001b[0m\u001b[0;34m\u001b[0m\u001b[0;34m\u001b[0m\u001b[0m\n\u001b[1;32m    718\u001b[0m             \u001b[0;31m# called before we get here, causing self._jobs to\u001b[0m\u001b[0;34m\u001b[0m\u001b[0;34m\u001b[0m\u001b[0;34m\u001b[0m\u001b[0m\n",
      "\u001b[0;32m~/.local/lib/python3.6/site-packages/joblib/_parallel_backends.py\u001b[0m in \u001b[0;36mapply_async\u001b[0;34m(self, func, callback)\u001b[0m\n\u001b[1;32m    180\u001b[0m     \u001b[0;32mdef\u001b[0m \u001b[0mapply_async\u001b[0m\u001b[0;34m(\u001b[0m\u001b[0mself\u001b[0m\u001b[0;34m,\u001b[0m \u001b[0mfunc\u001b[0m\u001b[0;34m,\u001b[0m \u001b[0mcallback\u001b[0m\u001b[0;34m=\u001b[0m\u001b[0;32mNone\u001b[0m\u001b[0;34m)\u001b[0m\u001b[0;34m:\u001b[0m\u001b[0;34m\u001b[0m\u001b[0;34m\u001b[0m\u001b[0m\n\u001b[1;32m    181\u001b[0m         \u001b[0;34m\"\"\"Schedule a func to be run\"\"\"\u001b[0m\u001b[0;34m\u001b[0m\u001b[0;34m\u001b[0m\u001b[0m\n\u001b[0;32m--> 182\u001b[0;31m         \u001b[0mresult\u001b[0m \u001b[0;34m=\u001b[0m \u001b[0mImmediateResult\u001b[0m\u001b[0;34m(\u001b[0m\u001b[0mfunc\u001b[0m\u001b[0;34m)\u001b[0m\u001b[0;34m\u001b[0m\u001b[0;34m\u001b[0m\u001b[0m\n\u001b[0m\u001b[1;32m    183\u001b[0m         \u001b[0;32mif\u001b[0m \u001b[0mcallback\u001b[0m\u001b[0;34m:\u001b[0m\u001b[0;34m\u001b[0m\u001b[0;34m\u001b[0m\u001b[0m\n\u001b[1;32m    184\u001b[0m             \u001b[0mcallback\u001b[0m\u001b[0;34m(\u001b[0m\u001b[0mresult\u001b[0m\u001b[0;34m)\u001b[0m\u001b[0;34m\u001b[0m\u001b[0;34m\u001b[0m\u001b[0m\n",
      "\u001b[0;32m~/.local/lib/python3.6/site-packages/joblib/_parallel_backends.py\u001b[0m in \u001b[0;36m__init__\u001b[0;34m(self, batch)\u001b[0m\n\u001b[1;32m    547\u001b[0m         \u001b[0;31m# Don't delay the application, to avoid keeping the input\u001b[0m\u001b[0;34m\u001b[0m\u001b[0;34m\u001b[0m\u001b[0;34m\u001b[0m\u001b[0m\n\u001b[1;32m    548\u001b[0m         \u001b[0;31m# arguments in memory\u001b[0m\u001b[0;34m\u001b[0m\u001b[0;34m\u001b[0m\u001b[0;34m\u001b[0m\u001b[0m\n\u001b[0;32m--> 549\u001b[0;31m         \u001b[0mself\u001b[0m\u001b[0;34m.\u001b[0m\u001b[0mresults\u001b[0m \u001b[0;34m=\u001b[0m \u001b[0mbatch\u001b[0m\u001b[0;34m(\u001b[0m\u001b[0;34m)\u001b[0m\u001b[0;34m\u001b[0m\u001b[0;34m\u001b[0m\u001b[0m\n\u001b[0m\u001b[1;32m    550\u001b[0m \u001b[0;34m\u001b[0m\u001b[0m\n\u001b[1;32m    551\u001b[0m     \u001b[0;32mdef\u001b[0m \u001b[0mget\u001b[0m\u001b[0;34m(\u001b[0m\u001b[0mself\u001b[0m\u001b[0;34m)\u001b[0m\u001b[0;34m:\u001b[0m\u001b[0;34m\u001b[0m\u001b[0;34m\u001b[0m\u001b[0m\n",
      "\u001b[0;32m~/.local/lib/python3.6/site-packages/joblib/parallel.py\u001b[0m in \u001b[0;36m__call__\u001b[0;34m(self)\u001b[0m\n\u001b[1;32m    223\u001b[0m         \u001b[0;32mwith\u001b[0m \u001b[0mparallel_backend\u001b[0m\u001b[0;34m(\u001b[0m\u001b[0mself\u001b[0m\u001b[0;34m.\u001b[0m\u001b[0m_backend\u001b[0m\u001b[0;34m,\u001b[0m \u001b[0mn_jobs\u001b[0m\u001b[0;34m=\u001b[0m\u001b[0mself\u001b[0m\u001b[0;34m.\u001b[0m\u001b[0m_n_jobs\u001b[0m\u001b[0;34m)\u001b[0m\u001b[0;34m:\u001b[0m\u001b[0;34m\u001b[0m\u001b[0;34m\u001b[0m\u001b[0m\n\u001b[1;32m    224\u001b[0m             return [func(*args, **kwargs)\n\u001b[0;32m--> 225\u001b[0;31m                     for func, args, kwargs in self.items]\n\u001b[0m\u001b[1;32m    226\u001b[0m \u001b[0;34m\u001b[0m\u001b[0m\n\u001b[1;32m    227\u001b[0m     \u001b[0;32mdef\u001b[0m \u001b[0m__len__\u001b[0m\u001b[0;34m(\u001b[0m\u001b[0mself\u001b[0m\u001b[0;34m)\u001b[0m\u001b[0;34m:\u001b[0m\u001b[0;34m\u001b[0m\u001b[0;34m\u001b[0m\u001b[0m\n",
      "\u001b[0;32m~/.local/lib/python3.6/site-packages/joblib/parallel.py\u001b[0m in \u001b[0;36m<listcomp>\u001b[0;34m(.0)\u001b[0m\n\u001b[1;32m    223\u001b[0m         \u001b[0;32mwith\u001b[0m \u001b[0mparallel_backend\u001b[0m\u001b[0;34m(\u001b[0m\u001b[0mself\u001b[0m\u001b[0;34m.\u001b[0m\u001b[0m_backend\u001b[0m\u001b[0;34m,\u001b[0m \u001b[0mn_jobs\u001b[0m\u001b[0;34m=\u001b[0m\u001b[0mself\u001b[0m\u001b[0;34m.\u001b[0m\u001b[0m_n_jobs\u001b[0m\u001b[0;34m)\u001b[0m\u001b[0;34m:\u001b[0m\u001b[0;34m\u001b[0m\u001b[0;34m\u001b[0m\u001b[0m\n\u001b[1;32m    224\u001b[0m             return [func(*args, **kwargs)\n\u001b[0;32m--> 225\u001b[0;31m                     for func, args, kwargs in self.items]\n\u001b[0m\u001b[1;32m    226\u001b[0m \u001b[0;34m\u001b[0m\u001b[0m\n\u001b[1;32m    227\u001b[0m     \u001b[0;32mdef\u001b[0m \u001b[0m__len__\u001b[0m\u001b[0;34m(\u001b[0m\u001b[0mself\u001b[0m\u001b[0;34m)\u001b[0m\u001b[0;34m:\u001b[0m\u001b[0;34m\u001b[0m\u001b[0;34m\u001b[0m\u001b[0m\n",
      "\u001b[0;32m~/.local/lib/python3.6/site-packages/sklearn/model_selection/_validation.py\u001b[0m in \u001b[0;36m_fit_and_score\u001b[0;34m(estimator, X, y, scorer, train, test, verbose, parameters, fit_params, return_train_score, return_parameters, return_n_test_samples, return_times, return_estimator, error_score)\u001b[0m\n\u001b[1;32m    552\u001b[0m         \u001b[0mfit_time\u001b[0m \u001b[0;34m=\u001b[0m \u001b[0mtime\u001b[0m\u001b[0;34m.\u001b[0m\u001b[0mtime\u001b[0m\u001b[0;34m(\u001b[0m\u001b[0;34m)\u001b[0m \u001b[0;34m-\u001b[0m \u001b[0mstart_time\u001b[0m\u001b[0;34m\u001b[0m\u001b[0;34m\u001b[0m\u001b[0m\n\u001b[1;32m    553\u001b[0m         \u001b[0;31m# _score will return dict if is_multimetric is True\u001b[0m\u001b[0;34m\u001b[0m\u001b[0;34m\u001b[0m\u001b[0;34m\u001b[0m\u001b[0m\n\u001b[0;32m--> 554\u001b[0;31m         \u001b[0mtest_scores\u001b[0m \u001b[0;34m=\u001b[0m \u001b[0m_score\u001b[0m\u001b[0;34m(\u001b[0m\u001b[0mestimator\u001b[0m\u001b[0;34m,\u001b[0m \u001b[0mX_test\u001b[0m\u001b[0;34m,\u001b[0m \u001b[0my_test\u001b[0m\u001b[0;34m,\u001b[0m \u001b[0mscorer\u001b[0m\u001b[0;34m,\u001b[0m \u001b[0mis_multimetric\u001b[0m\u001b[0;34m)\u001b[0m\u001b[0;34m\u001b[0m\u001b[0;34m\u001b[0m\u001b[0m\n\u001b[0m\u001b[1;32m    555\u001b[0m         \u001b[0mscore_time\u001b[0m \u001b[0;34m=\u001b[0m \u001b[0mtime\u001b[0m\u001b[0;34m.\u001b[0m\u001b[0mtime\u001b[0m\u001b[0;34m(\u001b[0m\u001b[0;34m)\u001b[0m \u001b[0;34m-\u001b[0m \u001b[0mstart_time\u001b[0m \u001b[0;34m-\u001b[0m \u001b[0mfit_time\u001b[0m\u001b[0;34m\u001b[0m\u001b[0;34m\u001b[0m\u001b[0m\n\u001b[1;32m    556\u001b[0m         \u001b[0;32mif\u001b[0m \u001b[0mreturn_train_score\u001b[0m\u001b[0;34m:\u001b[0m\u001b[0;34m\u001b[0m\u001b[0;34m\u001b[0m\u001b[0m\n",
      "\u001b[0;32m~/.local/lib/python3.6/site-packages/sklearn/model_selection/_validation.py\u001b[0m in \u001b[0;36m_score\u001b[0;34m(estimator, X_test, y_test, scorer, is_multimetric)\u001b[0m\n\u001b[1;32m    595\u001b[0m     \"\"\"\n\u001b[1;32m    596\u001b[0m     \u001b[0;32mif\u001b[0m \u001b[0mis_multimetric\u001b[0m\u001b[0;34m:\u001b[0m\u001b[0;34m\u001b[0m\u001b[0;34m\u001b[0m\u001b[0m\n\u001b[0;32m--> 597\u001b[0;31m         \u001b[0;32mreturn\u001b[0m \u001b[0m_multimetric_score\u001b[0m\u001b[0;34m(\u001b[0m\u001b[0mestimator\u001b[0m\u001b[0;34m,\u001b[0m \u001b[0mX_test\u001b[0m\u001b[0;34m,\u001b[0m \u001b[0my_test\u001b[0m\u001b[0;34m,\u001b[0m \u001b[0mscorer\u001b[0m\u001b[0;34m)\u001b[0m\u001b[0;34m\u001b[0m\u001b[0;34m\u001b[0m\u001b[0m\n\u001b[0m\u001b[1;32m    598\u001b[0m     \u001b[0;32melse\u001b[0m\u001b[0;34m:\u001b[0m\u001b[0;34m\u001b[0m\u001b[0;34m\u001b[0m\u001b[0m\n\u001b[1;32m    599\u001b[0m         \u001b[0;32mif\u001b[0m \u001b[0my_test\u001b[0m \u001b[0;32mis\u001b[0m \u001b[0;32mNone\u001b[0m\u001b[0;34m:\u001b[0m\u001b[0;34m\u001b[0m\u001b[0;34m\u001b[0m\u001b[0m\n",
      "\u001b[0;32m~/.local/lib/python3.6/site-packages/sklearn/model_selection/_validation.py\u001b[0m in \u001b[0;36m_multimetric_score\u001b[0;34m(estimator, X_test, y_test, scorers)\u001b[0m\n\u001b[1;32m    625\u001b[0m             \u001b[0mscore\u001b[0m \u001b[0;34m=\u001b[0m \u001b[0mscorer\u001b[0m\u001b[0;34m(\u001b[0m\u001b[0mestimator\u001b[0m\u001b[0;34m,\u001b[0m \u001b[0mX_test\u001b[0m\u001b[0;34m)\u001b[0m\u001b[0;34m\u001b[0m\u001b[0;34m\u001b[0m\u001b[0m\n\u001b[1;32m    626\u001b[0m         \u001b[0;32melse\u001b[0m\u001b[0;34m:\u001b[0m\u001b[0;34m\u001b[0m\u001b[0;34m\u001b[0m\u001b[0m\n\u001b[0;32m--> 627\u001b[0;31m             \u001b[0mscore\u001b[0m \u001b[0;34m=\u001b[0m \u001b[0mscorer\u001b[0m\u001b[0;34m(\u001b[0m\u001b[0mestimator\u001b[0m\u001b[0;34m,\u001b[0m \u001b[0mX_test\u001b[0m\u001b[0;34m,\u001b[0m \u001b[0my_test\u001b[0m\u001b[0;34m)\u001b[0m\u001b[0;34m\u001b[0m\u001b[0;34m\u001b[0m\u001b[0m\n\u001b[0m\u001b[1;32m    628\u001b[0m \u001b[0;34m\u001b[0m\u001b[0m\n\u001b[1;32m    629\u001b[0m         \u001b[0;32mif\u001b[0m \u001b[0mhasattr\u001b[0m\u001b[0;34m(\u001b[0m\u001b[0mscore\u001b[0m\u001b[0;34m,\u001b[0m \u001b[0;34m'item'\u001b[0m\u001b[0;34m)\u001b[0m\u001b[0;34m:\u001b[0m\u001b[0;34m\u001b[0m\u001b[0;34m\u001b[0m\u001b[0m\n",
      "\u001b[0;32m~/.local/lib/python3.6/site-packages/sklearn/metrics/scorer.py\u001b[0m in \u001b[0;36m__call__\u001b[0;34m(self, estimator, X, y_true, sample_weight)\u001b[0m\n\u001b[1;32m     88\u001b[0m         \"\"\"\n\u001b[1;32m     89\u001b[0m \u001b[0;34m\u001b[0m\u001b[0m\n\u001b[0;32m---> 90\u001b[0;31m         \u001b[0my_pred\u001b[0m \u001b[0;34m=\u001b[0m \u001b[0mestimator\u001b[0m\u001b[0;34m.\u001b[0m\u001b[0mpredict\u001b[0m\u001b[0;34m(\u001b[0m\u001b[0mX\u001b[0m\u001b[0;34m)\u001b[0m\u001b[0;34m\u001b[0m\u001b[0;34m\u001b[0m\u001b[0m\n\u001b[0m\u001b[1;32m     91\u001b[0m         \u001b[0;32mif\u001b[0m \u001b[0msample_weight\u001b[0m \u001b[0;32mis\u001b[0m \u001b[0;32mnot\u001b[0m \u001b[0;32mNone\u001b[0m\u001b[0;34m:\u001b[0m\u001b[0;34m\u001b[0m\u001b[0;34m\u001b[0m\u001b[0m\n\u001b[1;32m     92\u001b[0m             return self._sign * self._score_func(y_true, y_pred,\n",
      "\u001b[0;32m~/.local/lib/python3.6/site-packages/sklearn/ensemble/forest.py\u001b[0m in \u001b[0;36mpredict\u001b[0;34m(self, X)\u001b[0m\n\u001b[1;32m    707\u001b[0m                  \u001b[0;34m**\u001b[0m\u001b[0m_joblib_parallel_args\u001b[0m\u001b[0;34m(\u001b[0m\u001b[0mrequire\u001b[0m\u001b[0;34m=\u001b[0m\u001b[0;34m\"sharedmem\"\u001b[0m\u001b[0;34m)\u001b[0m\u001b[0;34m)\u001b[0m\u001b[0;34m(\u001b[0m\u001b[0;34m\u001b[0m\u001b[0;34m\u001b[0m\u001b[0m\n\u001b[1;32m    708\u001b[0m             \u001b[0mdelayed\u001b[0m\u001b[0;34m(\u001b[0m\u001b[0m_accumulate_prediction\u001b[0m\u001b[0;34m)\u001b[0m\u001b[0;34m(\u001b[0m\u001b[0me\u001b[0m\u001b[0;34m.\u001b[0m\u001b[0mpredict\u001b[0m\u001b[0;34m,\u001b[0m \u001b[0mX\u001b[0m\u001b[0;34m,\u001b[0m \u001b[0;34m[\u001b[0m\u001b[0my_hat\u001b[0m\u001b[0;34m]\u001b[0m\u001b[0;34m,\u001b[0m \u001b[0mlock\u001b[0m\u001b[0;34m)\u001b[0m\u001b[0;34m\u001b[0m\u001b[0;34m\u001b[0m\u001b[0m\n\u001b[0;32m--> 709\u001b[0;31m             for e in self.estimators_)\n\u001b[0m\u001b[1;32m    710\u001b[0m \u001b[0;34m\u001b[0m\u001b[0m\n\u001b[1;32m    711\u001b[0m         \u001b[0my_hat\u001b[0m \u001b[0;34m/=\u001b[0m \u001b[0mlen\u001b[0m\u001b[0;34m(\u001b[0m\u001b[0mself\u001b[0m\u001b[0;34m.\u001b[0m\u001b[0mestimators_\u001b[0m\u001b[0;34m)\u001b[0m\u001b[0;34m\u001b[0m\u001b[0;34m\u001b[0m\u001b[0m\n",
      "\u001b[0;32m~/.local/lib/python3.6/site-packages/joblib/parallel.py\u001b[0m in \u001b[0;36m__call__\u001b[0;34m(self, iterable)\u001b[0m\n\u001b[1;32m    932\u001b[0m \u001b[0;34m\u001b[0m\u001b[0m\n\u001b[1;32m    933\u001b[0m             \u001b[0;32mwith\u001b[0m \u001b[0mself\u001b[0m\u001b[0;34m.\u001b[0m\u001b[0m_backend\u001b[0m\u001b[0;34m.\u001b[0m\u001b[0mretrieval_context\u001b[0m\u001b[0;34m(\u001b[0m\u001b[0;34m)\u001b[0m\u001b[0;34m:\u001b[0m\u001b[0;34m\u001b[0m\u001b[0;34m\u001b[0m\u001b[0m\n\u001b[0;32m--> 934\u001b[0;31m                 \u001b[0mself\u001b[0m\u001b[0;34m.\u001b[0m\u001b[0mretrieve\u001b[0m\u001b[0;34m(\u001b[0m\u001b[0;34m)\u001b[0m\u001b[0;34m\u001b[0m\u001b[0;34m\u001b[0m\u001b[0m\n\u001b[0m\u001b[1;32m    935\u001b[0m             \u001b[0;31m# Make sure that we get a last message telling us we are done\u001b[0m\u001b[0;34m\u001b[0m\u001b[0;34m\u001b[0m\u001b[0;34m\u001b[0m\u001b[0m\n\u001b[1;32m    936\u001b[0m             \u001b[0melapsed_time\u001b[0m \u001b[0;34m=\u001b[0m \u001b[0mtime\u001b[0m\u001b[0;34m.\u001b[0m\u001b[0mtime\u001b[0m\u001b[0;34m(\u001b[0m\u001b[0;34m)\u001b[0m \u001b[0;34m-\u001b[0m \u001b[0mself\u001b[0m\u001b[0;34m.\u001b[0m\u001b[0m_start_time\u001b[0m\u001b[0;34m\u001b[0m\u001b[0;34m\u001b[0m\u001b[0m\n",
      "\u001b[0;32m~/.local/lib/python3.6/site-packages/joblib/parallel.py\u001b[0m in \u001b[0;36mretrieve\u001b[0;34m(self)\u001b[0m\n\u001b[1;32m    831\u001b[0m             \u001b[0;32mtry\u001b[0m\u001b[0;34m:\u001b[0m\u001b[0;34m\u001b[0m\u001b[0;34m\u001b[0m\u001b[0m\n\u001b[1;32m    832\u001b[0m                 \u001b[0;32mif\u001b[0m \u001b[0mgetattr\u001b[0m\u001b[0;34m(\u001b[0m\u001b[0mself\u001b[0m\u001b[0;34m.\u001b[0m\u001b[0m_backend\u001b[0m\u001b[0;34m,\u001b[0m \u001b[0;34m'supports_timeout'\u001b[0m\u001b[0;34m,\u001b[0m \u001b[0;32mFalse\u001b[0m\u001b[0;34m)\u001b[0m\u001b[0;34m:\u001b[0m\u001b[0;34m\u001b[0m\u001b[0;34m\u001b[0m\u001b[0m\n\u001b[0;32m--> 833\u001b[0;31m                     \u001b[0mself\u001b[0m\u001b[0;34m.\u001b[0m\u001b[0m_output\u001b[0m\u001b[0;34m.\u001b[0m\u001b[0mextend\u001b[0m\u001b[0;34m(\u001b[0m\u001b[0mjob\u001b[0m\u001b[0;34m.\u001b[0m\u001b[0mget\u001b[0m\u001b[0;34m(\u001b[0m\u001b[0mtimeout\u001b[0m\u001b[0;34m=\u001b[0m\u001b[0mself\u001b[0m\u001b[0;34m.\u001b[0m\u001b[0mtimeout\u001b[0m\u001b[0;34m)\u001b[0m\u001b[0;34m)\u001b[0m\u001b[0;34m\u001b[0m\u001b[0;34m\u001b[0m\u001b[0m\n\u001b[0m\u001b[1;32m    834\u001b[0m                 \u001b[0;32melse\u001b[0m\u001b[0;34m:\u001b[0m\u001b[0;34m\u001b[0m\u001b[0;34m\u001b[0m\u001b[0m\n\u001b[1;32m    835\u001b[0m                     \u001b[0mself\u001b[0m\u001b[0;34m.\u001b[0m\u001b[0m_output\u001b[0m\u001b[0;34m.\u001b[0m\u001b[0mextend\u001b[0m\u001b[0;34m(\u001b[0m\u001b[0mjob\u001b[0m\u001b[0;34m.\u001b[0m\u001b[0mget\u001b[0m\u001b[0;34m(\u001b[0m\u001b[0;34m)\u001b[0m\u001b[0;34m)\u001b[0m\u001b[0;34m\u001b[0m\u001b[0;34m\u001b[0m\u001b[0m\n",
      "\u001b[0;32m/usr/lib/python3.6/multiprocessing/pool.py\u001b[0m in \u001b[0;36mget\u001b[0;34m(self, timeout)\u001b[0m\n\u001b[1;32m    636\u001b[0m \u001b[0;34m\u001b[0m\u001b[0m\n\u001b[1;32m    637\u001b[0m     \u001b[0;32mdef\u001b[0m \u001b[0mget\u001b[0m\u001b[0;34m(\u001b[0m\u001b[0mself\u001b[0m\u001b[0;34m,\u001b[0m \u001b[0mtimeout\u001b[0m\u001b[0;34m=\u001b[0m\u001b[0;32mNone\u001b[0m\u001b[0;34m)\u001b[0m\u001b[0;34m:\u001b[0m\u001b[0;34m\u001b[0m\u001b[0;34m\u001b[0m\u001b[0m\n\u001b[0;32m--> 638\u001b[0;31m         \u001b[0mself\u001b[0m\u001b[0;34m.\u001b[0m\u001b[0mwait\u001b[0m\u001b[0;34m(\u001b[0m\u001b[0mtimeout\u001b[0m\u001b[0;34m)\u001b[0m\u001b[0;34m\u001b[0m\u001b[0;34m\u001b[0m\u001b[0m\n\u001b[0m\u001b[1;32m    639\u001b[0m         \u001b[0;32mif\u001b[0m \u001b[0;32mnot\u001b[0m \u001b[0mself\u001b[0m\u001b[0;34m.\u001b[0m\u001b[0mready\u001b[0m\u001b[0;34m(\u001b[0m\u001b[0;34m)\u001b[0m\u001b[0;34m:\u001b[0m\u001b[0;34m\u001b[0m\u001b[0;34m\u001b[0m\u001b[0m\n\u001b[1;32m    640\u001b[0m             \u001b[0;32mraise\u001b[0m \u001b[0mTimeoutError\u001b[0m\u001b[0;34m\u001b[0m\u001b[0;34m\u001b[0m\u001b[0m\n",
      "\u001b[0;32m/usr/lib/python3.6/multiprocessing/pool.py\u001b[0m in \u001b[0;36mwait\u001b[0;34m(self, timeout)\u001b[0m\n\u001b[1;32m    633\u001b[0m \u001b[0;34m\u001b[0m\u001b[0m\n\u001b[1;32m    634\u001b[0m     \u001b[0;32mdef\u001b[0m \u001b[0mwait\u001b[0m\u001b[0;34m(\u001b[0m\u001b[0mself\u001b[0m\u001b[0;34m,\u001b[0m \u001b[0mtimeout\u001b[0m\u001b[0;34m=\u001b[0m\u001b[0;32mNone\u001b[0m\u001b[0;34m)\u001b[0m\u001b[0;34m:\u001b[0m\u001b[0;34m\u001b[0m\u001b[0;34m\u001b[0m\u001b[0m\n\u001b[0;32m--> 635\u001b[0;31m         \u001b[0mself\u001b[0m\u001b[0;34m.\u001b[0m\u001b[0m_event\u001b[0m\u001b[0;34m.\u001b[0m\u001b[0mwait\u001b[0m\u001b[0;34m(\u001b[0m\u001b[0mtimeout\u001b[0m\u001b[0;34m)\u001b[0m\u001b[0;34m\u001b[0m\u001b[0;34m\u001b[0m\u001b[0m\n\u001b[0m\u001b[1;32m    636\u001b[0m \u001b[0;34m\u001b[0m\u001b[0m\n\u001b[1;32m    637\u001b[0m     \u001b[0;32mdef\u001b[0m \u001b[0mget\u001b[0m\u001b[0;34m(\u001b[0m\u001b[0mself\u001b[0m\u001b[0;34m,\u001b[0m \u001b[0mtimeout\u001b[0m\u001b[0;34m=\u001b[0m\u001b[0;32mNone\u001b[0m\u001b[0;34m)\u001b[0m\u001b[0;34m:\u001b[0m\u001b[0;34m\u001b[0m\u001b[0;34m\u001b[0m\u001b[0m\n",
      "\u001b[0;32m/usr/lib/python3.6/threading.py\u001b[0m in \u001b[0;36mwait\u001b[0;34m(self, timeout)\u001b[0m\n\u001b[1;32m    549\u001b[0m             \u001b[0msignaled\u001b[0m \u001b[0;34m=\u001b[0m \u001b[0mself\u001b[0m\u001b[0;34m.\u001b[0m\u001b[0m_flag\u001b[0m\u001b[0;34m\u001b[0m\u001b[0;34m\u001b[0m\u001b[0m\n\u001b[1;32m    550\u001b[0m             \u001b[0;32mif\u001b[0m \u001b[0;32mnot\u001b[0m \u001b[0msignaled\u001b[0m\u001b[0;34m:\u001b[0m\u001b[0;34m\u001b[0m\u001b[0;34m\u001b[0m\u001b[0m\n\u001b[0;32m--> 551\u001b[0;31m                 \u001b[0msignaled\u001b[0m \u001b[0;34m=\u001b[0m \u001b[0mself\u001b[0m\u001b[0;34m.\u001b[0m\u001b[0m_cond\u001b[0m\u001b[0;34m.\u001b[0m\u001b[0mwait\u001b[0m\u001b[0;34m(\u001b[0m\u001b[0mtimeout\u001b[0m\u001b[0;34m)\u001b[0m\u001b[0;34m\u001b[0m\u001b[0;34m\u001b[0m\u001b[0m\n\u001b[0m\u001b[1;32m    552\u001b[0m             \u001b[0;32mreturn\u001b[0m \u001b[0msignaled\u001b[0m\u001b[0;34m\u001b[0m\u001b[0;34m\u001b[0m\u001b[0m\n\u001b[1;32m    553\u001b[0m \u001b[0;34m\u001b[0m\u001b[0m\n",
      "\u001b[0;32m/usr/lib/python3.6/threading.py\u001b[0m in \u001b[0;36mwait\u001b[0;34m(self, timeout)\u001b[0m\n\u001b[1;32m    293\u001b[0m         \u001b[0;32mtry\u001b[0m\u001b[0;34m:\u001b[0m    \u001b[0;31m# restore state no matter what (e.g., KeyboardInterrupt)\u001b[0m\u001b[0;34m\u001b[0m\u001b[0;34m\u001b[0m\u001b[0m\n\u001b[1;32m    294\u001b[0m             \u001b[0;32mif\u001b[0m \u001b[0mtimeout\u001b[0m \u001b[0;32mis\u001b[0m \u001b[0;32mNone\u001b[0m\u001b[0;34m:\u001b[0m\u001b[0;34m\u001b[0m\u001b[0;34m\u001b[0m\u001b[0m\n\u001b[0;32m--> 295\u001b[0;31m                 \u001b[0mwaiter\u001b[0m\u001b[0;34m.\u001b[0m\u001b[0macquire\u001b[0m\u001b[0;34m(\u001b[0m\u001b[0;34m)\u001b[0m\u001b[0;34m\u001b[0m\u001b[0;34m\u001b[0m\u001b[0m\n\u001b[0m\u001b[1;32m    296\u001b[0m                 \u001b[0mgotit\u001b[0m \u001b[0;34m=\u001b[0m \u001b[0;32mTrue\u001b[0m\u001b[0;34m\u001b[0m\u001b[0;34m\u001b[0m\u001b[0m\n\u001b[1;32m    297\u001b[0m             \u001b[0;32melse\u001b[0m\u001b[0;34m:\u001b[0m\u001b[0;34m\u001b[0m\u001b[0;34m\u001b[0m\u001b[0m\n",
      "\u001b[0;31mKeyboardInterrupt\u001b[0m: "
     ]
    }
   ],
   "source": [
    "if training:\n",
    "\n",
    "    rf = RandomForestRegressor(random_state=seed, n_jobs=-1)\n",
    "\n",
    "    param_grid = {'n_estimators': [2000,2100],\n",
    "                  'min_samples_split': [2,5],\n",
    "                  'min_samples_leaf': [1],\n",
    "                  'max_features': ['sqrt'],\n",
    "                  'max_depth': [60,65],\n",
    "                  'bootstrap': [True]}\n",
    "\n",
    "    grid = GridSearchCV(rf, param_grid=param_grid, cv=5,return_train_score = True,scoring = 'neg_mean_absolute_error').fit(X_train, y_train)\n",
    "    \n",
    "    #neg_root_mean_squared_error\n",
    "    reg_rf = grid.best_estimator_.fit(X_train,y_train)\n",
    "\n",
    "    print(grid.best_params_)\n",
    "   # print(grid.cv_results_)"
   ]
  },
  {
   "cell_type": "code",
   "execution_count": null,
   "metadata": {
    "ExecuteTime": {
     "end_time": "2020-04-21T05:10:39.559477Z",
     "start_time": "2020-04-21T03:15:11.353Z"
    }
   },
   "outputs": [],
   "source": [
    "print(\"train MAE: {:.2f}\".format(mean_absolute_error(y_train,reg_rf.predict(X_train))))\n",
    "print(\"test MAE: {:.2f}\".format(mean_absolute_error(y_test,reg_rf.predict(X_test))))\n",
    "print(\"train MAPE: {:.2f}%\".format(MAPE(y_train, reg_rf.predict(X_train))))\n",
    "print(\"test MAPE: {:.2f}%\".format(MAPE(y_test, reg_rf.predict(X_test))))\n",
    "print(\"train RMSE: {:.2f}\".format(mean_squared_error(y_train, reg_rf.predict(X_train))**0.5))\n",
    "print(\"test RMSE: {:.2f}\".format(mean_squared_error(y_test, reg_rf.predict(X_test))**0.5))"
   ]
  },
  {
   "cell_type": "markdown",
   "metadata": {
    "heading_collapsed": true
   },
   "source": [
    "## lightGBM"
   ]
  },
  {
   "cell_type": "markdown",
   "metadata": {
    "hidden": true
   },
   "source": [
    "### Random Search"
   ]
  },
  {
   "cell_type": "code",
   "execution_count": null,
   "metadata": {
    "ExecuteTime": {
     "end_time": "2020-04-21T05:10:39.560501Z",
     "start_time": "2020-04-21T03:15:11.356Z"
    },
    "hidden": true
   },
   "outputs": [],
   "source": [
    "lg = lgb.LGBMRegressor(random_state=seed,n_jobs=-1)\n",
    "\n",
    "\n",
    "lgbmrandom_grid = {\n",
    "               'max_depth': [10, 20, 30, 40, 50, 60, 70, 80, 90, 100],\n",
    "               'learning_rate': [0.01,0.05,0.1],\n",
    "               'colsample_bytree' : [0.3,0.5,1],\n",
    "               'num_leaves' : [20,30,40,50,60],\n",
    "               'subsample' : [0.2,0.3,0.5,1] ,\n",
    "               'reg_alpha' : [0,0.5,1,2],\n",
    "               'min_child_samples': [1, 2, 4],\n",
    "               'n_estimators': [1000, 1600, 1800, 2000, 2500, 3000,3500,4000,4500,5000]}\n",
    "\n",
    "\n",
    "lgbmrandom_grid = RandomizedSearchCV(estimator = lg,\n",
    "                                     param_distributions = lgbmrandom_grid,\n",
    "                                     n_iter = 300,\n",
    "                                     cv = 3,\n",
    "                                     random_state=seed,\n",
    "                                     scoring = \"neg_mean_absolute_error\")\n",
    "\n",
    "# Fit the random search model\n",
    "lgbmrandom_grid.fit(X_train, y_train)\n",
    "\n",
    "print(lgbmrandom_grid.best_params_)\n",
    "\n",
    "lgbmrand_reg = lgbmrandom_grid.best_estimator_.fit(X_train, y_train)"
   ]
  },
  {
   "cell_type": "code",
   "execution_count": null,
   "metadata": {
    "ExecuteTime": {
     "end_time": "2020-04-21T05:10:39.561395Z",
     "start_time": "2020-04-21T03:15:11.362Z"
    },
    "hidden": true
   },
   "outputs": [],
   "source": [
    "print(\"train MAE: {:.2f}\".format(mean_absolute_error(y_train,lgbmrand_reg.predict(X_train))))\n",
    "print(\"test MAE: {:.2f}\".format(mean_absolute_error(y_test,lgbmrand_reg.predict(X_test))))\n",
    "print(\"train MAPE: {:.2f}%\".format(MAPE(y_train, lgbmrand_reg.predict(X_train))))\n",
    "print(\"test MAPE: {:.2f}%\".format(MAPE(y_test, lgbmrand_reg.predict(X_test))))\n",
    "print(\"train RMSE: {:.2f}\".format(mean_squared_error(y_train, lgbmrand_reg.predict(X_train))**0.5))\n",
    "print(\"test RMSE: {:.2f}\".format(mean_squared_error(y_test, lgbmrand_reg.predict(X_test))**0.5))"
   ]
  },
  {
   "cell_type": "markdown",
   "metadata": {
    "hidden": true
   },
   "source": [
    "### Grid Search"
   ]
  },
  {
   "cell_type": "code",
   "execution_count": null,
   "metadata": {
    "ExecuteTime": {
     "end_time": "2020-04-21T05:10:39.562828Z",
     "start_time": "2020-04-21T03:15:11.367Z"
    },
    "hidden": true
   },
   "outputs": [],
   "source": [
    "lg = lgb.LGBMRegressor(random_state=seed,n_jobs=-1)\n",
    "\n",
    "if training:\n",
    "\n",
    "    param_grid = {\n",
    "               'max_depth': [30,45,50],\n",
    "               'learning_rate': [0.05],\n",
    "               'colsample_bytree' : [0.5],\n",
    "               'num_leaves' : [50,55],\n",
    "               'subsample' : [0.25,1] ,\n",
    "               'reg_alpha' : [0,1.2],\n",
    "               'min_child_samples': [1],\n",
    "               'n_estimators': [4000,4500,4750]}\n",
    "\n",
    "    grid = GridSearchCV(lg, param_grid=param_grid, cv=5,return_train_score = True,scoring = 'neg_mean_absolute_error').fit(X_train, y_train)\n",
    "    \n",
    "    #neg_root_mean_squared_error\n",
    "    reg_lgb = grid.best_estimator_.fit(X_train,y_train)\n",
    "\n",
    "    print(grid.best_params_)\n",
    "   # print(grid.cv_results_)"
   ]
  },
  {
   "cell_type": "code",
   "execution_count": null,
   "metadata": {
    "ExecuteTime": {
     "end_time": "2020-04-21T05:10:39.563657Z",
     "start_time": "2020-04-21T03:15:11.372Z"
    },
    "hidden": true
   },
   "outputs": [],
   "source": [
    "print(\"train MAE: {:.2f}\".format(mean_absolute_error(y_train,reg_lgb.predict(X_train))))\n",
    "print(\"test MAE: {:.2f}\".format(mean_absolute_error(y_test,reg_lgb.predict(X_test))))\n",
    "print(\"train MAPE: {:.2f}%\".format(MAPE(y_train, reg_lgb.predict(X_train))))\n",
    "print(\"test MAPE: {:.2f}%\".format(MAPE(y_test, reg_lgb.predict(X_test))))\n",
    "print(\"train RMSE: {:.2f}\".format(mean_squared_error(y_train, reg_lgb.predict(X_train))**0.5))\n",
    "print(\"test RMSE: {:.2f}\".format(mean_squared_error(y_test, reg_lgb.predict(X_test))**0.5))"
   ]
  },
  {
   "cell_type": "markdown",
   "metadata": {},
   "source": [
    "# Modeling Label Encoding"
   ]
  },
  {
   "cell_type": "code",
   "execution_count": null,
   "metadata": {
    "ExecuteTime": {
     "end_time": "2020-04-21T05:10:39.564587Z",
     "start_time": "2020-04-21T03:15:11.377Z"
    }
   },
   "outputs": [],
   "source": [
    "# Encoding days of the week and month variables\n",
    "#df_sp_grouped.drop(['departure_date'],axis=1,inplace = True)\n",
    "\n",
    "cat_vars = df_sp_grouped.select_dtypes(include='object').columns.values.tolist()\n",
    "df_sp_grouped = cat_encoding(df_sp_grouped,cat_vars, encoding = 'label')"
   ]
  },
  {
   "cell_type": "code",
   "execution_count": null,
   "metadata": {
    "ExecuteTime": {
     "end_time": "2020-04-21T05:10:39.565316Z",
     "start_time": "2020-04-21T03:15:11.381Z"
    }
   },
   "outputs": [],
   "source": [
    "X = df_sp_grouped.drop(['n_seats_paid'],axis=1)\n",
    "y = df_sp_grouped.n_seats_paid\n",
    "\n",
    "X_train, X_test, y_train, y_test = train_test_split(X, y, test_size=0.33, random_state=seed)"
   ]
  },
  {
   "cell_type": "code",
   "execution_count": null,
   "metadata": {
    "ExecuteTime": {
     "end_time": "2020-04-21T05:10:39.566251Z",
     "start_time": "2020-04-21T03:15:11.387Z"
    }
   },
   "outputs": [],
   "source": [
    "lg = lgb.LGBMRegressor(random_state=seed,n_jobs=-1)\n",
    "\n",
    "\n",
    "lgbmrandom_grid = {\n",
    "               'max_depth': [10, 20, 30, 40, 50, 60, 70, 80, 90, 100],\n",
    "               'learning_rate': [0.01,0.05,0.1],\n",
    "               'colsample_bytree' : [0.3,0.5,1],\n",
    "               'num_leaves' : [20,30,40,50,60],\n",
    "               'subsample' : [0.2,0.3,0.5,1] ,\n",
    "               'reg_alpha' : [0,0.5,1,2],\n",
    "               'min_child_samples': [1, 2, 4],\n",
    "               'n_estimators': [1000, 1600, 1800, 2000, 2500, 3000,3500,4000,4500,5000]}\n",
    "\n",
    "\n",
    "lgbmrandom_grid = RandomizedSearchCV(estimator = lg,\n",
    "                                     param_distributions = lgbmrandom_grid,\n",
    "                                     n_iter = 300,\n",
    "                                     cv = 3,\n",
    "                                     random_state=seed,\n",
    "                                     scoring = \"neg_mean_absolute_error\")\n",
    "\n",
    "# Fit the random search model\n",
    "lgbmrandom_grid.fit(X_train, y_train)\n",
    "\n",
    "print(lgbmrandom_grid.best_params_)\n",
    "\n",
    "lgbmrand_reg = lgbmrandom_grid.best_estimator_.fit(X_train, y_train)"
   ]
  },
  {
   "cell_type": "code",
   "execution_count": null,
   "metadata": {
    "ExecuteTime": {
     "end_time": "2020-04-21T05:10:39.567165Z",
     "start_time": "2020-04-21T03:15:11.391Z"
    }
   },
   "outputs": [],
   "source": [
    "print(\"train MAE: {:.2f}\".format(mean_absolute_error(y_train,lgbmrand_reg.predict(X_train))))\n",
    "print(\"test MAE: {:.2f}\".format(mean_absolute_error(y_test,lgbmrand_reg.predict(X_test))))\n",
    "print(\"train MAPE: {:.2f}%\".format(MAPE(y_train, lgbmrand_reg.predict(X_train))))\n",
    "print(\"test MAPE: {:.2f}%\".format(MAPE(y_test, lgbmrand_reg.predict(X_test))))\n",
    "print(\"train RMSE: {:.2f}\".format(mean_squared_error(y_train, lgbmrand_reg.predict(X_train))**0.5))\n",
    "print(\"test RMSE: {:.2f}\".format(mean_squared_error(y_test, lgbmrand_reg.predict(X_test))**0.5))"
   ]
  },
  {
   "cell_type": "markdown",
   "metadata": {},
   "source": [
    "# Importance of Variables"
   ]
  },
  {
   "cell_type": "code",
   "execution_count": null,
   "metadata": {
    "ExecuteTime": {
     "end_time": "2020-04-21T05:10:39.567919Z",
     "start_time": "2020-04-21T03:15:11.396Z"
    }
   },
   "outputs": [],
   "source": [
    "explainer = shap.TreeExplainer(reg_lgb, approximate = True)"
   ]
  },
  {
   "cell_type": "code",
   "execution_count": null,
   "metadata": {
    "ExecuteTime": {
     "end_time": "2020-04-21T05:10:39.568742Z",
     "start_time": "2020-04-21T03:15:11.400Z"
    }
   },
   "outputs": [],
   "source": [
    "\n",
    "rf_shap_values = explainer.shap_values(X_test.iloc[0:1000,:])\n",
    "\n",
    "\n",
    "#import matplotlib.pyplot as plt\n",
    "#f = plt.figure()\n",
    "#shap.summary_plot(rf_shap_values, X_test)"
   ]
  },
  {
   "cell_type": "code",
   "execution_count": null,
   "metadata": {
    "ExecuteTime": {
     "end_time": "2020-04-21T05:10:39.569582Z",
     "start_time": "2020-04-21T03:15:11.405Z"
    }
   },
   "outputs": [],
   "source": [
    "shap.summary_plot(rf_shap_values, X_test.iloc[0:1000,:])"
   ]
  },
  {
   "cell_type": "code",
   "execution_count": null,
   "metadata": {
    "ExecuteTime": {
     "end_time": "2020-04-21T05:10:39.570490Z",
     "start_time": "2020-04-21T03:15:11.410Z"
    }
   },
   "outputs": [],
   "source": [
    "shap.initjs()\n",
    "shap.force_plot(explainer.expected_value, rf_shap_values[10,:], X_test.iloc[10,:])"
   ]
  },
  {
   "cell_type": "code",
   "execution_count": null,
   "metadata": {
    "ExecuteTime": {
     "end_time": "2020-04-21T05:10:39.571672Z",
     "start_time": "2020-04-21T03:15:11.416Z"
    }
   },
   "outputs": [],
   "source": [
    "pred = "
   ]
  }
 ],
 "metadata": {
  "kernelspec": {
   "display_name": "Python 3",
   "language": "python",
   "name": "python3"
  },
  "language_info": {
   "codemirror_mode": {
    "name": "ipython",
    "version": 3
   },
   "file_extension": ".py",
   "mimetype": "text/x-python",
   "name": "python",
   "nbconvert_exporter": "python",
   "pygments_lexer": "ipython3",
   "version": "3.6.9"
  },
  "toc": {
   "base_numbering": 1,
   "nav_menu": {},
   "number_sections": true,
   "sideBar": true,
   "skip_h1_title": false,
   "title_cell": "Table of Contents",
   "title_sidebar": "Contents",
   "toc_cell": false,
   "toc_position": {},
   "toc_section_display": true,
   "toc_window_display": false
  },
  "varInspector": {
   "cols": {
    "lenName": 16,
    "lenType": 16,
    "lenVar": 40
   },
   "kernels_config": {
    "python": {
     "delete_cmd_postfix": "",
     "delete_cmd_prefix": "del ",
     "library": "var_list.py",
     "varRefreshCmd": "print(var_dic_list())"
    },
    "r": {
     "delete_cmd_postfix": ") ",
     "delete_cmd_prefix": "rm(",
     "library": "var_list.r",
     "varRefreshCmd": "cat(var_dic_list()) "
    }
   },
   "types_to_exclude": [
    "module",
    "function",
    "builtin_function_or_method",
    "instance",
    "_Feature"
   ],
   "window_display": false
  }
 },
 "nbformat": 4,
 "nbformat_minor": 2
}
