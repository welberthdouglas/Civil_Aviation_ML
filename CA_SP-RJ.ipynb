{
 "cells": [
  {
   "cell_type": "markdown",
   "metadata": {
    "heading_collapsed": true
   },
   "source": [
    "# Imports"
   ]
  },
  {
   "cell_type": "code",
   "execution_count": 74,
   "metadata": {
    "ExecuteTime": {
     "end_time": "2020-04-09T04:00:36.374471Z",
     "start_time": "2020-04-09T04:00:36.368167Z"
    },
    "hidden": true
   },
   "outputs": [],
   "source": [
    "import pandas as pd\n",
    "\n",
    "from datetime import datetime, timedelta\n",
    "from sklearn.model_selection import train_test_split\n",
    "from sklearn.ensemble import RandomForestRegressor,GradientBoostingRegressor\n",
    "from sklearn.model_selection import GridSearchCV\n",
    "from sklearn.metrics import mean_absolute_error\n",
    "\n",
    "pd.options.display.max_columns = None\n",
    "pd.set_option('display.max_rows', 500)\n",
    "\n",
    "training = True\n",
    "seed=42"
   ]
  },
  {
   "cell_type": "markdown",
   "metadata": {
    "heading_collapsed": true
   },
   "source": [
    "# Functions\n"
   ]
  },
  {
   "cell_type": "code",
   "execution_count": 63,
   "metadata": {
    "ExecuteTime": {
     "end_time": "2020-04-09T03:52:06.817120Z",
     "start_time": "2020-04-09T03:52:06.801968Z"
    },
    "hidden": true
   },
   "outputs": [],
   "source": [
    "def MAPE(y_true, y_pred): \n",
    "    y_true, y_pred = np.array(y_true), np.array(y_pred)\n",
    "    return np.mean(np.abs((y_true - y_pred) / y_true)) * 100"
   ]
  },
  {
   "cell_type": "markdown",
   "metadata": {
    "heading_collapsed": true
   },
   "source": [
    "# Loading Data"
   ]
  },
  {
   "cell_type": "code",
   "execution_count": 2,
   "metadata": {
    "ExecuteTime": {
     "end_time": "2020-04-09T02:57:43.472359Z",
     "start_time": "2020-04-09T02:56:36.527299Z"
    },
    "hidden": true
   },
   "outputs": [],
   "source": [
    "anac_df = pd.read_csv(\"data.csv\", low_memory=False)\n",
    "feriados = pd.read_csv(\"feriados.csv\")"
   ]
  },
  {
   "cell_type": "code",
   "execution_count": 3,
   "metadata": {
    "ExecuteTime": {
     "end_time": "2020-04-09T03:09:40.076485Z",
     "start_time": "2020-04-09T03:09:40.054065Z"
    },
    "hidden": true
   },
   "outputs": [
    {
     "data": {
      "text/plain": [
       "(3549883, 52)"
      ]
     },
     "execution_count": 3,
     "metadata": {},
     "output_type": "execute_result"
    }
   ],
   "source": [
    "anac_df.shape"
   ]
  },
  {
   "cell_type": "code",
   "execution_count": 4,
   "metadata": {
    "ExecuteTime": {
     "end_time": "2020-04-09T03:09:45.936188Z",
     "start_time": "2020-04-09T03:09:45.848377Z"
    },
    "hidden": true
   },
   "outputs": [
    {
     "data": {
      "text/html": [
       "<div>\n",
       "<style scoped>\n",
       "    .dataframe tbody tr th:only-of-type {\n",
       "        vertical-align: middle;\n",
       "    }\n",
       "\n",
       "    .dataframe tbody tr th {\n",
       "        vertical-align: top;\n",
       "    }\n",
       "\n",
       "    .dataframe thead th {\n",
       "        text-align: right;\n",
       "    }\n",
       "</style>\n",
       "<table border=\"1\" class=\"dataframe\">\n",
       "  <thead>\n",
       "    <tr style=\"text-align: right;\">\n",
       "      <th></th>\n",
       "      <th>id_basica</th>\n",
       "      <th>sg_empresa_icao</th>\n",
       "      <th>nm_empresa</th>\n",
       "      <th>nm_pais</th>\n",
       "      <th>ds_tipo_empresa</th>\n",
       "      <th>ds_di</th>\n",
       "      <th>ds_grupo_di</th>\n",
       "      <th>ds_tipo_linha</th>\n",
       "      <th>ds_servico_tipo_linha</th>\n",
       "      <th>nr_etapa</th>\n",
       "      <th>nr_ano_partida_real</th>\n",
       "      <th>nm_semestre_partida_real</th>\n",
       "      <th>nm_trimestre_partida_real</th>\n",
       "      <th>hr_partida_real</th>\n",
       "      <th>dt_partida_real</th>\n",
       "      <th>nm_mes_partida_real</th>\n",
       "      <th>nr_mes_partida_real</th>\n",
       "      <th>nm_dia_semana_partida_real</th>\n",
       "      <th>nr_dia_partida_real</th>\n",
       "      <th>sg_iata_origem</th>\n",
       "      <th>nm_pais_origem</th>\n",
       "      <th>nm_regiao_origem</th>\n",
       "      <th>sg_uf_origem</th>\n",
       "      <th>nm_municipio_origem</th>\n",
       "      <th>nr_escala_destino</th>\n",
       "      <th>hr_chegada_real</th>\n",
       "      <th>dt_chegada_real</th>\n",
       "      <th>nm_mes_chegada_real</th>\n",
       "      <th>nr_mes_chegada_real</th>\n",
       "      <th>nm_dia_semana_chegada_real</th>\n",
       "      <th>nr_dia_chegada_real</th>\n",
       "      <th>sg_iata_destino</th>\n",
       "      <th>nm_pais_destino</th>\n",
       "      <th>nm_regiao_destino</th>\n",
       "      <th>sg_uf_destino</th>\n",
       "      <th>nm_municipio_destino</th>\n",
       "      <th>nr_assentos_ofertados</th>\n",
       "      <th>nr_passag_pagos</th>\n",
       "      <th>nr_passag_gratis</th>\n",
       "      <th>sg_equipamento_icao</th>\n",
       "      <th>lt_combustivel</th>\n",
       "      <th>km_distancia</th>\n",
       "      <th>nr_horas_voadas</th>\n",
       "      <th>kg_payload</th>\n",
       "      <th>kg_bagagem_livre</th>\n",
       "      <th>kg_bagagem_excesso</th>\n",
       "      <th>kg_carga_paga</th>\n",
       "      <th>kg_peso</th>\n",
       "      <th>nr_velocidade_media</th>\n",
       "      <th>nr_carga_paga_km</th>\n",
       "      <th>nr_ask</th>\n",
       "      <th>nr_rpk</th>\n",
       "    </tr>\n",
       "  </thead>\n",
       "  <tbody>\n",
       "    <tr>\n",
       "      <th>0</th>\n",
       "      <td>12017235</td>\n",
       "      <td>AZU</td>\n",
       "      <td>AZUL LINHAS AÉREAS BRASILEIRAS S.A.</td>\n",
       "      <td>BRASIL</td>\n",
       "      <td>TRANSPORTE AÉREO REGULAR</td>\n",
       "      <td>REGULAR PREVISTO EM HOTRAN</td>\n",
       "      <td>REGULAR</td>\n",
       "      <td>DOMÉSTICA MISTA</td>\n",
       "      <td>PASSAGEIRO</td>\n",
       "      <td>2</td>\n",
       "      <td>2016.0</td>\n",
       "      <td>1º SEMESTRE</td>\n",
       "      <td>1º TRIMESTRE</td>\n",
       "      <td>06:52:00</td>\n",
       "      <td>2016-01-01</td>\n",
       "      <td>JANEIRO</td>\n",
       "      <td>1.0</td>\n",
       "      <td>SEXTA-FEIRA</td>\n",
       "      <td>1.0</td>\n",
       "      <td>THE</td>\n",
       "      <td>BRASIL</td>\n",
       "      <td>NORDESTE</td>\n",
       "      <td>PI</td>\n",
       "      <td>TERESINA</td>\n",
       "      <td>NaN</td>\n",
       "      <td>08:23:00</td>\n",
       "      <td>2016-01-01</td>\n",
       "      <td>JANEIRO</td>\n",
       "      <td>1.0</td>\n",
       "      <td>SEXTA-FEIRA</td>\n",
       "      <td>1.0</td>\n",
       "      <td>REC</td>\n",
       "      <td>BRASIL</td>\n",
       "      <td>NORDESTE</td>\n",
       "      <td>PE</td>\n",
       "      <td>RECIFE</td>\n",
       "      <td>118</td>\n",
       "      <td>83</td>\n",
       "      <td>0</td>\n",
       "      <td>E195</td>\n",
       "      <td>3442</td>\n",
       "      <td>937.0</td>\n",
       "      <td>1,52</td>\n",
       "      <td>16842</td>\n",
       "      <td>1100</td>\n",
       "      <td>6</td>\n",
       "      <td>77</td>\n",
       "      <td>7408</td>\n",
       "      <td>616,393</td>\n",
       "      <td>72149</td>\n",
       "      <td>110566.0</td>\n",
       "      <td>77771.0</td>\n",
       "    </tr>\n",
       "    <tr>\n",
       "      <th>1</th>\n",
       "      <td>12017070</td>\n",
       "      <td>AZU</td>\n",
       "      <td>AZUL LINHAS AÉREAS BRASILEIRAS S.A.</td>\n",
       "      <td>BRASIL</td>\n",
       "      <td>TRANSPORTE AÉREO REGULAR</td>\n",
       "      <td>FRETAMENTO</td>\n",
       "      <td>NÃO REGULAR</td>\n",
       "      <td>DOMÉSTICA MISTA</td>\n",
       "      <td>PASSAGEIRO</td>\n",
       "      <td>1</td>\n",
       "      <td>2016.0</td>\n",
       "      <td>1º SEMESTRE</td>\n",
       "      <td>1º TRIMESTRE</td>\n",
       "      <td>01:43:00</td>\n",
       "      <td>2016-01-01</td>\n",
       "      <td>JANEIRO</td>\n",
       "      <td>1.0</td>\n",
       "      <td>SEXTA-FEIRA</td>\n",
       "      <td>1.0</td>\n",
       "      <td>SSA</td>\n",
       "      <td>BRASIL</td>\n",
       "      <td>NORDESTE</td>\n",
       "      <td>BA</td>\n",
       "      <td>SALVADOR</td>\n",
       "      <td>NaN</td>\n",
       "      <td>02:37:00</td>\n",
       "      <td>2016-01-01</td>\n",
       "      <td>JANEIRO</td>\n",
       "      <td>1.0</td>\n",
       "      <td>SEXTA-FEIRA</td>\n",
       "      <td>1.0</td>\n",
       "      <td>IOS</td>\n",
       "      <td>BRASIL</td>\n",
       "      <td>NORDESTE</td>\n",
       "      <td>BA</td>\n",
       "      <td>ILHÉUS</td>\n",
       "      <td>70</td>\n",
       "      <td>0</td>\n",
       "      <td>0</td>\n",
       "      <td>AT72</td>\n",
       "      <td>684</td>\n",
       "      <td>225.0</td>\n",
       "      <td>0,9</td>\n",
       "      <td>7435</td>\n",
       "      <td>0</td>\n",
       "      <td>0</td>\n",
       "      <td>0</td>\n",
       "      <td>0</td>\n",
       "      <td>250,491</td>\n",
       "      <td>0</td>\n",
       "      <td>15750.0</td>\n",
       "      <td>0.0</td>\n",
       "    </tr>\n",
       "    <tr>\n",
       "      <th>2</th>\n",
       "      <td>12017071</td>\n",
       "      <td>AZU</td>\n",
       "      <td>AZUL LINHAS AÉREAS BRASILEIRAS S.A.</td>\n",
       "      <td>BRASIL</td>\n",
       "      <td>TRANSPORTE AÉREO REGULAR</td>\n",
       "      <td>FRETAMENTO</td>\n",
       "      <td>NÃO REGULAR</td>\n",
       "      <td>DOMÉSTICA MISTA</td>\n",
       "      <td>PASSAGEIRO</td>\n",
       "      <td>1</td>\n",
       "      <td>2016.0</td>\n",
       "      <td>1º SEMESTRE</td>\n",
       "      <td>1º TRIMESTRE</td>\n",
       "      <td>02:58:00</td>\n",
       "      <td>2016-01-01</td>\n",
       "      <td>JANEIRO</td>\n",
       "      <td>1.0</td>\n",
       "      <td>SEXTA-FEIRA</td>\n",
       "      <td>1.0</td>\n",
       "      <td>IOS</td>\n",
       "      <td>BRASIL</td>\n",
       "      <td>NORDESTE</td>\n",
       "      <td>BA</td>\n",
       "      <td>ILHÉUS</td>\n",
       "      <td>NaN</td>\n",
       "      <td>04:51:00</td>\n",
       "      <td>2016-01-01</td>\n",
       "      <td>JANEIRO</td>\n",
       "      <td>1.0</td>\n",
       "      <td>SEXTA-FEIRA</td>\n",
       "      <td>1.0</td>\n",
       "      <td>MCZ</td>\n",
       "      <td>BRASIL</td>\n",
       "      <td>NORDESTE</td>\n",
       "      <td>AL</td>\n",
       "      <td>RIO LARGO</td>\n",
       "      <td>70</td>\n",
       "      <td>33</td>\n",
       "      <td>0</td>\n",
       "      <td>AT72</td>\n",
       "      <td>1392</td>\n",
       "      <td>687.0</td>\n",
       "      <td>1,88</td>\n",
       "      <td>7390</td>\n",
       "      <td>592</td>\n",
       "      <td>0</td>\n",
       "      <td>0</td>\n",
       "      <td>3067</td>\n",
       "      <td>365,32</td>\n",
       "      <td>0</td>\n",
       "      <td>48090.0</td>\n",
       "      <td>22671.0</td>\n",
       "    </tr>\n",
       "    <tr>\n",
       "      <th>3</th>\n",
       "      <td>12017072</td>\n",
       "      <td>AZU</td>\n",
       "      <td>AZUL LINHAS AÉREAS BRASILEIRAS S.A.</td>\n",
       "      <td>BRASIL</td>\n",
       "      <td>TRANSPORTE AÉREO REGULAR</td>\n",
       "      <td>FRETAMENTO</td>\n",
       "      <td>NÃO REGULAR</td>\n",
       "      <td>DOMÉSTICA MISTA</td>\n",
       "      <td>PASSAGEIRO</td>\n",
       "      <td>1</td>\n",
       "      <td>2016.0</td>\n",
       "      <td>1º SEMESTRE</td>\n",
       "      <td>1º TRIMESTRE</td>\n",
       "      <td>05:15:00</td>\n",
       "      <td>2016-01-01</td>\n",
       "      <td>JANEIRO</td>\n",
       "      <td>1.0</td>\n",
       "      <td>SEXTA-FEIRA</td>\n",
       "      <td>1.0</td>\n",
       "      <td>MCZ</td>\n",
       "      <td>BRASIL</td>\n",
       "      <td>NORDESTE</td>\n",
       "      <td>AL</td>\n",
       "      <td>RIO LARGO</td>\n",
       "      <td>NaN</td>\n",
       "      <td>06:32:00</td>\n",
       "      <td>2016-01-01</td>\n",
       "      <td>JANEIRO</td>\n",
       "      <td>1.0</td>\n",
       "      <td>SEXTA-FEIRA</td>\n",
       "      <td>1.0</td>\n",
       "      <td>SSA</td>\n",
       "      <td>BRASIL</td>\n",
       "      <td>NORDESTE</td>\n",
       "      <td>BA</td>\n",
       "      <td>SALVADOR</td>\n",
       "      <td>70</td>\n",
       "      <td>0</td>\n",
       "      <td>0</td>\n",
       "      <td>AT72</td>\n",
       "      <td>911</td>\n",
       "      <td>468.0</td>\n",
       "      <td>1,28</td>\n",
       "      <td>7535</td>\n",
       "      <td>0</td>\n",
       "      <td>0</td>\n",
       "      <td>0</td>\n",
       "      <td>150</td>\n",
       "      <td>365,496</td>\n",
       "      <td>0</td>\n",
       "      <td>32760.0</td>\n",
       "      <td>0.0</td>\n",
       "    </tr>\n",
       "    <tr>\n",
       "      <th>4</th>\n",
       "      <td>12017082</td>\n",
       "      <td>AZU</td>\n",
       "      <td>AZUL LINHAS AÉREAS BRASILEIRAS S.A.</td>\n",
       "      <td>BRASIL</td>\n",
       "      <td>TRANSPORTE AÉREO REGULAR</td>\n",
       "      <td>EXTRA SEM HOTRAN</td>\n",
       "      <td>NÃO REGULAR</td>\n",
       "      <td>INTERNACIONAL MISTA</td>\n",
       "      <td>PASSAGEIRO</td>\n",
       "      <td>1</td>\n",
       "      <td>2016.0</td>\n",
       "      <td>1º SEMESTRE</td>\n",
       "      <td>1º TRIMESTRE</td>\n",
       "      <td>13:25:00</td>\n",
       "      <td>2016-01-01</td>\n",
       "      <td>JANEIRO</td>\n",
       "      <td>1.0</td>\n",
       "      <td>SEXTA-FEIRA</td>\n",
       "      <td>1.0</td>\n",
       "      <td>VCP</td>\n",
       "      <td>BRASIL</td>\n",
       "      <td>SUDESTE</td>\n",
       "      <td>SP</td>\n",
       "      <td>CAMPINAS</td>\n",
       "      <td>NaN</td>\n",
       "      <td>22:24:00</td>\n",
       "      <td>2016-01-01</td>\n",
       "      <td>JANEIRO</td>\n",
       "      <td>1.0</td>\n",
       "      <td>SEXTA-FEIRA</td>\n",
       "      <td>1.0</td>\n",
       "      <td>MCO</td>\n",
       "      <td>ESTADOS UNIDOS DA AMÉRICA</td>\n",
       "      <td>NaN</td>\n",
       "      <td>NaN</td>\n",
       "      <td>ORLANDO, FLORIDA</td>\n",
       "      <td>266</td>\n",
       "      <td>260</td>\n",
       "      <td>6</td>\n",
       "      <td>A332</td>\n",
       "      <td>59747</td>\n",
       "      <td>6792.0</td>\n",
       "      <td>8,98</td>\n",
       "      <td>49489</td>\n",
       "      <td>4665</td>\n",
       "      <td>0</td>\n",
       "      <td>619</td>\n",
       "      <td>25234</td>\n",
       "      <td>756,301</td>\n",
       "      <td>4204250</td>\n",
       "      <td>1806670.0</td>\n",
       "      <td>1765920.0</td>\n",
       "    </tr>\n",
       "  </tbody>\n",
       "</table>\n",
       "</div>"
      ],
      "text/plain": [
       "  id_basica sg_empresa_icao                           nm_empresa nm_pais  \\\n",
       "0  12017235             AZU  AZUL LINHAS AÉREAS BRASILEIRAS S.A.  BRASIL   \n",
       "1  12017070             AZU  AZUL LINHAS AÉREAS BRASILEIRAS S.A.  BRASIL   \n",
       "2  12017071             AZU  AZUL LINHAS AÉREAS BRASILEIRAS S.A.  BRASIL   \n",
       "3  12017072             AZU  AZUL LINHAS AÉREAS BRASILEIRAS S.A.  BRASIL   \n",
       "4  12017082             AZU  AZUL LINHAS AÉREAS BRASILEIRAS S.A.  BRASIL   \n",
       "\n",
       "            ds_tipo_empresa                       ds_di  ds_grupo_di  \\\n",
       "0  TRANSPORTE AÉREO REGULAR  REGULAR PREVISTO EM HOTRAN      REGULAR   \n",
       "1  TRANSPORTE AÉREO REGULAR                  FRETAMENTO  NÃO REGULAR   \n",
       "2  TRANSPORTE AÉREO REGULAR                  FRETAMENTO  NÃO REGULAR   \n",
       "3  TRANSPORTE AÉREO REGULAR                  FRETAMENTO  NÃO REGULAR   \n",
       "4  TRANSPORTE AÉREO REGULAR            EXTRA SEM HOTRAN  NÃO REGULAR   \n",
       "\n",
       "         ds_tipo_linha ds_servico_tipo_linha  nr_etapa  nr_ano_partida_real  \\\n",
       "0      DOMÉSTICA MISTA            PASSAGEIRO         2               2016.0   \n",
       "1      DOMÉSTICA MISTA            PASSAGEIRO         1               2016.0   \n",
       "2      DOMÉSTICA MISTA            PASSAGEIRO         1               2016.0   \n",
       "3      DOMÉSTICA MISTA            PASSAGEIRO         1               2016.0   \n",
       "4  INTERNACIONAL MISTA            PASSAGEIRO         1               2016.0   \n",
       "\n",
       "  nm_semestre_partida_real nm_trimestre_partida_real hr_partida_real  \\\n",
       "0              1º SEMESTRE              1º TRIMESTRE        06:52:00   \n",
       "1              1º SEMESTRE              1º TRIMESTRE        01:43:00   \n",
       "2              1º SEMESTRE              1º TRIMESTRE        02:58:00   \n",
       "3              1º SEMESTRE              1º TRIMESTRE        05:15:00   \n",
       "4              1º SEMESTRE              1º TRIMESTRE        13:25:00   \n",
       "\n",
       "  dt_partida_real nm_mes_partida_real  nr_mes_partida_real  \\\n",
       "0      2016-01-01             JANEIRO                  1.0   \n",
       "1      2016-01-01             JANEIRO                  1.0   \n",
       "2      2016-01-01             JANEIRO                  1.0   \n",
       "3      2016-01-01             JANEIRO                  1.0   \n",
       "4      2016-01-01             JANEIRO                  1.0   \n",
       "\n",
       "  nm_dia_semana_partida_real  nr_dia_partida_real sg_iata_origem  \\\n",
       "0                SEXTA-FEIRA                  1.0            THE   \n",
       "1                SEXTA-FEIRA                  1.0            SSA   \n",
       "2                SEXTA-FEIRA                  1.0            IOS   \n",
       "3                SEXTA-FEIRA                  1.0            MCZ   \n",
       "4                SEXTA-FEIRA                  1.0            VCP   \n",
       "\n",
       "  nm_pais_origem nm_regiao_origem sg_uf_origem nm_municipio_origem  \\\n",
       "0         BRASIL         NORDESTE           PI            TERESINA   \n",
       "1         BRASIL         NORDESTE           BA            SALVADOR   \n",
       "2         BRASIL         NORDESTE           BA              ILHÉUS   \n",
       "3         BRASIL         NORDESTE           AL           RIO LARGO   \n",
       "4         BRASIL          SUDESTE           SP            CAMPINAS   \n",
       "\n",
       "   nr_escala_destino hr_chegada_real dt_chegada_real nm_mes_chegada_real  \\\n",
       "0                NaN        08:23:00      2016-01-01             JANEIRO   \n",
       "1                NaN        02:37:00      2016-01-01             JANEIRO   \n",
       "2                NaN        04:51:00      2016-01-01             JANEIRO   \n",
       "3                NaN        06:32:00      2016-01-01             JANEIRO   \n",
       "4                NaN        22:24:00      2016-01-01             JANEIRO   \n",
       "\n",
       "   nr_mes_chegada_real nm_dia_semana_chegada_real  nr_dia_chegada_real  \\\n",
       "0                  1.0                SEXTA-FEIRA                  1.0   \n",
       "1                  1.0                SEXTA-FEIRA                  1.0   \n",
       "2                  1.0                SEXTA-FEIRA                  1.0   \n",
       "3                  1.0                SEXTA-FEIRA                  1.0   \n",
       "4                  1.0                SEXTA-FEIRA                  1.0   \n",
       "\n",
       "  sg_iata_destino            nm_pais_destino nm_regiao_destino sg_uf_destino  \\\n",
       "0             REC                     BRASIL          NORDESTE            PE   \n",
       "1             IOS                     BRASIL          NORDESTE            BA   \n",
       "2             MCZ                     BRASIL          NORDESTE            AL   \n",
       "3             SSA                     BRASIL          NORDESTE            BA   \n",
       "4             MCO  ESTADOS UNIDOS DA AMÉRICA               NaN           NaN   \n",
       "\n",
       "  nm_municipio_destino  nr_assentos_ofertados  nr_passag_pagos  \\\n",
       "0               RECIFE                    118               83   \n",
       "1               ILHÉUS                     70                0   \n",
       "2            RIO LARGO                     70               33   \n",
       "3             SALVADOR                     70                0   \n",
       "4     ORLANDO, FLORIDA                    266              260   \n",
       "\n",
       "   nr_passag_gratis sg_equipamento_icao  lt_combustivel  km_distancia  \\\n",
       "0                 0                E195            3442         937.0   \n",
       "1                 0                AT72             684         225.0   \n",
       "2                 0                AT72            1392         687.0   \n",
       "3                 0                AT72             911         468.0   \n",
       "4                 6                A332           59747        6792.0   \n",
       "\n",
       "  nr_horas_voadas  kg_payload  kg_bagagem_livre  kg_bagagem_excesso  \\\n",
       "0            1,52       16842              1100                   6   \n",
       "1             0,9        7435                 0                   0   \n",
       "2            1,88        7390               592                   0   \n",
       "3            1,28        7535                 0                   0   \n",
       "4            8,98       49489              4665                   0   \n",
       "\n",
       "   kg_carga_paga  kg_peso nr_velocidade_media nr_carga_paga_km     nr_ask  \\\n",
       "0             77     7408             616,393            72149   110566.0   \n",
       "1              0        0             250,491                0    15750.0   \n",
       "2              0     3067              365,32                0    48090.0   \n",
       "3              0      150             365,496                0    32760.0   \n",
       "4            619    25234             756,301          4204250  1806670.0   \n",
       "\n",
       "      nr_rpk  \n",
       "0    77771.0  \n",
       "1        0.0  \n",
       "2    22671.0  \n",
       "3        0.0  \n",
       "4  1765920.0  "
      ]
     },
     "execution_count": 4,
     "metadata": {},
     "output_type": "execute_result"
    }
   ],
   "source": [
    "anac_df.head()"
   ]
  },
  {
   "cell_type": "code",
   "execution_count": 5,
   "metadata": {
    "ExecuteTime": {
     "end_time": "2020-04-09T03:10:17.048519Z",
     "start_time": "2020-04-09T03:10:17.042848Z"
    },
    "hidden": true
   },
   "outputs": [
    {
     "data": {
      "text/plain": [
       "(57, 3)"
      ]
     },
     "execution_count": 5,
     "metadata": {},
     "output_type": "execute_result"
    }
   ],
   "source": [
    "feriados.shape"
   ]
  },
  {
   "cell_type": "code",
   "execution_count": 6,
   "metadata": {
    "ExecuteTime": {
     "end_time": "2020-04-09T03:10:19.421647Z",
     "start_time": "2020-04-09T03:10:19.406821Z"
    },
    "hidden": true
   },
   "outputs": [
    {
     "data": {
      "text/html": [
       "<div>\n",
       "<style scoped>\n",
       "    .dataframe tbody tr th:only-of-type {\n",
       "        vertical-align: middle;\n",
       "    }\n",
       "\n",
       "    .dataframe tbody tr th {\n",
       "        vertical-align: top;\n",
       "    }\n",
       "\n",
       "    .dataframe thead th {\n",
       "        text-align: right;\n",
       "    }\n",
       "</style>\n",
       "<table border=\"1\" class=\"dataframe\">\n",
       "  <thead>\n",
       "    <tr style=\"text-align: right;\">\n",
       "      <th></th>\n",
       "      <th>data</th>\n",
       "      <th>fl_feriado</th>\n",
       "      <th>desc_feriado</th>\n",
       "    </tr>\n",
       "  </thead>\n",
       "  <tbody>\n",
       "    <tr>\n",
       "      <th>0</th>\n",
       "      <td>2016-01-01</td>\n",
       "      <td>1</td>\n",
       "      <td>confraternização universal (feriado nacional)</td>\n",
       "    </tr>\n",
       "    <tr>\n",
       "      <th>1</th>\n",
       "      <td>2016-02-09</td>\n",
       "      <td>1</td>\n",
       "      <td>(terça-feira ) – Carnaval (ponto facultativo)</td>\n",
       "    </tr>\n",
       "    <tr>\n",
       "      <th>2</th>\n",
       "      <td>2016-02-10</td>\n",
       "      <td>1</td>\n",
       "      <td>(quarta-feira ) – Quarta-feira  Cinzas (ponto...</td>\n",
       "    </tr>\n",
       "    <tr>\n",
       "      <th>3</th>\n",
       "      <td>2016-03-25</td>\n",
       "      <td>1</td>\n",
       "      <td>(sexta-feira ) – Paixão  Cristo (feriado naci...</td>\n",
       "    </tr>\n",
       "    <tr>\n",
       "      <th>4</th>\n",
       "      <td>2016-04-21</td>\n",
       "      <td>1</td>\n",
       "      <td>(quinta-feira) – Tirantes (feriado nacional)</td>\n",
       "    </tr>\n",
       "  </tbody>\n",
       "</table>\n",
       "</div>"
      ],
      "text/plain": [
       "         data  fl_feriado                                       desc_feriado\n",
       "0  2016-01-01           1      confraternização universal (feriado nacional)\n",
       "1  2016-02-09           1      (terça-feira ) – Carnaval (ponto facultativo)\n",
       "2  2016-02-10           1   (quarta-feira ) – Quarta-feira  Cinzas (ponto...\n",
       "3  2016-03-25           1   (sexta-feira ) – Paixão  Cristo (feriado naci...\n",
       "4  2016-04-21           1       (quinta-feira) – Tirantes (feriado nacional)"
      ]
     },
     "execution_count": 6,
     "metadata": {},
     "output_type": "execute_result"
    }
   ],
   "source": [
    "feriados.head()"
   ]
  },
  {
   "cell_type": "markdown",
   "metadata": {
    "heading_collapsed": true
   },
   "source": [
    "# Filter Route CGH - SDU"
   ]
  },
  {
   "cell_type": "code",
   "execution_count": 31,
   "metadata": {
    "ExecuteTime": {
     "end_time": "2020-04-09T03:35:19.667751Z",
     "start_time": "2020-04-09T03:35:19.409272Z"
    },
    "hidden": true
   },
   "outputs": [],
   "source": [
    "df_sp = anac_df.query(\"sg_iata_origem == 'CGH' & sg_iata_destino == 'SDU' & nr_passag_pagos != 0\")"
   ]
  },
  {
   "cell_type": "code",
   "execution_count": 9,
   "metadata": {
    "ExecuteTime": {
     "end_time": "2020-04-09T03:12:27.064969Z",
     "start_time": "2020-04-09T03:12:27.060183Z"
    },
    "hidden": true
   },
   "outputs": [
    {
     "data": {
      "text/plain": [
       "(79206, 52)"
      ]
     },
     "execution_count": 9,
     "metadata": {},
     "output_type": "execute_result"
    }
   ],
   "source": [
    "df_sp.shape"
   ]
  },
  {
   "cell_type": "markdown",
   "metadata": {},
   "source": [
    "# Feature Engineering"
   ]
  },
  {
   "cell_type": "markdown",
   "metadata": {
    "heading_collapsed": true
   },
   "source": [
    "## Holyday Variables"
   ]
  },
  {
   "cell_type": "code",
   "execution_count": 32,
   "metadata": {
    "ExecuteTime": {
     "end_time": "2020-04-09T03:35:33.821378Z",
     "start_time": "2020-04-09T03:35:33.802137Z"
    },
    "hidden": true
   },
   "outputs": [],
   "source": [
    "# creating variables for 1 and 2 days before a holyday\n",
    "\n",
    "feriados['data_d1'] = feriados.data.apply(lambda x: str((datetime.strptime(x, '%Y-%m-%d')- timedelta(days=1)).date()))\n",
    "feriados['data_d2'] = feriados.data.apply(lambda x: str((datetime.strptime(x, '%Y-%m-%d')- timedelta(days=2)).date()))\n",
    "feriados['fl_feriado_d1'] = feriados.fl_feriado\n",
    "feriados['fl_feriado_d2'] = feriados.fl_feriado"
   ]
  },
  {
   "cell_type": "code",
   "execution_count": 33,
   "metadata": {
    "ExecuteTime": {
     "end_time": "2020-04-09T03:35:35.580413Z",
     "start_time": "2020-04-09T03:35:35.557461Z"
    },
    "hidden": true
   },
   "outputs": [
    {
     "data": {
      "text/html": [
       "<div>\n",
       "<style scoped>\n",
       "    .dataframe tbody tr th:only-of-type {\n",
       "        vertical-align: middle;\n",
       "    }\n",
       "\n",
       "    .dataframe tbody tr th {\n",
       "        vertical-align: top;\n",
       "    }\n",
       "\n",
       "    .dataframe thead th {\n",
       "        text-align: right;\n",
       "    }\n",
       "</style>\n",
       "<table border=\"1\" class=\"dataframe\">\n",
       "  <thead>\n",
       "    <tr style=\"text-align: right;\">\n",
       "      <th></th>\n",
       "      <th>data</th>\n",
       "      <th>fl_feriado</th>\n",
       "      <th>desc_feriado</th>\n",
       "      <th>data_d1</th>\n",
       "      <th>data_d2</th>\n",
       "      <th>fl_feriado_d1</th>\n",
       "      <th>fl_feriado_d2</th>\n",
       "    </tr>\n",
       "  </thead>\n",
       "  <tbody>\n",
       "    <tr>\n",
       "      <th>0</th>\n",
       "      <td>2016-01-01</td>\n",
       "      <td>1</td>\n",
       "      <td>confraternização universal (feriado nacional)</td>\n",
       "      <td>2015-12-31</td>\n",
       "      <td>2015-12-30</td>\n",
       "      <td>1</td>\n",
       "      <td>1</td>\n",
       "    </tr>\n",
       "    <tr>\n",
       "      <th>1</th>\n",
       "      <td>2016-02-09</td>\n",
       "      <td>1</td>\n",
       "      <td>(terça-feira ) – Carnaval (ponto facultativo)</td>\n",
       "      <td>2016-02-08</td>\n",
       "      <td>2016-02-07</td>\n",
       "      <td>1</td>\n",
       "      <td>1</td>\n",
       "    </tr>\n",
       "    <tr>\n",
       "      <th>2</th>\n",
       "      <td>2016-02-10</td>\n",
       "      <td>1</td>\n",
       "      <td>(quarta-feira ) – Quarta-feira  Cinzas (ponto...</td>\n",
       "      <td>2016-02-09</td>\n",
       "      <td>2016-02-08</td>\n",
       "      <td>1</td>\n",
       "      <td>1</td>\n",
       "    </tr>\n",
       "    <tr>\n",
       "      <th>3</th>\n",
       "      <td>2016-03-25</td>\n",
       "      <td>1</td>\n",
       "      <td>(sexta-feira ) – Paixão  Cristo (feriado naci...</td>\n",
       "      <td>2016-03-24</td>\n",
       "      <td>2016-03-23</td>\n",
       "      <td>1</td>\n",
       "      <td>1</td>\n",
       "    </tr>\n",
       "    <tr>\n",
       "      <th>4</th>\n",
       "      <td>2016-04-21</td>\n",
       "      <td>1</td>\n",
       "      <td>(quinta-feira) – Tirantes (feriado nacional)</td>\n",
       "      <td>2016-04-20</td>\n",
       "      <td>2016-04-19</td>\n",
       "      <td>1</td>\n",
       "      <td>1</td>\n",
       "    </tr>\n",
       "  </tbody>\n",
       "</table>\n",
       "</div>"
      ],
      "text/plain": [
       "         data  fl_feriado                                       desc_feriado  \\\n",
       "0  2016-01-01           1      confraternização universal (feriado nacional)   \n",
       "1  2016-02-09           1      (terça-feira ) – Carnaval (ponto facultativo)   \n",
       "2  2016-02-10           1   (quarta-feira ) – Quarta-feira  Cinzas (ponto...   \n",
       "3  2016-03-25           1   (sexta-feira ) – Paixão  Cristo (feriado naci...   \n",
       "4  2016-04-21           1       (quinta-feira) – Tirantes (feriado nacional)   \n",
       "\n",
       "      data_d1     data_d2  fl_feriado_d1  fl_feriado_d2  \n",
       "0  2015-12-31  2015-12-30              1              1  \n",
       "1  2016-02-08  2016-02-07              1              1  \n",
       "2  2016-02-09  2016-02-08              1              1  \n",
       "3  2016-03-24  2016-03-23              1              1  \n",
       "4  2016-04-20  2016-04-19              1              1  "
      ]
     },
     "execution_count": 33,
     "metadata": {},
     "output_type": "execute_result"
    }
   ],
   "source": [
    "feriados.head()"
   ]
  },
  {
   "cell_type": "code",
   "execution_count": 34,
   "metadata": {
    "ExecuteTime": {
     "end_time": "2020-04-09T03:35:37.720453Z",
     "start_time": "2020-04-09T03:35:37.235258Z"
    },
    "hidden": true
   },
   "outputs": [],
   "source": [
    "# joins with df_sp\n",
    "df_sp = df_sp.merge(feriados[['data','fl_feriado']], left_on='dt_partida_real', right_on='data', how = 'left')\n",
    "df_sp = df_sp.merge(feriados[['data_d1','fl_feriado_d1']], left_on='dt_partida_real', right_on='data_d1', how = 'left')\n",
    "df_sp = df_sp.merge(feriados[['data_d2','fl_feriado_d2']], left_on='dt_partida_real', right_on='data_d2', how = 'left')"
   ]
  },
  {
   "cell_type": "code",
   "execution_count": 35,
   "metadata": {
    "ExecuteTime": {
     "end_time": "2020-04-09T03:35:40.398505Z",
     "start_time": "2020-04-09T03:35:40.208486Z"
    },
    "hidden": true
   },
   "outputs": [],
   "source": [
    "# filling nulls\n",
    "df_sp.fillna(0,inplace=True)"
   ]
  },
  {
   "cell_type": "code",
   "execution_count": 36,
   "metadata": {
    "ExecuteTime": {
     "end_time": "2020-04-09T03:35:42.242278Z",
     "start_time": "2020-04-09T03:35:42.154744Z"
    },
    "hidden": true
   },
   "outputs": [],
   "source": [
    "# droping variables\n",
    "\n",
    "keep_list = [\"id_basica\",\n",
    "             \"sg_empresa_icao\",\n",
    "             \"nr_etapa\",\n",
    "             \"hr_partida_real\",\n",
    "             \"nr_dia_partida_real\",\n",
    "             \"nm_dia_semana_partida_real\",\n",
    "             \"nm_mes_partida_real\",\n",
    "             \"nr_mes_partida_real\",\n",
    "             \"dt_partida_real\",\n",
    "             \"fl_feriado\",\n",
    "             \"fl_feriado_d1\",\n",
    "             \"fl_feriado_d2\",\n",
    "             \"hr_chegada_real\",\n",
    "             \"nr_dia_chegada_real\",\n",
    "             \"nm_dia_semana_chegada_real\",\n",
    "             \"dt_chegada_real\",\n",
    "             \"nr_ano_partida_real\",\n",
    "             \"nr_assentos_ofertados\",\n",
    "             \"nr_passag_pagos\"]\n",
    "\n",
    "df_sp = df_sp[keep_list]"
   ]
  },
  {
   "cell_type": "markdown",
   "metadata": {
    "heading_collapsed": true
   },
   "source": [
    "## Encoding Categorical Variables"
   ]
  },
  {
   "cell_type": "code",
   "execution_count": 37,
   "metadata": {
    "ExecuteTime": {
     "end_time": "2020-04-09T03:35:47.134569Z",
     "start_time": "2020-04-09T03:35:47.008735Z"
    },
    "hidden": true
   },
   "outputs": [],
   "source": [
    "# tranforming hours variables into bins of one hour interval\n",
    "df_sp['hr_partida_round'] = df_sp.hr_partida_real.apply( lambda x : int(x[:2]))\n",
    "df_sp['hr_chegada_round'] = df_sp.hr_chegada_real.apply( lambda x : int(x[:2]))"
   ]
  },
  {
   "cell_type": "code",
   "execution_count": 38,
   "metadata": {
    "ExecuteTime": {
     "end_time": "2020-04-09T03:35:48.236383Z",
     "start_time": "2020-04-09T03:35:48.139327Z"
    },
    "hidden": true
   },
   "outputs": [],
   "source": [
    "# Encoding days of the week variables\n",
    "cat_encoding = {\"nm_dia_semana_partida_real\": {\"DOMINGO\": 1,\"SEGUNDA-FEIRA\": 2,\"TERÇA-FEIRA\": 3,\"QUARTA-FEIRA\": 4,\"QUINTA-FEIRA\": 5, \"SEXTA-FEIRA\": 6, \"SÁBADO\": 7},\n",
    "                \"nm_dia_semana_chegada_real\": {\"DOMINGO\": 1,\"SEGUNDA-FEIRA\": 2,\"TERÇA-FEIRA\": 3,\"QUARTA-FEIRA\": 4,\"QUINTA-FEIRA\": 5, \"SEXTA-FEIRA\": 6, \"SÁBADO\": 7}}\n",
    "\n",
    "df_sp.replace(cat_encoding, inplace = True)"
   ]
  },
  {
   "cell_type": "code",
   "execution_count": 39,
   "metadata": {
    "ExecuteTime": {
     "end_time": "2020-04-09T03:35:49.422430Z",
     "start_time": "2020-04-09T03:35:49.407779Z"
    },
    "hidden": true
   },
   "outputs": [],
   "source": [
    "# Droping variables\n",
    "df_sp.drop(['id_basica','sg_empresa_icao','nr_etapa','hr_partida_real','nr_ano_partida_real','dt_chegada_real','hr_chegada_real','nm_mes_partida_real'],axis=1, inplace=True)"
   ]
  },
  {
   "cell_type": "markdown",
   "metadata": {},
   "source": [
    "## Grouping Data into hourly bins"
   ]
  },
  {
   "cell_type": "code",
   "execution_count": 49,
   "metadata": {
    "ExecuteTime": {
     "end_time": "2020-04-09T03:42:48.724060Z",
     "start_time": "2020-04-09T03:42:48.635642Z"
    }
   },
   "outputs": [],
   "source": [
    "df_sp_grouped = df_sp.groupby(['nr_dia_partida_real','nm_dia_semana_partida_real','nr_mes_partida_real','dt_partida_real','nr_dia_chegada_real','nm_dia_semana_chegada_real','hr_partida_round','fl_feriado','fl_feriado_d1','fl_feriado_d2']).agg(nr_passag_pagos=('nr_passag_pagos', np.sum),\n",
    "nr_assentos_ofertados=('nr_assentos_ofertados', np.sum)).reset_index()"
   ]
  },
  {
   "cell_type": "code",
   "execution_count": 50,
   "metadata": {
    "ExecuteTime": {
     "end_time": "2020-04-09T03:42:49.959213Z",
     "start_time": "2020-04-09T03:42:49.944728Z"
    }
   },
   "outputs": [
    {
     "data": {
      "text/plain": [
       "(23571, 12)"
      ]
     },
     "execution_count": 50,
     "metadata": {},
     "output_type": "execute_result"
    }
   ],
   "source": [
    "df_sp_grouped.shape"
   ]
  },
  {
   "cell_type": "code",
   "execution_count": 51,
   "metadata": {
    "ExecuteTime": {
     "end_time": "2020-04-09T03:42:52.358487Z",
     "start_time": "2020-04-09T03:42:52.321085Z"
    }
   },
   "outputs": [
    {
     "data": {
      "text/html": [
       "<div>\n",
       "<style scoped>\n",
       "    .dataframe tbody tr th:only-of-type {\n",
       "        vertical-align: middle;\n",
       "    }\n",
       "\n",
       "    .dataframe tbody tr th {\n",
       "        vertical-align: top;\n",
       "    }\n",
       "\n",
       "    .dataframe thead th {\n",
       "        text-align: right;\n",
       "    }\n",
       "</style>\n",
       "<table border=\"1\" class=\"dataframe\">\n",
       "  <thead>\n",
       "    <tr style=\"text-align: right;\">\n",
       "      <th></th>\n",
       "      <th>nr_dia_partida_real</th>\n",
       "      <th>nm_dia_semana_partida_real</th>\n",
       "      <th>nr_mes_partida_real</th>\n",
       "      <th>dt_partida_real</th>\n",
       "      <th>nr_dia_chegada_real</th>\n",
       "      <th>nm_dia_semana_chegada_real</th>\n",
       "      <th>hr_partida_round</th>\n",
       "      <th>fl_feriado</th>\n",
       "      <th>fl_feriado_d1</th>\n",
       "      <th>fl_feriado_d2</th>\n",
       "      <th>nr_passag_pagos</th>\n",
       "      <th>nr_assentos_ofertados</th>\n",
       "    </tr>\n",
       "  </thead>\n",
       "  <tbody>\n",
       "    <tr>\n",
       "      <th>0</th>\n",
       "      <td>1.0</td>\n",
       "      <td>1</td>\n",
       "      <td>1.0</td>\n",
       "      <td>2017-01-01</td>\n",
       "      <td>1.0</td>\n",
       "      <td>1</td>\n",
       "      <td>8</td>\n",
       "      <td>1.0</td>\n",
       "      <td>0.0</td>\n",
       "      <td>0.0</td>\n",
       "      <td>60</td>\n",
       "      <td>177</td>\n",
       "    </tr>\n",
       "    <tr>\n",
       "      <th>1</th>\n",
       "      <td>1.0</td>\n",
       "      <td>1</td>\n",
       "      <td>1.0</td>\n",
       "      <td>2017-01-01</td>\n",
       "      <td>1.0</td>\n",
       "      <td>1</td>\n",
       "      <td>9</td>\n",
       "      <td>1.0</td>\n",
       "      <td>0.0</td>\n",
       "      <td>0.0</td>\n",
       "      <td>146</td>\n",
       "      <td>441</td>\n",
       "    </tr>\n",
       "    <tr>\n",
       "      <th>2</th>\n",
       "      <td>1.0</td>\n",
       "      <td>1</td>\n",
       "      <td>1.0</td>\n",
       "      <td>2017-01-01</td>\n",
       "      <td>1.0</td>\n",
       "      <td>1</td>\n",
       "      <td>10</td>\n",
       "      <td>1.0</td>\n",
       "      <td>0.0</td>\n",
       "      <td>0.0</td>\n",
       "      <td>292</td>\n",
       "      <td>465</td>\n",
       "    </tr>\n",
       "    <tr>\n",
       "      <th>3</th>\n",
       "      <td>1.0</td>\n",
       "      <td>1</td>\n",
       "      <td>1.0</td>\n",
       "      <td>2017-01-01</td>\n",
       "      <td>1.0</td>\n",
       "      <td>1</td>\n",
       "      <td>11</td>\n",
       "      <td>1.0</td>\n",
       "      <td>0.0</td>\n",
       "      <td>0.0</td>\n",
       "      <td>180</td>\n",
       "      <td>321</td>\n",
       "    </tr>\n",
       "    <tr>\n",
       "      <th>4</th>\n",
       "      <td>1.0</td>\n",
       "      <td>1</td>\n",
       "      <td>1.0</td>\n",
       "      <td>2017-01-01</td>\n",
       "      <td>1.0</td>\n",
       "      <td>1</td>\n",
       "      <td>12</td>\n",
       "      <td>1.0</td>\n",
       "      <td>0.0</td>\n",
       "      <td>0.0</td>\n",
       "      <td>222</td>\n",
       "      <td>276</td>\n",
       "    </tr>\n",
       "  </tbody>\n",
       "</table>\n",
       "</div>"
      ],
      "text/plain": [
       "   nr_dia_partida_real  nm_dia_semana_partida_real  nr_mes_partida_real  \\\n",
       "0                  1.0                           1                  1.0   \n",
       "1                  1.0                           1                  1.0   \n",
       "2                  1.0                           1                  1.0   \n",
       "3                  1.0                           1                  1.0   \n",
       "4                  1.0                           1                  1.0   \n",
       "\n",
       "  dt_partida_real  nr_dia_chegada_real  nm_dia_semana_chegada_real  \\\n",
       "0      2017-01-01                  1.0                           1   \n",
       "1      2017-01-01                  1.0                           1   \n",
       "2      2017-01-01                  1.0                           1   \n",
       "3      2017-01-01                  1.0                           1   \n",
       "4      2017-01-01                  1.0                           1   \n",
       "\n",
       "   hr_partida_round  fl_feriado  fl_feriado_d1  fl_feriado_d2  \\\n",
       "0                 8         1.0            0.0            0.0   \n",
       "1                 9         1.0            0.0            0.0   \n",
       "2                10         1.0            0.0            0.0   \n",
       "3                11         1.0            0.0            0.0   \n",
       "4                12         1.0            0.0            0.0   \n",
       "\n",
       "   nr_passag_pagos  nr_assentos_ofertados  \n",
       "0               60                    177  \n",
       "1              146                    441  \n",
       "2              292                    465  \n",
       "3              180                    321  \n",
       "4              222                    276  "
      ]
     },
     "execution_count": 51,
     "metadata": {},
     "output_type": "execute_result"
    }
   ],
   "source": [
    "df_sp_grouped.head()"
   ]
  },
  {
   "cell_type": "markdown",
   "metadata": {
    "heading_collapsed": true
   },
   "source": [
    "# EDA"
   ]
  },
  {
   "cell_type": "code",
   "execution_count": 120,
   "metadata": {
    "ExecuteTime": {
     "end_time": "2020-04-08T02:42:54.308703Z",
     "start_time": "2020-04-08T02:42:53.190182Z"
    },
    "hidden": true
   },
   "outputs": [
    {
     "data": {
      "image/png": "[encoded data removed]",
      "text/plain": [
       "<Figure size 432x288 with 9 Axes>"
      ]
     },
     "metadata": {
      "needs_background": "light"
     },
     "output_type": "display_data"
    }
   ],
   "source": [
    "data_enc.hist();"
   ]
  },
  {
   "cell_type": "markdown",
   "metadata": {},
   "source": [
    "# Modeling"
   ]
  },
  {
   "cell_type": "markdown",
   "metadata": {},
   "source": [
    "## Random Forests"
   ]
  },
  {
   "cell_type": "code",
   "execution_count": 70,
   "metadata": {
    "ExecuteTime": {
     "end_time": "2020-04-09T03:56:25.754428Z",
     "start_time": "2020-04-09T03:56:25.730979Z"
    }
   },
   "outputs": [],
   "source": [
    "X = df_sp_grouped.drop(['nr_passag_pagos','dt_partida_real','nr_assentos_ofertados'],axis=1)\n",
    "y = df_sp_grouped.nr_passag_pagos\n",
    "\n",
    "X_train, X_test, y_train, y_test = train_test_split(X, y, test_size=0.33, random_state=seed)"
   ]
  },
  {
   "cell_type": "code",
   "execution_count": 71,
   "metadata": {
    "ExecuteTime": {
     "end_time": "2020-04-09T03:59:11.340651Z",
     "start_time": "2020-04-09T03:56:26.822312Z"
    }
   },
   "outputs": [
    {
     "name": "stdout",
     "output_type": "stream",
     "text": [
      "{'max_depth': 10, 'max_features': 'auto', 'n_estimators': 450}\n"
     ]
    }
   ],
   "source": [
    "if training:\n",
    "\n",
    "    rf = RandomForestRegressor(random_state=seed, n_jobs=-1)\n",
    "\n",
    "    param_grid = {'n_estimators' : [350,400,450],\n",
    "                  'max_depth' : [8,10,15],\n",
    "                  'max_features':['auto']}\n",
    "\n",
    "    grid = GridSearchCV(rf, param_grid=param_grid, cv=5,return_train_score = True).fit(X_train, y_train)\n",
    "\n",
    "    reg_rf = grid.best_estimator_.fit(X_train,y_train)\n",
    "\n",
    "    print(grid.best_params_)\n",
    "   # print(grid.cv_results_)"
   ]
  },
  {
   "cell_type": "code",
   "execution_count": 72,
   "metadata": {
    "ExecuteTime": {
     "end_time": "2020-04-09T03:59:12.306014Z",
     "start_time": "2020-04-09T03:59:11.585806Z"
    }
   },
   "outputs": [
    {
     "name": "stdout",
     "output_type": "stream",
     "text": [
      "train MAE: 92.27891058785558\n",
      "test MAE: 98.47591095385991\n"
     ]
    }
   ],
   "source": [
    "print(\"train MAE: {}\".format(mean_absolute_error(y_train,reg_rf.predict(X_train))))\n",
    "print(\"test MAE: {}\".format(mean_absolute_error(y_test,reg_rf.predict(X_test))))\n",
    "print(\"train MAPE: {:.2f} %\".format(MAPE(y_train,reg_rf.predict(X_train))))\n",
    "print(\"test MAPE: {:.2f} %\".format(MAPE(y_test,reg_rf.predict(X_test))))"
   ]
  },
  {
   "cell_type": "code",
   "execution_count": 73,
   "metadata": {
    "ExecuteTime": {
     "end_time": "2020-04-09T03:59:13.179794Z",
     "start_time": "2020-04-09T03:59:12.560400Z"
    }
   },
   "outputs": [
    {
     "name": "stdout",
     "output_type": "stream",
     "text": [
      "train MAPE: 37.10 %\n",
      "test MAPE: 45.46 %\n"
     ]
    }
   ],
   "source": []
  },
  {
   "cell_type": "markdown",
   "metadata": {},
   "source": [
    "## Gradient Boosting sklearn"
   ]
  },
  {
   "cell_type": "code",
   "execution_count": 86,
   "metadata": {
    "ExecuteTime": {
     "end_time": "2020-04-09T04:27:37.021889Z",
     "start_time": "2020-04-09T04:10:40.559752Z"
    }
   },
   "outputs": [
    {
     "name": "stdout",
     "output_type": "stream",
     "text": [
      "{'learning_rate': 0.01, 'loss': 'ls', 'max_depth': 5, 'min_samples_split': 3, 'n_estimators': 2000}\n"
     ]
    }
   ],
   "source": [
    "if training:\n",
    "    gb = GradientBoostingRegressor(random_state=seed)\n",
    "    \n",
    "    param_grid = {'n_estimators': [1000,2000], \n",
    "                     'max_depth': [4,5],\n",
    "             'min_samples_split': [2,3],\n",
    "                 'learning_rate': [0.01,0.1],\n",
    "                          'loss': ['ls']}\n",
    "    \n",
    "    grid = GridSearchCV(gb, param_grid=param_grid, cv=5,return_train_score = True).fit(X_train, y_train)\n",
    "\n",
    "    reg_gb = grid.best_estimator_.fit(X_train,y_train)\n",
    "\n",
    "    print(grid.best_params_)\n",
    "   # print(grid.cv_results_)"
   ]
  },
  {
   "cell_type": "code",
   "execution_count": 87,
   "metadata": {
    "ExecuteTime": {
     "end_time": "2020-04-09T04:27:39.828357Z",
     "start_time": "2020-04-09T04:27:37.278334Z"
    }
   },
   "outputs": [
    {
     "name": "stdout",
     "output_type": "stream",
     "text": [
      "train MAE: 91.52395067779185\n",
      "test MAE: 95.5815090948045\n",
      "train MAPE: 36.84 %\n",
      "test MAPE: 44.15 %\n"
     ]
    }
   ],
   "source": [
    "print(\"train MAE: {}\".format(mean_absolute_error(y_train,reg_gb.predict(X_train))))\n",
    "print(\"test MAE: {}\".format(mean_absolute_error(y_test,reg_gb.predict(X_test))))\n",
    "print(\"train MAPE: {:.2f} %\".format(MAPE(y_train,reg_gb.predict(X_train))))\n",
    "print(\"test MAPE: {:.2f} %\".format(MAPE(y_test,reg_gb.predict(X_test))))"
   ]
  },
  {
   "cell_type": "markdown",
   "metadata": {},
   "source": [
    "# Modeling without holydays"
   ]
  },
  {
   "cell_type": "code",
   "execution_count": 65,
   "metadata": {
    "ExecuteTime": {
     "end_time": "2020-04-09T03:53:17.711271Z",
     "start_time": "2020-04-09T03:53:17.690845Z"
    }
   },
   "outputs": [],
   "source": [
    "X = df_sp_grouped.drop(['nr_passag_pagos','dt_partida_real','nr_assentos_ofertados','fl_feriado','fl_feriado_d1','fl_feriado_d2'],axis=1)\n",
    "y = df_sp_grouped.nr_passag_pagos\n",
    "\n",
    "X_train, X_test, y_train, y_test = train_test_split(X, y, test_size=0.33, random_state=seed)"
   ]
  },
  {
   "cell_type": "code",
   "execution_count": 66,
   "metadata": {
    "ExecuteTime": {
     "end_time": "2020-04-09T03:55:05.289400Z",
     "start_time": "2020-04-09T03:53:29.402567Z"
    }
   },
   "outputs": [
    {
     "name": "stdout",
     "output_type": "stream",
     "text": [
      "{'max_depth': 10, 'max_features': 'auto', 'n_estimators': 400}\n"
     ]
    }
   ],
   "source": [
    "if training:\n",
    "\n",
    "    rf = RandomForestRegressor(random_state=seed, n_jobs=-1)\n",
    "\n",
    "    param_grid = {'n_estimators' : [300,400],\n",
    "                  'max_depth' : [6,10,20],\n",
    "                  'max_features':['auto']}\n",
    "\n",
    "    grid = GridSearchCV(rf, param_grid=param_grid, cv=5,return_train_score = True).fit(X_train, y_train)\n",
    "\n",
    "    reg_rf = grid.best_estimator_.fit(X_train,y_train)\n",
    "\n",
    "    print(grid.best_params_)\n",
    "   # print(grid.cv_results_)"
   ]
  },
  {
   "cell_type": "code",
   "execution_count": 67,
   "metadata": {
    "ExecuteTime": {
     "end_time": "2020-04-09T03:55:06.282129Z",
     "start_time": "2020-04-09T03:55:05.645764Z"
    }
   },
   "outputs": [
    {
     "name": "stdout",
     "output_type": "stream",
     "text": [
      "train MAE: 93.10326930355403\n",
      "test MAE: 100.1604704239754\n"
     ]
    }
   ],
   "source": [
    "print(\"train MAE: {}\".format(mean_absolute_error(y_train,reg_rf.predict(X_train))))\n",
    "print(\"test MAE: {}\".format(mean_absolute_error(y_test,reg_rf.predict(X_test))))"
   ]
  },
  {
   "cell_type": "code",
   "execution_count": 68,
   "metadata": {
    "ExecuteTime": {
     "end_time": "2020-04-09T03:55:07.088850Z",
     "start_time": "2020-04-09T03:55:06.575360Z"
    }
   },
   "outputs": [
    {
     "name": "stdout",
     "output_type": "stream",
     "text": [
      "train MAPE: 38.06 %\n",
      "test MAPE: 47.00 %\n"
     ]
    }
   ],
   "source": [
    "print(\"train MAPE: {:.2f} %\".format(MAPE(y_train,reg_rf.predict(X_train))))\n",
    "print(\"test MAPE: {:.2f} %\".format(MAPE(y_test,reg_rf.predict(X_test))))"
   ]
  },
  {
   "cell_type": "markdown",
   "metadata": {},
   "source": [
    "# Feriados d-1"
   ]
  },
  {
   "cell_type": "code",
   "execution_count": 12,
   "metadata": {
    "ExecuteTime": {
     "end_time": "2020-04-09T00:45:56.554495Z",
     "start_time": "2020-04-09T00:45:56.544610Z"
    }
   },
   "outputs": [],
   "source": [
    "X = data_grouped.drop(['nr_passag_pagos','dt_partida_real','nr_assentos_ofertados'],axis=1)\n",
    "y = data_grouped.nr_passag_pagos\n",
    "\n",
    "X_train, X_test, y_train, y_test = train_test_split(X, y, test_size=0.33, random_state=seed)"
   ]
  },
  {
   "cell_type": "code",
   "execution_count": 13,
   "metadata": {
    "ExecuteTime": {
     "end_time": "2020-04-09T00:49:56.951149Z",
     "start_time": "2020-04-09T00:45:56.843336Z"
    }
   },
   "outputs": [
    {
     "name": "stdout",
     "output_type": "stream",
     "text": [
      "{'max_depth': 20, 'max_features': 'auto', 'n_estimators': 600}\n",
      "{'mean_fit_time': array([ 8.42685008,  9.8788115 ,  9.40908051, 11.22145987]), 'std_fit_time': array([0.61023936, 0.1064249 , 0.04604737, 0.09600827]), 'mean_score_time': array([0.20400319, 0.304563  , 0.30462289, 0.30411201]), 'std_score_time': array([0.00161617, 0.00048201, 0.00049977, 0.00067279]), 'param_max_depth': masked_array(data=[20, 20, 30, 30],\n",
      "             mask=[False, False, False, False],\n",
      "       fill_value='?',\n",
      "            dtype=object), 'param_max_features': masked_array(data=['auto', 'auto', 'auto', 'auto'],\n",
      "             mask=[False, False, False, False],\n",
      "       fill_value='?',\n",
      "            dtype=object), 'param_n_estimators': masked_array(data=[500, 600, 500, 600],\n",
      "             mask=[False, False, False, False],\n",
      "       fill_value='?',\n",
      "            dtype=object), 'params': [{'max_depth': 20, 'max_features': 'auto', 'n_estimators': 500}, {'max_depth': 20, 'max_features': 'auto', 'n_estimators': 600}, {'max_depth': 30, 'max_features': 'auto', 'n_estimators': 500}, {'max_depth': 30, 'max_features': 'auto', 'n_estimators': 600}], 'split0_test_score': array([0.53427472, 0.53479796, 0.51079219, 0.5107823 ]), 'split1_test_score': array([0.49291831, 0.49400592, 0.46837836, 0.46927163]), 'split2_test_score': array([0.51790309, 0.51804663, 0.49563576, 0.49583474]), 'split3_test_score': array([0.51379585, 0.51396967, 0.48905713, 0.48931795]), 'split4_test_score': array([0.49901387, 0.49945203, 0.47357963, 0.47446973]), 'mean_test_score': array([0.51158224, 0.51205552, 0.48748972, 0.48793635]), 'std_test_score': array([0.0146026 , 0.0144325 , 0.01530116, 0.01494004]), 'rank_test_score': array([2, 1, 4, 3], dtype=int32), 'split0_train_score': array([0.85237564, 0.85245273, 0.92945413, 0.92954795]), 'split1_train_score': array([0.85505491, 0.8549297 , 0.93050919, 0.93047622]), 'split2_train_score': array([0.84829704, 0.84850739, 0.92956338, 0.92958673]), 'split3_train_score': array([0.84364992, 0.84398089, 0.93096931, 0.93104266]), 'split4_train_score': array([0.84329746, 0.84353457, 0.93034236, 0.93034026]), 'mean_train_score': array([0.84853499, 0.84868105, 0.93016767, 0.93019876]), 'std_train_score': array([0.00466073, 0.00451396, 0.0005769 , 0.00056697])}\n"
     ]
    }
   ],
   "source": [
    "if training:\n",
    "\n",
    "    rf = RandomForestRegressor(random_state=seed, n_jobs=-1)\n",
    "\n",
    "    param_grid = {'n_estimators' : [500,600],\n",
    "                  'max_depth' : [20,30],\n",
    "                  'max_features':['auto']}\n",
    "\n",
    "    grid = GridSearchCV(rf, param_grid=param_grid, cv=5,return_train_score = True).fit(X_train, y_train)\n",
    "\n",
    "    reg_rf = grid.best_estimator_.fit(X_train,y_train)\n",
    "\n",
    "    print(grid.best_params_)\n",
    "    print(grid.cv_results_)"
   ]
  },
  {
   "cell_type": "code",
   "execution_count": 14,
   "metadata": {
    "ExecuteTime": {
     "end_time": "2020-04-09T00:49:59.137895Z",
     "start_time": "2020-04-09T00:49:57.404955Z"
    }
   },
   "outputs": [
    {
     "name": "stdout",
     "output_type": "stream",
     "text": [
      "train MAE: 49.58872293104551\n",
      "test MAE: 88.75504066830496\n"
     ]
    }
   ],
   "source": [
    "print(\"train MAE: {}\".format(mean_absolute_error(y_train,reg_rf.predict(X_train))))\n",
    "print(\"test MAE: {}\".format(mean_absolute_error(y_test,reg_rf.predict(X_test))))"
   ]
  }
 ],
 "metadata": {
  "kernelspec": {
   "display_name": "Python 3",
   "language": "python",
   "name": "python3"
  },
  "language_info": {
   "codemirror_mode": {
    "name": "ipython",
    "version": 3
   },
   "file_extension": ".py",
   "mimetype": "text/x-python",
   "name": "python",
   "nbconvert_exporter": "python",
   "pygments_lexer": "ipython3",
   "version": "3.6.9"
  },
  "toc": {
   "base_numbering": 1,
   "nav_menu": {},
   "number_sections": true,
   "sideBar": true,
   "skip_h1_title": false,
   "title_cell": "Table of Contents",
   "title_sidebar": "Contents",
   "toc_cell": false,
   "toc_position": {},
   "toc_section_display": true,
   "toc_window_display": false
  },
  "varInspector": {
   "cols": {
    "lenName": 16,
    "lenType": 16,
    "lenVar": 40
   },
   "kernels_config": {
    "python": {
     "delete_cmd_postfix": "",
     "delete_cmd_prefix": "del ",
     "library": "var_list.py",
     "varRefreshCmd": "print(var_dic_list())"
    },
    "r": {
     "delete_cmd_postfix": ") ",
     "delete_cmd_prefix": "rm(",
     "library": "var_list.r",
     "varRefreshCmd": "cat(var_dic_list()) "
    }
   },
   "types_to_exclude": [
    "module",
    "function",
    "builtin_function_or_method",
    "instance",
    "_Feature"
   ],
   "window_display": false
  }
 },
 "nbformat": 4,
 "nbformat_minor": 2
}
