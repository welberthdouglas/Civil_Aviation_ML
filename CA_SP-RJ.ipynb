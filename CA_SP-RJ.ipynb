{
 "cells": [
  {
   "cell_type": "markdown",
   "metadata": {
    "toc": true
   },
   "source": [
    "<h1>Table of Contents<span class=\"tocSkip\"></span></h1>\n",
    "<div class=\"toc\"><ul class=\"toc-item\"><li><span><a href=\"#Imports\" data-toc-modified-id=\"Imports-1\"><span class=\"toc-item-num\">1&nbsp;&nbsp;</span>Imports</a></span></li><li><span><a href=\"#Loading-Data\" data-toc-modified-id=\"Loading-Data-2\"><span class=\"toc-item-num\">2&nbsp;&nbsp;</span>Loading Data</a></span></li><li><span><a href=\"#Feature-Engineering\" data-toc-modified-id=\"Feature-Engineering-3\"><span class=\"toc-item-num\">3&nbsp;&nbsp;</span>Feature Engineering</a></span><ul class=\"toc-item\"><li><span><a href=\"#Holyday-Variables\" data-toc-modified-id=\"Holyday-Variables-3.1\"><span class=\"toc-item-num\">3.1&nbsp;&nbsp;</span>Holyday Variables</a></span></li><li><span><a href=\"#Training-and-Out-of-Time-Data\" data-toc-modified-id=\"Training-and-Out-of-Time-Data-3.2\"><span class=\"toc-item-num\">3.2&nbsp;&nbsp;</span>Training and Out of Time Data</a></span></li></ul></li><li><span><a href=\"#EDA\" data-toc-modified-id=\"EDA-4\"><span class=\"toc-item-num\">4&nbsp;&nbsp;</span>EDA</a></span><ul class=\"toc-item\"><li><span><a href=\"#Montly-analysis\" data-toc-modified-id=\"Montly-analysis-4.1\"><span class=\"toc-item-num\">4.1&nbsp;&nbsp;</span>Montly analysis</a></span></li><li><span><a href=\"#daily-analysis\" data-toc-modified-id=\"daily-analysis-4.2\"><span class=\"toc-item-num\">4.2&nbsp;&nbsp;</span>daily analysis</a></span></li><li><span><a href=\"#Hourly-analisys\" data-toc-modified-id=\"Hourly-analisys-4.3\"><span class=\"toc-item-num\">4.3&nbsp;&nbsp;</span>Hourly analisys</a></span></li><li><span><a href=\"#General\" data-toc-modified-id=\"General-4.4\"><span class=\"toc-item-num\">4.4&nbsp;&nbsp;</span>General</a></span></li></ul></li><li><span><a href=\"#Naive-predictor\" data-toc-modified-id=\"Naive-predictor-5\"><span class=\"toc-item-num\">5&nbsp;&nbsp;</span>Naive predictor</a></span></li><li><span><a href=\"#SARIMAX\" data-toc-modified-id=\"SARIMAX-6\"><span class=\"toc-item-num\">6&nbsp;&nbsp;</span>SARIMAX</a></span></li><li><span><a href=\"#FB-Prophet\" data-toc-modified-id=\"FB-Prophet-7\"><span class=\"toc-item-num\">7&nbsp;&nbsp;</span>FB Prophet</a></span></li><li><span><a href=\"#Modeling-One-Hot-Encoding\" data-toc-modified-id=\"Modeling-One-Hot-Encoding-8\"><span class=\"toc-item-num\">8&nbsp;&nbsp;</span>Modeling One Hot Encoding</a></span><ul class=\"toc-item\"><li><span><a href=\"#Random-Forests\" data-toc-modified-id=\"Random-Forests-8.1\"><span class=\"toc-item-num\">8.1&nbsp;&nbsp;</span>Random Forests</a></span><ul class=\"toc-item\"><li><span><a href=\"#Random-Search\" data-toc-modified-id=\"Random-Search-8.1.1\"><span class=\"toc-item-num\">8.1.1&nbsp;&nbsp;</span>Random Search</a></span></li><li><span><a href=\"#Grid-Search\" data-toc-modified-id=\"Grid-Search-8.1.2\"><span class=\"toc-item-num\">8.1.2&nbsp;&nbsp;</span>Grid Search</a></span></li></ul></li><li><span><a href=\"#lightGBM\" data-toc-modified-id=\"lightGBM-8.2\"><span class=\"toc-item-num\">8.2&nbsp;&nbsp;</span>lightGBM</a></span><ul class=\"toc-item\"><li><span><a href=\"#Random-Search\" data-toc-modified-id=\"Random-Search-8.2.1\"><span class=\"toc-item-num\">8.2.1&nbsp;&nbsp;</span>Random Search</a></span></li><li><span><a href=\"#Grid-Search\" data-toc-modified-id=\"Grid-Search-8.2.2\"><span class=\"toc-item-num\">8.2.2&nbsp;&nbsp;</span>Grid Search</a></span></li></ul></li></ul></li><li><span><a href=\"#Modeling-Label-Encoding\" data-toc-modified-id=\"Modeling-Label-Encoding-9\"><span class=\"toc-item-num\">9&nbsp;&nbsp;</span>Modeling Label Encoding</a></span></li><li><span><a href=\"#Importance-of-Variables\" data-toc-modified-id=\"Importance-of-Variables-10\"><span class=\"toc-item-num\">10&nbsp;&nbsp;</span>Importance of Variables</a></span></li></ul></div>"
   ]
  },
  {
   "cell_type": "markdown",
   "metadata": {
    "heading_collapsed": true
   },
   "source": [
    "# Imports"
   ]
  },
  {
   "cell_type": "code",
   "execution_count": 140,
   "metadata": {
    "ExecuteTime": {
     "end_time": "2020-07-22T02:23:26.042013Z",
     "start_time": "2020-07-22T02:23:26.027713Z"
    },
    "hidden": true
   },
   "outputs": [],
   "source": [
    "import pandas as pd\n",
    "import numpy as np\n",
    "import seaborn as sns\n",
    "import matplotlib.pyplot as plt\n",
    "import statsmodels.api as sm\n",
    "import seaborn as sns\n",
    "from functools import reduce\n",
    "\n",
    "from fbprophet import Prophet\n",
    "\n",
    "from statsmodels.graphics.tsaplots import plot_pacf, plot_acf\n",
    "from statsmodels.tsa.seasonal import seasonal_decompose\n",
    "from scipy.stats import spearmanr, pearsonr\n",
    "from datetime import datetime, timedelta\n",
    "from sklearn.model_selection import TimeSeriesSplit,RandomizedSearchCV,GridSearchCV\n",
    "from sklearn.ensemble import RandomForestRegressor,GradientBoostingRegressor\n",
    "from sklearn.metrics import mean_absolute_error,mean_squared_error\n",
    "from sklearn import preprocessing\n",
    "\n",
    "from getdata import getdata\n",
    "from utils import *\n",
    "\n",
    "pd.options.display.max_columns = None\n",
    "pd.set_option('display.max_rows', 500)\n",
    "\n",
    "download_data = False\n",
    "training = True\n",
    "seed=42\n",
    "\n",
    "\n",
    "\n",
    "# Downloading data from ANAC site\n",
    "if download_data:\n",
    "    getdata(period = ('2016-01','2020-05')) # sumarizes all the months in a single file and do initial dataprep / creates the data.csv file\n"
   ]
  },
  {
   "cell_type": "markdown",
   "metadata": {
    "heading_collapsed": true
   },
   "source": [
    "# Loading Data"
   ]
  },
  {
   "cell_type": "code",
   "execution_count": 141,
   "metadata": {
    "ExecuteTime": {
     "end_time": "2020-07-22T02:23:42.513993Z",
     "start_time": "2020-07-22T02:23:26.044607Z"
    },
    "hidden": true
   },
   "outputs": [],
   "source": [
    "# Loading Data\n",
    "anac_df = pd.read_csv(\"ANAC_DATA/data.csv\", low_memory=False)\n",
    "\n",
    "\n",
    "# Getting brazilian holidays\n",
    "feriados = pd.read_csv(\"feriados.csv\")"
   ]
  },
  {
   "cell_type": "code",
   "execution_count": 142,
   "metadata": {
    "ExecuteTime": {
     "end_time": "2020-07-22T02:23:42.523631Z",
     "start_time": "2020-07-22T02:23:42.516122Z"
    },
    "hidden": true
   },
   "outputs": [
    {
     "data": {
      "text/plain": [
       "((3610445, 20), (57, 3))"
      ]
     },
     "execution_count": 142,
     "metadata": {},
     "output_type": "execute_result"
    }
   ],
   "source": [
    "# checking data shape\n",
    "anac_df.shape, feriados.shape"
   ]
  },
  {
   "cell_type": "code",
   "execution_count": 143,
   "metadata": {
    "ExecuteTime": {
     "end_time": "2020-07-22T02:23:42.550930Z",
     "start_time": "2020-07-22T02:23:42.525880Z"
    },
    "hidden": true
   },
   "outputs": [
    {
     "data": {
      "text/html": [
       "<div>\n",
       "<style scoped>\n",
       "    .dataframe tbody tr th:only-of-type {\n",
       "        vertical-align: middle;\n",
       "    }\n",
       "\n",
       "    .dataframe tbody tr th {\n",
       "        vertical-align: top;\n",
       "    }\n",
       "\n",
       "    .dataframe thead th {\n",
       "        text-align: right;\n",
       "    }\n",
       "</style>\n",
       "<table border=\"1\" class=\"dataframe\">\n",
       "  <thead>\n",
       "    <tr style=\"text-align: right;\">\n",
       "      <th></th>\n",
       "      <th>id_basica</th>\n",
       "      <th>sg_empresa_icao</th>\n",
       "      <th>ds_tipo_empresa</th>\n",
       "      <th>ds_grupo_di</th>\n",
       "      <th>ds_servico_tipo_linha</th>\n",
       "      <th>nr_ano_partida_real</th>\n",
       "      <th>hr_partida_real</th>\n",
       "      <th>dt_partida_real</th>\n",
       "      <th>nm_mes_partida_real</th>\n",
       "      <th>nr_mes_partida_real</th>\n",
       "      <th>nm_dia_semana_partida_real</th>\n",
       "      <th>nr_dia_partida_real</th>\n",
       "      <th>sg_iata_origem</th>\n",
       "      <th>sg_uf_origem</th>\n",
       "      <th>nm_municipio_origem</th>\n",
       "      <th>sg_iata_destino</th>\n",
       "      <th>nr_assentos_ofertados</th>\n",
       "      <th>nr_passag_pagos</th>\n",
       "      <th>km_distancia</th>\n",
       "      <th>nr_horas_voadas</th>\n",
       "    </tr>\n",
       "  </thead>\n",
       "  <tbody>\n",
       "    <tr>\n",
       "      <th>0</th>\n",
       "      <td>12017073</td>\n",
       "      <td>AZU</td>\n",
       "      <td>TRANSPORTE AÉREO REGULAR</td>\n",
       "      <td>NÃO REGULAR</td>\n",
       "      <td>PASSAGEIRO</td>\n",
       "      <td>2016.0</td>\n",
       "      <td>13:26:00</td>\n",
       "      <td>2016-01-01</td>\n",
       "      <td>JANEIRO</td>\n",
       "      <td>1.0</td>\n",
       "      <td>SEXTA-FEIRA</td>\n",
       "      <td>1.0</td>\n",
       "      <td>SSA</td>\n",
       "      <td>BA</td>\n",
       "      <td>SALVADOR</td>\n",
       "      <td>MCZ</td>\n",
       "      <td>69</td>\n",
       "      <td>0</td>\n",
       "      <td>468.0</td>\n",
       "      <td>1,37</td>\n",
       "    </tr>\n",
       "    <tr>\n",
       "      <th>1</th>\n",
       "      <td>12017127</td>\n",
       "      <td>AZU</td>\n",
       "      <td>TRANSPORTE AÉREO REGULAR</td>\n",
       "      <td>NÃO REGULAR</td>\n",
       "      <td>PASSAGEIRO</td>\n",
       "      <td>2016.0</td>\n",
       "      <td>10:26:00</td>\n",
       "      <td>2016-01-01</td>\n",
       "      <td>JANEIRO</td>\n",
       "      <td>1.0</td>\n",
       "      <td>SEXTA-FEIRA</td>\n",
       "      <td>1.0</td>\n",
       "      <td>BPS</td>\n",
       "      <td>BA</td>\n",
       "      <td>PORTO SEGURO</td>\n",
       "      <td>VCP</td>\n",
       "      <td>118</td>\n",
       "      <td>98</td>\n",
       "      <td>1115.0</td>\n",
       "      <td>1,77</td>\n",
       "    </tr>\n",
       "    <tr>\n",
       "      <th>2</th>\n",
       "      <td>12017128</td>\n",
       "      <td>AZU</td>\n",
       "      <td>TRANSPORTE AÉREO REGULAR</td>\n",
       "      <td>NÃO REGULAR</td>\n",
       "      <td>PASSAGEIRO</td>\n",
       "      <td>2016.0</td>\n",
       "      <td>23:30:00</td>\n",
       "      <td>2016-01-01</td>\n",
       "      <td>JANEIRO</td>\n",
       "      <td>1.0</td>\n",
       "      <td>SEXTA-FEIRA</td>\n",
       "      <td>1.0</td>\n",
       "      <td>CNF</td>\n",
       "      <td>MG</td>\n",
       "      <td>CONFINS</td>\n",
       "      <td>NAT</td>\n",
       "      <td>118</td>\n",
       "      <td>106</td>\n",
       "      <td>1800.0</td>\n",
       "      <td>2,68</td>\n",
       "    </tr>\n",
       "    <tr>\n",
       "      <th>3</th>\n",
       "      <td>12017129</td>\n",
       "      <td>AZU</td>\n",
       "      <td>TRANSPORTE AÉREO REGULAR</td>\n",
       "      <td>NÃO REGULAR</td>\n",
       "      <td>PASSAGEIRO</td>\n",
       "      <td>2016.0</td>\n",
       "      <td>03:09:00</td>\n",
       "      <td>2016-01-01</td>\n",
       "      <td>JANEIRO</td>\n",
       "      <td>1.0</td>\n",
       "      <td>SEXTA-FEIRA</td>\n",
       "      <td>1.0</td>\n",
       "      <td>MCZ</td>\n",
       "      <td>AL</td>\n",
       "      <td>RIO LARGO</td>\n",
       "      <td>CNF</td>\n",
       "      <td>118</td>\n",
       "      <td>49</td>\n",
       "      <td>1427.0</td>\n",
       "      <td>2,23</td>\n",
       "    </tr>\n",
       "    <tr>\n",
       "      <th>4</th>\n",
       "      <td>12017130</td>\n",
       "      <td>AZU</td>\n",
       "      <td>TRANSPORTE AÉREO REGULAR</td>\n",
       "      <td>NÃO REGULAR</td>\n",
       "      <td>PASSAGEIRO</td>\n",
       "      <td>2016.0</td>\n",
       "      <td>13:18:00</td>\n",
       "      <td>2016-01-01</td>\n",
       "      <td>JANEIRO</td>\n",
       "      <td>1.0</td>\n",
       "      <td>SEXTA-FEIRA</td>\n",
       "      <td>1.0</td>\n",
       "      <td>IGU</td>\n",
       "      <td>PR</td>\n",
       "      <td>FOZ DO IGUAÇU</td>\n",
       "      <td>CWB</td>\n",
       "      <td>70</td>\n",
       "      <td>64</td>\n",
       "      <td>533.0</td>\n",
       "      <td>1,43</td>\n",
       "    </tr>\n",
       "  </tbody>\n",
       "</table>\n",
       "</div>"
      ],
      "text/plain": [
       "   id_basica sg_empresa_icao           ds_tipo_empresa  ds_grupo_di  \\\n",
       "0   12017073             AZU  TRANSPORTE AÉREO REGULAR  NÃO REGULAR   \n",
       "1   12017127             AZU  TRANSPORTE AÉREO REGULAR  NÃO REGULAR   \n",
       "2   12017128             AZU  TRANSPORTE AÉREO REGULAR  NÃO REGULAR   \n",
       "3   12017129             AZU  TRANSPORTE AÉREO REGULAR  NÃO REGULAR   \n",
       "4   12017130             AZU  TRANSPORTE AÉREO REGULAR  NÃO REGULAR   \n",
       "\n",
       "  ds_servico_tipo_linha  nr_ano_partida_real hr_partida_real dt_partida_real  \\\n",
       "0            PASSAGEIRO               2016.0        13:26:00      2016-01-01   \n",
       "1            PASSAGEIRO               2016.0        10:26:00      2016-01-01   \n",
       "2            PASSAGEIRO               2016.0        23:30:00      2016-01-01   \n",
       "3            PASSAGEIRO               2016.0        03:09:00      2016-01-01   \n",
       "4            PASSAGEIRO               2016.0        13:18:00      2016-01-01   \n",
       "\n",
       "  nm_mes_partida_real  nr_mes_partida_real nm_dia_semana_partida_real  \\\n",
       "0             JANEIRO                  1.0                SEXTA-FEIRA   \n",
       "1             JANEIRO                  1.0                SEXTA-FEIRA   \n",
       "2             JANEIRO                  1.0                SEXTA-FEIRA   \n",
       "3             JANEIRO                  1.0                SEXTA-FEIRA   \n",
       "4             JANEIRO                  1.0                SEXTA-FEIRA   \n",
       "\n",
       "   nr_dia_partida_real sg_iata_origem sg_uf_origem nm_municipio_origem  \\\n",
       "0                  1.0            SSA           BA            SALVADOR   \n",
       "1                  1.0            BPS           BA        PORTO SEGURO   \n",
       "2                  1.0            CNF           MG             CONFINS   \n",
       "3                  1.0            MCZ           AL           RIO LARGO   \n",
       "4                  1.0            IGU           PR       FOZ DO IGUAÇU   \n",
       "\n",
       "  sg_iata_destino  nr_assentos_ofertados  nr_passag_pagos  km_distancia  \\\n",
       "0             MCZ                     69                0         468.0   \n",
       "1             VCP                    118               98        1115.0   \n",
       "2             NAT                    118              106        1800.0   \n",
       "3             CNF                    118               49        1427.0   \n",
       "4             CWB                     70               64         533.0   \n",
       "\n",
       "  nr_horas_voadas  \n",
       "0            1,37  \n",
       "1            1,77  \n",
       "2            2,68  \n",
       "3            2,23  \n",
       "4            1,43  "
      ]
     },
     "execution_count": 143,
     "metadata": {},
     "output_type": "execute_result"
    }
   ],
   "source": [
    "# sample\n",
    "anac_df.head()"
   ]
  },
  {
   "cell_type": "code",
   "execution_count": 144,
   "metadata": {
    "ExecuteTime": {
     "end_time": "2020-07-22T02:23:42.569852Z",
     "start_time": "2020-07-22T02:23:42.552589Z"
    },
    "hidden": true
   },
   "outputs": [
    {
     "data": {
      "text/html": [
       "<div>\n",
       "<style scoped>\n",
       "    .dataframe tbody tr th:only-of-type {\n",
       "        vertical-align: middle;\n",
       "    }\n",
       "\n",
       "    .dataframe tbody tr th {\n",
       "        vertical-align: top;\n",
       "    }\n",
       "\n",
       "    .dataframe thead th {\n",
       "        text-align: right;\n",
       "    }\n",
       "</style>\n",
       "<table border=\"1\" class=\"dataframe\">\n",
       "  <thead>\n",
       "    <tr style=\"text-align: right;\">\n",
       "      <th></th>\n",
       "      <th>data</th>\n",
       "      <th>fl_feriado</th>\n",
       "      <th>desc_feriado</th>\n",
       "    </tr>\n",
       "  </thead>\n",
       "  <tbody>\n",
       "    <tr>\n",
       "      <th>0</th>\n",
       "      <td>2016-01-01</td>\n",
       "      <td>1</td>\n",
       "      <td>confraternização universal (feriado nacional)</td>\n",
       "    </tr>\n",
       "    <tr>\n",
       "      <th>1</th>\n",
       "      <td>2016-02-09</td>\n",
       "      <td>1</td>\n",
       "      <td>(terça-feira ) – Carnaval (ponto facultativo)</td>\n",
       "    </tr>\n",
       "    <tr>\n",
       "      <th>2</th>\n",
       "      <td>2016-02-10</td>\n",
       "      <td>1</td>\n",
       "      <td>(quarta-feira ) – Quarta-feira  Cinzas (ponto...</td>\n",
       "    </tr>\n",
       "    <tr>\n",
       "      <th>3</th>\n",
       "      <td>2016-03-25</td>\n",
       "      <td>1</td>\n",
       "      <td>(sexta-feira ) – Paixão  Cristo (feriado naci...</td>\n",
       "    </tr>\n",
       "    <tr>\n",
       "      <th>4</th>\n",
       "      <td>2016-04-21</td>\n",
       "      <td>1</td>\n",
       "      <td>(quinta-feira) – Tirantes (feriado nacional)</td>\n",
       "    </tr>\n",
       "  </tbody>\n",
       "</table>\n",
       "</div>"
      ],
      "text/plain": [
       "         data  fl_feriado                                       desc_feriado\n",
       "0  2016-01-01           1      confraternização universal (feriado nacional)\n",
       "1  2016-02-09           1      (terça-feira ) – Carnaval (ponto facultativo)\n",
       "2  2016-02-10           1   (quarta-feira ) – Quarta-feira  Cinzas (ponto...\n",
       "3  2016-03-25           1   (sexta-feira ) – Paixão  Cristo (feriado naci...\n",
       "4  2016-04-21           1       (quinta-feira) – Tirantes (feriado nacional)"
      ]
     },
     "execution_count": 144,
     "metadata": {},
     "output_type": "execute_result"
    }
   ],
   "source": [
    "# sample\n",
    "feriados.head()"
   ]
  },
  {
   "cell_type": "code",
   "execution_count": 145,
   "metadata": {
    "ExecuteTime": {
     "end_time": "2020-07-22T02:23:43.001720Z",
     "start_time": "2020-07-22T02:23:42.571896Z"
    },
    "hidden": true
   },
   "outputs": [],
   "source": [
    "# filter route SP-RJ\n",
    "\n",
    "df_sp = anac_df.query(\"(sg_iata_origem == 'CGH')|(sg_iata_origem == 'GRU') & (sg_iata_destino == 'GIG'| sg_iata_destino == 'SDU') & nr_passag_pagos !=0\")"
   ]
  },
  {
   "cell_type": "markdown",
   "metadata": {},
   "source": [
    "# Feature Engineering"
   ]
  },
  {
   "cell_type": "markdown",
   "metadata": {},
   "source": [
    "## Holyday Variables"
   ]
  },
  {
   "cell_type": "code",
   "execution_count": 146,
   "metadata": {
    "ExecuteTime": {
     "end_time": "2020-07-22T02:23:43.063091Z",
     "start_time": "2020-07-22T02:23:43.003714Z"
    }
   },
   "outputs": [],
   "source": [
    "# creating variables for 1,2 and 3 days before a holiday\n",
    "\n",
    "feriados['data_d1'] = feriados.data.apply(lambda x: str((datetime.strptime(x, '%Y-%m-%d')- timedelta(days=1)).date()))\n",
    "feriados['data_d2'] = feriados.data.apply(lambda x: str((datetime.strptime(x, '%Y-%m-%d')- timedelta(days=2)).date()))\n",
    "feriados['data_d3'] = feriados.data.apply(lambda x: str((datetime.strptime(x, '%Y-%m-%d')- timedelta(days=3)).date()))\n",
    "\n",
    "feriados['fl_feriado_d1'] = feriados.fl_feriado\n",
    "feriados['fl_feriado_d2'] = feriados.fl_feriado\n",
    "feriados['fl_feriado_d3'] = feriados.fl_feriado"
   ]
  },
  {
   "cell_type": "code",
   "execution_count": 147,
   "metadata": {
    "ExecuteTime": {
     "end_time": "2020-07-22T02:23:43.928208Z",
     "start_time": "2020-07-22T02:23:43.066112Z"
    }
   },
   "outputs": [],
   "source": [
    "# joins with df_sp\n",
    "df_sp = df_sp.merge(feriados[['data','fl_feriado']], left_on='dt_partida_real', right_on='data', how = 'left')\n",
    "df_sp = df_sp.merge(feriados[['data_d1','fl_feriado_d1']], left_on='dt_partida_real', right_on='data_d1', how = 'left')\n",
    "df_sp = df_sp.merge(feriados[['data_d2','fl_feriado_d2']], left_on='dt_partida_real', right_on='data_d2', how = 'left')\n",
    "df_sp = df_sp.merge(feriados[['data_d3','fl_feriado_d3']], left_on='dt_partida_real', right_on='data_d3', how = 'left')"
   ]
  },
  {
   "cell_type": "code",
   "execution_count": 148,
   "metadata": {
    "ExecuteTime": {
     "end_time": "2020-07-22T02:23:44.353710Z",
     "start_time": "2020-07-22T02:23:43.930520Z"
    }
   },
   "outputs": [],
   "source": [
    "# filling nulls\n",
    "df_sp.fillna(0,inplace=True)"
   ]
  },
  {
   "cell_type": "code",
   "execution_count": 149,
   "metadata": {
    "ExecuteTime": {
     "end_time": "2020-07-22T02:23:44.462084Z",
     "start_time": "2020-07-22T02:23:44.355462Z"
    }
   },
   "outputs": [],
   "source": [
    "# droping variables\n",
    "\n",
    "keep_list = [\"dt_partida_real\",\n",
    "             \"id_basica\",\n",
    "             \"hr_partida_real\",\n",
    "             \"nr_dia_partida_real\",\n",
    "             \"nm_dia_semana_partida_real\",\n",
    "             \"nm_mes_partida_real\",\n",
    "             \"nr_mes_partida_real\",\n",
    "             \"fl_feriado\",\n",
    "             \"fl_feriado_d1\",\n",
    "             \"fl_feriado_d2\",\n",
    "             \"fl_feriado_d3\",\n",
    "             \"nr_ano_partida_real\",\n",
    "             \"nr_assentos_ofertados\",\n",
    "             \"nr_passag_pagos\"]\n",
    "\n",
    "df_sp = df_sp[keep_list]"
   ]
  },
  {
   "cell_type": "code",
   "execution_count": 150,
   "metadata": {
    "ExecuteTime": {
     "end_time": "2020-07-22T02:23:47.043580Z",
     "start_time": "2020-07-22T02:23:44.463933Z"
    }
   },
   "outputs": [],
   "source": [
    "# Changing names\n",
    "\n",
    "df_sp.columns = [\"departure_date\",\n",
    "             \"id\",\n",
    "             \"hr_departure\",\n",
    "             \"departure_day_of_month\",\n",
    "             \"departure_day_of_week\",\n",
    "             \"departure_month\",\n",
    "             \"departure_month_encoded\",\n",
    "             \"fl_holiday\",\n",
    "             \"fl_holiday_d1\",\n",
    "             \"fl_holiday_d2\",\n",
    "             \"fl_holiday_d3\",\n",
    "             \"year\",\n",
    "             \"n_seats_offered\",\n",
    "             \"n_passengers\"]\n",
    "\n",
    "pt_eng = {'SEGUNDA-FEIRA': 'mon',\n",
    "                 'TERÇA-FEIRA': 'tue',\n",
    "                 'QUARTA-FEIRA': 'wed',\n",
    "                 'QUINTA-FEIRA': 'thu',\n",
    "                 'SEXTA-FEIRA': 'fri',\n",
    "                 'SÁBADO': 'sat',\n",
    "                 'DOMINGO': 'sun',\n",
    "                 'JANEIRO' : 'jan',\n",
    "                 'FEVEREIRO': 'feb',\n",
    "                 'MARÇO': 'mar',\n",
    "                 'ABRIL': 'apr',\n",
    "                 'MAIO': 'may',\n",
    "                 'JUNHO': 'jun',\n",
    "                 'JULHO': 'jul',\n",
    "                 'AGOSTO': 'aug',\n",
    "                 'SETEMBRO': 'sep',\n",
    "                 'OUTUBRO': 'oct',\n",
    "                 'NOVEMBRO': 'nov',\n",
    "                 'DEZEMBRO': 'dec'}\n",
    "\n",
    "df_sp.replace(pt_eng, inplace = True)\n",
    "\n",
    "df_sp.set_index(\"id\",inplace = True)\n",
    "\n",
    "df_sp['departure_datetime']=pd.to_datetime(df_sp['departure_date'] + ' ' + df_sp['hr_departure'])"
   ]
  },
  {
   "cell_type": "code",
   "execution_count": 151,
   "metadata": {
    "ExecuteTime": {
     "end_time": "2020-07-22T02:23:55.017761Z",
     "start_time": "2020-07-22T02:23:47.046076Z"
    }
   },
   "outputs": [
    {
     "name": "stdout",
     "output_type": "stream",
     "text": [
      "dataframe memory usage before optimization : 130.924072265625 Mb\n",
      "dataframe memory usage : 107.81982421875 Mb\n"
     ]
    }
   ],
   "source": [
    "memory_opt(df_sp,obj2cat=False)"
   ]
  },
  {
   "cell_type": "code",
   "execution_count": 152,
   "metadata": {
    "ExecuteTime": {
     "end_time": "2020-07-22T02:23:55.044311Z",
     "start_time": "2020-07-22T02:23:55.019824Z"
    }
   },
   "outputs": [
    {
     "data": {
      "text/html": [
       "<div>\n",
       "<style scoped>\n",
       "    .dataframe tbody tr th:only-of-type {\n",
       "        vertical-align: middle;\n",
       "    }\n",
       "\n",
       "    .dataframe tbody tr th {\n",
       "        vertical-align: top;\n",
       "    }\n",
       "\n",
       "    .dataframe thead th {\n",
       "        text-align: right;\n",
       "    }\n",
       "</style>\n",
       "<table border=\"1\" class=\"dataframe\">\n",
       "  <thead>\n",
       "    <tr style=\"text-align: right;\">\n",
       "      <th></th>\n",
       "      <th>departure_date</th>\n",
       "      <th>hr_departure</th>\n",
       "      <th>departure_day_of_month</th>\n",
       "      <th>departure_day_of_week</th>\n",
       "      <th>departure_month</th>\n",
       "      <th>departure_month_encoded</th>\n",
       "      <th>fl_holiday</th>\n",
       "      <th>fl_holiday_d1</th>\n",
       "      <th>fl_holiday_d2</th>\n",
       "      <th>fl_holiday_d3</th>\n",
       "      <th>year</th>\n",
       "      <th>n_seats_offered</th>\n",
       "      <th>n_passengers</th>\n",
       "      <th>departure_datetime</th>\n",
       "    </tr>\n",
       "    <tr>\n",
       "      <th>id</th>\n",
       "      <th></th>\n",
       "      <th></th>\n",
       "      <th></th>\n",
       "      <th></th>\n",
       "      <th></th>\n",
       "      <th></th>\n",
       "      <th></th>\n",
       "      <th></th>\n",
       "      <th></th>\n",
       "      <th></th>\n",
       "      <th></th>\n",
       "      <th></th>\n",
       "      <th></th>\n",
       "      <th></th>\n",
       "    </tr>\n",
       "  </thead>\n",
       "  <tbody>\n",
       "    <tr>\n",
       "      <th>12017134</th>\n",
       "      <td>2016-01-01</td>\n",
       "      <td>11:43:00</td>\n",
       "      <td>1</td>\n",
       "      <td>fri</td>\n",
       "      <td>jan</td>\n",
       "      <td>1</td>\n",
       "      <td>1</td>\n",
       "      <td>0</td>\n",
       "      <td>0</td>\n",
       "      <td>0</td>\n",
       "      <td>2016</td>\n",
       "      <td>118</td>\n",
       "      <td>58</td>\n",
       "      <td>2016-01-01 11:43:00</td>\n",
       "    </tr>\n",
       "    <tr>\n",
       "      <th>12017177</th>\n",
       "      <td>2016-01-01</td>\n",
       "      <td>17:35:00</td>\n",
       "      <td>1</td>\n",
       "      <td>fri</td>\n",
       "      <td>jan</td>\n",
       "      <td>1</td>\n",
       "      <td>1</td>\n",
       "      <td>0</td>\n",
       "      <td>0</td>\n",
       "      <td>0</td>\n",
       "      <td>2016</td>\n",
       "      <td>118</td>\n",
       "      <td>56</td>\n",
       "      <td>2016-01-01 17:35:00</td>\n",
       "    </tr>\n",
       "    <tr>\n",
       "      <th>12017359</th>\n",
       "      <td>2016-01-01</td>\n",
       "      <td>14:27:00</td>\n",
       "      <td>1</td>\n",
       "      <td>fri</td>\n",
       "      <td>jan</td>\n",
       "      <td>1</td>\n",
       "      <td>1</td>\n",
       "      <td>0</td>\n",
       "      <td>0</td>\n",
       "      <td>0</td>\n",
       "      <td>2016</td>\n",
       "      <td>106</td>\n",
       "      <td>95</td>\n",
       "      <td>2016-01-01 14:27:00</td>\n",
       "    </tr>\n",
       "    <tr>\n",
       "      <th>12017434</th>\n",
       "      <td>2016-01-01</td>\n",
       "      <td>19:50:00</td>\n",
       "      <td>1</td>\n",
       "      <td>fri</td>\n",
       "      <td>jan</td>\n",
       "      <td>1</td>\n",
       "      <td>1</td>\n",
       "      <td>0</td>\n",
       "      <td>0</td>\n",
       "      <td>0</td>\n",
       "      <td>2016</td>\n",
       "      <td>118</td>\n",
       "      <td>64</td>\n",
       "      <td>2016-01-01 19:50:00</td>\n",
       "    </tr>\n",
       "    <tr>\n",
       "      <th>12017437</th>\n",
       "      <td>2016-01-01</td>\n",
       "      <td>19:54:00</td>\n",
       "      <td>1</td>\n",
       "      <td>fri</td>\n",
       "      <td>jan</td>\n",
       "      <td>1</td>\n",
       "      <td>1</td>\n",
       "      <td>0</td>\n",
       "      <td>0</td>\n",
       "      <td>0</td>\n",
       "      <td>2016</td>\n",
       "      <td>118</td>\n",
       "      <td>50</td>\n",
       "      <td>2016-01-01 19:54:00</td>\n",
       "    </tr>\n",
       "  </tbody>\n",
       "</table>\n",
       "</div>"
      ],
      "text/plain": [
       "         departure_date hr_departure  departure_day_of_month  \\\n",
       "id                                                             \n",
       "12017134     2016-01-01     11:43:00                       1   \n",
       "12017177     2016-01-01     17:35:00                       1   \n",
       "12017359     2016-01-01     14:27:00                       1   \n",
       "12017434     2016-01-01     19:50:00                       1   \n",
       "12017437     2016-01-01     19:54:00                       1   \n",
       "\n",
       "         departure_day_of_week departure_month  departure_month_encoded  \\\n",
       "id                                                                        \n",
       "12017134                   fri             jan                        1   \n",
       "12017177                   fri             jan                        1   \n",
       "12017359                   fri             jan                        1   \n",
       "12017434                   fri             jan                        1   \n",
       "12017437                   fri             jan                        1   \n",
       "\n",
       "          fl_holiday  fl_holiday_d1  fl_holiday_d2  fl_holiday_d3  year  \\\n",
       "id                                                                        \n",
       "12017134           1              0              0              0  2016   \n",
       "12017177           1              0              0              0  2016   \n",
       "12017359           1              0              0              0  2016   \n",
       "12017434           1              0              0              0  2016   \n",
       "12017437           1              0              0              0  2016   \n",
       "\n",
       "          n_seats_offered  n_passengers  departure_datetime  \n",
       "id                                                           \n",
       "12017134              118            58 2016-01-01 11:43:00  \n",
       "12017177              118            56 2016-01-01 17:35:00  \n",
       "12017359              106            95 2016-01-01 14:27:00  \n",
       "12017434              118            64 2016-01-01 19:50:00  \n",
       "12017437              118            50 2016-01-01 19:54:00  "
      ]
     },
     "execution_count": 152,
     "metadata": {},
     "output_type": "execute_result"
    }
   ],
   "source": [
    "df_sp.head()"
   ]
  },
  {
   "cell_type": "code",
   "execution_count": 153,
   "metadata": {
    "ExecuteTime": {
     "end_time": "2020-07-22T02:23:55.063041Z",
     "start_time": "2020-07-22T02:23:55.045759Z"
    }
   },
   "outputs": [
    {
     "data": {
      "text/plain": [
       "departure_date                     object\n",
       "hr_departure                       object\n",
       "departure_day_of_month               int8\n",
       "departure_day_of_week              object\n",
       "departure_month                    object\n",
       "departure_month_encoded              int8\n",
       "fl_holiday                           int8\n",
       "fl_holiday_d1                        int8\n",
       "fl_holiday_d2                        int8\n",
       "fl_holiday_d3                        int8\n",
       "year                                int16\n",
       "n_seats_offered                     int16\n",
       "n_passengers                        int16\n",
       "departure_datetime         datetime64[ns]\n",
       "dtype: object"
      ]
     },
     "execution_count": 153,
     "metadata": {},
     "output_type": "execute_result"
    }
   ],
   "source": [
    "df_sp.dtypes"
   ]
  },
  {
   "cell_type": "markdown",
   "metadata": {},
   "source": [
    "## Training and Out of Time Data"
   ]
  },
  {
   "cell_type": "code",
   "execution_count": 156,
   "metadata": {
    "ExecuteTime": {
     "end_time": "2020-07-22T02:25:40.850237Z",
     "start_time": "2020-07-22T02:25:40.444918Z"
    }
   },
   "outputs": [],
   "source": [
    "df_2020 = df_sp.query('year == 2020').resample('H', on ='departure_datetime').sum()[['n_seats_offered','n_passengers']]\n",
    "df_oot = df_sp.query('year == 2019').resample('H', on ='departure_datetime').sum()[['n_seats_offered','n_passengers']]\n",
    "df_train = df_sp.query('year < 2019').resample('H', on ='departure_datetime').sum()[['n_seats_offered','n_passengers']]\n",
    "\n",
    "for df in [df_2020,df_oot,df_train]:\n",
    "    df['year'] = df.index.year\n",
    "    df['month_day_hour'] = df.index.strftime(\"%m-%d %H\")"
   ]
  },
  {
   "cell_type": "markdown",
   "metadata": {
    "heading_collapsed": true
   },
   "source": [
    "# EDA"
   ]
  },
  {
   "cell_type": "markdown",
   "metadata": {
    "ExecuteTime": {
     "end_time": "2020-06-09T17:06:54.750795Z",
     "start_time": "2020-06-09T17:06:54.746909Z"
    },
    "hidden": true
   },
   "source": [
    "## Montly analysis "
   ]
  },
  {
   "cell_type": "code",
   "execution_count": 27,
   "metadata": {
    "ExecuteTime": {
     "end_time": "2020-07-20T02:56:24.783789Z",
     "start_time": "2020-07-20T02:56:24.665975Z"
    },
    "hidden": true
   },
   "outputs": [],
   "source": [
    "df_sp_grouped_month = df_sp.resample('M', on ='departure_datetime').sum()[['n_seats_offered','n_passengers']]\n",
    "\n",
    "df_sp_grouped_month['seats_pass_diff'] =  df_sp_grouped_month.n_seats_offered -df_sp_grouped_month.n_passengers"
   ]
  },
  {
   "cell_type": "code",
   "execution_count": 28,
   "metadata": {
    "ExecuteTime": {
     "end_time": "2020-07-20T02:56:25.910756Z",
     "start_time": "2020-07-20T02:56:25.594363Z"
    },
    "hidden": true
   },
   "outputs": [
    {
     "data": {
      "text/plain": [
       "<matplotlib.axes._subplots.AxesSubplot at 0x7f6d1222d1d0>"
      ]
     },
     "execution_count": 28,
     "metadata": {},
     "output_type": "execute_result"
    },
    {
     "data": {
      "image/png": "[encoded data removed]",
      "text/plain": [
       "<Figure size 432x288 with 1 Axes>"
      ]
     },
     "metadata": {
      "needs_background": "light"
     },
     "output_type": "display_data"
    }
   ],
   "source": [
    "df_sp_grouped_month.n_passengers.plot();"
   ]
  },
  {
   "cell_type": "code",
   "execution_count": 29,
   "metadata": {
    "ExecuteTime": {
     "end_time": "2020-07-20T02:56:27.210849Z",
     "start_time": "2020-07-20T02:56:26.719616Z"
    },
    "hidden": true
   },
   "outputs": [
    {
     "data": {
      "image/png": "[encoded data removed]",
      "text/plain": [
       "<Figure size 1080x288 with 2 Axes>"
      ]
     },
     "metadata": {
      "needs_background": "light"
     },
     "output_type": "display_data"
    }
   ],
   "source": [
    "fig, axes = plt.subplots(1, 2, figsize=(15,4))\n",
    "\n",
    "fig = plot_acf(df_sp_grouped_month.seats_pass_diff, lags=13, ax=axes[0])\n",
    "fig = plot_pacf(df_sp_grouped_month.seats_pass_diff, lags=13, ax=axes[1])"
   ]
  },
  {
   "cell_type": "code",
   "execution_count": 25,
   "metadata": {
    "ExecuteTime": {
     "end_time": "2020-07-20T02:32:36.169795Z",
     "start_time": "2020-07-20T02:32:36.164794Z"
    },
    "hidden": true
   },
   "outputs": [],
   "source": [
    "#result = seasonal_decompose(df_sp_grouped_month['n_passengers'], model='additive', period=12)\n",
    "#result.plot()\n",
    "#plt.show();"
   ]
  },
  {
   "cell_type": "code",
   "execution_count": 24,
   "metadata": {
    "ExecuteTime": {
     "end_time": "2020-07-20T02:32:32.828608Z",
     "start_time": "2020-07-20T02:32:32.821323Z"
    },
    "hidden": true
   },
   "outputs": [],
   "source": [
    "#from statsmodels.tsa.seasonal import STL\n",
    "#res = STL(df_sp_grouped_month['n_passengers']).fit()\n",
    "#res.plot()\n",
    "#plt.show()"
   ]
  },
  {
   "cell_type": "markdown",
   "metadata": {
    "ExecuteTime": {
     "end_time": "2020-06-09T22:48:13.047190Z",
     "start_time": "2020-06-09T22:48:12.516652Z"
    },
    "hidden": true
   },
   "source": [
    "## daily analysis"
   ]
  },
  {
   "cell_type": "code",
   "execution_count": 31,
   "metadata": {
    "ExecuteTime": {
     "end_time": "2020-07-20T02:57:24.128054Z",
     "start_time": "2020-07-20T02:57:24.015770Z"
    },
    "hidden": true
   },
   "outputs": [],
   "source": [
    "df_sp_grouped_day = df_sp.resample('D', on ='departure_datetime').sum()[['n_seats_offered','n_passengers']]\n",
    "\n",
    "df_sp_grouped_day['seats_pass_diff'] =  df_sp_grouped_day.n_seats_offered -df_sp_grouped_day.n_passengers"
   ]
  },
  {
   "cell_type": "code",
   "execution_count": 32,
   "metadata": {
    "ExecuteTime": {
     "end_time": "2020-07-20T02:57:25.474176Z",
     "start_time": "2020-07-20T02:57:25.178028Z"
    },
    "hidden": true
   },
   "outputs": [
    {
     "data": {
      "text/plain": [
       "<matplotlib.axes._subplots.AxesSubplot at 0x7f6d120ad3c8>"
      ]
     },
     "execution_count": 32,
     "metadata": {},
     "output_type": "execute_result"
    },
    {
     "data": {
      "image/png": "[encoded data removed]",
      "text/plain": [
       "<Figure size 432x288 with 1 Axes>"
      ]
     },
     "metadata": {
      "needs_background": "light"
     },
     "output_type": "display_data"
    }
   ],
   "source": [
    "df_sp_grouped_day.seats_pass_diff.head(30).plot()"
   ]
  },
  {
   "cell_type": "code",
   "execution_count": 33,
   "metadata": {
    "ExecuteTime": {
     "end_time": "2020-07-20T02:57:35.440762Z",
     "start_time": "2020-07-20T02:57:34.921276Z"
    },
    "hidden": true
   },
   "outputs": [
    {
     "data": {
      "image/png": "[encoded data removed]",
      "text/plain": [
       "<Figure size 1080x288 with 2 Axes>"
      ]
     },
     "metadata": {
      "needs_background": "light"
     },
     "output_type": "display_data"
    }
   ],
   "source": [
    "fig, axes = plt.subplots(1, 2, figsize=(15,4))\n",
    "\n",
    "fig = plot_acf(df_sp_grouped_day.n_passengers, lags=40, ax=axes[0])\n",
    "fig = plot_pacf(df_sp_grouped_day.n_passengers, lags=40, ax=axes[1])"
   ]
  },
  {
   "cell_type": "markdown",
   "metadata": {
    "ExecuteTime": {
     "end_time": "2020-06-09T22:57:41.267334Z",
     "start_time": "2020-06-09T22:57:41.265133Z"
    },
    "hidden": true
   },
   "source": [
    "## Hourly analisys"
   ]
  },
  {
   "cell_type": "code",
   "execution_count": 34,
   "metadata": {
    "ExecuteTime": {
     "end_time": "2020-07-20T02:57:41.131477Z",
     "start_time": "2020-07-20T02:57:40.988625Z"
    },
    "hidden": true
   },
   "outputs": [],
   "source": [
    "# Resample into hourly bins\n",
    "\n",
    "df_sp_grouped_hour = df_sp.resample('H', on ='departure_datetime').sum()[['n_seats_offered','n_passengers']]"
   ]
  },
  {
   "cell_type": "code",
   "execution_count": 35,
   "metadata": {
    "ExecuteTime": {
     "end_time": "2020-07-20T02:57:42.731901Z",
     "start_time": "2020-07-20T02:57:42.500758Z"
    },
    "hidden": true
   },
   "outputs": [
    {
     "data": {
      "text/plain": [
       "<matplotlib.axes._subplots.AxesSubplot at 0x7f6d11eed860>"
      ]
     },
     "execution_count": 35,
     "metadata": {},
     "output_type": "execute_result"
    },
    {
     "data": {
      "image/png": "[encoded data removed]",
      "text/plain": [
       "<Figure size 432x288 with 1 Axes>"
      ]
     },
     "metadata": {
      "needs_background": "light"
     },
     "output_type": "display_data"
    }
   ],
   "source": [
    "(df_sp_grouped_hour['n_passengers']).head(200).plot()"
   ]
  },
  {
   "cell_type": "code",
   "execution_count": 36,
   "metadata": {
    "ExecuteTime": {
     "end_time": "2020-07-20T02:57:45.418665Z",
     "start_time": "2020-07-20T02:57:44.705525Z"
    },
    "hidden": true
   },
   "outputs": [
    {
     "data": {
      "image/png": "[encoded data removed]",
      "text/plain": [
       "<Figure size 1080x288 with 2 Axes>"
      ]
     },
     "metadata": {
      "needs_background": "light"
     },
     "output_type": "display_data"
    }
   ],
   "source": [
    "fig, axes = plt.subplots(1, 2, figsize=(15,4))\n",
    "\n",
    "fig = plot_acf(df_sp_grouped_hour.n_passengers, lags=40, ax=axes[0])\n",
    "fig = plot_pacf(df_sp_grouped_hour.n_passengers, lags=40, ax=axes[1])"
   ]
  },
  {
   "cell_type": "markdown",
   "metadata": {
    "hidden": true
   },
   "source": [
    "## General"
   ]
  },
  {
   "cell_type": "code",
   "execution_count": 43,
   "metadata": {
    "ExecuteTime": {
     "end_time": "2020-07-20T03:21:00.771442Z",
     "start_time": "2020-07-20T03:21:00.688288Z"
    },
    "hidden": true
   },
   "outputs": [
    {
     "data": {
      "text/html": [
       "<div>\n",
       "<style scoped>\n",
       "    .dataframe tbody tr th:only-of-type {\n",
       "        vertical-align: middle;\n",
       "    }\n",
       "\n",
       "    .dataframe tbody tr th {\n",
       "        vertical-align: top;\n",
       "    }\n",
       "\n",
       "    .dataframe thead th {\n",
       "        text-align: right;\n",
       "    }\n",
       "</style>\n",
       "<table border=\"1\" class=\"dataframe\">\n",
       "  <thead>\n",
       "    <tr style=\"text-align: right;\">\n",
       "      <th></th>\n",
       "      <th>count</th>\n",
       "      <th>mean</th>\n",
       "      <th>std</th>\n",
       "      <th>min</th>\n",
       "      <th>25%</th>\n",
       "      <th>50%</th>\n",
       "      <th>75%</th>\n",
       "      <th>max</th>\n",
       "    </tr>\n",
       "  </thead>\n",
       "  <tbody>\n",
       "    <tr>\n",
       "      <th>departure_day_of_month</th>\n",
       "      <td>288035.0</td>\n",
       "      <td>15.718010</td>\n",
       "      <td>8.787708</td>\n",
       "      <td>1.0</td>\n",
       "      <td>8.0</td>\n",
       "      <td>16.0</td>\n",
       "      <td>23.0</td>\n",
       "      <td>31.0</td>\n",
       "    </tr>\n",
       "    <tr>\n",
       "      <th>departure_month_encoded</th>\n",
       "      <td>288035.0</td>\n",
       "      <td>6.523985</td>\n",
       "      <td>3.454433</td>\n",
       "      <td>1.0</td>\n",
       "      <td>4.0</td>\n",
       "      <td>7.0</td>\n",
       "      <td>10.0</td>\n",
       "      <td>12.0</td>\n",
       "    </tr>\n",
       "    <tr>\n",
       "      <th>fl_holiday</th>\n",
       "      <td>288035.0</td>\n",
       "      <td>0.036089</td>\n",
       "      <td>0.186513</td>\n",
       "      <td>0.0</td>\n",
       "      <td>0.0</td>\n",
       "      <td>0.0</td>\n",
       "      <td>0.0</td>\n",
       "      <td>1.0</td>\n",
       "    </tr>\n",
       "    <tr>\n",
       "      <th>fl_holiday_d1</th>\n",
       "      <td>288035.0</td>\n",
       "      <td>0.036395</td>\n",
       "      <td>0.187271</td>\n",
       "      <td>0.0</td>\n",
       "      <td>0.0</td>\n",
       "      <td>0.0</td>\n",
       "      <td>0.0</td>\n",
       "      <td>1.0</td>\n",
       "    </tr>\n",
       "    <tr>\n",
       "      <th>fl_holiday_d2</th>\n",
       "      <td>288035.0</td>\n",
       "      <td>0.036530</td>\n",
       "      <td>0.187606</td>\n",
       "      <td>0.0</td>\n",
       "      <td>0.0</td>\n",
       "      <td>0.0</td>\n",
       "      <td>0.0</td>\n",
       "      <td>1.0</td>\n",
       "    </tr>\n",
       "    <tr>\n",
       "      <th>fl_holiday_d3</th>\n",
       "      <td>288035.0</td>\n",
       "      <td>0.037676</td>\n",
       "      <td>0.190412</td>\n",
       "      <td>0.0</td>\n",
       "      <td>0.0</td>\n",
       "      <td>0.0</td>\n",
       "      <td>0.0</td>\n",
       "      <td>1.0</td>\n",
       "    </tr>\n",
       "    <tr>\n",
       "      <th>year</th>\n",
       "      <td>288035.0</td>\n",
       "      <td>2017.001028</td>\n",
       "      <td>0.817187</td>\n",
       "      <td>2016.0</td>\n",
       "      <td>2016.0</td>\n",
       "      <td>2017.0</td>\n",
       "      <td>2018.0</td>\n",
       "      <td>2018.0</td>\n",
       "    </tr>\n",
       "    <tr>\n",
       "      <th>n_seats_offered</th>\n",
       "      <td>288035.0</td>\n",
       "      <td>158.609096</td>\n",
       "      <td>21.695685</td>\n",
       "      <td>0.0</td>\n",
       "      <td>138.0</td>\n",
       "      <td>174.0</td>\n",
       "      <td>177.0</td>\n",
       "      <td>379.0</td>\n",
       "    </tr>\n",
       "    <tr>\n",
       "      <th>n_passengers</th>\n",
       "      <td>288035.0</td>\n",
       "      <td>119.598031</td>\n",
       "      <td>33.094808</td>\n",
       "      <td>0.0</td>\n",
       "      <td>98.0</td>\n",
       "      <td>123.0</td>\n",
       "      <td>143.0</td>\n",
       "      <td>313.0</td>\n",
       "    </tr>\n",
       "  </tbody>\n",
       "</table>\n",
       "</div>"
      ],
      "text/plain": [
       "                            count         mean        std     min     25%  \\\n",
       "departure_day_of_month   288035.0    15.718010   8.787708     1.0     8.0   \n",
       "departure_month_encoded  288035.0     6.523985   3.454433     1.0     4.0   \n",
       "fl_holiday               288035.0     0.036089   0.186513     0.0     0.0   \n",
       "fl_holiday_d1            288035.0     0.036395   0.187271     0.0     0.0   \n",
       "fl_holiday_d2            288035.0     0.036530   0.187606     0.0     0.0   \n",
       "fl_holiday_d3            288035.0     0.037676   0.190412     0.0     0.0   \n",
       "year                     288035.0  2017.001028   0.817187  2016.0  2016.0   \n",
       "n_seats_offered          288035.0   158.609096  21.695685     0.0   138.0   \n",
       "n_passengers             288035.0   119.598031  33.094808     0.0    98.0   \n",
       "\n",
       "                            50%     75%     max  \n",
       "departure_day_of_month     16.0    23.0    31.0  \n",
       "departure_month_encoded     7.0    10.0    12.0  \n",
       "fl_holiday                  0.0     0.0     1.0  \n",
       "fl_holiday_d1               0.0     0.0     1.0  \n",
       "fl_holiday_d2               0.0     0.0     1.0  \n",
       "fl_holiday_d3               0.0     0.0     1.0  \n",
       "year                     2017.0  2018.0  2018.0  \n",
       "n_seats_offered           174.0   177.0   379.0  \n",
       "n_passengers              123.0   143.0   313.0  "
      ]
     },
     "execution_count": 43,
     "metadata": {},
     "output_type": "execute_result"
    }
   ],
   "source": [
    "df_sp.describe().T"
   ]
  },
  {
   "cell_type": "code",
   "execution_count": 64,
   "metadata": {
    "ExecuteTime": {
     "end_time": "2020-07-20T03:37:28.366879Z",
     "start_time": "2020-07-20T03:37:27.649298Z"
    },
    "hidden": true
   },
   "outputs": [
    {
     "data": {
      "text/plain": [
       "<matplotlib.axes._subplots.AxesSubplot at 0x7f6d0b0156d8>"
      ]
     },
     "execution_count": 64,
     "metadata": {},
     "output_type": "execute_result"
    },
    {
     "data": {
      "image/png": "[encoded data removed]",
      "text/plain": [
       "<Figure size 1080x288 with 2 Axes>"
      ]
     },
     "metadata": {
      "needs_background": "light"
     },
     "output_type": "display_data"
    }
   ],
   "source": [
    "fig, axes = plt.subplots(1, 2, figsize=(15,4))\n",
    "\n",
    "df_sp_grouped_hour.plot.scatter(x = 'n_seats_offered',y='n_passengers',ax=axes[])\n",
    "df_sp_grouped_hour.head(72).plot(ax=axes[1])"
   ]
  },
  {
   "cell_type": "markdown",
   "metadata": {},
   "source": [
    "# Naive predictor"
   ]
  },
  {
   "cell_type": "code",
   "execution_count": 157,
   "metadata": {
    "ExecuteTime": {
     "end_time": "2020-07-22T02:25:57.221091Z",
     "start_time": "2020-07-22T02:25:57.197996Z"
    }
   },
   "outputs": [
    {
     "data": {
      "text/html": [
       "<div>\n",
       "<style scoped>\n",
       "    .dataframe tbody tr th:only-of-type {\n",
       "        vertical-align: middle;\n",
       "    }\n",
       "\n",
       "    .dataframe tbody tr th {\n",
       "        vertical-align: top;\n",
       "    }\n",
       "\n",
       "    .dataframe thead th {\n",
       "        text-align: right;\n",
       "    }\n",
       "</style>\n",
       "<table border=\"1\" class=\"dataframe\">\n",
       "  <thead>\n",
       "    <tr style=\"text-align: right;\">\n",
       "      <th></th>\n",
       "      <th>n_seats_offered</th>\n",
       "      <th>n_passengers</th>\n",
       "      <th>year</th>\n",
       "      <th>month_day_hour</th>\n",
       "    </tr>\n",
       "    <tr>\n",
       "      <th>departure_datetime</th>\n",
       "      <th></th>\n",
       "      <th></th>\n",
       "      <th></th>\n",
       "      <th></th>\n",
       "    </tr>\n",
       "  </thead>\n",
       "  <tbody>\n",
       "    <tr>\n",
       "      <th>2016-01-01 05:00:00</th>\n",
       "      <td>138.0</td>\n",
       "      <td>78.0</td>\n",
       "      <td>2016</td>\n",
       "      <td>01-01 05</td>\n",
       "    </tr>\n",
       "    <tr>\n",
       "      <th>2016-01-01 06:00:00</th>\n",
       "      <td>315.0</td>\n",
       "      <td>80.0</td>\n",
       "      <td>2016</td>\n",
       "      <td>01-01 06</td>\n",
       "    </tr>\n",
       "    <tr>\n",
       "      <th>2016-01-01 07:00:00</th>\n",
       "      <td>1132.0</td>\n",
       "      <td>651.0</td>\n",
       "      <td>2016</td>\n",
       "      <td>01-01 07</td>\n",
       "    </tr>\n",
       "    <tr>\n",
       "      <th>2016-01-01 08:00:00</th>\n",
       "      <td>2253.0</td>\n",
       "      <td>1285.0</td>\n",
       "      <td>2016</td>\n",
       "      <td>01-01 08</td>\n",
       "    </tr>\n",
       "    <tr>\n",
       "      <th>2016-01-01 09:00:00</th>\n",
       "      <td>1398.0</td>\n",
       "      <td>771.0</td>\n",
       "      <td>2016</td>\n",
       "      <td>01-01 09</td>\n",
       "    </tr>\n",
       "  </tbody>\n",
       "</table>\n",
       "</div>"
      ],
      "text/plain": [
       "                     n_seats_offered  n_passengers  year month_day_hour\n",
       "departure_datetime                                                     \n",
       "2016-01-01 05:00:00            138.0          78.0  2016       01-01 05\n",
       "2016-01-01 06:00:00            315.0          80.0  2016       01-01 06\n",
       "2016-01-01 07:00:00           1132.0         651.0  2016       01-01 07\n",
       "2016-01-01 08:00:00           2253.0        1285.0  2016       01-01 08\n",
       "2016-01-01 09:00:00           1398.0         771.0  2016       01-01 09"
      ]
     },
     "execution_count": 157,
     "metadata": {},
     "output_type": "execute_result"
    }
   ],
   "source": [
    "df_train.head()"
   ]
  },
  {
   "cell_type": "code",
   "execution_count": 74,
   "metadata": {
    "ExecuteTime": {
     "end_time": "2020-07-20T22:23:23.315518Z",
     "start_time": "2020-07-20T22:23:23.289702Z"
    }
   },
   "outputs": [
    {
     "data": {
      "text/html": [
       "<div>\n",
       "<style scoped>\n",
       "    .dataframe tbody tr th:only-of-type {\n",
       "        vertical-align: middle;\n",
       "    }\n",
       "\n",
       "    .dataframe tbody tr th {\n",
       "        vertical-align: top;\n",
       "    }\n",
       "\n",
       "    .dataframe thead th {\n",
       "        text-align: right;\n",
       "    }\n",
       "</style>\n",
       "<table border=\"1\" class=\"dataframe\">\n",
       "  <thead>\n",
       "    <tr style=\"text-align: right;\">\n",
       "      <th></th>\n",
       "      <th>n_seats_offered</th>\n",
       "      <th>n_passengers</th>\n",
       "      <th>year</th>\n",
       "      <th>month_day_hour</th>\n",
       "    </tr>\n",
       "    <tr>\n",
       "      <th>departure_datetime</th>\n",
       "      <th></th>\n",
       "      <th></th>\n",
       "      <th></th>\n",
       "      <th></th>\n",
       "    </tr>\n",
       "  </thead>\n",
       "  <tbody>\n",
       "    <tr>\n",
       "      <th>2016-01-01 05:00:00</th>\n",
       "      <td>138.0</td>\n",
       "      <td>78.0</td>\n",
       "      <td>2016</td>\n",
       "      <td>01-01 05</td>\n",
       "    </tr>\n",
       "    <tr>\n",
       "      <th>2016-01-01 06:00:00</th>\n",
       "      <td>315.0</td>\n",
       "      <td>80.0</td>\n",
       "      <td>2016</td>\n",
       "      <td>01-01 06</td>\n",
       "    </tr>\n",
       "    <tr>\n",
       "      <th>2016-01-01 07:00:00</th>\n",
       "      <td>1132.0</td>\n",
       "      <td>651.0</td>\n",
       "      <td>2016</td>\n",
       "      <td>01-01 07</td>\n",
       "    </tr>\n",
       "    <tr>\n",
       "      <th>2016-01-01 08:00:00</th>\n",
       "      <td>2253.0</td>\n",
       "      <td>1285.0</td>\n",
       "      <td>2016</td>\n",
       "      <td>01-01 08</td>\n",
       "    </tr>\n",
       "    <tr>\n",
       "      <th>2016-01-01 09:00:00</th>\n",
       "      <td>1398.0</td>\n",
       "      <td>771.0</td>\n",
       "      <td>2016</td>\n",
       "      <td>01-01 09</td>\n",
       "    </tr>\n",
       "  </tbody>\n",
       "</table>\n",
       "</div>"
      ],
      "text/plain": [
       "                     n_seats_offered  n_passengers  year month_day_hour\n",
       "departure_datetime                                                     \n",
       "2016-01-01 05:00:00            138.0          78.0  2016       01-01 05\n",
       "2016-01-01 06:00:00            315.0          80.0  2016       01-01 06\n",
       "2016-01-01 07:00:00           1132.0         651.0  2016       01-01 07\n",
       "2016-01-01 08:00:00           2253.0        1285.0  2016       01-01 08\n",
       "2016-01-01 09:00:00           1398.0         771.0  2016       01-01 09"
      ]
     },
     "execution_count": 74,
     "metadata": {},
     "output_type": "execute_result"
    }
   ],
   "source": [
    "class naive_predictor():\n",
    "    def __init__(self,year0:str,year1:str):\n",
    "        self.baseYear = year0\n",
    "        self.incrementYear = year1\n",
    "    \n",
    "    def fit(self,df_train:pd.DataFrame ,target:str):\n",
    "        df_train['year'] = df_train.index.year\n",
    "        df_train['month_day_hour'] = df_train.index.strftime(\"%m-%d %H\")\n",
    "        dfs = [df_train.query(f\"year == {int(i)}\") for i in [self.baseYear,self.incrementYear]]\n",
    "        df_joined = reduce(lambda left,right: pd.merge(left,right,on='month_day_hour'), dfs)\n",
    "        \n",
    "        self.slope = 1+((df_joined[target+'_x'].sum() - df_joined[target+'_y'].sum())/df_joined[target+'_y'].sum())\n",
    "        self.predictions = df_train.\n",
    "        \n",
    "    def predict():\n",
    "        "
   ]
  },
  {
   "cell_type": "code",
   "execution_count": 159,
   "metadata": {
    "ExecuteTime": {
     "end_time": "2020-07-22T02:41:07.918843Z",
     "start_time": "2020-07-22T02:41:07.887984Z"
    }
   },
   "outputs": [],
   "source": [
    "dfs = [df_train.query(f\"year == {i}\") for i in [2017,2018]]\n",
    "\n",
    "df_final = reduce(lambda left,right: pd.merge(left,right,on='month_day_hour'), dfs)"
   ]
  },
  {
   "cell_type": "code",
   "execution_count": 115,
   "metadata": {
    "ExecuteTime": {
     "end_time": "2020-07-20T22:43:40.831895Z",
     "start_time": "2020-07-20T22:43:40.825594Z"
    }
   },
   "outputs": [
    {
     "data": {
      "text/plain": [
       "0.018743242388167252"
      ]
     },
     "execution_count": 115,
     "metadata": {},
     "output_type": "execute_result"
    }
   ],
   "source": [
    "((df_final.n_passengers.sum() - df_final.n_passengers_y.sum())/df_final.n_passengers_y.sum())"
   ]
  },
  {
   "cell_type": "code",
   "execution_count": 116,
   "metadata": {
    "ExecuteTime": {
     "end_time": "2020-07-20T22:43:57.485982Z",
     "start_time": "2020-07-20T22:43:57.480401Z"
    }
   },
   "outputs": [],
   "source": [
    "n_pred = df_final.n_passengers * (1+(df_final.n_passengers.sum() - df_final.n_passengers_y.sum())/df_final.n_passengers_y.sum())"
   ]
  },
  {
   "cell_type": "code",
   "execution_count": 131,
   "metadata": {
    "ExecuteTime": {
     "end_time": "2020-07-22T02:12:55.673351Z",
     "start_time": "2020-07-22T02:12:55.663871Z"
    }
   },
   "outputs": [
    {
     "ename": "SyntaxError",
     "evalue": "invalid syntax (<ipython-input-131-77d147a3f22f>, line 3)",
     "output_type": "error",
     "traceback": [
      "\u001b[0;36m  File \u001b[0;32m\"<ipython-input-131-77d147a3f22f>\"\u001b[0;36m, line \u001b[0;32m3\u001b[0m\n\u001b[0;31m    df_final['pred'].head(6:48).plot(ax=axes[0]);\u001b[0m\n\u001b[0m                           ^\u001b[0m\n\u001b[0;31mSyntaxError\u001b[0m\u001b[0;31m:\u001b[0m invalid syntax\n"
     ]
    }
   ],
   "source": [
    "fig, axes = plt.subplots(1, 2, figsize=(15,4))\n",
    "\n",
    "df_final.['pred'].head().plot(ax=axes[0]);\n",
    "df_oot.n_passengers.head(48).plot(ax=axes[1])"
   ]
  },
  {
   "cell_type": "code",
   "execution_count": 129,
   "metadata": {
    "ExecuteTime": {
     "end_time": "2020-07-22T02:11:58.967073Z",
     "start_time": "2020-07-22T02:11:58.937139Z"
    }
   },
   "outputs": [
    {
     "ename": "ValueError",
     "evalue": "Found input variables with inconsistent numbers of samples: [8755, 8753]",
     "output_type": "error",
     "traceback": [
      "\u001b[0;31m---------------------------------------------------------------------------\u001b[0m",
      "\u001b[0;31mValueError\u001b[0m                                Traceback (most recent call last)",
      "\u001b[0;32m<ipython-input-129-8308bafd373b>\u001b[0m in \u001b[0;36m<module>\u001b[0;34m\u001b[0m\n\u001b[0;32m----> 1\u001b[0;31m \u001b[0mmean_absolute_error\u001b[0m\u001b[0;34m(\u001b[0m\u001b[0mdf_final\u001b[0m\u001b[0;34m.\u001b[0m\u001b[0mpred\u001b[0m\u001b[0;34m,\u001b[0m\u001b[0mdf_oot\u001b[0m\u001b[0;34m.\u001b[0m\u001b[0mn_passengers\u001b[0m\u001b[0;34m)\u001b[0m\u001b[0;34m\u001b[0m\u001b[0;34m\u001b[0m\u001b[0m\n\u001b[0m",
      "\u001b[0;32m~/.local/lib/python3.6/site-packages/sklearn/utils/validation.py\u001b[0m in \u001b[0;36minner_f\u001b[0;34m(*args, **kwargs)\u001b[0m\n\u001b[1;32m     71\u001b[0m                           FutureWarning)\n\u001b[1;32m     72\u001b[0m         \u001b[0mkwargs\u001b[0m\u001b[0;34m.\u001b[0m\u001b[0mupdate\u001b[0m\u001b[0;34m(\u001b[0m\u001b[0;34m{\u001b[0m\u001b[0mk\u001b[0m\u001b[0;34m:\u001b[0m \u001b[0marg\u001b[0m \u001b[0;32mfor\u001b[0m \u001b[0mk\u001b[0m\u001b[0;34m,\u001b[0m \u001b[0marg\u001b[0m \u001b[0;32min\u001b[0m \u001b[0mzip\u001b[0m\u001b[0;34m(\u001b[0m\u001b[0msig\u001b[0m\u001b[0;34m.\u001b[0m\u001b[0mparameters\u001b[0m\u001b[0;34m,\u001b[0m \u001b[0margs\u001b[0m\u001b[0;34m)\u001b[0m\u001b[0;34m}\u001b[0m\u001b[0;34m)\u001b[0m\u001b[0;34m\u001b[0m\u001b[0;34m\u001b[0m\u001b[0m\n\u001b[0;32m---> 73\u001b[0;31m         \u001b[0;32mreturn\u001b[0m \u001b[0mf\u001b[0m\u001b[0;34m(\u001b[0m\u001b[0;34m**\u001b[0m\u001b[0mkwargs\u001b[0m\u001b[0;34m)\u001b[0m\u001b[0;34m\u001b[0m\u001b[0;34m\u001b[0m\u001b[0m\n\u001b[0m\u001b[1;32m     74\u001b[0m     \u001b[0;32mreturn\u001b[0m \u001b[0minner_f\u001b[0m\u001b[0;34m\u001b[0m\u001b[0;34m\u001b[0m\u001b[0m\n\u001b[1;32m     75\u001b[0m \u001b[0;34m\u001b[0m\u001b[0m\n",
      "\u001b[0;32m~/.local/lib/python3.6/site-packages/sklearn/metrics/_regression.py\u001b[0m in \u001b[0;36mmean_absolute_error\u001b[0;34m(y_true, y_pred, sample_weight, multioutput)\u001b[0m\n\u001b[1;32m    177\u001b[0m     \"\"\"\n\u001b[1;32m    178\u001b[0m     y_type, y_true, y_pred, multioutput = _check_reg_targets(\n\u001b[0;32m--> 179\u001b[0;31m         y_true, y_pred, multioutput)\n\u001b[0m\u001b[1;32m    180\u001b[0m     \u001b[0mcheck_consistent_length\u001b[0m\u001b[0;34m(\u001b[0m\u001b[0my_true\u001b[0m\u001b[0;34m,\u001b[0m \u001b[0my_pred\u001b[0m\u001b[0;34m,\u001b[0m \u001b[0msample_weight\u001b[0m\u001b[0;34m)\u001b[0m\u001b[0;34m\u001b[0m\u001b[0;34m\u001b[0m\u001b[0m\n\u001b[1;32m    181\u001b[0m     output_errors = np.average(np.abs(y_pred - y_true),\n",
      "\u001b[0;32m~/.local/lib/python3.6/site-packages/sklearn/metrics/_regression.py\u001b[0m in \u001b[0;36m_check_reg_targets\u001b[0;34m(y_true, y_pred, multioutput, dtype)\u001b[0m\n\u001b[1;32m     82\u001b[0m \u001b[0;34m\u001b[0m\u001b[0m\n\u001b[1;32m     83\u001b[0m     \"\"\"\n\u001b[0;32m---> 84\u001b[0;31m     \u001b[0mcheck_consistent_length\u001b[0m\u001b[0;34m(\u001b[0m\u001b[0my_true\u001b[0m\u001b[0;34m,\u001b[0m \u001b[0my_pred\u001b[0m\u001b[0;34m)\u001b[0m\u001b[0;34m\u001b[0m\u001b[0;34m\u001b[0m\u001b[0m\n\u001b[0m\u001b[1;32m     85\u001b[0m     \u001b[0my_true\u001b[0m \u001b[0;34m=\u001b[0m \u001b[0mcheck_array\u001b[0m\u001b[0;34m(\u001b[0m\u001b[0my_true\u001b[0m\u001b[0;34m,\u001b[0m \u001b[0mensure_2d\u001b[0m\u001b[0;34m=\u001b[0m\u001b[0;32mFalse\u001b[0m\u001b[0;34m,\u001b[0m \u001b[0mdtype\u001b[0m\u001b[0;34m=\u001b[0m\u001b[0mdtype\u001b[0m\u001b[0;34m)\u001b[0m\u001b[0;34m\u001b[0m\u001b[0;34m\u001b[0m\u001b[0m\n\u001b[1;32m     86\u001b[0m     \u001b[0my_pred\u001b[0m \u001b[0;34m=\u001b[0m \u001b[0mcheck_array\u001b[0m\u001b[0;34m(\u001b[0m\u001b[0my_pred\u001b[0m\u001b[0;34m,\u001b[0m \u001b[0mensure_2d\u001b[0m\u001b[0;34m=\u001b[0m\u001b[0;32mFalse\u001b[0m\u001b[0;34m,\u001b[0m \u001b[0mdtype\u001b[0m\u001b[0;34m=\u001b[0m\u001b[0mdtype\u001b[0m\u001b[0;34m)\u001b[0m\u001b[0;34m\u001b[0m\u001b[0;34m\u001b[0m\u001b[0m\n",
      "\u001b[0;32m~/.local/lib/python3.6/site-packages/sklearn/utils/validation.py\u001b[0m in \u001b[0;36mcheck_consistent_length\u001b[0;34m(*arrays)\u001b[0m\n\u001b[1;32m    255\u001b[0m     \u001b[0;32mif\u001b[0m \u001b[0mlen\u001b[0m\u001b[0;34m(\u001b[0m\u001b[0muniques\u001b[0m\u001b[0;34m)\u001b[0m \u001b[0;34m>\u001b[0m \u001b[0;36m1\u001b[0m\u001b[0;34m:\u001b[0m\u001b[0;34m\u001b[0m\u001b[0;34m\u001b[0m\u001b[0m\n\u001b[1;32m    256\u001b[0m         raise ValueError(\"Found input variables with inconsistent numbers of\"\n\u001b[0;32m--> 257\u001b[0;31m                          \" samples: %r\" % [int(l) for l in lengths])\n\u001b[0m\u001b[1;32m    258\u001b[0m \u001b[0;34m\u001b[0m\u001b[0m\n\u001b[1;32m    259\u001b[0m \u001b[0;34m\u001b[0m\u001b[0m\n",
      "\u001b[0;31mValueError\u001b[0m: Found input variables with inconsistent numbers of samples: [8755, 8753]"
     ]
    }
   ],
   "source": [
    "mean_absolute_error(df_final.pred,df_oot.n_passengers)"
   ]
  },
  {
   "cell_type": "markdown",
   "metadata": {},
   "source": [
    "# SARIMAX"
   ]
  },
  {
   "cell_type": "code",
   "execution_count": 65,
   "metadata": {
    "ExecuteTime": {
     "end_time": "2020-07-20T21:50:56.583274Z",
     "start_time": "2020-07-20T21:46:53.293002Z"
    }
   },
   "outputs": [
    {
     "data": {
      "text/plain": [
       "<matplotlib.axes._subplots.AxesSubplot at 0x7f6d0af47908>"
      ]
     },
     "execution_count": 65,
     "metadata": {},
     "output_type": "execute_result"
    },
    {
     "data": {
      "image/png": "[encoded data removed]",
      "text/plain": [
       "<Figure size 432x288 with 1 Axes>"
      ]
     },
     "metadata": {
      "needs_background": "light"
     },
     "output_type": "display_data"
    }
   ],
   "source": [
    "mod_sarimax = sm.tsa.SARIMAX(df_sp_grouped_hour['n_passengers'], order=(1,1,1),\n",
    "                             seasonal_order=(0,1,1,24), trend = 't')\n",
    "res_sarimax = mod_sarimax.fit()\n"
   ]
  },
  {
   "cell_type": "code",
   "execution_count": 66,
   "metadata": {
    "ExecuteTime": {
     "end_time": "2020-07-20T22:02:26.253032Z",
     "start_time": "2020-07-20T22:02:25.935079Z"
    }
   },
   "outputs": [
    {
     "data": {
      "text/plain": [
       "<matplotlib.axes._subplots.AxesSubplot at 0x7f6d0aef87b8>"
      ]
     },
     "execution_count": 66,
     "metadata": {},
     "output_type": "execute_result"
    },
    {
     "data": {
      "image/png": "[encoded data removed]",
      "text/plain": [
       "<Figure size 432x288 with 1 Axes>"
      ]
     },
     "metadata": {
      "needs_background": "light"
     },
     "output_type": "display_data"
    }
   ],
   "source": [
    "yhat = res_sarimax.forecast(200)\n",
    "\n",
    "yhat.plot()"
   ]
  },
  {
   "cell_type": "markdown",
   "metadata": {},
   "source": [
    "# FB Prophet"
   ]
  },
  {
   "cell_type": "code",
   "execution_count": null,
   "metadata": {},
   "outputs": [],
   "source": [
    "df = df_sp_grouped_hour.reset_index()\n",
    "df= df[['departure_datetime','n_passengers']]\n",
    "df.columns = ['ds','y']\n",
    "m = Prophet()\n",
    "m.fit(df)\n",
    "\n",
    "\n",
    "future = m.make_future_dataframe(periods=100)\n",
    "\n",
    "\n",
    "forecast = m.predict(future)\n",
    "\n",
    "\n",
    "fig1 = m.plot(forecast)"
   ]
  },
  {
   "cell_type": "markdown",
   "metadata": {
    "heading_collapsed": true
   },
   "source": [
    "# Modeling One Hot Encoding"
   ]
  },
  {
   "cell_type": "code",
   "execution_count": 102,
   "metadata": {
    "ExecuteTime": {
     "end_time": "2020-06-17T02:45:49.158586Z",
     "start_time": "2020-06-17T02:45:41.414366Z"
    },
    "hidden": true
   },
   "outputs": [],
   "source": [
    "# Encoding days of the week and month variables\n",
    "#df_sp_grouped.drop(['departure_date'],axis=1,inplace = True)\n",
    "\n",
    "\n",
    "df_sp_hour = df_sp.resample('H', on ='departure_datetime').agg({#'n_seats_offered':'sum',\n",
    "                                                                'n_passengers':'sum',\n",
    "                                                                'departure_day_of_month':'max',\n",
    "                                                                'departure_day_of_week':'max',\n",
    "                                                                'departure_month':'max',\n",
    "                                                                'departure_month_encoded':'max',\n",
    "                                                                'fl_holiday':'max',\n",
    "                                                                'fl_holiday_d1':'max',\n",
    "                                                                'fl_holiday_d2':'max',\n",
    "                                                                'fl_holiday_d3':'max',\n",
    "                                                                'year':'max'})\n",
    "\n",
    "cat_vars = [ 'departure_day_of_week', 'departure_month']\n",
    "df_sp_H = cat_encoding(df_sp_hour,cat_vars, encoding = 'one_hot')\n",
    "\n",
    "df_2020 = df_sp_H.query('year == 2020')\n",
    "df_oot = df_sp_H.query('year == 2019')\n",
    "df = df_sp_H.query('year < 2019')\n",
    "\n",
    "\n",
    "# Resample into hourly bins\n",
    "\n",
    "#cat_vars = df_sp_grouped.select_dtypes(include='object').columns.values.tolist()"
   ]
  },
  {
   "cell_type": "code",
   "execution_count": 80,
   "metadata": {
    "ExecuteTime": {
     "end_time": "2020-06-17T02:35:50.676179Z",
     "start_time": "2020-06-17T02:35:50.650540Z"
    },
    "hidden": true
   },
   "outputs": [
    {
     "data": {
      "text/html": [
       "<div>\n",
       "<style scoped>\n",
       "    .dataframe tbody tr th:only-of-type {\n",
       "        vertical-align: middle;\n",
       "    }\n",
       "\n",
       "    .dataframe tbody tr th {\n",
       "        vertical-align: top;\n",
       "    }\n",
       "\n",
       "    .dataframe thead th {\n",
       "        text-align: right;\n",
       "    }\n",
       "</style>\n",
       "<table border=\"1\" class=\"dataframe\">\n",
       "  <thead>\n",
       "    <tr style=\"text-align: right;\">\n",
       "      <th></th>\n",
       "      <th>n_passengers</th>\n",
       "      <th>departure_day_of_month</th>\n",
       "      <th>departure_day_of_week</th>\n",
       "      <th>departure_month</th>\n",
       "      <th>departure_month_encoded</th>\n",
       "      <th>fl_holiday</th>\n",
       "      <th>fl_holiday_d1</th>\n",
       "      <th>fl_holiday_d2</th>\n",
       "      <th>fl_holiday_d3</th>\n",
       "      <th>year</th>\n",
       "    </tr>\n",
       "    <tr>\n",
       "      <th>departure_datetime</th>\n",
       "      <th></th>\n",
       "      <th></th>\n",
       "      <th></th>\n",
       "      <th></th>\n",
       "      <th></th>\n",
       "      <th></th>\n",
       "      <th></th>\n",
       "      <th></th>\n",
       "      <th></th>\n",
       "      <th></th>\n",
       "    </tr>\n",
       "  </thead>\n",
       "  <tbody>\n",
       "    <tr>\n",
       "      <th>2016-01-01 05:00:00</th>\n",
       "      <td>78</td>\n",
       "      <td>1.0</td>\n",
       "      <td>fri</td>\n",
       "      <td>jan</td>\n",
       "      <td>1.0</td>\n",
       "      <td>1.0</td>\n",
       "      <td>0.0</td>\n",
       "      <td>0.0</td>\n",
       "      <td>0.0</td>\n",
       "      <td>2016.0</td>\n",
       "    </tr>\n",
       "    <tr>\n",
       "      <th>2016-01-01 06:00:00</th>\n",
       "      <td>80</td>\n",
       "      <td>1.0</td>\n",
       "      <td>fri</td>\n",
       "      <td>jan</td>\n",
       "      <td>1.0</td>\n",
       "      <td>1.0</td>\n",
       "      <td>0.0</td>\n",
       "      <td>0.0</td>\n",
       "      <td>0.0</td>\n",
       "      <td>2016.0</td>\n",
       "    </tr>\n",
       "    <tr>\n",
       "      <th>2016-01-01 07:00:00</th>\n",
       "      <td>651</td>\n",
       "      <td>1.0</td>\n",
       "      <td>fri</td>\n",
       "      <td>jan</td>\n",
       "      <td>1.0</td>\n",
       "      <td>1.0</td>\n",
       "      <td>0.0</td>\n",
       "      <td>0.0</td>\n",
       "      <td>0.0</td>\n",
       "      <td>2016.0</td>\n",
       "    </tr>\n",
       "    <tr>\n",
       "      <th>2016-01-01 08:00:00</th>\n",
       "      <td>1285</td>\n",
       "      <td>1.0</td>\n",
       "      <td>fri</td>\n",
       "      <td>jan</td>\n",
       "      <td>1.0</td>\n",
       "      <td>1.0</td>\n",
       "      <td>0.0</td>\n",
       "      <td>0.0</td>\n",
       "      <td>0.0</td>\n",
       "      <td>2016.0</td>\n",
       "    </tr>\n",
       "    <tr>\n",
       "      <th>2016-01-01 09:00:00</th>\n",
       "      <td>771</td>\n",
       "      <td>1.0</td>\n",
       "      <td>fri</td>\n",
       "      <td>jan</td>\n",
       "      <td>1.0</td>\n",
       "      <td>1.0</td>\n",
       "      <td>0.0</td>\n",
       "      <td>0.0</td>\n",
       "      <td>0.0</td>\n",
       "      <td>2016.0</td>\n",
       "    </tr>\n",
       "    <tr>\n",
       "      <th>2016-01-01 10:00:00</th>\n",
       "      <td>1353</td>\n",
       "      <td>1.0</td>\n",
       "      <td>fri</td>\n",
       "      <td>jan</td>\n",
       "      <td>1.0</td>\n",
       "      <td>1.0</td>\n",
       "      <td>0.0</td>\n",
       "      <td>0.0</td>\n",
       "      <td>0.0</td>\n",
       "      <td>2016.0</td>\n",
       "    </tr>\n",
       "    <tr>\n",
       "      <th>2016-01-01 11:00:00</th>\n",
       "      <td>1173</td>\n",
       "      <td>1.0</td>\n",
       "      <td>fri</td>\n",
       "      <td>jan</td>\n",
       "      <td>1.0</td>\n",
       "      <td>1.0</td>\n",
       "      <td>0.0</td>\n",
       "      <td>0.0</td>\n",
       "      <td>0.0</td>\n",
       "      <td>2016.0</td>\n",
       "    </tr>\n",
       "    <tr>\n",
       "      <th>2016-01-01 12:00:00</th>\n",
       "      <td>1161</td>\n",
       "      <td>1.0</td>\n",
       "      <td>fri</td>\n",
       "      <td>jan</td>\n",
       "      <td>1.0</td>\n",
       "      <td>1.0</td>\n",
       "      <td>0.0</td>\n",
       "      <td>0.0</td>\n",
       "      <td>0.0</td>\n",
       "      <td>2016.0</td>\n",
       "    </tr>\n",
       "    <tr>\n",
       "      <th>2016-01-01 13:00:00</th>\n",
       "      <td>1512</td>\n",
       "      <td>1.0</td>\n",
       "      <td>fri</td>\n",
       "      <td>jan</td>\n",
       "      <td>1.0</td>\n",
       "      <td>1.0</td>\n",
       "      <td>0.0</td>\n",
       "      <td>0.0</td>\n",
       "      <td>0.0</td>\n",
       "      <td>2016.0</td>\n",
       "    </tr>\n",
       "    <tr>\n",
       "      <th>2016-01-01 14:00:00</th>\n",
       "      <td>930</td>\n",
       "      <td>1.0</td>\n",
       "      <td>fri</td>\n",
       "      <td>jan</td>\n",
       "      <td>1.0</td>\n",
       "      <td>1.0</td>\n",
       "      <td>0.0</td>\n",
       "      <td>0.0</td>\n",
       "      <td>0.0</td>\n",
       "      <td>2016.0</td>\n",
       "    </tr>\n",
       "    <tr>\n",
       "      <th>2016-01-01 15:00:00</th>\n",
       "      <td>1557</td>\n",
       "      <td>1.0</td>\n",
       "      <td>fri</td>\n",
       "      <td>jan</td>\n",
       "      <td>1.0</td>\n",
       "      <td>1.0</td>\n",
       "      <td>0.0</td>\n",
       "      <td>0.0</td>\n",
       "      <td>0.0</td>\n",
       "      <td>2016.0</td>\n",
       "    </tr>\n",
       "    <tr>\n",
       "      <th>2016-01-01 16:00:00</th>\n",
       "      <td>729</td>\n",
       "      <td>1.0</td>\n",
       "      <td>fri</td>\n",
       "      <td>jan</td>\n",
       "      <td>1.0</td>\n",
       "      <td>1.0</td>\n",
       "      <td>0.0</td>\n",
       "      <td>0.0</td>\n",
       "      <td>0.0</td>\n",
       "      <td>2016.0</td>\n",
       "    </tr>\n",
       "    <tr>\n",
       "      <th>2016-01-01 17:00:00</th>\n",
       "      <td>1436</td>\n",
       "      <td>1.0</td>\n",
       "      <td>fri</td>\n",
       "      <td>jan</td>\n",
       "      <td>1.0</td>\n",
       "      <td>1.0</td>\n",
       "      <td>0.0</td>\n",
       "      <td>0.0</td>\n",
       "      <td>0.0</td>\n",
       "      <td>2016.0</td>\n",
       "    </tr>\n",
       "    <tr>\n",
       "      <th>2016-01-01 18:00:00</th>\n",
       "      <td>1539</td>\n",
       "      <td>1.0</td>\n",
       "      <td>fri</td>\n",
       "      <td>jan</td>\n",
       "      <td>1.0</td>\n",
       "      <td>1.0</td>\n",
       "      <td>0.0</td>\n",
       "      <td>0.0</td>\n",
       "      <td>0.0</td>\n",
       "      <td>2016.0</td>\n",
       "    </tr>\n",
       "    <tr>\n",
       "      <th>2016-01-01 19:00:00</th>\n",
       "      <td>1016</td>\n",
       "      <td>1.0</td>\n",
       "      <td>fri</td>\n",
       "      <td>jan</td>\n",
       "      <td>1.0</td>\n",
       "      <td>1.0</td>\n",
       "      <td>0.0</td>\n",
       "      <td>0.0</td>\n",
       "      <td>0.0</td>\n",
       "      <td>2016.0</td>\n",
       "    </tr>\n",
       "    <tr>\n",
       "      <th>2016-01-01 20:00:00</th>\n",
       "      <td>1193</td>\n",
       "      <td>1.0</td>\n",
       "      <td>fri</td>\n",
       "      <td>jan</td>\n",
       "      <td>1.0</td>\n",
       "      <td>1.0</td>\n",
       "      <td>0.0</td>\n",
       "      <td>0.0</td>\n",
       "      <td>0.0</td>\n",
       "      <td>2016.0</td>\n",
       "    </tr>\n",
       "    <tr>\n",
       "      <th>2016-01-01 21:00:00</th>\n",
       "      <td>1011</td>\n",
       "      <td>1.0</td>\n",
       "      <td>fri</td>\n",
       "      <td>jan</td>\n",
       "      <td>1.0</td>\n",
       "      <td>1.0</td>\n",
       "      <td>0.0</td>\n",
       "      <td>0.0</td>\n",
       "      <td>0.0</td>\n",
       "      <td>2016.0</td>\n",
       "    </tr>\n",
       "    <tr>\n",
       "      <th>2016-01-01 22:00:00</th>\n",
       "      <td>748</td>\n",
       "      <td>1.0</td>\n",
       "      <td>fri</td>\n",
       "      <td>jan</td>\n",
       "      <td>1.0</td>\n",
       "      <td>1.0</td>\n",
       "      <td>0.0</td>\n",
       "      <td>0.0</td>\n",
       "      <td>0.0</td>\n",
       "      <td>2016.0</td>\n",
       "    </tr>\n",
       "    <tr>\n",
       "      <th>2016-01-01 23:00:00</th>\n",
       "      <td>0</td>\n",
       "      <td>NaN</td>\n",
       "      <td>NaN</td>\n",
       "      <td>NaN</td>\n",
       "      <td>NaN</td>\n",
       "      <td>NaN</td>\n",
       "      <td>NaN</td>\n",
       "      <td>NaN</td>\n",
       "      <td>NaN</td>\n",
       "      <td>NaN</td>\n",
       "    </tr>\n",
       "    <tr>\n",
       "      <th>2016-01-02 00:00:00</th>\n",
       "      <td>0</td>\n",
       "      <td>NaN</td>\n",
       "      <td>NaN</td>\n",
       "      <td>NaN</td>\n",
       "      <td>NaN</td>\n",
       "      <td>NaN</td>\n",
       "      <td>NaN</td>\n",
       "      <td>NaN</td>\n",
       "      <td>NaN</td>\n",
       "      <td>NaN</td>\n",
       "    </tr>\n",
       "    <tr>\n",
       "      <th>2016-01-02 01:00:00</th>\n",
       "      <td>135</td>\n",
       "      <td>2.0</td>\n",
       "      <td>sat</td>\n",
       "      <td>jan</td>\n",
       "      <td>1.0</td>\n",
       "      <td>0.0</td>\n",
       "      <td>0.0</td>\n",
       "      <td>0.0</td>\n",
       "      <td>0.0</td>\n",
       "      <td>2016.0</td>\n",
       "    </tr>\n",
       "    <tr>\n",
       "      <th>2016-01-02 02:00:00</th>\n",
       "      <td>0</td>\n",
       "      <td>NaN</td>\n",
       "      <td>NaN</td>\n",
       "      <td>NaN</td>\n",
       "      <td>NaN</td>\n",
       "      <td>NaN</td>\n",
       "      <td>NaN</td>\n",
       "      <td>NaN</td>\n",
       "      <td>NaN</td>\n",
       "      <td>NaN</td>\n",
       "    </tr>\n",
       "    <tr>\n",
       "      <th>2016-01-02 03:00:00</th>\n",
       "      <td>0</td>\n",
       "      <td>NaN</td>\n",
       "      <td>NaN</td>\n",
       "      <td>NaN</td>\n",
       "      <td>NaN</td>\n",
       "      <td>NaN</td>\n",
       "      <td>NaN</td>\n",
       "      <td>NaN</td>\n",
       "      <td>NaN</td>\n",
       "      <td>NaN</td>\n",
       "    </tr>\n",
       "    <tr>\n",
       "      <th>2016-01-02 04:00:00</th>\n",
       "      <td>0</td>\n",
       "      <td>NaN</td>\n",
       "      <td>NaN</td>\n",
       "      <td>NaN</td>\n",
       "      <td>NaN</td>\n",
       "      <td>NaN</td>\n",
       "      <td>NaN</td>\n",
       "      <td>NaN</td>\n",
       "      <td>NaN</td>\n",
       "      <td>NaN</td>\n",
       "    </tr>\n",
       "  </tbody>\n",
       "</table>\n",
       "</div>"
      ],
      "text/plain": [
       "                     n_passengers  departure_day_of_month  \\\n",
       "departure_datetime                                          \n",
       "2016-01-01 05:00:00            78                     1.0   \n",
       "2016-01-01 06:00:00            80                     1.0   \n",
       "2016-01-01 07:00:00           651                     1.0   \n",
       "2016-01-01 08:00:00          1285                     1.0   \n",
       "2016-01-01 09:00:00           771                     1.0   \n",
       "2016-01-01 10:00:00          1353                     1.0   \n",
       "2016-01-01 11:00:00          1173                     1.0   \n",
       "2016-01-01 12:00:00          1161                     1.0   \n",
       "2016-01-01 13:00:00          1512                     1.0   \n",
       "2016-01-01 14:00:00           930                     1.0   \n",
       "2016-01-01 15:00:00          1557                     1.0   \n",
       "2016-01-01 16:00:00           729                     1.0   \n",
       "2016-01-01 17:00:00          1436                     1.0   \n",
       "2016-01-01 18:00:00          1539                     1.0   \n",
       "2016-01-01 19:00:00          1016                     1.0   \n",
       "2016-01-01 20:00:00          1193                     1.0   \n",
       "2016-01-01 21:00:00          1011                     1.0   \n",
       "2016-01-01 22:00:00           748                     1.0   \n",
       "2016-01-01 23:00:00             0                     NaN   \n",
       "2016-01-02 00:00:00             0                     NaN   \n",
       "2016-01-02 01:00:00           135                     2.0   \n",
       "2016-01-02 02:00:00             0                     NaN   \n",
       "2016-01-02 03:00:00             0                     NaN   \n",
       "2016-01-02 04:00:00             0                     NaN   \n",
       "\n",
       "                    departure_day_of_week departure_month  \\\n",
       "departure_datetime                                          \n",
       "2016-01-01 05:00:00                   fri             jan   \n",
       "2016-01-01 06:00:00                   fri             jan   \n",
       "2016-01-01 07:00:00                   fri             jan   \n",
       "2016-01-01 08:00:00                   fri             jan   \n",
       "2016-01-01 09:00:00                   fri             jan   \n",
       "2016-01-01 10:00:00                   fri             jan   \n",
       "2016-01-01 11:00:00                   fri             jan   \n",
       "2016-01-01 12:00:00                   fri             jan   \n",
       "2016-01-01 13:00:00                   fri             jan   \n",
       "2016-01-01 14:00:00                   fri             jan   \n",
       "2016-01-01 15:00:00                   fri             jan   \n",
       "2016-01-01 16:00:00                   fri             jan   \n",
       "2016-01-01 17:00:00                   fri             jan   \n",
       "2016-01-01 18:00:00                   fri             jan   \n",
       "2016-01-01 19:00:00                   fri             jan   \n",
       "2016-01-01 20:00:00                   fri             jan   \n",
       "2016-01-01 21:00:00                   fri             jan   \n",
       "2016-01-01 22:00:00                   fri             jan   \n",
       "2016-01-01 23:00:00                   NaN             NaN   \n",
       "2016-01-02 00:00:00                   NaN             NaN   \n",
       "2016-01-02 01:00:00                   sat             jan   \n",
       "2016-01-02 02:00:00                   NaN             NaN   \n",
       "2016-01-02 03:00:00                   NaN             NaN   \n",
       "2016-01-02 04:00:00                   NaN             NaN   \n",
       "\n",
       "                     departure_month_encoded  fl_holiday  fl_holiday_d1  \\\n",
       "departure_datetime                                                        \n",
       "2016-01-01 05:00:00                      1.0         1.0            0.0   \n",
       "2016-01-01 06:00:00                      1.0         1.0            0.0   \n",
       "2016-01-01 07:00:00                      1.0         1.0            0.0   \n",
       "2016-01-01 08:00:00                      1.0         1.0            0.0   \n",
       "2016-01-01 09:00:00                      1.0         1.0            0.0   \n",
       "2016-01-01 10:00:00                      1.0         1.0            0.0   \n",
       "2016-01-01 11:00:00                      1.0         1.0            0.0   \n",
       "2016-01-01 12:00:00                      1.0         1.0            0.0   \n",
       "2016-01-01 13:00:00                      1.0         1.0            0.0   \n",
       "2016-01-01 14:00:00                      1.0         1.0            0.0   \n",
       "2016-01-01 15:00:00                      1.0         1.0            0.0   \n",
       "2016-01-01 16:00:00                      1.0         1.0            0.0   \n",
       "2016-01-01 17:00:00                      1.0         1.0            0.0   \n",
       "2016-01-01 18:00:00                      1.0         1.0            0.0   \n",
       "2016-01-01 19:00:00                      1.0         1.0            0.0   \n",
       "2016-01-01 20:00:00                      1.0         1.0            0.0   \n",
       "2016-01-01 21:00:00                      1.0         1.0            0.0   \n",
       "2016-01-01 22:00:00                      1.0         1.0            0.0   \n",
       "2016-01-01 23:00:00                      NaN         NaN            NaN   \n",
       "2016-01-02 00:00:00                      NaN         NaN            NaN   \n",
       "2016-01-02 01:00:00                      1.0         0.0            0.0   \n",
       "2016-01-02 02:00:00                      NaN         NaN            NaN   \n",
       "2016-01-02 03:00:00                      NaN         NaN            NaN   \n",
       "2016-01-02 04:00:00                      NaN         NaN            NaN   \n",
       "\n",
       "                     fl_holiday_d2  fl_holiday_d3    year  \n",
       "departure_datetime                                         \n",
       "2016-01-01 05:00:00            0.0            0.0  2016.0  \n",
       "2016-01-01 06:00:00            0.0            0.0  2016.0  \n",
       "2016-01-01 07:00:00            0.0            0.0  2016.0  \n",
       "2016-01-01 08:00:00            0.0            0.0  2016.0  \n",
       "2016-01-01 09:00:00            0.0            0.0  2016.0  \n",
       "2016-01-01 10:00:00            0.0            0.0  2016.0  \n",
       "2016-01-01 11:00:00            0.0            0.0  2016.0  \n",
       "2016-01-01 12:00:00            0.0            0.0  2016.0  \n",
       "2016-01-01 13:00:00            0.0            0.0  2016.0  \n",
       "2016-01-01 14:00:00            0.0            0.0  2016.0  \n",
       "2016-01-01 15:00:00            0.0            0.0  2016.0  \n",
       "2016-01-01 16:00:00            0.0            0.0  2016.0  \n",
       "2016-01-01 17:00:00            0.0            0.0  2016.0  \n",
       "2016-01-01 18:00:00            0.0            0.0  2016.0  \n",
       "2016-01-01 19:00:00            0.0            0.0  2016.0  \n",
       "2016-01-01 20:00:00            0.0            0.0  2016.0  \n",
       "2016-01-01 21:00:00            0.0            0.0  2016.0  \n",
       "2016-01-01 22:00:00            0.0            0.0  2016.0  \n",
       "2016-01-01 23:00:00            NaN            NaN     NaN  \n",
       "2016-01-02 00:00:00            NaN            NaN     NaN  \n",
       "2016-01-02 01:00:00            0.0            0.0  2016.0  \n",
       "2016-01-02 02:00:00            NaN            NaN     NaN  \n",
       "2016-01-02 03:00:00            NaN            NaN     NaN  \n",
       "2016-01-02 04:00:00            NaN            NaN     NaN  "
      ]
     },
     "execution_count": 80,
     "metadata": {},
     "output_type": "execute_result"
    }
   ],
   "source": [
    "df_sp_hour.head(24)"
   ]
  },
  {
   "cell_type": "code",
   "execution_count": 103,
   "metadata": {
    "ExecuteTime": {
     "end_time": "2020-06-17T02:45:49.167861Z",
     "start_time": "2020-06-17T02:45:49.160575Z"
    },
    "hidden": true
   },
   "outputs": [],
   "source": [
    "# X,y \n",
    "\n",
    "X_train = df.drop(columns=['n_passengers'])\n",
    "y_train = df.n_passengers\n",
    "\n",
    "X_test = df_oot.drop(columns=['n_passengers'])\n",
    "y_test = df_oot.n_passengers"
   ]
  },
  {
   "cell_type": "code",
   "execution_count": 45,
   "metadata": {
    "ExecuteTime": {
     "end_time": "2020-06-17T02:10:37.292276Z",
     "start_time": "2020-06-17T02:10:37.252297Z"
    },
    "hidden": true,
    "scrolled": true
   },
   "outputs": [
    {
     "data": {
      "text/html": [
       "<div>\n",
       "<style scoped>\n",
       "    .dataframe tbody tr th:only-of-type {\n",
       "        vertical-align: middle;\n",
       "    }\n",
       "\n",
       "    .dataframe tbody tr th {\n",
       "        vertical-align: top;\n",
       "    }\n",
       "\n",
       "    .dataframe thead th {\n",
       "        text-align: right;\n",
       "    }\n",
       "</style>\n",
       "<table border=\"1\" class=\"dataframe\">\n",
       "  <thead>\n",
       "    <tr style=\"text-align: right;\">\n",
       "      <th></th>\n",
       "      <th>departure_day_of_month</th>\n",
       "      <th>departure_month_encoded</th>\n",
       "      <th>fl_holiday</th>\n",
       "      <th>fl_holiday_d1</th>\n",
       "      <th>fl_holiday_d2</th>\n",
       "      <th>fl_holiday_d3</th>\n",
       "      <th>year</th>\n",
       "      <th>departure_day_of_week_fri</th>\n",
       "      <th>departure_day_of_week_mon</th>\n",
       "      <th>departure_day_of_week_sat</th>\n",
       "      <th>departure_day_of_week_sun</th>\n",
       "      <th>departure_day_of_week_thu</th>\n",
       "      <th>departure_day_of_week_tue</th>\n",
       "      <th>departure_day_of_week_wed</th>\n",
       "      <th>departure_month_apr</th>\n",
       "      <th>departure_month_aug</th>\n",
       "      <th>departure_month_dec</th>\n",
       "      <th>departure_month_feb</th>\n",
       "      <th>departure_month_jan</th>\n",
       "      <th>departure_month_jul</th>\n",
       "      <th>departure_month_jun</th>\n",
       "      <th>departure_month_mar</th>\n",
       "      <th>departure_month_may</th>\n",
       "      <th>departure_month_nov</th>\n",
       "      <th>departure_month_oct</th>\n",
       "      <th>departure_month_sep</th>\n",
       "    </tr>\n",
       "    <tr>\n",
       "      <th>departure_datetime</th>\n",
       "      <th></th>\n",
       "      <th></th>\n",
       "      <th></th>\n",
       "      <th></th>\n",
       "      <th></th>\n",
       "      <th></th>\n",
       "      <th></th>\n",
       "      <th></th>\n",
       "      <th></th>\n",
       "      <th></th>\n",
       "      <th></th>\n",
       "      <th></th>\n",
       "      <th></th>\n",
       "      <th></th>\n",
       "      <th></th>\n",
       "      <th></th>\n",
       "      <th></th>\n",
       "      <th></th>\n",
       "      <th></th>\n",
       "      <th></th>\n",
       "      <th></th>\n",
       "      <th></th>\n",
       "      <th></th>\n",
       "      <th></th>\n",
       "      <th></th>\n",
       "      <th></th>\n",
       "    </tr>\n",
       "  </thead>\n",
       "  <tbody>\n",
       "    <tr>\n",
       "      <th>2016-01-01 05:00:00</th>\n",
       "      <td>1.0</td>\n",
       "      <td>1.0</td>\n",
       "      <td>1.0</td>\n",
       "      <td>0.0</td>\n",
       "      <td>0.0</td>\n",
       "      <td>0.0</td>\n",
       "      <td>2016.0</td>\n",
       "      <td>1</td>\n",
       "      <td>0</td>\n",
       "      <td>0</td>\n",
       "      <td>0</td>\n",
       "      <td>0</td>\n",
       "      <td>0</td>\n",
       "      <td>0</td>\n",
       "      <td>0</td>\n",
       "      <td>0</td>\n",
       "      <td>0</td>\n",
       "      <td>0</td>\n",
       "      <td>1</td>\n",
       "      <td>0</td>\n",
       "      <td>0</td>\n",
       "      <td>0</td>\n",
       "      <td>0</td>\n",
       "      <td>0</td>\n",
       "      <td>0</td>\n",
       "      <td>0</td>\n",
       "    </tr>\n",
       "    <tr>\n",
       "      <th>2016-01-01 06:00:00</th>\n",
       "      <td>1.0</td>\n",
       "      <td>1.0</td>\n",
       "      <td>1.0</td>\n",
       "      <td>0.0</td>\n",
       "      <td>0.0</td>\n",
       "      <td>0.0</td>\n",
       "      <td>2016.0</td>\n",
       "      <td>1</td>\n",
       "      <td>0</td>\n",
       "      <td>0</td>\n",
       "      <td>0</td>\n",
       "      <td>0</td>\n",
       "      <td>0</td>\n",
       "      <td>0</td>\n",
       "      <td>0</td>\n",
       "      <td>0</td>\n",
       "      <td>0</td>\n",
       "      <td>0</td>\n",
       "      <td>1</td>\n",
       "      <td>0</td>\n",
       "      <td>0</td>\n",
       "      <td>0</td>\n",
       "      <td>0</td>\n",
       "      <td>0</td>\n",
       "      <td>0</td>\n",
       "      <td>0</td>\n",
       "    </tr>\n",
       "    <tr>\n",
       "      <th>2016-01-01 07:00:00</th>\n",
       "      <td>1.0</td>\n",
       "      <td>1.0</td>\n",
       "      <td>1.0</td>\n",
       "      <td>0.0</td>\n",
       "      <td>0.0</td>\n",
       "      <td>0.0</td>\n",
       "      <td>2016.0</td>\n",
       "      <td>1</td>\n",
       "      <td>0</td>\n",
       "      <td>0</td>\n",
       "      <td>0</td>\n",
       "      <td>0</td>\n",
       "      <td>0</td>\n",
       "      <td>0</td>\n",
       "      <td>0</td>\n",
       "      <td>0</td>\n",
       "      <td>0</td>\n",
       "      <td>0</td>\n",
       "      <td>1</td>\n",
       "      <td>0</td>\n",
       "      <td>0</td>\n",
       "      <td>0</td>\n",
       "      <td>0</td>\n",
       "      <td>0</td>\n",
       "      <td>0</td>\n",
       "      <td>0</td>\n",
       "    </tr>\n",
       "    <tr>\n",
       "      <th>2016-01-01 08:00:00</th>\n",
       "      <td>1.0</td>\n",
       "      <td>1.0</td>\n",
       "      <td>1.0</td>\n",
       "      <td>0.0</td>\n",
       "      <td>0.0</td>\n",
       "      <td>0.0</td>\n",
       "      <td>2016.0</td>\n",
       "      <td>1</td>\n",
       "      <td>0</td>\n",
       "      <td>0</td>\n",
       "      <td>0</td>\n",
       "      <td>0</td>\n",
       "      <td>0</td>\n",
       "      <td>0</td>\n",
       "      <td>0</td>\n",
       "      <td>0</td>\n",
       "      <td>0</td>\n",
       "      <td>0</td>\n",
       "      <td>1</td>\n",
       "      <td>0</td>\n",
       "      <td>0</td>\n",
       "      <td>0</td>\n",
       "      <td>0</td>\n",
       "      <td>0</td>\n",
       "      <td>0</td>\n",
       "      <td>0</td>\n",
       "    </tr>\n",
       "    <tr>\n",
       "      <th>2016-01-01 09:00:00</th>\n",
       "      <td>1.0</td>\n",
       "      <td>1.0</td>\n",
       "      <td>1.0</td>\n",
       "      <td>0.0</td>\n",
       "      <td>0.0</td>\n",
       "      <td>0.0</td>\n",
       "      <td>2016.0</td>\n",
       "      <td>1</td>\n",
       "      <td>0</td>\n",
       "      <td>0</td>\n",
       "      <td>0</td>\n",
       "      <td>0</td>\n",
       "      <td>0</td>\n",
       "      <td>0</td>\n",
       "      <td>0</td>\n",
       "      <td>0</td>\n",
       "      <td>0</td>\n",
       "      <td>0</td>\n",
       "      <td>1</td>\n",
       "      <td>0</td>\n",
       "      <td>0</td>\n",
       "      <td>0</td>\n",
       "      <td>0</td>\n",
       "      <td>0</td>\n",
       "      <td>0</td>\n",
       "      <td>0</td>\n",
       "    </tr>\n",
       "  </tbody>\n",
       "</table>\n",
       "</div>"
      ],
      "text/plain": [
       "                     departure_day_of_month  departure_month_encoded  \\\n",
       "departure_datetime                                                     \n",
       "2016-01-01 05:00:00                     1.0                      1.0   \n",
       "2016-01-01 06:00:00                     1.0                      1.0   \n",
       "2016-01-01 07:00:00                     1.0                      1.0   \n",
       "2016-01-01 08:00:00                     1.0                      1.0   \n",
       "2016-01-01 09:00:00                     1.0                      1.0   \n",
       "\n",
       "                     fl_holiday  fl_holiday_d1  fl_holiday_d2  fl_holiday_d3  \\\n",
       "departure_datetime                                                             \n",
       "2016-01-01 05:00:00         1.0            0.0            0.0            0.0   \n",
       "2016-01-01 06:00:00         1.0            0.0            0.0            0.0   \n",
       "2016-01-01 07:00:00         1.0            0.0            0.0            0.0   \n",
       "2016-01-01 08:00:00         1.0            0.0            0.0            0.0   \n",
       "2016-01-01 09:00:00         1.0            0.0            0.0            0.0   \n",
       "\n",
       "                       year  departure_day_of_week_fri  \\\n",
       "departure_datetime                                       \n",
       "2016-01-01 05:00:00  2016.0                          1   \n",
       "2016-01-01 06:00:00  2016.0                          1   \n",
       "2016-01-01 07:00:00  2016.0                          1   \n",
       "2016-01-01 08:00:00  2016.0                          1   \n",
       "2016-01-01 09:00:00  2016.0                          1   \n",
       "\n",
       "                     departure_day_of_week_mon  departure_day_of_week_sat  \\\n",
       "departure_datetime                                                          \n",
       "2016-01-01 05:00:00                          0                          0   \n",
       "2016-01-01 06:00:00                          0                          0   \n",
       "2016-01-01 07:00:00                          0                          0   \n",
       "2016-01-01 08:00:00                          0                          0   \n",
       "2016-01-01 09:00:00                          0                          0   \n",
       "\n",
       "                     departure_day_of_week_sun  departure_day_of_week_thu  \\\n",
       "departure_datetime                                                          \n",
       "2016-01-01 05:00:00                          0                          0   \n",
       "2016-01-01 06:00:00                          0                          0   \n",
       "2016-01-01 07:00:00                          0                          0   \n",
       "2016-01-01 08:00:00                          0                          0   \n",
       "2016-01-01 09:00:00                          0                          0   \n",
       "\n",
       "                     departure_day_of_week_tue  departure_day_of_week_wed  \\\n",
       "departure_datetime                                                          \n",
       "2016-01-01 05:00:00                          0                          0   \n",
       "2016-01-01 06:00:00                          0                          0   \n",
       "2016-01-01 07:00:00                          0                          0   \n",
       "2016-01-01 08:00:00                          0                          0   \n",
       "2016-01-01 09:00:00                          0                          0   \n",
       "\n",
       "                     departure_month_apr  departure_month_aug  \\\n",
       "departure_datetime                                              \n",
       "2016-01-01 05:00:00                    0                    0   \n",
       "2016-01-01 06:00:00                    0                    0   \n",
       "2016-01-01 07:00:00                    0                    0   \n",
       "2016-01-01 08:00:00                    0                    0   \n",
       "2016-01-01 09:00:00                    0                    0   \n",
       "\n",
       "                     departure_month_dec  departure_month_feb  \\\n",
       "departure_datetime                                              \n",
       "2016-01-01 05:00:00                    0                    0   \n",
       "2016-01-01 06:00:00                    0                    0   \n",
       "2016-01-01 07:00:00                    0                    0   \n",
       "2016-01-01 08:00:00                    0                    0   \n",
       "2016-01-01 09:00:00                    0                    0   \n",
       "\n",
       "                     departure_month_jan  departure_month_jul  \\\n",
       "departure_datetime                                              \n",
       "2016-01-01 05:00:00                    1                    0   \n",
       "2016-01-01 06:00:00                    1                    0   \n",
       "2016-01-01 07:00:00                    1                    0   \n",
       "2016-01-01 08:00:00                    1                    0   \n",
       "2016-01-01 09:00:00                    1                    0   \n",
       "\n",
       "                     departure_month_jun  departure_month_mar  \\\n",
       "departure_datetime                                              \n",
       "2016-01-01 05:00:00                    0                    0   \n",
       "2016-01-01 06:00:00                    0                    0   \n",
       "2016-01-01 07:00:00                    0                    0   \n",
       "2016-01-01 08:00:00                    0                    0   \n",
       "2016-01-01 09:00:00                    0                    0   \n",
       "\n",
       "                     departure_month_may  departure_month_nov  \\\n",
       "departure_datetime                                              \n",
       "2016-01-01 05:00:00                    0                    0   \n",
       "2016-01-01 06:00:00                    0                    0   \n",
       "2016-01-01 07:00:00                    0                    0   \n",
       "2016-01-01 08:00:00                    0                    0   \n",
       "2016-01-01 09:00:00                    0                    0   \n",
       "\n",
       "                     departure_month_oct  departure_month_sep  \n",
       "departure_datetime                                             \n",
       "2016-01-01 05:00:00                    0                    0  \n",
       "2016-01-01 06:00:00                    0                    0  \n",
       "2016-01-01 07:00:00                    0                    0  \n",
       "2016-01-01 08:00:00                    0                    0  \n",
       "2016-01-01 09:00:00                    0                    0  "
      ]
     },
     "execution_count": 45,
     "metadata": {},
     "output_type": "execute_result"
    }
   ],
   "source": [
    "X_train.head()"
   ]
  },
  {
   "cell_type": "markdown",
   "metadata": {
    "hidden": true
   },
   "source": [
    "## Random Forests"
   ]
  },
  {
   "cell_type": "markdown",
   "metadata": {
    "hidden": true
   },
   "source": [
    "### Random Search"
   ]
  },
  {
   "cell_type": "code",
   "execution_count": 113,
   "metadata": {
    "ExecuteTime": {
     "end_time": "2020-06-21T02:26:25.326970Z",
     "start_time": "2020-06-21T02:18:07.095528Z"
    },
    "hidden": true
   },
   "outputs": [
    {
     "name": "stdout",
     "output_type": "stream",
     "text": [
      "Fitting 5 folds for each of 1 candidates, totalling 5 fits\n"
     ]
    },
    {
     "name": "stderr",
     "output_type": "stream",
     "text": [
      "[Parallel(n_jobs=-1)]: Using backend LokyBackend with 4 concurrent workers.\n",
      "[Parallel(n_jobs=-1)]: Done   5 out of   5 | elapsed:    5.4s finished\n",
      "[Parallel(n_jobs=-1)]: Using backend LokyBackend with 4 concurrent workers.\n"
     ]
    },
    {
     "name": "stdout",
     "output_type": "stream",
     "text": [
      "Fitting 5 folds for each of 1 candidates, totalling 5 fits\n"
     ]
    },
    {
     "name": "stderr",
     "output_type": "stream",
     "text": [
      "[Parallel(n_jobs=-1)]: Done   5 out of   5 | elapsed:    7.5s finished\n",
      "[Parallel(n_jobs=-1)]: Using backend LokyBackend with 4 concurrent workers.\n"
     ]
    },
    {
     "name": "stdout",
     "output_type": "stream",
     "text": [
      "Fitting 5 folds for each of 1 candidates, totalling 5 fits\n"
     ]
    },
    {
     "name": "stderr",
     "output_type": "stream",
     "text": [
      "[Parallel(n_jobs=-1)]: Done   5 out of   5 | elapsed:   11.5s finished\n",
      "[Parallel(n_jobs=-1)]: Using backend LokyBackend with 4 concurrent workers.\n"
     ]
    },
    {
     "name": "stdout",
     "output_type": "stream",
     "text": [
      "Fitting 5 folds for each of 1 candidates, totalling 5 fits\n"
     ]
    },
    {
     "name": "stderr",
     "output_type": "stream",
     "text": [
      "[Parallel(n_jobs=-1)]: Done   5 out of   5 | elapsed:    1.8s finished\n",
      "[Parallel(n_jobs=-1)]: Using backend LokyBackend with 4 concurrent workers.\n"
     ]
    },
    {
     "name": "stdout",
     "output_type": "stream",
     "text": [
      "Fitting 5 folds for each of 1 candidates, totalling 5 fits\n"
     ]
    },
    {
     "name": "stderr",
     "output_type": "stream",
     "text": [
      "[Parallel(n_jobs=-1)]: Done   5 out of   5 | elapsed:    9.6s finished\n",
      "[Parallel(n_jobs=-1)]: Using backend LokyBackend with 4 concurrent workers.\n"
     ]
    },
    {
     "name": "stdout",
     "output_type": "stream",
     "text": [
      "Fitting 5 folds for each of 1 candidates, totalling 5 fits\n"
     ]
    },
    {
     "name": "stderr",
     "output_type": "stream",
     "text": [
      "[Parallel(n_jobs=-1)]: Done   5 out of   5 | elapsed:   14.8s finished\n",
      "[Parallel(n_jobs=-1)]: Using backend LokyBackend with 4 concurrent workers.\n"
     ]
    },
    {
     "name": "stdout",
     "output_type": "stream",
     "text": [
      "Fitting 5 folds for each of 1 candidates, totalling 5 fits\n"
     ]
    },
    {
     "name": "stderr",
     "output_type": "stream",
     "text": [
      "[Parallel(n_jobs=-1)]: Done   5 out of   5 | elapsed:   15.0s finished\n",
      "[Parallel(n_jobs=-1)]: Using backend LokyBackend with 4 concurrent workers.\n"
     ]
    },
    {
     "name": "stdout",
     "output_type": "stream",
     "text": [
      "Fitting 5 folds for each of 1 candidates, totalling 5 fits\n"
     ]
    },
    {
     "name": "stderr",
     "output_type": "stream",
     "text": [
      "[Parallel(n_jobs=-1)]: Done   5 out of   5 | elapsed:    8.4s finished\n",
      "[Parallel(n_jobs=-1)]: Using backend LokyBackend with 4 concurrent workers.\n"
     ]
    },
    {
     "name": "stdout",
     "output_type": "stream",
     "text": [
      "Fitting 5 folds for each of 1 candidates, totalling 5 fits\n"
     ]
    },
    {
     "name": "stderr",
     "output_type": "stream",
     "text": [
      "[Parallel(n_jobs=-1)]: Done   5 out of   5 | elapsed:    3.3s finished\n"
     ]
    },
    {
     "name": "stdout",
     "output_type": "stream",
     "text": [
      "Fitting 5 folds for each of 1 candidates, totalling 5 fits\n"
     ]
    },
    {
     "name": "stderr",
     "output_type": "stream",
     "text": [
      "[Parallel(n_jobs=-1)]: Using backend LokyBackend with 4 concurrent workers.\n",
      "[Parallel(n_jobs=-1)]: Done   5 out of   5 | elapsed:    2.9s finished\n",
      "/home/welberth/.local/lib/python3.6/site-packages/skopt/learning/gaussian_process/gpr.py:294: FutureWarning:\n",
      "\n",
      "Beginning in version 0.22, arrays of bytes/strings will be converted to decimal numbers if dtype='numeric'. It is recommended that you convert the array to a float dtype before using it in scikit-learn, for example by using your_array = your_array.astype(np.float64).\n",
      "\n"
     ]
    },
    {
     "name": "stdout",
     "output_type": "stream",
     "text": [
      "Fitting 5 folds for each of 1 candidates, totalling 5 fits\n"
     ]
    },
    {
     "name": "stderr",
     "output_type": "stream",
     "text": [
      "[Parallel(n_jobs=-1)]: Using backend LokyBackend with 4 concurrent workers.\n",
      "[Parallel(n_jobs=-1)]: Done   5 out of   5 | elapsed:    8.1s finished\n",
      "/home/welberth/.local/lib/python3.6/site-packages/skopt/learning/gaussian_process/gpr.py:294: FutureWarning:\n",
      "\n",
      "Beginning in version 0.22, arrays of bytes/strings will be converted to decimal numbers if dtype='numeric'. It is recommended that you convert the array to a float dtype before using it in scikit-learn, for example by using your_array = your_array.astype(np.float64).\n",
      "\n",
      "/home/welberth/.local/lib/python3.6/site-packages/skopt/learning/gaussian_process/gpr.py:294: FutureWarning:\n",
      "\n",
      "Beginning in version 0.22, arrays of bytes/strings will be converted to decimal numbers if dtype='numeric'. It is recommended that you convert the array to a float dtype before using it in scikit-learn, for example by using your_array = your_array.astype(np.float64).\n",
      "\n"
     ]
    },
    {
     "name": "stdout",
     "output_type": "stream",
     "text": [
      "Fitting 5 folds for each of 1 candidates, totalling 5 fits\n"
     ]
    },
    {
     "name": "stderr",
     "output_type": "stream",
     "text": [
      "[Parallel(n_jobs=-1)]: Using backend LokyBackend with 4 concurrent workers.\n",
      "[Parallel(n_jobs=-1)]: Done   5 out of   5 | elapsed:   16.9s finished\n",
      "/home/welberth/.local/lib/python3.6/site-packages/skopt/learning/gaussian_process/gpr.py:294: FutureWarning:\n",
      "\n",
      "Beginning in version 0.22, arrays of bytes/strings will be converted to decimal numbers if dtype='numeric'. It is recommended that you convert the array to a float dtype before using it in scikit-learn, for example by using your_array = your_array.astype(np.float64).\n",
      "\n",
      "/home/welberth/.local/lib/python3.6/site-packages/skopt/learning/gaussian_process/gpr.py:294: FutureWarning:\n",
      "\n",
      "Beginning in version 0.22, arrays of bytes/strings will be converted to decimal numbers if dtype='numeric'. It is recommended that you convert the array to a float dtype before using it in scikit-learn, for example by using your_array = your_array.astype(np.float64).\n",
      "\n"
     ]
    },
    {
     "name": "stdout",
     "output_type": "stream",
     "text": [
      "Fitting 5 folds for each of 1 candidates, totalling 5 fits\n"
     ]
    },
    {
     "name": "stderr",
     "output_type": "stream",
     "text": [
      "[Parallel(n_jobs=-1)]: Using backend LokyBackend with 4 concurrent workers.\n",
      "[Parallel(n_jobs=-1)]: Done   5 out of   5 | elapsed:    4.4s finished\n",
      "/home/welberth/.local/lib/python3.6/site-packages/skopt/learning/gaussian_process/gpr.py:294: FutureWarning:\n",
      "\n",
      "Beginning in version 0.22, arrays of bytes/strings will be converted to decimal numbers if dtype='numeric'. It is recommended that you convert the array to a float dtype before using it in scikit-learn, for example by using your_array = your_array.astype(np.float64).\n",
      "\n",
      "/home/welberth/.local/lib/python3.6/site-packages/skopt/learning/gaussian_process/gpr.py:294: FutureWarning:\n",
      "\n",
      "Beginning in version 0.22, arrays of bytes/strings will be converted to decimal numbers if dtype='numeric'. It is recommended that you convert the array to a float dtype before using it in scikit-learn, for example by using your_array = your_array.astype(np.float64).\n",
      "\n"
     ]
    },
    {
     "name": "stdout",
     "output_type": "stream",
     "text": [
      "Fitting 5 folds for each of 1 candidates, totalling 5 fits\n"
     ]
    },
    {
     "name": "stderr",
     "output_type": "stream",
     "text": [
      "[Parallel(n_jobs=-1)]: Using backend LokyBackend with 4 concurrent workers.\n",
      "[Parallel(n_jobs=-1)]: Done   5 out of   5 | elapsed:    8.3s finished\n",
      "/home/welberth/.local/lib/python3.6/site-packages/skopt/learning/gaussian_process/gpr.py:294: FutureWarning:\n",
      "\n",
      "Beginning in version 0.22, arrays of bytes/strings will be converted to decimal numbers if dtype='numeric'. It is recommended that you convert the array to a float dtype before using it in scikit-learn, for example by using your_array = your_array.astype(np.float64).\n",
      "\n",
      "/home/welberth/.local/lib/python3.6/site-packages/skopt/learning/gaussian_process/gpr.py:294: FutureWarning:\n",
      "\n",
      "Beginning in version 0.22, arrays of bytes/strings will be converted to decimal numbers if dtype='numeric'. It is recommended that you convert the array to a float dtype before using it in scikit-learn, for example by using your_array = your_array.astype(np.float64).\n",
      "\n"
     ]
    },
    {
     "name": "stdout",
     "output_type": "stream",
     "text": [
      "Fitting 5 folds for each of 1 candidates, totalling 5 fits\n"
     ]
    },
    {
     "name": "stderr",
     "output_type": "stream",
     "text": [
      "[Parallel(n_jobs=-1)]: Using backend LokyBackend with 4 concurrent workers.\n",
      "[Parallel(n_jobs=-1)]: Done   5 out of   5 | elapsed:    7.9s finished\n",
      "/home/welberth/.local/lib/python3.6/site-packages/skopt/learning/gaussian_process/gpr.py:294: FutureWarning:\n",
      "\n",
      "Beginning in version 0.22, arrays of bytes/strings will be converted to decimal numbers if dtype='numeric'. It is recommended that you convert the array to a float dtype before using it in scikit-learn, for example by using your_array = your_array.astype(np.float64).\n",
      "\n",
      "/home/welberth/.local/lib/python3.6/site-packages/skopt/optimizer/optimizer.py:409: UserWarning:\n",
      "\n",
      "The objective has been evaluated at this point before.\n",
      "\n",
      "/home/welberth/.local/lib/python3.6/site-packages/skopt/learning/gaussian_process/gpr.py:294: FutureWarning:\n",
      "\n",
      "Beginning in version 0.22, arrays of bytes/strings will be converted to decimal numbers if dtype='numeric'. It is recommended that you convert the array to a float dtype before using it in scikit-learn, for example by using your_array = your_array.astype(np.float64).\n",
      "\n"
     ]
    },
    {
     "name": "stdout",
     "output_type": "stream",
     "text": [
      "Fitting 5 folds for each of 1 candidates, totalling 5 fits\n"
     ]
    },
    {
     "name": "stderr",
     "output_type": "stream",
     "text": [
      "[Parallel(n_jobs=-1)]: Using backend LokyBackend with 4 concurrent workers.\n",
      "[Parallel(n_jobs=-1)]: Done   5 out of   5 | elapsed:    8.1s finished\n",
      "/home/welberth/.local/lib/python3.6/site-packages/skopt/learning/gaussian_process/gpr.py:294: FutureWarning:\n",
      "\n",
      "Beginning in version 0.22, arrays of bytes/strings will be converted to decimal numbers if dtype='numeric'. It is recommended that you convert the array to a float dtype before using it in scikit-learn, for example by using your_array = your_array.astype(np.float64).\n",
      "\n",
      "/home/welberth/.local/lib/python3.6/site-packages/skopt/optimizer/optimizer.py:409: UserWarning:\n",
      "\n",
      "The objective has been evaluated at this point before.\n",
      "\n",
      "/home/welberth/.local/lib/python3.6/site-packages/skopt/learning/gaussian_process/gpr.py:294: FutureWarning:\n",
      "\n",
      "Beginning in version 0.22, arrays of bytes/strings will be converted to decimal numbers if dtype='numeric'. It is recommended that you convert the array to a float dtype before using it in scikit-learn, for example by using your_array = your_array.astype(np.float64).\n",
      "\n"
     ]
    },
    {
     "name": "stdout",
     "output_type": "stream",
     "text": [
      "Fitting 5 folds for each of 1 candidates, totalling 5 fits\n"
     ]
    },
    {
     "name": "stderr",
     "output_type": "stream",
     "text": [
      "[Parallel(n_jobs=-1)]: Using backend LokyBackend with 4 concurrent workers.\n",
      "[Parallel(n_jobs=-1)]: Done   5 out of   5 | elapsed:    7.8s finished\n",
      "/home/welberth/.local/lib/python3.6/site-packages/skopt/learning/gaussian_process/gpr.py:294: FutureWarning:\n",
      "\n",
      "Beginning in version 0.22, arrays of bytes/strings will be converted to decimal numbers if dtype='numeric'. It is recommended that you convert the array to a float dtype before using it in scikit-learn, for example by using your_array = your_array.astype(np.float64).\n",
      "\n",
      "/home/welberth/.local/lib/python3.6/site-packages/skopt/optimizer/optimizer.py:409: UserWarning:\n",
      "\n",
      "The objective has been evaluated at this point before.\n",
      "\n",
      "/home/welberth/.local/lib/python3.6/site-packages/skopt/learning/gaussian_process/gpr.py:294: FutureWarning:\n",
      "\n",
      "Beginning in version 0.22, arrays of bytes/strings will be converted to decimal numbers if dtype='numeric'. It is recommended that you convert the array to a float dtype before using it in scikit-learn, for example by using your_array = your_array.astype(np.float64).\n",
      "\n"
     ]
    },
    {
     "name": "stdout",
     "output_type": "stream",
     "text": [
      "Fitting 5 folds for each of 1 candidates, totalling 5 fits\n"
     ]
    },
    {
     "name": "stderr",
     "output_type": "stream",
     "text": [
      "[Parallel(n_jobs=-1)]: Using backend LokyBackend with 4 concurrent workers.\n",
      "[Parallel(n_jobs=-1)]: Done   5 out of   5 | elapsed:    8.0s finished\n",
      "/home/welberth/.local/lib/python3.6/site-packages/skopt/learning/gaussian_process/gpr.py:294: FutureWarning:\n",
      "\n",
      "Beginning in version 0.22, arrays of bytes/strings will be converted to decimal numbers if dtype='numeric'. It is recommended that you convert the array to a float dtype before using it in scikit-learn, for example by using your_array = your_array.astype(np.float64).\n",
      "\n",
      "/home/welberth/.local/lib/python3.6/site-packages/skopt/optimizer/optimizer.py:409: UserWarning:\n",
      "\n",
      "The objective has been evaluated at this point before.\n",
      "\n",
      "/home/welberth/.local/lib/python3.6/site-packages/skopt/learning/gaussian_process/gpr.py:294: FutureWarning:\n",
      "\n",
      "Beginning in version 0.22, arrays of bytes/strings will be converted to decimal numbers if dtype='numeric'. It is recommended that you convert the array to a float dtype before using it in scikit-learn, for example by using your_array = your_array.astype(np.float64).\n",
      "\n"
     ]
    },
    {
     "name": "stdout",
     "output_type": "stream",
     "text": [
      "Fitting 5 folds for each of 1 candidates, totalling 5 fits\n"
     ]
    },
    {
     "name": "stderr",
     "output_type": "stream",
     "text": [
      "[Parallel(n_jobs=-1)]: Using backend LokyBackend with 4 concurrent workers.\n",
      "[Parallel(n_jobs=-1)]: Done   5 out of   5 | elapsed:    8.7s finished\n",
      "/home/welberth/.local/lib/python3.6/site-packages/skopt/learning/gaussian_process/gpr.py:294: FutureWarning:\n",
      "\n",
      "Beginning in version 0.22, arrays of bytes/strings will be converted to decimal numbers if dtype='numeric'. It is recommended that you convert the array to a float dtype before using it in scikit-learn, for example by using your_array = your_array.astype(np.float64).\n",
      "\n",
      "/home/welberth/.local/lib/python3.6/site-packages/skopt/optimizer/optimizer.py:409: UserWarning:\n",
      "\n",
      "The objective has been evaluated at this point before.\n",
      "\n",
      "/home/welberth/.local/lib/python3.6/site-packages/skopt/learning/gaussian_process/gpr.py:294: FutureWarning:\n",
      "\n",
      "Beginning in version 0.22, arrays of bytes/strings will be converted to decimal numbers if dtype='numeric'. It is recommended that you convert the array to a float dtype before using it in scikit-learn, for example by using your_array = your_array.astype(np.float64).\n",
      "\n"
     ]
    },
    {
     "name": "stdout",
     "output_type": "stream",
     "text": [
      "Fitting 5 folds for each of 1 candidates, totalling 5 fits\n"
     ]
    },
    {
     "name": "stderr",
     "output_type": "stream",
     "text": [
      "[Parallel(n_jobs=-1)]: Using backend LokyBackend with 4 concurrent workers.\n",
      "[Parallel(n_jobs=-1)]: Done   5 out of   5 | elapsed:    8.2s finished\n",
      "/home/welberth/.local/lib/python3.6/site-packages/skopt/learning/gaussian_process/gpr.py:294: FutureWarning:\n",
      "\n",
      "Beginning in version 0.22, arrays of bytes/strings will be converted to decimal numbers if dtype='numeric'. It is recommended that you convert the array to a float dtype before using it in scikit-learn, for example by using your_array = your_array.astype(np.float64).\n",
      "\n",
      "/home/welberth/.local/lib/python3.6/site-packages/skopt/optimizer/optimizer.py:409: UserWarning:\n",
      "\n",
      "The objective has been evaluated at this point before.\n",
      "\n",
      "/home/welberth/.local/lib/python3.6/site-packages/skopt/learning/gaussian_process/gpr.py:294: FutureWarning:\n",
      "\n",
      "Beginning in version 0.22, arrays of bytes/strings will be converted to decimal numbers if dtype='numeric'. It is recommended that you convert the array to a float dtype before using it in scikit-learn, for example by using your_array = your_array.astype(np.float64).\n",
      "\n"
     ]
    },
    {
     "name": "stdout",
     "output_type": "stream",
     "text": [
      "Fitting 5 folds for each of 1 candidates, totalling 5 fits\n"
     ]
    },
    {
     "name": "stderr",
     "output_type": "stream",
     "text": [
      "[Parallel(n_jobs=-1)]: Using backend LokyBackend with 4 concurrent workers.\n",
      "[Parallel(n_jobs=-1)]: Done   5 out of   5 | elapsed:    8.3s finished\n",
      "/home/welberth/.local/lib/python3.6/site-packages/skopt/learning/gaussian_process/gpr.py:294: FutureWarning:\n",
      "\n",
      "Beginning in version 0.22, arrays of bytes/strings will be converted to decimal numbers if dtype='numeric'. It is recommended that you convert the array to a float dtype before using it in scikit-learn, for example by using your_array = your_array.astype(np.float64).\n",
      "\n",
      "/home/welberth/.local/lib/python3.6/site-packages/skopt/optimizer/optimizer.py:409: UserWarning:\n",
      "\n",
      "The objective has been evaluated at this point before.\n",
      "\n",
      "/home/welberth/.local/lib/python3.6/site-packages/skopt/learning/gaussian_process/gpr.py:294: FutureWarning:\n",
      "\n",
      "Beginning in version 0.22, arrays of bytes/strings will be converted to decimal numbers if dtype='numeric'. It is recommended that you convert the array to a float dtype before using it in scikit-learn, for example by using your_array = your_array.astype(np.float64).\n",
      "\n"
     ]
    },
    {
     "name": "stdout",
     "output_type": "stream",
     "text": [
      "Fitting 5 folds for each of 1 candidates, totalling 5 fits\n"
     ]
    },
    {
     "name": "stderr",
     "output_type": "stream",
     "text": [
      "[Parallel(n_jobs=-1)]: Using backend LokyBackend with 4 concurrent workers.\n",
      "[Parallel(n_jobs=-1)]: Done   5 out of   5 | elapsed:    7.9s finished\n",
      "/home/welberth/.local/lib/python3.6/site-packages/skopt/learning/gaussian_process/gpr.py:294: FutureWarning:\n",
      "\n",
      "Beginning in version 0.22, arrays of bytes/strings will be converted to decimal numbers if dtype='numeric'. It is recommended that you convert the array to a float dtype before using it in scikit-learn, for example by using your_array = your_array.astype(np.float64).\n",
      "\n",
      "/home/welberth/.local/lib/python3.6/site-packages/skopt/optimizer/optimizer.py:409: UserWarning:\n",
      "\n",
      "The objective has been evaluated at this point before.\n",
      "\n",
      "/home/welberth/.local/lib/python3.6/site-packages/skopt/learning/gaussian_process/gpr.py:294: FutureWarning:\n",
      "\n",
      "Beginning in version 0.22, arrays of bytes/strings will be converted to decimal numbers if dtype='numeric'. It is recommended that you convert the array to a float dtype before using it in scikit-learn, for example by using your_array = your_array.astype(np.float64).\n",
      "\n"
     ]
    },
    {
     "name": "stdout",
     "output_type": "stream",
     "text": [
      "Fitting 5 folds for each of 1 candidates, totalling 5 fits\n"
     ]
    },
    {
     "name": "stderr",
     "output_type": "stream",
     "text": [
      "[Parallel(n_jobs=-1)]: Using backend LokyBackend with 4 concurrent workers.\n",
      "[Parallel(n_jobs=-1)]: Done   5 out of   5 | elapsed:    8.4s finished\n",
      "/home/welberth/.local/lib/python3.6/site-packages/skopt/learning/gaussian_process/gpr.py:294: FutureWarning:\n",
      "\n",
      "Beginning in version 0.22, arrays of bytes/strings will be converted to decimal numbers if dtype='numeric'. It is recommended that you convert the array to a float dtype before using it in scikit-learn, for example by using your_array = your_array.astype(np.float64).\n",
      "\n",
      "/home/welberth/.local/lib/python3.6/site-packages/skopt/optimizer/optimizer.py:409: UserWarning:\n",
      "\n",
      "The objective has been evaluated at this point before.\n",
      "\n",
      "/home/welberth/.local/lib/python3.6/site-packages/skopt/learning/gaussian_process/gpr.py:294: FutureWarning:\n",
      "\n",
      "Beginning in version 0.22, arrays of bytes/strings will be converted to decimal numbers if dtype='numeric'. It is recommended that you convert the array to a float dtype before using it in scikit-learn, for example by using your_array = your_array.astype(np.float64).\n",
      "\n"
     ]
    },
    {
     "name": "stdout",
     "output_type": "stream",
     "text": [
      "Fitting 5 folds for each of 1 candidates, totalling 5 fits\n"
     ]
    },
    {
     "name": "stderr",
     "output_type": "stream",
     "text": [
      "[Parallel(n_jobs=-1)]: Using backend LokyBackend with 4 concurrent workers.\n",
      "[Parallel(n_jobs=-1)]: Done   5 out of   5 | elapsed:    8.1s finished\n",
      "/home/welberth/.local/lib/python3.6/site-packages/skopt/learning/gaussian_process/gpr.py:294: FutureWarning:\n",
      "\n",
      "Beginning in version 0.22, arrays of bytes/strings will be converted to decimal numbers if dtype='numeric'. It is recommended that you convert the array to a float dtype before using it in scikit-learn, for example by using your_array = your_array.astype(np.float64).\n",
      "\n",
      "/home/welberth/.local/lib/python3.6/site-packages/skopt/optimizer/optimizer.py:409: UserWarning:\n",
      "\n",
      "The objective has been evaluated at this point before.\n",
      "\n",
      "/home/welberth/.local/lib/python3.6/site-packages/skopt/learning/gaussian_process/gpr.py:294: FutureWarning:\n",
      "\n",
      "Beginning in version 0.22, arrays of bytes/strings will be converted to decimal numbers if dtype='numeric'. It is recommended that you convert the array to a float dtype before using it in scikit-learn, for example by using your_array = your_array.astype(np.float64).\n",
      "\n"
     ]
    },
    {
     "name": "stdout",
     "output_type": "stream",
     "text": [
      "Fitting 5 folds for each of 1 candidates, totalling 5 fits\n"
     ]
    },
    {
     "name": "stderr",
     "output_type": "stream",
     "text": [
      "[Parallel(n_jobs=-1)]: Using backend LokyBackend with 4 concurrent workers.\n",
      "[Parallel(n_jobs=-1)]: Done   5 out of   5 | elapsed:    8.3s finished\n",
      "/home/welberth/.local/lib/python3.6/site-packages/skopt/learning/gaussian_process/gpr.py:294: FutureWarning:\n",
      "\n",
      "Beginning in version 0.22, arrays of bytes/strings will be converted to decimal numbers if dtype='numeric'. It is recommended that you convert the array to a float dtype before using it in scikit-learn, for example by using your_array = your_array.astype(np.float64).\n",
      "\n",
      "/home/welberth/.local/lib/python3.6/site-packages/skopt/optimizer/optimizer.py:409: UserWarning:\n",
      "\n",
      "The objective has been evaluated at this point before.\n",
      "\n",
      "/home/welberth/.local/lib/python3.6/site-packages/skopt/learning/gaussian_process/gpr.py:294: FutureWarning:\n",
      "\n",
      "Beginning in version 0.22, arrays of bytes/strings will be converted to decimal numbers if dtype='numeric'. It is recommended that you convert the array to a float dtype before using it in scikit-learn, for example by using your_array = your_array.astype(np.float64).\n",
      "\n"
     ]
    },
    {
     "name": "stdout",
     "output_type": "stream",
     "text": [
      "Fitting 5 folds for each of 1 candidates, totalling 5 fits\n"
     ]
    },
    {
     "name": "stderr",
     "output_type": "stream",
     "text": [
      "[Parallel(n_jobs=-1)]: Using backend LokyBackend with 4 concurrent workers.\n",
      "[Parallel(n_jobs=-1)]: Done   5 out of   5 | elapsed:    8.1s finished\n",
      "/home/welberth/.local/lib/python3.6/site-packages/skopt/learning/gaussian_process/gpr.py:294: FutureWarning:\n",
      "\n",
      "Beginning in version 0.22, arrays of bytes/strings will be converted to decimal numbers if dtype='numeric'. It is recommended that you convert the array to a float dtype before using it in scikit-learn, for example by using your_array = your_array.astype(np.float64).\n",
      "\n",
      "/home/welberth/.local/lib/python3.6/site-packages/skopt/optimizer/optimizer.py:409: UserWarning:\n",
      "\n",
      "The objective has been evaluated at this point before.\n",
      "\n",
      "/home/welberth/.local/lib/python3.6/site-packages/skopt/learning/gaussian_process/gpr.py:294: FutureWarning:\n",
      "\n",
      "Beginning in version 0.22, arrays of bytes/strings will be converted to decimal numbers if dtype='numeric'. It is recommended that you convert the array to a float dtype before using it in scikit-learn, for example by using your_array = your_array.astype(np.float64).\n",
      "\n"
     ]
    },
    {
     "name": "stdout",
     "output_type": "stream",
     "text": [
      "Fitting 5 folds for each of 1 candidates, totalling 5 fits\n"
     ]
    },
    {
     "name": "stderr",
     "output_type": "stream",
     "text": [
      "[Parallel(n_jobs=-1)]: Using backend LokyBackend with 4 concurrent workers.\n",
      "[Parallel(n_jobs=-1)]: Done   5 out of   5 | elapsed:    8.1s finished\n",
      "/home/welberth/.local/lib/python3.6/site-packages/skopt/learning/gaussian_process/gpr.py:294: FutureWarning:\n",
      "\n",
      "Beginning in version 0.22, arrays of bytes/strings will be converted to decimal numbers if dtype='numeric'. It is recommended that you convert the array to a float dtype before using it in scikit-learn, for example by using your_array = your_array.astype(np.float64).\n",
      "\n",
      "/home/welberth/.local/lib/python3.6/site-packages/skopt/optimizer/optimizer.py:409: UserWarning:\n",
      "\n",
      "The objective has been evaluated at this point before.\n",
      "\n",
      "/home/welberth/.local/lib/python3.6/site-packages/skopt/learning/gaussian_process/gpr.py:294: FutureWarning:\n",
      "\n",
      "Beginning in version 0.22, arrays of bytes/strings will be converted to decimal numbers if dtype='numeric'. It is recommended that you convert the array to a float dtype before using it in scikit-learn, for example by using your_array = your_array.astype(np.float64).\n",
      "\n"
     ]
    },
    {
     "name": "stdout",
     "output_type": "stream",
     "text": [
      "Fitting 5 folds for each of 1 candidates, totalling 5 fits\n"
     ]
    },
    {
     "name": "stderr",
     "output_type": "stream",
     "text": [
      "[Parallel(n_jobs=-1)]: Using backend LokyBackend with 4 concurrent workers.\n",
      "[Parallel(n_jobs=-1)]: Done   5 out of   5 | elapsed:    7.9s finished\n",
      "/home/welberth/.local/lib/python3.6/site-packages/skopt/learning/gaussian_process/gpr.py:294: FutureWarning:\n",
      "\n",
      "Beginning in version 0.22, arrays of bytes/strings will be converted to decimal numbers if dtype='numeric'. It is recommended that you convert the array to a float dtype before using it in scikit-learn, for example by using your_array = your_array.astype(np.float64).\n",
      "\n",
      "/home/welberth/.local/lib/python3.6/site-packages/skopt/optimizer/optimizer.py:409: UserWarning:\n",
      "\n",
      "The objective has been evaluated at this point before.\n",
      "\n",
      "/home/welberth/.local/lib/python3.6/site-packages/skopt/learning/gaussian_process/gpr.py:294: FutureWarning:\n",
      "\n",
      "Beginning in version 0.22, arrays of bytes/strings will be converted to decimal numbers if dtype='numeric'. It is recommended that you convert the array to a float dtype before using it in scikit-learn, for example by using your_array = your_array.astype(np.float64).\n",
      "\n"
     ]
    },
    {
     "name": "stdout",
     "output_type": "stream",
     "text": [
      "Fitting 5 folds for each of 1 candidates, totalling 5 fits\n"
     ]
    },
    {
     "name": "stderr",
     "output_type": "stream",
     "text": [
      "[Parallel(n_jobs=-1)]: Using backend LokyBackend with 4 concurrent workers.\n",
      "[Parallel(n_jobs=-1)]: Done   5 out of   5 | elapsed:    8.2s finished\n",
      "/home/welberth/.local/lib/python3.6/site-packages/skopt/learning/gaussian_process/gpr.py:294: FutureWarning:\n",
      "\n",
      "Beginning in version 0.22, arrays of bytes/strings will be converted to decimal numbers if dtype='numeric'. It is recommended that you convert the array to a float dtype before using it in scikit-learn, for example by using your_array = your_array.astype(np.float64).\n",
      "\n",
      "/home/welberth/.local/lib/python3.6/site-packages/skopt/optimizer/optimizer.py:409: UserWarning:\n",
      "\n",
      "The objective has been evaluated at this point before.\n",
      "\n",
      "/home/welberth/.local/lib/python3.6/site-packages/skopt/learning/gaussian_process/gpr.py:294: FutureWarning:\n",
      "\n",
      "Beginning in version 0.22, arrays of bytes/strings will be converted to decimal numbers if dtype='numeric'. It is recommended that you convert the array to a float dtype before using it in scikit-learn, for example by using your_array = your_array.astype(np.float64).\n",
      "\n"
     ]
    },
    {
     "name": "stdout",
     "output_type": "stream",
     "text": [
      "Fitting 5 folds for each of 1 candidates, totalling 5 fits\n"
     ]
    },
    {
     "name": "stderr",
     "output_type": "stream",
     "text": [
      "[Parallel(n_jobs=-1)]: Using backend LokyBackend with 4 concurrent workers.\n",
      "[Parallel(n_jobs=-1)]: Done   5 out of   5 | elapsed:    8.2s finished\n",
      "/home/welberth/.local/lib/python3.6/site-packages/skopt/learning/gaussian_process/gpr.py:294: FutureWarning:\n",
      "\n",
      "Beginning in version 0.22, arrays of bytes/strings will be converted to decimal numbers if dtype='numeric'. It is recommended that you convert the array to a float dtype before using it in scikit-learn, for example by using your_array = your_array.astype(np.float64).\n",
      "\n",
      "/home/welberth/.local/lib/python3.6/site-packages/skopt/optimizer/optimizer.py:409: UserWarning:\n",
      "\n",
      "The objective has been evaluated at this point before.\n",
      "\n",
      "/home/welberth/.local/lib/python3.6/site-packages/skopt/learning/gaussian_process/gpr.py:294: FutureWarning:\n",
      "\n",
      "Beginning in version 0.22, arrays of bytes/strings will be converted to decimal numbers if dtype='numeric'. It is recommended that you convert the array to a float dtype before using it in scikit-learn, for example by using your_array = your_array.astype(np.float64).\n",
      "\n"
     ]
    },
    {
     "name": "stdout",
     "output_type": "stream",
     "text": [
      "Fitting 5 folds for each of 1 candidates, totalling 5 fits\n"
     ]
    },
    {
     "name": "stderr",
     "output_type": "stream",
     "text": [
      "[Parallel(n_jobs=-1)]: Using backend LokyBackend with 4 concurrent workers.\n",
      "[Parallel(n_jobs=-1)]: Done   5 out of   5 | elapsed:    7.9s finished\n",
      "/home/welberth/.local/lib/python3.6/site-packages/skopt/learning/gaussian_process/gpr.py:294: FutureWarning:\n",
      "\n",
      "Beginning in version 0.22, arrays of bytes/strings will be converted to decimal numbers if dtype='numeric'. It is recommended that you convert the array to a float dtype before using it in scikit-learn, for example by using your_array = your_array.astype(np.float64).\n",
      "\n",
      "/home/welberth/.local/lib/python3.6/site-packages/skopt/optimizer/optimizer.py:409: UserWarning:\n",
      "\n",
      "The objective has been evaluated at this point before.\n",
      "\n",
      "/home/welberth/.local/lib/python3.6/site-packages/skopt/learning/gaussian_process/gpr.py:294: FutureWarning:\n",
      "\n",
      "Beginning in version 0.22, arrays of bytes/strings will be converted to decimal numbers if dtype='numeric'. It is recommended that you convert the array to a float dtype before using it in scikit-learn, for example by using your_array = your_array.astype(np.float64).\n",
      "\n"
     ]
    },
    {
     "name": "stdout",
     "output_type": "stream",
     "text": [
      "Fitting 5 folds for each of 1 candidates, totalling 5 fits\n"
     ]
    },
    {
     "name": "stderr",
     "output_type": "stream",
     "text": [
      "[Parallel(n_jobs=-1)]: Using backend LokyBackend with 4 concurrent workers.\n",
      "[Parallel(n_jobs=-1)]: Done   5 out of   5 | elapsed:    8.1s finished\n",
      "/home/welberth/.local/lib/python3.6/site-packages/skopt/learning/gaussian_process/gpr.py:294: FutureWarning:\n",
      "\n",
      "Beginning in version 0.22, arrays of bytes/strings will be converted to decimal numbers if dtype='numeric'. It is recommended that you convert the array to a float dtype before using it in scikit-learn, for example by using your_array = your_array.astype(np.float64).\n",
      "\n",
      "/home/welberth/.local/lib/python3.6/site-packages/skopt/optimizer/optimizer.py:409: UserWarning:\n",
      "\n",
      "The objective has been evaluated at this point before.\n",
      "\n",
      "/home/welberth/.local/lib/python3.6/site-packages/skopt/learning/gaussian_process/gpr.py:294: FutureWarning:\n",
      "\n",
      "Beginning in version 0.22, arrays of bytes/strings will be converted to decimal numbers if dtype='numeric'. It is recommended that you convert the array to a float dtype before using it in scikit-learn, for example by using your_array = your_array.astype(np.float64).\n",
      "\n"
     ]
    },
    {
     "name": "stdout",
     "output_type": "stream",
     "text": [
      "Fitting 5 folds for each of 1 candidates, totalling 5 fits\n"
     ]
    },
    {
     "name": "stderr",
     "output_type": "stream",
     "text": [
      "[Parallel(n_jobs=-1)]: Using backend LokyBackend with 4 concurrent workers.\n",
      "[Parallel(n_jobs=-1)]: Done   5 out of   5 | elapsed:    8.3s finished\n",
      "/home/welberth/.local/lib/python3.6/site-packages/skopt/learning/gaussian_process/gpr.py:294: FutureWarning:\n",
      "\n",
      "Beginning in version 0.22, arrays of bytes/strings will be converted to decimal numbers if dtype='numeric'. It is recommended that you convert the array to a float dtype before using it in scikit-learn, for example by using your_array = your_array.astype(np.float64).\n",
      "\n",
      "/home/welberth/.local/lib/python3.6/site-packages/skopt/optimizer/optimizer.py:409: UserWarning:\n",
      "\n",
      "The objective has been evaluated at this point before.\n",
      "\n",
      "/home/welberth/.local/lib/python3.6/site-packages/skopt/learning/gaussian_process/gpr.py:294: FutureWarning:\n",
      "\n",
      "Beginning in version 0.22, arrays of bytes/strings will be converted to decimal numbers if dtype='numeric'. It is recommended that you convert the array to a float dtype before using it in scikit-learn, for example by using your_array = your_array.astype(np.float64).\n",
      "\n"
     ]
    },
    {
     "name": "stdout",
     "output_type": "stream",
     "text": [
      "Fitting 5 folds for each of 1 candidates, totalling 5 fits\n"
     ]
    },
    {
     "name": "stderr",
     "output_type": "stream",
     "text": [
      "[Parallel(n_jobs=-1)]: Using backend LokyBackend with 4 concurrent workers.\n",
      "[Parallel(n_jobs=-1)]: Done   5 out of   5 | elapsed:    8.0s finished\n",
      "/home/welberth/.local/lib/python3.6/site-packages/skopt/learning/gaussian_process/gpr.py:294: FutureWarning:\n",
      "\n",
      "Beginning in version 0.22, arrays of bytes/strings will be converted to decimal numbers if dtype='numeric'. It is recommended that you convert the array to a float dtype before using it in scikit-learn, for example by using your_array = your_array.astype(np.float64).\n",
      "\n",
      "/home/welberth/.local/lib/python3.6/site-packages/skopt/optimizer/optimizer.py:409: UserWarning:\n",
      "\n",
      "The objective has been evaluated at this point before.\n",
      "\n",
      "/home/welberth/.local/lib/python3.6/site-packages/skopt/learning/gaussian_process/gpr.py:294: FutureWarning:\n",
      "\n",
      "Beginning in version 0.22, arrays of bytes/strings will be converted to decimal numbers if dtype='numeric'. It is recommended that you convert the array to a float dtype before using it in scikit-learn, for example by using your_array = your_array.astype(np.float64).\n",
      "\n"
     ]
    },
    {
     "name": "stdout",
     "output_type": "stream",
     "text": [
      "Fitting 5 folds for each of 1 candidates, totalling 5 fits\n"
     ]
    },
    {
     "name": "stderr",
     "output_type": "stream",
     "text": [
      "[Parallel(n_jobs=-1)]: Using backend LokyBackend with 4 concurrent workers.\n",
      "[Parallel(n_jobs=-1)]: Done   5 out of   5 | elapsed:    8.2s finished\n",
      "/home/welberth/.local/lib/python3.6/site-packages/skopt/learning/gaussian_process/gpr.py:294: FutureWarning:\n",
      "\n",
      "Beginning in version 0.22, arrays of bytes/strings will be converted to decimal numbers if dtype='numeric'. It is recommended that you convert the array to a float dtype before using it in scikit-learn, for example by using your_array = your_array.astype(np.float64).\n",
      "\n",
      "/home/welberth/.local/lib/python3.6/site-packages/skopt/optimizer/optimizer.py:409: UserWarning:\n",
      "\n",
      "The objective has been evaluated at this point before.\n",
      "\n",
      "/home/welberth/.local/lib/python3.6/site-packages/skopt/learning/gaussian_process/gpr.py:294: FutureWarning:\n",
      "\n",
      "Beginning in version 0.22, arrays of bytes/strings will be converted to decimal numbers if dtype='numeric'. It is recommended that you convert the array to a float dtype before using it in scikit-learn, for example by using your_array = your_array.astype(np.float64).\n",
      "\n"
     ]
    },
    {
     "name": "stdout",
     "output_type": "stream",
     "text": [
      "Fitting 5 folds for each of 1 candidates, totalling 5 fits\n"
     ]
    },
    {
     "name": "stderr",
     "output_type": "stream",
     "text": [
      "[Parallel(n_jobs=-1)]: Using backend LokyBackend with 4 concurrent workers.\n",
      "[Parallel(n_jobs=-1)]: Done   5 out of   5 | elapsed:    8.2s finished\n",
      "/home/welberth/.local/lib/python3.6/site-packages/skopt/learning/gaussian_process/gpr.py:294: FutureWarning:\n",
      "\n",
      "Beginning in version 0.22, arrays of bytes/strings will be converted to decimal numbers if dtype='numeric'. It is recommended that you convert the array to a float dtype before using it in scikit-learn, for example by using your_array = your_array.astype(np.float64).\n",
      "\n",
      "/home/welberth/.local/lib/python3.6/site-packages/skopt/optimizer/optimizer.py:409: UserWarning:\n",
      "\n",
      "The objective has been evaluated at this point before.\n",
      "\n",
      "/home/welberth/.local/lib/python3.6/site-packages/skopt/learning/gaussian_process/gpr.py:294: FutureWarning:\n",
      "\n",
      "Beginning in version 0.22, arrays of bytes/strings will be converted to decimal numbers if dtype='numeric'. It is recommended that you convert the array to a float dtype before using it in scikit-learn, for example by using your_array = your_array.astype(np.float64).\n",
      "\n"
     ]
    },
    {
     "name": "stdout",
     "output_type": "stream",
     "text": [
      "Fitting 5 folds for each of 1 candidates, totalling 5 fits\n"
     ]
    },
    {
     "name": "stderr",
     "output_type": "stream",
     "text": [
      "[Parallel(n_jobs=-1)]: Using backend LokyBackend with 4 concurrent workers.\n",
      "[Parallel(n_jobs=-1)]: Done   5 out of   5 | elapsed:    8.3s finished\n",
      "/home/welberth/.local/lib/python3.6/site-packages/skopt/learning/gaussian_process/gpr.py:294: FutureWarning:\n",
      "\n",
      "Beginning in version 0.22, arrays of bytes/strings will be converted to decimal numbers if dtype='numeric'. It is recommended that you convert the array to a float dtype before using it in scikit-learn, for example by using your_array = your_array.astype(np.float64).\n",
      "\n",
      "/home/welberth/.local/lib/python3.6/site-packages/skopt/optimizer/optimizer.py:409: UserWarning:\n",
      "\n",
      "The objective has been evaluated at this point before.\n",
      "\n",
      "/home/welberth/.local/lib/python3.6/site-packages/skopt/learning/gaussian_process/gpr.py:294: FutureWarning:\n",
      "\n",
      "Beginning in version 0.22, arrays of bytes/strings will be converted to decimal numbers if dtype='numeric'. It is recommended that you convert the array to a float dtype before using it in scikit-learn, for example by using your_array = your_array.astype(np.float64).\n",
      "\n"
     ]
    },
    {
     "name": "stdout",
     "output_type": "stream",
     "text": [
      "Fitting 5 folds for each of 1 candidates, totalling 5 fits\n"
     ]
    },
    {
     "name": "stderr",
     "output_type": "stream",
     "text": [
      "[Parallel(n_jobs=-1)]: Using backend LokyBackend with 4 concurrent workers.\n",
      "[Parallel(n_jobs=-1)]: Done   5 out of   5 | elapsed:    7.8s finished\n",
      "/home/welberth/.local/lib/python3.6/site-packages/skopt/learning/gaussian_process/gpr.py:294: FutureWarning:\n",
      "\n",
      "Beginning in version 0.22, arrays of bytes/strings will be converted to decimal numbers if dtype='numeric'. It is recommended that you convert the array to a float dtype before using it in scikit-learn, for example by using your_array = your_array.astype(np.float64).\n",
      "\n",
      "/home/welberth/.local/lib/python3.6/site-packages/skopt/optimizer/optimizer.py:409: UserWarning:\n",
      "\n",
      "The objective has been evaluated at this point before.\n",
      "\n",
      "/home/welberth/.local/lib/python3.6/site-packages/skopt/learning/gaussian_process/gpr.py:294: FutureWarning:\n",
      "\n",
      "Beginning in version 0.22, arrays of bytes/strings will be converted to decimal numbers if dtype='numeric'. It is recommended that you convert the array to a float dtype before using it in scikit-learn, for example by using your_array = your_array.astype(np.float64).\n",
      "\n"
     ]
    },
    {
     "name": "stdout",
     "output_type": "stream",
     "text": [
      "Fitting 5 folds for each of 1 candidates, totalling 5 fits\n"
     ]
    },
    {
     "name": "stderr",
     "output_type": "stream",
     "text": [
      "[Parallel(n_jobs=-1)]: Using backend LokyBackend with 4 concurrent workers.\n",
      "[Parallel(n_jobs=-1)]: Done   5 out of   5 | elapsed:    7.8s finished\n",
      "/home/welberth/.local/lib/python3.6/site-packages/skopt/learning/gaussian_process/gpr.py:294: FutureWarning:\n",
      "\n",
      "Beginning in version 0.22, arrays of bytes/strings will be converted to decimal numbers if dtype='numeric'. It is recommended that you convert the array to a float dtype before using it in scikit-learn, for example by using your_array = your_array.astype(np.float64).\n",
      "\n",
      "/home/welberth/.local/lib/python3.6/site-packages/skopt/optimizer/optimizer.py:409: UserWarning:\n",
      "\n",
      "The objective has been evaluated at this point before.\n",
      "\n",
      "/home/welberth/.local/lib/python3.6/site-packages/skopt/learning/gaussian_process/gpr.py:294: FutureWarning:\n",
      "\n",
      "Beginning in version 0.22, arrays of bytes/strings will be converted to decimal numbers if dtype='numeric'. It is recommended that you convert the array to a float dtype before using it in scikit-learn, for example by using your_array = your_array.astype(np.float64).\n",
      "\n"
     ]
    },
    {
     "name": "stdout",
     "output_type": "stream",
     "text": [
      "Fitting 5 folds for each of 1 candidates, totalling 5 fits\n"
     ]
    },
    {
     "name": "stderr",
     "output_type": "stream",
     "text": [
      "[Parallel(n_jobs=-1)]: Using backend LokyBackend with 4 concurrent workers.\n",
      "[Parallel(n_jobs=-1)]: Done   5 out of   5 | elapsed:    8.1s finished\n",
      "/home/welberth/.local/lib/python3.6/site-packages/skopt/learning/gaussian_process/gpr.py:294: FutureWarning:\n",
      "\n",
      "Beginning in version 0.22, arrays of bytes/strings will be converted to decimal numbers if dtype='numeric'. It is recommended that you convert the array to a float dtype before using it in scikit-learn, for example by using your_array = your_array.astype(np.float64).\n",
      "\n",
      "/home/welberth/.local/lib/python3.6/site-packages/skopt/optimizer/optimizer.py:409: UserWarning:\n",
      "\n",
      "The objective has been evaluated at this point before.\n",
      "\n",
      "/home/welberth/.local/lib/python3.6/site-packages/skopt/learning/gaussian_process/gpr.py:294: FutureWarning:\n",
      "\n",
      "Beginning in version 0.22, arrays of bytes/strings will be converted to decimal numbers if dtype='numeric'. It is recommended that you convert the array to a float dtype before using it in scikit-learn, for example by using your_array = your_array.astype(np.float64).\n",
      "\n"
     ]
    },
    {
     "name": "stdout",
     "output_type": "stream",
     "text": [
      "Fitting 5 folds for each of 1 candidates, totalling 5 fits\n"
     ]
    },
    {
     "name": "stderr",
     "output_type": "stream",
     "text": [
      "[Parallel(n_jobs=-1)]: Using backend LokyBackend with 4 concurrent workers.\n",
      "[Parallel(n_jobs=-1)]: Done   5 out of   5 | elapsed:    7.8s finished\n",
      "/home/welberth/.local/lib/python3.6/site-packages/skopt/learning/gaussian_process/gpr.py:294: FutureWarning:\n",
      "\n",
      "Beginning in version 0.22, arrays of bytes/strings will be converted to decimal numbers if dtype='numeric'. It is recommended that you convert the array to a float dtype before using it in scikit-learn, for example by using your_array = your_array.astype(np.float64).\n",
      "\n",
      "/home/welberth/.local/lib/python3.6/site-packages/skopt/optimizer/optimizer.py:409: UserWarning:\n",
      "\n",
      "The objective has been evaluated at this point before.\n",
      "\n",
      "/home/welberth/.local/lib/python3.6/site-packages/skopt/learning/gaussian_process/gpr.py:294: FutureWarning:\n",
      "\n",
      "Beginning in version 0.22, arrays of bytes/strings will be converted to decimal numbers if dtype='numeric'. It is recommended that you convert the array to a float dtype before using it in scikit-learn, for example by using your_array = your_array.astype(np.float64).\n",
      "\n"
     ]
    },
    {
     "name": "stdout",
     "output_type": "stream",
     "text": [
      "Fitting 5 folds for each of 1 candidates, totalling 5 fits\n"
     ]
    },
    {
     "name": "stderr",
     "output_type": "stream",
     "text": [
      "[Parallel(n_jobs=-1)]: Using backend LokyBackend with 4 concurrent workers.\n",
      "[Parallel(n_jobs=-1)]: Done   5 out of   5 | elapsed:    7.8s finished\n",
      "/home/welberth/.local/lib/python3.6/site-packages/skopt/learning/gaussian_process/gpr.py:294: FutureWarning:\n",
      "\n",
      "Beginning in version 0.22, arrays of bytes/strings will be converted to decimal numbers if dtype='numeric'. It is recommended that you convert the array to a float dtype before using it in scikit-learn, for example by using your_array = your_array.astype(np.float64).\n",
      "\n",
      "/home/welberth/.local/lib/python3.6/site-packages/skopt/optimizer/optimizer.py:409: UserWarning:\n",
      "\n",
      "The objective has been evaluated at this point before.\n",
      "\n",
      "/home/welberth/.local/lib/python3.6/site-packages/skopt/learning/gaussian_process/gpr.py:294: FutureWarning:\n",
      "\n",
      "Beginning in version 0.22, arrays of bytes/strings will be converted to decimal numbers if dtype='numeric'. It is recommended that you convert the array to a float dtype before using it in scikit-learn, for example by using your_array = your_array.astype(np.float64).\n",
      "\n"
     ]
    },
    {
     "name": "stdout",
     "output_type": "stream",
     "text": [
      "Fitting 5 folds for each of 1 candidates, totalling 5 fits\n"
     ]
    },
    {
     "name": "stderr",
     "output_type": "stream",
     "text": [
      "[Parallel(n_jobs=-1)]: Using backend LokyBackend with 4 concurrent workers.\n",
      "[Parallel(n_jobs=-1)]: Done   5 out of   5 | elapsed:    8.4s finished\n",
      "/home/welberth/.local/lib/python3.6/site-packages/skopt/learning/gaussian_process/gpr.py:294: FutureWarning:\n",
      "\n",
      "Beginning in version 0.22, arrays of bytes/strings will be converted to decimal numbers if dtype='numeric'. It is recommended that you convert the array to a float dtype before using it in scikit-learn, for example by using your_array = your_array.astype(np.float64).\n",
      "\n",
      "/home/welberth/.local/lib/python3.6/site-packages/skopt/optimizer/optimizer.py:409: UserWarning:\n",
      "\n",
      "The objective has been evaluated at this point before.\n",
      "\n",
      "/home/welberth/.local/lib/python3.6/site-packages/skopt/learning/gaussian_process/gpr.py:294: FutureWarning:\n",
      "\n",
      "Beginning in version 0.22, arrays of bytes/strings will be converted to decimal numbers if dtype='numeric'. It is recommended that you convert the array to a float dtype before using it in scikit-learn, for example by using your_array = your_array.astype(np.float64).\n",
      "\n"
     ]
    },
    {
     "name": "stdout",
     "output_type": "stream",
     "text": [
      "Fitting 5 folds for each of 1 candidates, totalling 5 fits\n"
     ]
    },
    {
     "name": "stderr",
     "output_type": "stream",
     "text": [
      "[Parallel(n_jobs=-1)]: Using backend LokyBackend with 4 concurrent workers.\n",
      "[Parallel(n_jobs=-1)]: Done   5 out of   5 | elapsed:    8.2s finished\n",
      "/home/welberth/.local/lib/python3.6/site-packages/skopt/learning/gaussian_process/gpr.py:294: FutureWarning:\n",
      "\n",
      "Beginning in version 0.22, arrays of bytes/strings will be converted to decimal numbers if dtype='numeric'. It is recommended that you convert the array to a float dtype before using it in scikit-learn, for example by using your_array = your_array.astype(np.float64).\n",
      "\n",
      "/home/welberth/.local/lib/python3.6/site-packages/skopt/optimizer/optimizer.py:409: UserWarning:\n",
      "\n",
      "The objective has been evaluated at this point before.\n",
      "\n",
      "/home/welberth/.local/lib/python3.6/site-packages/skopt/learning/gaussian_process/gpr.py:294: FutureWarning:\n",
      "\n",
      "Beginning in version 0.22, arrays of bytes/strings will be converted to decimal numbers if dtype='numeric'. It is recommended that you convert the array to a float dtype before using it in scikit-learn, for example by using your_array = your_array.astype(np.float64).\n",
      "\n"
     ]
    },
    {
     "name": "stdout",
     "output_type": "stream",
     "text": [
      "Fitting 5 folds for each of 1 candidates, totalling 5 fits\n"
     ]
    },
    {
     "name": "stderr",
     "output_type": "stream",
     "text": [
      "[Parallel(n_jobs=-1)]: Using backend LokyBackend with 4 concurrent workers.\n",
      "[Parallel(n_jobs=-1)]: Done   5 out of   5 | elapsed:    8.0s finished\n",
      "/home/welberth/.local/lib/python3.6/site-packages/skopt/learning/gaussian_process/gpr.py:294: FutureWarning:\n",
      "\n",
      "Beginning in version 0.22, arrays of bytes/strings will be converted to decimal numbers if dtype='numeric'. It is recommended that you convert the array to a float dtype before using it in scikit-learn, for example by using your_array = your_array.astype(np.float64).\n",
      "\n",
      "/home/welberth/.local/lib/python3.6/site-packages/skopt/optimizer/optimizer.py:409: UserWarning:\n",
      "\n",
      "The objective has been evaluated at this point before.\n",
      "\n",
      "/home/welberth/.local/lib/python3.6/site-packages/skopt/learning/gaussian_process/gpr.py:294: FutureWarning:\n",
      "\n",
      "Beginning in version 0.22, arrays of bytes/strings will be converted to decimal numbers if dtype='numeric'. It is recommended that you convert the array to a float dtype before using it in scikit-learn, for example by using your_array = your_array.astype(np.float64).\n",
      "\n"
     ]
    },
    {
     "name": "stdout",
     "output_type": "stream",
     "text": [
      "Fitting 5 folds for each of 1 candidates, totalling 5 fits\n"
     ]
    },
    {
     "name": "stderr",
     "output_type": "stream",
     "text": [
      "[Parallel(n_jobs=-1)]: Using backend LokyBackend with 4 concurrent workers.\n",
      "[Parallel(n_jobs=-1)]: Done   5 out of   5 | elapsed:    8.0s finished\n",
      "/home/welberth/.local/lib/python3.6/site-packages/skopt/learning/gaussian_process/gpr.py:294: FutureWarning:\n",
      "\n",
      "Beginning in version 0.22, arrays of bytes/strings will be converted to decimal numbers if dtype='numeric'. It is recommended that you convert the array to a float dtype before using it in scikit-learn, for example by using your_array = your_array.astype(np.float64).\n",
      "\n",
      "/home/welberth/.local/lib/python3.6/site-packages/skopt/optimizer/optimizer.py:409: UserWarning:\n",
      "\n",
      "The objective has been evaluated at this point before.\n",
      "\n",
      "/home/welberth/.local/lib/python3.6/site-packages/skopt/learning/gaussian_process/gpr.py:294: FutureWarning:\n",
      "\n",
      "Beginning in version 0.22, arrays of bytes/strings will be converted to decimal numbers if dtype='numeric'. It is recommended that you convert the array to a float dtype before using it in scikit-learn, for example by using your_array = your_array.astype(np.float64).\n",
      "\n"
     ]
    },
    {
     "name": "stdout",
     "output_type": "stream",
     "text": [
      "Fitting 5 folds for each of 1 candidates, totalling 5 fits\n"
     ]
    },
    {
     "name": "stderr",
     "output_type": "stream",
     "text": [
      "[Parallel(n_jobs=-1)]: Using backend LokyBackend with 4 concurrent workers.\n",
      "[Parallel(n_jobs=-1)]: Done   5 out of   5 | elapsed:    7.9s finished\n",
      "/home/welberth/.local/lib/python3.6/site-packages/skopt/learning/gaussian_process/gpr.py:294: FutureWarning:\n",
      "\n",
      "Beginning in version 0.22, arrays of bytes/strings will be converted to decimal numbers if dtype='numeric'. It is recommended that you convert the array to a float dtype before using it in scikit-learn, for example by using your_array = your_array.astype(np.float64).\n",
      "\n",
      "/home/welberth/.local/lib/python3.6/site-packages/skopt/optimizer/optimizer.py:409: UserWarning:\n",
      "\n",
      "The objective has been evaluated at this point before.\n",
      "\n",
      "/home/welberth/.local/lib/python3.6/site-packages/skopt/learning/gaussian_process/gpr.py:294: FutureWarning:\n",
      "\n",
      "Beginning in version 0.22, arrays of bytes/strings will be converted to decimal numbers if dtype='numeric'. It is recommended that you convert the array to a float dtype before using it in scikit-learn, for example by using your_array = your_array.astype(np.float64).\n",
      "\n"
     ]
    },
    {
     "name": "stdout",
     "output_type": "stream",
     "text": [
      "Fitting 5 folds for each of 1 candidates, totalling 5 fits\n"
     ]
    },
    {
     "name": "stderr",
     "output_type": "stream",
     "text": [
      "[Parallel(n_jobs=-1)]: Using backend LokyBackend with 4 concurrent workers.\n",
      "[Parallel(n_jobs=-1)]: Done   5 out of   5 | elapsed:    8.1s finished\n",
      "/home/welberth/.local/lib/python3.6/site-packages/skopt/learning/gaussian_process/gpr.py:294: FutureWarning:\n",
      "\n",
      "Beginning in version 0.22, arrays of bytes/strings will be converted to decimal numbers if dtype='numeric'. It is recommended that you convert the array to a float dtype before using it in scikit-learn, for example by using your_array = your_array.astype(np.float64).\n",
      "\n",
      "/home/welberth/.local/lib/python3.6/site-packages/skopt/optimizer/optimizer.py:409: UserWarning:\n",
      "\n",
      "The objective has been evaluated at this point before.\n",
      "\n",
      "/home/welberth/.local/lib/python3.6/site-packages/skopt/learning/gaussian_process/gpr.py:294: FutureWarning:\n",
      "\n",
      "Beginning in version 0.22, arrays of bytes/strings will be converted to decimal numbers if dtype='numeric'. It is recommended that you convert the array to a float dtype before using it in scikit-learn, for example by using your_array = your_array.astype(np.float64).\n",
      "\n"
     ]
    },
    {
     "name": "stdout",
     "output_type": "stream",
     "text": [
      "Fitting 5 folds for each of 1 candidates, totalling 5 fits\n"
     ]
    },
    {
     "name": "stderr",
     "output_type": "stream",
     "text": [
      "[Parallel(n_jobs=-1)]: Using backend LokyBackend with 4 concurrent workers.\n",
      "[Parallel(n_jobs=-1)]: Done   5 out of   5 | elapsed:    7.9s finished\n",
      "/home/welberth/.local/lib/python3.6/site-packages/skopt/learning/gaussian_process/gpr.py:294: FutureWarning:\n",
      "\n",
      "Beginning in version 0.22, arrays of bytes/strings will be converted to decimal numbers if dtype='numeric'. It is recommended that you convert the array to a float dtype before using it in scikit-learn, for example by using your_array = your_array.astype(np.float64).\n",
      "\n",
      "/home/welberth/.local/lib/python3.6/site-packages/skopt/optimizer/optimizer.py:409: UserWarning:\n",
      "\n",
      "The objective has been evaluated at this point before.\n",
      "\n",
      "/home/welberth/.local/lib/python3.6/site-packages/skopt/learning/gaussian_process/gpr.py:294: FutureWarning:\n",
      "\n",
      "Beginning in version 0.22, arrays of bytes/strings will be converted to decimal numbers if dtype='numeric'. It is recommended that you convert the array to a float dtype before using it in scikit-learn, for example by using your_array = your_array.astype(np.float64).\n",
      "\n"
     ]
    },
    {
     "name": "stdout",
     "output_type": "stream",
     "text": [
      "Fitting 5 folds for each of 1 candidates, totalling 5 fits\n"
     ]
    },
    {
     "name": "stderr",
     "output_type": "stream",
     "text": [
      "[Parallel(n_jobs=-1)]: Using backend LokyBackend with 4 concurrent workers.\n",
      "[Parallel(n_jobs=-1)]: Done   5 out of   5 | elapsed:    7.9s finished\n",
      "/home/welberth/.local/lib/python3.6/site-packages/skopt/learning/gaussian_process/gpr.py:294: FutureWarning:\n",
      "\n",
      "Beginning in version 0.22, arrays of bytes/strings will be converted to decimal numbers if dtype='numeric'. It is recommended that you convert the array to a float dtype before using it in scikit-learn, for example by using your_array = your_array.astype(np.float64).\n",
      "\n"
     ]
    },
    {
     "name": "stdout",
     "output_type": "stream",
     "text": [
      "OrderedDict([('bootstrap', True), ('max_depth', 70), ('max_features', 'sqrt'), ('min_samples_leaf', 1), ('min_samples_split', 10), ('n_estimators', 400)])\n"
     ]
    }
   ],
   "source": [
    "if training:\n",
    "\n",
    "    rf = RandomForestRegressor(random_state=seed, n_jobs=-1)\n",
    "    #random_grid = {'bootstrap': [True, False],\n",
    "    #               'max_depth': [10, 20, 30, 40, 50, 60, 70, 80, 90, 100, None],\n",
    "    #               'max_features': ['auto', 'sqrt'],\n",
    "    #               'min_samples_leaf': [1, 2, 4],\n",
    "    #               'min_samples_split': [2, 5, 10],\n",
    "    #               'n_estimators': [200, 400, 600, 800, 1000, 1200, 1400, 1600, 1800, 2000]}\n",
    "    \n",
    "    random_grid = {'bootstrap': [True, False],\n",
    "               'max_depth': [4, 5, 6, 10, 20, 30, 40, 50, 60, 70, 80, 90, 100],\n",
    "               'max_features': ['auto', 'sqrt'],\n",
    "               'min_samples_leaf': [1, 2, 4],\n",
    "               'min_samples_split': [2, 5, 10],\n",
    "               'n_estimators': [200, 400, 600]}\n",
    "    \n",
    "    # Time series CV\n",
    "\n",
    "    tscv = TimeSeriesSplit(n_splits = 5)\n",
    "\n",
    "    BayesCV = BayesSearchCV(rf,random_grid, n_iter = 50, cv = tscv, verbose=2, random_state=seed, n_jobs = -1)\n",
    "    \n",
    "    # Fit the random search model\n",
    "    BayesCV.fit(X_train, y_train)\n",
    "    \n",
    "    print(BayesCV.best_params_)\n",
    "    \n",
    "    rand_reg = BayesCV.best_estimator_.fit(X_train, y_train)"
   ]
  },
  {
   "cell_type": "code",
   "execution_count": 72,
   "metadata": {
    "ExecuteTime": {
     "end_time": "2020-06-17T02:27:47.691258Z",
     "start_time": "2020-06-17T02:27:46.529979Z"
    },
    "hidden": true
   },
   "outputs": [
    {
     "name": "stdout",
     "output_type": "stream",
     "text": [
      "train MAE: 526.52\n",
      "test MAE: 581.72\n",
      "train RMSE: 684.99\n",
      "test RMSE: 746.38\n"
     ]
    }
   ],
   "source": [
    "print(\"train MAE: {:.2f}\".format(mean_absolute_error(y_train,rand_reg.predict(X_train))))\n",
    "print(\"test MAE: {:.2f}\".format(mean_absolute_error(y_test,rand_reg.predict(X_test))))\n",
    "print(\"train RMSE: {:.2f}\".format(mean_squared_error(y_train, rand_reg.predict(X_train))**0.5))\n",
    "print(\"test RMSE: {:.2f}\".format(mean_squared_error(y_test, rand_reg.predict(X_test))**0.5))\n"
   ]
  },
  {
   "cell_type": "code",
   "execution_count": 114,
   "metadata": {
    "ExecuteTime": {
     "end_time": "2020-06-21T04:15:09.830745Z",
     "start_time": "2020-06-21T04:15:08.482816Z"
    },
    "hidden": true
   },
   "outputs": [
    {
     "name": "stdout",
     "output_type": "stream",
     "text": [
      "train MAE: 518.93\n",
      "test MAE: 582.78\n",
      "train RMSE: 677.35\n",
      "test RMSE: 748.87\n"
     ]
    }
   ],
   "source": [
    "print(\"train MAE: {:.2f}\".format(mean_absolute_error(y_train,rand_reg.predict(X_train))))\n",
    "print(\"test MAE: {:.2f}\".format(mean_absolute_error(y_test,rand_reg.predict(X_test))))\n",
    "print(\"train RMSE: {:.2f}\".format(mean_squared_error(y_train, rand_reg.predict(X_train))**0.5))\n",
    "print(\"test RMSE: {:.2f}\".format(mean_squared_error(y_test, rand_reg.predict(X_test))**0.5))"
   ]
  },
  {
   "cell_type": "code",
   "execution_count": 115,
   "metadata": {
    "ExecuteTime": {
     "end_time": "2020-06-21T04:15:25.756305Z",
     "start_time": "2020-06-21T04:15:24.913741Z"
    },
    "hidden": true
   },
   "outputs": [
    {
     "data": {
      "text/plain": [
       "<matplotlib.axes._subplots.AxesSubplot at 0x7f0b3d7942b0>"
      ]
     },
     "execution_count": 115,
     "metadata": {},
     "output_type": "execute_result"
    },
    {
     "data": {
      "image/png": "[encoded data removed]",
      "text/plain": [
       "<Figure size 864x360 with 2 Axes>"
      ]
     },
     "metadata": {
      "needs_background": "light"
     },
     "output_type": "display_data"
    }
   ],
   "source": [
    "plt.figure(figsize=(12,5))\n",
    "\n",
    "df_out = y_test.copy().to_frame()\n",
    "# Number of request every 10 minutes\n",
    "y_test.iloc[0:200].plot(color='blue', grid=True)\n",
    "plt.legend(loc='upper left')\n",
    "plt.xlabel('Number of request ever 10 minute')\n",
    "\n",
    "df_out['oth'] = rand_reg.predict(X_test)\n",
    "# Sum of response size over each 10 minute\n",
    "#y_test.plot(color='blue', grid=True)\n",
    "#plt.legend(loc='upper left')\n",
    "#plt.xlabel('Number of request ever 10 minute')\n",
    "df_out.oth.iloc[0:200].plot(color='red',grid=True, secondary_y=True)\n",
    "#plt.legend(loc='upper right')pd.Series(rand_reg.predict(X_test)).iloc[0:100]\n",
    "#plt.show()"
   ]
  },
  {
   "cell_type": "markdown",
   "metadata": {
    "hidden": true
   },
   "source": [
    "### Grid Search"
   ]
  },
  {
   "cell_type": "code",
   "execution_count": 108,
   "metadata": {
    "ExecuteTime": {
     "end_time": "2020-04-25T23:21:34.879505Z",
     "start_time": "2020-04-25T23:18:12.334790Z"
    },
    "hidden": true
   },
   "outputs": [
    {
     "name": "stdout",
     "output_type": "stream",
     "text": [
      "{'bootstrap': True, 'max_depth': 15, 'max_features': 'sqrt', 'min_samples_leaf': 1, 'min_samples_split': 2, 'n_estimators': 2000}\n"
     ]
    }
   ],
   "source": [
    "if training:\n",
    "\n",
    "    rf = RandomForestRegressor(random_state=seed, n_jobs=-1)\n",
    "\n",
    "    param_grid = {'n_estimators': [2000],\n",
    "                  'min_samples_split': [2],\n",
    "                  'min_samples_leaf': [1],\n",
    "                  'max_features': ['sqrt'],\n",
    "                  'max_depth': [5,10,15],\n",
    "                  'bootstrap': [True]}\n",
    "\n",
    "    grid = GridSearchCV(rf, param_grid=param_grid, cv=5,return_train_score = True,scoring = 'neg_mean_absolute_error').fit(X_train, y_train)\n",
    "    \n",
    "    #neg_root_mean_squared_error\n",
    "    reg_rf = grid.best_estimator_.fit(X_train,y_train)\n",
    "\n",
    "    print(grid.best_params_)\n",
    "   # print(grid.cv_results_)"
   ]
  },
  {
   "cell_type": "code",
   "execution_count": 109,
   "metadata": {
    "ExecuteTime": {
     "end_time": "2020-04-25T23:21:50.650211Z",
     "start_time": "2020-04-25T23:21:35.199135Z"
    },
    "hidden": true
   },
   "outputs": [
    {
     "name": "stdout",
     "output_type": "stream",
     "text": [
      "train MAE: 29.16\n",
      "test MAE: 38.05\n",
      "train MAPE: 15.32%\n",
      "test MAPE: 20.74%\n",
      "train RMSE: 40.30\n",
      "test RMSE: 53.31\n",
      "---------------\n",
      "Out of Time MAE: 46.20\n",
      "Out of Time MAPE: 39.74%\n",
      "Out of Time RMSE: 65.27\n"
     ]
    }
   ],
   "source": [
    "print(\"train MAE: {:.2f}\".format(mean_absolute_error(y_train,reg_rf.predict(X_train))))\n",
    "print(\"test MAE: {:.2f}\".format(mean_absolute_error(y_test,reg_rf.predict(X_test))))\n",
    "print(\"train MAPE: {:.2f}%\".format(MAPE(y_train, reg_rf.predict(X_train))))\n",
    "print(\"test MAPE: {:.2f}%\".format(MAPE(y_test, reg_rf.predict(X_test))))\n",
    "print(\"train RMSE: {:.2f}\".format(mean_squared_error(y_train, reg_rf.predict(X_train))**0.5))\n",
    "print(\"test RMSE: {:.2f}\".format(mean_squared_error(y_test, reg_rf.predict(X_test))**0.5))\n",
    "print(\"---------------\")\n",
    "print(\"Out of Time MAE: {:.2f}\".format(mean_absolute_error(y_oot,reg_rf.predict(X_oot.drop(columns = ['departure_date'])))))\n",
    "print(\"Out of Time MAPE: {:.2f}%\".format(MAPE(y_oot, reg_rf.predict(X_oot.drop(columns = ['departure_date'])))))\n",
    "print(\"Out of Time RMSE: {:.2f}\".format(mean_squared_error(y_oot, reg_rf.predict(X_oot.drop(columns = ['departure_date'])))**0.5))"
   ]
  },
  {
   "cell_type": "code",
   "execution_count": 49,
   "metadata": {
    "ExecuteTime": {
     "end_time": "2020-04-26T16:46:18.010936Z",
     "start_time": "2020-04-26T16:46:15.570116Z"
    },
    "hidden": true
   },
   "outputs": [],
   "source": [
    "rf = RandomForestRegressor(n_estimators = 300,\n",
    "                               min_samples_split =2,\n",
    "                               min_samples_leaf =1,\n",
    "                               max_features = 'sqrt',\n",
    "                               max_depth = 15,\n",
    "                               bootstrap = True,\n",
    "                               random_state=seed,\n",
    "                               n_jobs=-1)\n",
    "    #neg_root_mean_squared_error\n",
    "reg_rf = rf.fit(X_train,y_train)\n"
   ]
  },
  {
   "cell_type": "code",
   "execution_count": 48,
   "metadata": {
    "ExecuteTime": {
     "end_time": "2020-04-26T16:31:39.610115Z",
     "start_time": "2020-04-26T16:31:39.353480Z"
    },
    "hidden": true
   },
   "outputs": [
    {
     "data": {
      "text/html": [
       "[<matplotlib.lines.Line2D object at 0x7fd48b180128>]"
      ],
      "text/plain": [
       "[<matplotlib.lines.Line2D at 0x7fd48b180128>]"
      ]
     },
     "execution_count": 48,
     "metadata": {},
     "output_type": "execute_result"
    },
    {
     "data": {
      "image/png": "[encoded data removed]",
      "text/plain": [
       "<Figure size 432x288 with 1 Axes>"
      ]
     },
     "metadata": {
      "needs_background": "light"
     },
     "output_type": "display_data"
    }
   ],
   "source": [
    "plt.plot(list(range(1,7,1)),MAE)"
   ]
  },
  {
   "cell_type": "code",
   "execution_count": 35,
   "metadata": {
    "ExecuteTime": {
     "end_time": "2020-04-26T16:22:35.532764Z",
     "start_time": "2020-04-26T16:22:35.519533Z"
    },
    "hidden": true
   },
   "outputs": [
    {
     "data": {
      "text/html": [
       "[100, 110, 120, 130, 140, 150, 160, 170, 180, 190, 200, 210, 220, 230, 240, 250, 260, 270, 280, 290, 300, 310, 320, 330, 340, 350, 360, 370, 380, 390, 400, 410, 420, 430, 440, 450, 460, 470, 480, 490]"
      ],
      "text/plain": [
       "[100,\n",
       " 110,\n",
       " 120,\n",
       " 130,\n",
       " 140,\n",
       " 150,\n",
       " 160,\n",
       " 170,\n",
       " 180,\n",
       " 190,\n",
       " 200,\n",
       " 210,\n",
       " 220,\n",
       " 230,\n",
       " 240,\n",
       " 250,\n",
       " 260,\n",
       " 270,\n",
       " 280,\n",
       " 290,\n",
       " 300,\n",
       " 310,\n",
       " 320,\n",
       " 330,\n",
       " 340,\n",
       " 350,\n",
       " 360,\n",
       " 370,\n",
       " 380,\n",
       " 390,\n",
       " 400,\n",
       " 410,\n",
       " 420,\n",
       " 430,\n",
       " 440,\n",
       " 450,\n",
       " 460,\n",
       " 470,\n",
       " 480,\n",
       " 490]"
      ]
     },
     "execution_count": 35,
     "metadata": {},
     "output_type": "execute_result"
    }
   ],
   "source": [
    "list(range(100,500,10))"
   ]
  },
  {
   "cell_type": "code",
   "execution_count": 50,
   "metadata": {
    "ExecuteTime": {
     "end_time": "2020-04-26T16:46:37.498617Z",
     "start_time": "2020-04-26T16:46:34.918221Z"
    },
    "hidden": true
   },
   "outputs": [
    {
     "name": "stdout",
     "output_type": "stream",
     "text": [
      "train MAE: 29.17\n",
      "test MAE: 38.04\n",
      "train MAPE: 15.29%\n",
      "test MAPE: 20.71%\n",
      "train RMSE: 40.33\n",
      "test RMSE: 53.35\n",
      "---------------\n",
      "Out of Time MAE: 46.04\n",
      "Out of Time MAPE: 39.18%\n",
      "Out of Time RMSE: 65.09\n"
     ]
    }
   ],
   "source": [
    "print(\"train MAE: {:.2f}\".format(mean_absolute_error(y_train,reg_rf.predict(X_train))))\n",
    "print(\"test MAE: {:.2f}\".format(mean_absolute_error(y_test,reg_rf.predict(X_test))))\n",
    "print(\"train MAPE: {:.2f}%\".format(MAPE(y_train, reg_rf.predict(X_train))))\n",
    "print(\"test MAPE: {:.2f}%\".format(MAPE(y_test, reg_rf.predict(X_test))))\n",
    "print(\"train RMSE: {:.2f}\".format(mean_squared_error(y_train, reg_rf.predict(X_train))**0.5))\n",
    "print(\"test RMSE: {:.2f}\".format(mean_squared_error(y_test, reg_rf.predict(X_test))**0.5))\n",
    "print(\"---------------\")\n",
    "print(\"Out of Time MAE: {:.2f}\".format(mean_absolute_error(y_oot,reg_rf.predict(X_oot.drop(columns = ['departure_date'])))))\n",
    "print(\"Out of Time MAPE: {:.2f}%\".format(MAPE(y_oot, reg_rf.predict(X_oot.drop(columns = ['departure_date'])))))\n",
    "print(\"Out of Time RMSE: {:.2f}\".format(mean_squared_error(y_oot, reg_rf.predict(X_oot.drop(columns = ['departure_date'])))**0.5))"
   ]
  },
  {
   "cell_type": "markdown",
   "metadata": {
    "hidden": true
   },
   "source": [
    "## lightGBM"
   ]
  },
  {
   "cell_type": "markdown",
   "metadata": {
    "hidden": true
   },
   "source": [
    "### Random Search"
   ]
  },
  {
   "cell_type": "code",
   "execution_count": 32,
   "metadata": {
    "ExecuteTime": {
     "end_time": "2020-04-22T08:38:31.913858Z",
     "start_time": "2020-04-22T07:41:07.200724Z"
    },
    "hidden": true
   },
   "outputs": [
    {
     "name": "stdout",
     "output_type": "stream",
     "text": [
      "{'subsample': 1, 'reg_alpha': 0, 'num_leaves': 30, 'n_estimators': 4500, 'min_child_samples': 2, 'max_depth': 50, 'learning_rate': 0.05, 'colsample_bytree': 0.5}\n"
     ]
    }
   ],
   "source": [
    "lg = lgb.LGBMRegressor(random_state=seed,n_jobs=-1)\n",
    "\n",
    "\n",
    "lgbmrandom_grid = {\n",
    "               'max_depth': [10, 20, 30, 40, 50, 60, 70, 80, 90, 100],\n",
    "               'learning_rate': [0.01,0.05,0.1],\n",
    "               'colsample_bytree' : [0.3,0.5,1],\n",
    "               'num_leaves' : [20,30,40,50,60],\n",
    "               'subsample' : [0.2,0.3,0.5,1] ,\n",
    "               'reg_alpha' : [0,0.5,1,2],\n",
    "               'min_child_samples': [1, 2, 4],\n",
    "               'n_estimators': [1000, 1600, 1800, 2000, 2500, 3000,3500,4000,4500,5000]}\n",
    "\n",
    "\n",
    "lgbmrandom_grid = RandomizedSearchCV(estimator = lg,\n",
    "                                     param_distributions = lgbmrandom_grid,\n",
    "                                     n_iter = 300,\n",
    "                                     cv = 3,\n",
    "                                     random_state=seed,\n",
    "                                     scoring = \"neg_mean_absolute_error\")\n",
    "\n",
    "# Fit the random search model\n",
    "lgbmrandom_grid.fit(X_train, y_train)\n",
    "\n",
    "print(lgbmrandom_grid.best_params_)\n",
    "\n",
    "lgbmrand_reg = lgbmrandom_grid.best_estimator_.fit(X_train, y_train)"
   ]
  },
  {
   "cell_type": "code",
   "execution_count": 33,
   "metadata": {
    "ExecuteTime": {
     "end_time": "2020-04-22T08:38:46.808134Z",
     "start_time": "2020-04-22T08:38:31.915429Z"
    },
    "hidden": true
   },
   "outputs": [
    {
     "name": "stdout",
     "output_type": "stream",
     "text": [
      "train MAE: 14.37\n",
      "test MAE: 30.95\n",
      "train MAPE: 8.38%\n",
      "test MAPE: 16.30%\n",
      "train RMSE: 18.99\n",
      "test RMSE: 44.29\n",
      "---------------\n",
      "Out of Time MAE: 46.50\n",
      "Out of Time MAPE: 33.42%\n",
      "Out of Time RMSE: 66.98\n"
     ]
    }
   ],
   "source": [
    "print(\"train MAE: {:.2f}\".format(mean_absolute_error(y_train,lgbmrand_reg.predict(X_train))))\n",
    "print(\"test MAE: {:.2f}\".format(mean_absolute_error(y_test,lgbmrand_reg.predict(X_test))))\n",
    "print(\"train MAPE: {:.2f}%\".format(MAPE(y_train, lgbmrand_reg.predict(X_train))))\n",
    "print(\"test MAPE: {:.2f}%\".format(MAPE(y_test, lgbmrand_reg.predict(X_test))))\n",
    "print(\"train RMSE: {:.2f}\".format(mean_squared_error(y_train, lgbmrand_reg.predict(X_train))**0.5))\n",
    "print(\"test RMSE: {:.2f}\".format(mean_squared_error(y_test, lgbmrand_reg.predict(X_test))**0.5))\n",
    "print(\"---------------\")\n",
    "print(\"Out of Time MAE: {:.2f}\".format(mean_absolute_error(y_oot,lgbmrand_reg.predict(X_oot.drop(columns = ['departure_date'])))))\n",
    "print(\"Out of Time MAPE: {:.2f}%\".format(MAPE(y_oot,lgbmrand_reg.predict(X_oot.drop(columns = ['departure_date'])))))\n",
    "print(\"Out of Time RMSE: {:.2f}\".format(mean_squared_error(y_oot, lgbmrand_reg.predict(X_oot.drop(columns = ['departure_date'])))**0.5))"
   ]
  },
  {
   "cell_type": "markdown",
   "metadata": {
    "hidden": true
   },
   "source": [
    "### Grid Search"
   ]
  },
  {
   "cell_type": "code",
   "execution_count": 34,
   "metadata": {
    "ExecuteTime": {
     "end_time": "2020-04-22T08:39:51.410820Z",
     "start_time": "2020-04-22T08:38:46.809903Z"
    },
    "hidden": true
   },
   "outputs": [
    {
     "name": "stdout",
     "output_type": "stream",
     "text": [
      "{'colsample_bytree': 0.5, 'learning_rate': 0.05, 'max_depth': 30, 'min_child_samples': 1, 'n_estimators': 4500, 'num_leaves': 50, 'reg_alpha': 1.2, 'subsample': 0.25}\n"
     ]
    }
   ],
   "source": [
    "lg = lgb.LGBMRegressor(random_state=seed,n_jobs=-1)\n",
    "\n",
    "if training:\n",
    "\n",
    "    param_grid = {\n",
    "               'max_depth': [30],\n",
    "               'learning_rate': [0.05],\n",
    "               'colsample_bytree' : [0.5],\n",
    "               'num_leaves' : [50],\n",
    "               'subsample' : [0.25] ,\n",
    "               'reg_alpha' : [1.2],\n",
    "               'min_child_samples': [1],\n",
    "               'n_estimators': [4500]}\n",
    "\n",
    "    grid = GridSearchCV(lg, param_grid=param_grid, cv=5,return_train_score = True,scoring = 'neg_mean_absolute_error').fit(X_train, y_train)\n",
    "    \n",
    "    #neg_root_mean_squared_error\n",
    "    reg_lgb = grid.best_estimator_.fit(X_train,y_train)\n",
    "\n",
    "    print(grid.best_params_)\n",
    "   # print(grid.cv_results_)\n",
    "\n",
    "#{'colsample_bytree': 0.5, 'learning_rate': 0.05, 'max_depth': 30, 'min_child_samples': 1, 'n_estimators': 4500, 'num_leaves': 50, 'reg_alpha': 0, 'subsample': 0.25}"
   ]
  },
  {
   "cell_type": "code",
   "execution_count": 35,
   "metadata": {
    "ExecuteTime": {
     "end_time": "2020-04-22T08:40:12.249446Z",
     "start_time": "2020-04-22T08:39:51.413022Z"
    },
    "hidden": true
   },
   "outputs": [
    {
     "name": "stdout",
     "output_type": "stream",
     "text": [
      "train MAE: 9.91\n",
      "test MAE: 30.94\n",
      "train MAPE: 5.86%\n",
      "test MAPE: 16.24%\n",
      "train RMSE: 12.94\n",
      "test RMSE: 44.33\n",
      "---------------\n",
      "Out of Time MAE: 47.14\n",
      "Out of Time MAPE: 33.72%\n",
      "Out of Time RMSE: 67.74\n"
     ]
    }
   ],
   "source": [
    "print(\"train MAE: {:.2f}\".format(mean_absolute_error(y_train,reg_lgb.predict(X_train))))\n",
    "print(\"test MAE: {:.2f}\".format(mean_absolute_error(y_test,reg_lgb.predict(X_test))))\n",
    "print(\"train MAPE: {:.2f}%\".format(MAPE(y_train, reg_lgb.predict(X_train))))\n",
    "print(\"test MAPE: {:.2f}%\".format(MAPE(y_test, reg_lgb.predict(X_test))))\n",
    "print(\"train RMSE: {:.2f}\".format(mean_squared_error(y_train, reg_lgb.predict(X_train))**0.5))\n",
    "print(\"test RMSE: {:.2f}\".format(mean_squared_error(y_test, reg_lgb.predict(X_test))**0.5))\n",
    "print(\"---------------\")\n",
    "print(\"Out of Time MAE: {:.2f}\".format(mean_absolute_error(y_oot,reg_lgb.predict(X_oot.drop(columns = ['departure_date'])))))\n",
    "print(\"Out of Time MAPE: {:.2f}%\".format(MAPE(y_oot, reg_lgb.predict(X_oot.drop(columns = ['departure_date'])))))\n",
    "print(\"Out of Time RMSE: {:.2f}\".format(mean_squared_error(y_oot, reg_lgb.predict(X_oot.drop(columns = ['departure_date'])))**0.5))"
   ]
  },
  {
   "cell_type": "markdown",
   "metadata": {},
   "source": [
    "# Modeling Label Encoding"
   ]
  },
  {
   "cell_type": "code",
   "execution_count": 59,
   "metadata": {
    "ExecuteTime": {
     "end_time": "2020-04-22T18:54:32.282155Z",
     "start_time": "2020-04-22T18:54:32.258178Z"
    }
   },
   "outputs": [],
   "source": [
    "# Encoding days of the week and month variables\n",
    "#df_sp_grouped.drop(['departure_date'],axis=1,inplace = True)\n",
    "\n",
    "#cat_vars = df_sp_grouped.select_dtypes(include='object').columns.values.tolist()\n",
    "cat_vars = [ 'departure_day_of_week', 'departure_month', 'arrival_day_of_week']\n",
    "df_sp_grouped = cat_encoding(df_sp_grouped,cat_vars, encoding = 'label')"
   ]
  },
  {
   "cell_type": "code",
   "execution_count": 63,
   "metadata": {
    "ExecuteTime": {
     "end_time": "2020-04-22T19:58:55.889902Z",
     "start_time": "2020-04-22T19:58:55.773067Z"
    }
   },
   "outputs": [],
   "source": [
    "# Out of time set\n",
    "X_oot = df_sp_grouped.query(\"departure_date.str.contains('2020-02')\", engine='python').drop(['n_passengers'],axis=1)\n",
    "y_oot = df_sp_grouped.query(\"departure_date.str.contains('2020-02')\", engine='python').n_passengers\n",
    "\n",
    "# Trains test split\n",
    "X = df_sp_grouped[~df_sp_grouped[\"departure_date\"].str.contains('2020-02')].drop(columns = ['n_passengers','departure_date'])\n",
    "y = df_sp_grouped[~df_sp_grouped[\"departure_date\"].str.contains('2020-02')].n_passengers\n",
    "\n",
    "\n",
    "X_train, X_test, y_train, y_test = train_test_split(X, y, test_size=0.33, random_state=seed)"
   ]
  },
  {
   "cell_type": "code",
   "execution_count": 61,
   "metadata": {
    "ExecuteTime": {
     "end_time": "2020-04-22T19:51:14.095148Z",
     "start_time": "2020-04-22T18:54:36.719199Z"
    }
   },
   "outputs": [
    {
     "name": "stdout",
     "output_type": "stream",
     "text": [
      "{'subsample': 0.2, 'reg_alpha': 0, 'num_leaves': 40, 'n_estimators': 2500, 'min_child_samples': 4, 'max_depth': 80, 'learning_rate': 0.05, 'colsample_bytree': 0.5}\n"
     ]
    }
   ],
   "source": [
    "lg = lgb.LGBMRegressor(random_state=seed,n_jobs=-1)\n",
    "\n",
    "\n",
    "lgbmrandom_grid = {\n",
    "               'max_depth': [10, 20, 30, 40, 50, 60, 70, 80, 90, 100],\n",
    "               'learning_rate': [0.01,0.05,0.1],\n",
    "               'colsample_bytree' : [0.3,0.5,1],\n",
    "               'num_leaves' : [20,30,40,50,60],\n",
    "               'subsample' : [0.2,0.3,0.5,1] ,\n",
    "               'reg_alpha' : [0,0.5,1,2],\n",
    "               'min_child_samples': [1, 2, 4],\n",
    "               'n_estimators': [1000, 1600, 1800, 2000, 2500, 3000,3500,4000,4500,5000]}\n",
    "\n",
    "\n",
    "lgbmrandom_grid = RandomizedSearchCV(estimator = lg,\n",
    "                                     param_distributions = lgbmrandom_grid,\n",
    "                                     n_iter = 300,\n",
    "                                     cv = 3,\n",
    "                                     random_state=seed,\n",
    "                                     scoring = \"neg_mean_absolute_error\")\n",
    "\n",
    "# Fit the random search model\n",
    "lgbmrandom_grid.fit(X_train, y_train)\n",
    "\n",
    "print(lgbmrandom_grid.best_params_)\n",
    "\n",
    "lgbmrand_reg = lgbmrandom_grid.best_estimator_.fit(X_train, y_train)"
   ]
  },
  {
   "cell_type": "code",
   "execution_count": 64,
   "metadata": {
    "ExecuteTime": {
     "end_time": "2020-04-22T19:59:06.958576Z",
     "start_time": "2020-04-22T19:58:59.345863Z"
    }
   },
   "outputs": [
    {
     "name": "stdout",
     "output_type": "stream",
     "text": [
      "train MAE: 18.23\n",
      "test MAE: 32.40\n",
      "train MAPE: 10.37%\n",
      "test MAPE: 17.06%\n",
      "train RMSE: 24.41\n",
      "test RMSE: 46.12\n",
      "---------------\n",
      "Out of Time MAE: 45.87\n",
      "Out of Time MAPE: 33.12%\n",
      "Out of Time RMSE: 67.15\n"
     ]
    }
   ],
   "source": [
    "print(\"train MAE: {:.2f}\".format(mean_absolute_error(y_train,lgbmrand_reg.predict(X_train))))\n",
    "print(\"test MAE: {:.2f}\".format(mean_absolute_error(y_test,lgbmrand_reg.predict(X_test))))\n",
    "print(\"train MAPE: {:.2f}%\".format(MAPE(y_train, lgbmrand_reg.predict(X_train))))\n",
    "print(\"test MAPE: {:.2f}%\".format(MAPE(y_test, lgbmrand_reg.predict(X_test))))\n",
    "print(\"train RMSE: {:.2f}\".format(mean_squared_error(y_train, lgbmrand_reg.predict(X_train))**0.5))\n",
    "print(\"test RMSE: {:.2f}\".format(mean_squared_error(y_test, lgbmrand_reg.predict(X_test))**0.5))\n",
    "print(\"---------------\")\n",
    "print(\"Out of Time MAE: {:.2f}\".format(mean_absolute_error(y_oot,lgbmrand_reg.predict(X_oot.drop(columns = ['departure_date'])))))\n",
    "print(\"Out of Time MAPE: {:.2f}%\".format(MAPE(y_oot,lgbmrand_reg.predict(X_oot.drop(columns = ['departure_date'])))))\n",
    "print(\"Out of Time RMSE: {:.2f}\".format(mean_squared_error(y_oot, lgbmrand_reg.predict(X_oot.drop(columns = ['departure_date'])))**0.5))"
   ]
  },
  {
   "cell_type": "markdown",
   "metadata": {},
   "source": [
    "# Importance of Variables"
   ]
  },
  {
   "cell_type": "code",
   "execution_count": null,
   "metadata": {
    "ExecuteTime": {
     "end_time": "2020-04-22T09:43:11.296834Z",
     "start_time": "2020-04-22T05:54:16.806Z"
    }
   },
   "outputs": [],
   "source": [
    "explainer = shap.TreeExplainer(lgbmrand_reg, approximate = True)"
   ]
  },
  {
   "cell_type": "code",
   "execution_count": null,
   "metadata": {
    "ExecuteTime": {
     "end_time": "2020-04-22T09:43:11.299023Z",
     "start_time": "2020-04-22T05:54:16.810Z"
    }
   },
   "outputs": [],
   "source": [
    "\n",
    "rf_shap_values = explainer.shap_values(X_test.iloc[0:1000,:])\n",
    "\n",
    "\n",
    "#import matplotlib.pyplot as plt\n",
    "#f = plt.figure()\n",
    "#shap.summary_plot(rf_shap_values, X_test)"
   ]
  },
  {
   "cell_type": "code",
   "execution_count": null,
   "metadata": {
    "ExecuteTime": {
     "end_time": "2020-04-22T09:43:11.301405Z",
     "start_time": "2020-04-22T05:54:16.813Z"
    }
   },
   "outputs": [],
   "source": [
    "shap.summary_plot(rf_shap_values, X_test.iloc[0:1000,:])"
   ]
  },
  {
   "cell_type": "code",
   "execution_count": null,
   "metadata": {
    "ExecuteTime": {
     "end_time": "2020-04-22T09:43:11.303455Z",
     "start_time": "2020-04-22T05:54:16.819Z"
    }
   },
   "outputs": [],
   "source": [
    "shap.initjs()\n",
    "shap.force_plot(explainer.expected_value, rf_shap_values[10,:], X_test.iloc[10,:])"
   ]
  },
  {
   "cell_type": "code",
   "execution_count": 22,
   "metadata": {
    "ExecuteTime": {
     "end_time": "2020-04-23T03:53:26.520883Z",
     "start_time": "2020-04-23T03:53:26.505113Z"
    }
   },
   "outputs": [
    {
     "ename": "NameError",
     "evalue": "name 'y_oot' is not defined",
     "output_type": "error",
     "traceback": [
      "\u001b[0;31m---------------------------------------------------------------------------\u001b[0m",
      "\u001b[0;31mNameError\u001b[0m                                 Traceback (most recent call last)",
      "\u001b[0;32m<ipython-input-22-4c335ffce008>\u001b[0m in \u001b[0;36m<module>\u001b[0;34m\u001b[0m\n\u001b[0;32m----> 1\u001b[0;31m \u001b[0mpd\u001b[0m\u001b[0;34m.\u001b[0m\u001b[0mconcat\u001b[0m\u001b[0;34m(\u001b[0m\u001b[0;34m[\u001b[0m\u001b[0my_oot\u001b[0m\u001b[0;34m.\u001b[0m\u001b[0mreset_index\u001b[0m\u001b[0;34m(\u001b[0m\u001b[0mdrop\u001b[0m\u001b[0;34m=\u001b[0m\u001b[0;32mTrue\u001b[0m\u001b[0;34m)\u001b[0m\u001b[0;34m,\u001b[0m\u001b[0mpd\u001b[0m\u001b[0;34m.\u001b[0m\u001b[0mSeries\u001b[0m\u001b[0;34m(\u001b[0m\u001b[0mlgbmrand_reg\u001b[0m\u001b[0;34m.\u001b[0m\u001b[0mpredict\u001b[0m\u001b[0;34m(\u001b[0m\u001b[0mX_oot\u001b[0m\u001b[0;34m.\u001b[0m\u001b[0mdrop\u001b[0m\u001b[0;34m(\u001b[0m\u001b[0mcolumns\u001b[0m \u001b[0;34m=\u001b[0m \u001b[0;34m[\u001b[0m\u001b[0;34m'departure_date'\u001b[0m\u001b[0;34m]\u001b[0m\u001b[0;34m)\u001b[0m\u001b[0;34m)\u001b[0m\u001b[0;34m)\u001b[0m\u001b[0;34m]\u001b[0m\u001b[0;34m,\u001b[0m\u001b[0maxis\u001b[0m\u001b[0;34m=\u001b[0m\u001b[0;36m1\u001b[0m\u001b[0;34m)\u001b[0m\u001b[0;34m[\u001b[0m\u001b[0;36m100\u001b[0m\u001b[0;34m:\u001b[0m\u001b[0;36m120\u001b[0m\u001b[0;34m]\u001b[0m\u001b[0;34m.\u001b[0m\u001b[0mplot\u001b[0m\u001b[0;34m(\u001b[0m\u001b[0;34m)\u001b[0m\u001b[0;34m\u001b[0m\u001b[0;34m\u001b[0m\u001b[0m\n\u001b[0m",
      "\u001b[0;31mNameError\u001b[0m: name 'y_oot' is not defined"
     ]
    }
   ],
   "source": [
    "pd.concat([y_oot.reset_index(drop=True),pd.Series(lgbmrand_reg.predict(X_oot.drop(columns = ['departure_date'])))],axis=1)[100:120].plot()"
   ]
  },
  {
   "cell_type": "code",
   "execution_count": 66,
   "metadata": {
    "ExecuteTime": {
     "end_time": "2020-04-22T19:59:43.794971Z",
     "start_time": "2020-04-22T19:59:42.714058Z"
    }
   },
   "outputs": [
    {
     "data": {
      "text/plain": [
       "<matplotlib.axes._subplots.AxesSubplot at 0x7f54cec2c5c0>"
      ]
     },
     "execution_count": 66,
     "metadata": {},
     "output_type": "execute_result"
    },
    {
     "data": {
      "image/png": "[encoded data removed]",
      "text/plain": [
       "<Figure size 432x288 with 1 Axes>"
      ]
     },
     "metadata": {
      "needs_background": "light"
     },
     "output_type": "display_data"
    }
   ],
   "source": [
    "pd.concat([y_test.reset_index(drop=True),pd.Series(lgbmrand_reg.predict(X_test))],axis=1)[100:120].plot()"
   ]
  },
  {
   "cell_type": "code",
   "execution_count": 21,
   "metadata": {
    "ExecuteTime": {
     "end_time": "2020-04-23T03:53:19.173259Z",
     "start_time": "2020-04-23T03:53:18.914094Z"
    }
   },
   "outputs": [
    {
     "data": {
      "text/plain": [
       "<matplotlib.axes._subplots.AxesSubplot at 0x7fa48a4c5518>"
      ]
     },
     "execution_count": 21,
     "metadata": {},
     "output_type": "execute_result"
    },
    {
     "data": {
      "image/png": "[encoded data removed]",
      "text/plain": [
       "<Figure size 432x288 with 1 Axes>"
      ]
     },
     "metadata": {
      "needs_background": "light"
     },
     "output_type": "display_data"
    }
   ],
   "source": [
    "df_sp_grouped.query(\"departure_date.str.contains('2020-02')\", engine='python')[['n_seats_offered','n_passengers']][100:120].plot()"
   ]
  },
  {
   "cell_type": "code",
   "execution_count": 51,
   "metadata": {
    "ExecuteTime": {
     "end_time": "2020-07-12T02:49:41.052937Z",
     "start_time": "2020-07-12T02:48:54.630459Z"
    }
   },
   "outputs": [
    {
     "name": "stdout",
     "output_type": "stream",
     "text": [
      "Optimal number of features : 11\n"
     ]
    },
    {
     "data": {
      "image/png": "[encoded data removed]",
      "text/plain": [
       "<Figure size 432x288 with 1 Axes>"
      ]
     },
     "metadata": {
      "needs_background": "light"
     },
     "output_type": "display_data"
    }
   ],
   "source": [
    "import matplotlib.pyplot as plt\n",
    "from sklearn.svm import SVC\n",
    "from sklearn.model_selection import StratifiedKFold\n",
    "from sklearn.feature_selection import RFECV\n",
    "from sklearn.datasets import make_classification\n",
    "\n",
    "# Build a classification task using 3 informative features\n",
    "X, y = make_classification(n_samples=1000, n_features=25, n_informative=5,\n",
    "                           n_redundant=0, n_repeated=5, n_classes=2,\n",
    "                           n_clusters_per_class=1, random_state=0)\n",
    "\n",
    "# Create the RFE object and compute a cross-validated score.\n",
    "svc = SVC(kernel=\"linear\")\n",
    "# The \"accuracy\" scoring is proportional to the number of correct\n",
    "# classifications\n",
    "rfecv = RFECV(estimator=svc, step=1, cv=5,\n",
    "              scoring='accuracy')\n",
    "rfecv.fit(X, y)\n",
    "\n",
    "print(\"Optimal number of features : %d\" % rfecv.n_features_)\n",
    "\n",
    "# Plot number of features VS. cross-validation scores\n",
    "plt.figure()\n",
    "plt.xlabel(\"Number of features selected\")\n",
    "plt.ylabel(\"Cross validation score (nb of correct classifications)\")\n",
    "plt.plot(range(1, len(rfecv.grid_scores_) + 1), rfecv.grid_scores_)\n",
    "plt.show()"
   ]
  }
 ],
 "metadata": {
  "kernelspec": {
   "display_name": "Python 3",
   "language": "python",
   "name": "python3"
  },
  "language_info": {
   "codemirror_mode": {
    "name": "ipython",
    "version": 3
   },
   "file_extension": ".py",
   "mimetype": "text/x-python",
   "name": "python",
   "nbconvert_exporter": "python",
   "pygments_lexer": "ipython3",
   "version": "3.6.9"
  },
  "toc": {
   "base_numbering": 1,
   "nav_menu": {},
   "number_sections": true,
   "sideBar": false,
   "skip_h1_title": false,
   "title_cell": "Table of Contents",
   "title_sidebar": "Contents",
   "toc_cell": true,
   "toc_position": {},
   "toc_section_display": true,
   "toc_window_display": false
  },
  "varInspector": {
   "cols": {
    "lenName": 16,
    "lenType": 16,
    "lenVar": 40
   },
   "kernels_config": {
    "python": {
     "delete_cmd_postfix": "",
     "delete_cmd_prefix": "del ",
     "library": "var_list.py",
     "varRefreshCmd": "print(var_dic_list())"
    },
    "r": {
     "delete_cmd_postfix": ") ",
     "delete_cmd_prefix": "rm(",
     "library": "var_list.r",
     "varRefreshCmd": "cat(var_dic_list()) "
    }
   },
   "types_to_exclude": [
    "module",
    "function",
    "builtin_function_or_method",
    "instance",
    "_Feature"
   ],
   "window_display": false
  }
 },
 "nbformat": 4,
 "nbformat_minor": 2
}
